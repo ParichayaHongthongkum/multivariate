{
  "nbformat": 4,
  "nbformat_minor": 0,
  "metadata": {
    "colab": {
      "name": "Chapter2 Visualize Multivariate Data.ipynb",
      "provenance": [],
      "authorship_tag": "ABX9TyOqKwAPk1HV8D5jsicROYKt",
      "include_colab_link": true
    },
    "kernelspec": {
      "name": "python3",
      "display_name": "Python 3"
    }
  },
  "cells": [
    {
      "cell_type": "markdown",
      "metadata": {
        "id": "view-in-github",
        "colab_type": "text"
      },
      "source": [
        "<a href=\"https://colab.research.google.com/github/ParichayaHongthongkum/multivariate/blob/main/Chapter2_Visualize_Multivariate_Data.ipynb\" target=\"_parent\"><img src=\"https://colab.research.google.com/assets/colab-badge.svg\" alt=\"Open In Colab\"/></a>"
      ]
    },
    {
      "cell_type": "markdown",
      "metadata": {
        "id": "SA973hGj8nhC"
      },
      "source": [
        "# Quiz2\r\n",
        "\r\n",
        "พล้อตกราฟ parallel coordinates ของข้อมูล pollution"
      ]
    },
    {
      "cell_type": "code",
      "metadata": {
        "id": "I63llzRsuY1m"
      },
      "source": [
        ""
      ],
      "execution_count": null,
      "outputs": []
    }
  ]
}