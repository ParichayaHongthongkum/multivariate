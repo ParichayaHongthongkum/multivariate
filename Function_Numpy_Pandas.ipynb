{
  "nbformat": 4,
  "nbformat_minor": 0,
  "metadata": {
    "colab": {
      "name": "Function_Numpy_Pandas.ipynb",
      "provenance": [],
      "authorship_tag": "ABX9TyNpPdXnb6JDcOwsALjRwD2j",
      "include_colab_link": true
    },
    "kernelspec": {
      "name": "python3",
      "display_name": "Python 3"
    }
  },
  "cells": [
    {
      "cell_type": "markdown",
      "metadata": {
        "id": "view-in-github",
        "colab_type": "text"
      },
      "source": [
        "<a href=\"https://colab.research.google.com/github/ParichayaHongthongkum/multivariate/blob/main/Function_Numpy_Pandas.ipynb\" target=\"_parent\"><img src=\"https://colab.research.google.com/assets/colab-badge.svg\" alt=\"Open In Colab\"/></a>"
      ]
    },
    {
      "cell_type": "markdown",
      "metadata": {
        "id": "NJrGVCIXSOhM"
      },
      "source": [
        "# **Function**"
      ]
    },
    {
      "cell_type": "markdown",
      "metadata": {
        "id": "tKTgBV1SsBvt"
      },
      "source": [
        "\r\n",
        "\r\n",
        "```python\r\n",
        "def function_name(_Input_):\r\n",
        "     do_sometime with _Input_ to produce _Output_\r\n",
        "     return _Output_\r\n",
        "  ```\r\n",
        "\r\n"
      ]
    },
    {
      "cell_type": "markdown",
      "metadata": {
        "id": "AKRCIJFrS8a1"
      },
      "source": [
        "function มีส่วนสำคัญทั้งหมด 4 ส่วน\r\n",
        "\r\n",
        "1. บอก python ว่าเราจะเขียนฟังก์ชัน ชื่ออะไร def function_name(): (ขาดไม่ได้)\r\n",
        "\r\n",
        "2. กำหนดตัวแปลที่จะเป็น input (ขาดไม่ได้)\r\n",
        "\r\n",
        "3. ส่วนประมวล do_sometime with input to get Output (ขาดไม่ได้)\r\n",
        "\r\n",
        "4. ส่วน output return Output (ขาดไม่ได้)\r\n",
        "\r\n",
        "เราใช้ เว้นวรรค (indent) เพื่อบอกขอบเขตของโปรแกรม"
      ]
    },
    {
      "cell_type": "markdown",
      "metadata": {
        "id": "Ft0LhfARWQJc"
      },
      "source": [
        "### **สร้างฟังก์ชัน**"
      ]
    },
    {
      "cell_type": "code",
      "metadata": {
        "colab": {
          "base_uri": "https://localhost:8080/"
        },
        "id": "PiD4WjhjSEgk",
        "outputId": "08f1d822-8d5b-4b74-a1f2-8a175fb6c777"
      },
      "source": [
        "def print_name(name,surname,ID):\r\n",
        "      st = f'ชื่อ {name} นามสกุล {surname} ID {ID}'\r\n",
        "      return st\r\n",
        "print('outside function')"
      ],
      "execution_count": 5,
      "outputs": [
        {
          "output_type": "stream",
          "text": [
            "outside function\n"
          ],
          "name": "stdout"
        }
      ]
    },
    {
      "cell_type": "markdown",
      "metadata": {
        "id": "pTzYi1GVWu0S"
      },
      "source": [
        "การเรียกใช้ฟังก์ชัน"
      ]
    },
    {
      "cell_type": "code",
      "metadata": {
        "colab": {
          "base_uri": "https://localhost:8080/",
          "height": 35
        },
        "id": "yo9FoUP7V85T",
        "outputId": "df00d131-ee3e-4c60-fe3d-6c6ce6ed99d8"
      },
      "source": [
        "print_name( 'ปริชญา' , 'หงส์ทองคำ' , '623020528-4' )"
      ],
      "execution_count": 6,
      "outputs": [
        {
          "output_type": "execute_result",
          "data": {
            "application/vnd.google.colaboratory.intrinsic+json": {
              "type": "string"
            },
            "text/plain": [
              "'ชื่อ ปริชญา นามสกุล หงส์ทองคำ ID 623020528-4'"
            ]
          },
          "metadata": {
            "tags": []
          },
          "execution_count": 6
        }
      ]
    },
    {
      "cell_type": "code",
      "metadata": {
        "id": "K0ovSbsmx3St",
        "colab": {
          "base_uri": "https://localhost:8080/"
        },
        "outputId": "4d4c813e-268a-48f5-f37a-f915ab9d71f9"
      },
      "source": [
        "output_string = print_name('ปริชญา', 'หงส์ทองคำ', '623020528-4' )\r\n",
        "print(output_string)"
      ],
      "execution_count": 7,
      "outputs": [
        {
          "output_type": "stream",
          "text": [
            "ชื่อ ปริชญา นามสกุล หงส์ทองคำ ID 623020528-4\n"
          ],
          "name": "stdout"
        }
      ]
    },
    {
      "cell_type": "markdown",
      "metadata": {
        "id": "BI6BrSWwXefO"
      },
      "source": [
        "ฟังก์ชันไม่จำเป็นต้องมี output"
      ]
    },
    {
      "cell_type": "code",
      "metadata": {
        "id": "iN3gYUGPYqxc"
      },
      "source": [
        "def print_name2(surname,ID,name):\r\n",
        "      st = f'ชื่อ {name} นามสกุล {surname} รหัส {ID}'\r\n",
        "      print(st)"
      ],
      "execution_count": 8,
      "outputs": []
    },
    {
      "cell_type": "code",
      "metadata": {
        "id": "07BMt_zR0D-G",
        "colab": {
          "base_uri": "https://localhost:8080/"
        },
        "outputId": "d91aac7e-b8d5-447c-993d-4d91ac7cc495"
      },
      "source": [
        "print_name2('ปริชญา', 'หงส์ทองคำ','623020528-4')"
      ],
      "execution_count": 9,
      "outputs": [
        {
          "output_type": "stream",
          "text": [
            "ชื่อ 623020528-4 นามสกุล ปริชญา รหัส หงส์ทองคำ\n"
          ],
          "name": "stdout"
        }
      ]
    },
    {
      "cell_type": "code",
      "metadata": {
        "id": "TVT78KUx0TG0",
        "colab": {
          "base_uri": "https://localhost:8080/"
        },
        "outputId": "89324557-2745-4a28-f2bf-e7274a457c95"
      },
      "source": [
        "op2 = print_name2('ปริชญา', 'หงส์ทองคำ','623020528-4')"
      ],
      "execution_count": 10,
      "outputs": [
        {
          "output_type": "stream",
          "text": [
            "ชื่อ 623020528-4 นามสกุล ปริชญา รหัส หงส์ทองคำ\n"
          ],
          "name": "stdout"
        }
      ]
    },
    {
      "cell_type": "code",
      "metadata": {
        "id": "-1dB3AKc0bvh",
        "colab": {
          "base_uri": "https://localhost:8080/"
        },
        "outputId": "23f9cabc-ef8e-4425-ce21-0c20d9eeb82b"
      },
      "source": [
        "print(op2)"
      ],
      "execution_count": 11,
      "outputs": [
        {
          "output_type": "stream",
          "text": [
            "None\n"
          ],
          "name": "stdout"
        }
      ]
    },
    {
      "cell_type": "markdown",
      "metadata": {
        "id": "QEPj1x2X0xiy"
      },
      "source": [
        "ฟังก์ชันไม่จำเป็นต้องมี input"
      ]
    },
    {
      "cell_type": "code",
      "metadata": {
        "id": "ko83RvgB06oz"
      },
      "source": [
        "def Pi():\r\n",
        "      return 3.14159265359"
      ],
      "execution_count": 12,
      "outputs": []
    },
    {
      "cell_type": "code",
      "metadata": {
        "id": "o0CuwlU71Ee7",
        "colab": {
          "base_uri": "https://localhost:8080/"
        },
        "outputId": "b8e6da3c-113a-4e3a-a464-34885a878faa"
      },
      "source": [
        "#คำนวณพื้นที่วงกลมที่มีขนาดเส้นผ่านศูนย์กลางเท่ากับ 3\r\n",
        "Pi()*(1.5**2)"
      ],
      "execution_count": 13,
      "outputs": [
        {
          "output_type": "execute_result",
          "data": {
            "text/plain": [
              "7.0685834705775"
            ]
          },
          "metadata": {
            "tags": []
          },
          "execution_count": 13
        }
      ]
    },
    {
      "cell_type": "code",
      "metadata": {
        "id": "WLcX8lDO1dOY"
      },
      "source": [
        "def print_my_name():\r\n",
        "      print ('Parichaya Hongthongkum 623020528-4')"
      ],
      "execution_count": 14,
      "outputs": []
    },
    {
      "cell_type": "code",
      "metadata": {
        "id": "gwhv4lXc2CvS",
        "colab": {
          "base_uri": "https://localhost:8080/"
        },
        "outputId": "07bf0019-f9da-4805-9019-86869ccfddc2"
      },
      "source": [
        "print_my_name()"
      ],
      "execution_count": 15,
      "outputs": [
        {
          "output_type": "stream",
          "text": [
            "Parichaya Hongthongkum 623020528-4\n"
          ],
          "name": "stdout"
        }
      ]
    },
    {
      "cell_type": "markdown",
      "metadata": {
        "id": "RsrEdJiyaCSA"
      },
      "source": [
        "####input ของ function ใน python มี 2 แบบ input ที่จำเป็นต้องใส่ กับ input ที่ไม่จำเป็นต้องใส่ (มีค่า default)\r\n",
        "\r\n",
        "####เราต้องเรียง input ที่จำเป็นต้องใส่ขึ้นก่อน"
      ]
    },
    {
      "cell_type": "code",
      "metadata": {
        "id": "l5BQPEB2a1Gf"
      },
      "source": [
        "def print_2lines_defult(name, surname, ID, grade='F'):\r\n",
        "      st = f'ชื่อ {name} นามสกุล {surname} รหัส {ID}'\r\n",
        "      print(st)\r\n",
        "      st2=f'เกรดวิชา Multivariate >>> {grade}'\r\n",
        "      print(st2)"
      ],
      "execution_count": 16,
      "outputs": []
    },
    {
      "cell_type": "code",
      "metadata": {
        "id": "gYWHXZCJb-vv",
        "colab": {
          "base_uri": "https://localhost:8080/"
        },
        "outputId": "e3ef7fd8-420b-4999-a629-53902df095f1"
      },
      "source": [
        "print_2lines_defult('ปริชญา', 'หงส์ทองคำ','623020528-4')"
      ],
      "execution_count": 17,
      "outputs": [
        {
          "output_type": "stream",
          "text": [
            "ชื่อ ปริชญา นามสกุล หงส์ทองคำ รหัส 623020528-4\n",
            "เกรดวิชา Multivariate >>> F\n"
          ],
          "name": "stdout"
        }
      ]
    },
    {
      "cell_type": "code",
      "metadata": {
        "id": "hf15MkdU3BKk",
        "colab": {
          "base_uri": "https://localhost:8080/"
        },
        "outputId": "701b628d-d0a1-4965-af04-2650dcc3cc3e"
      },
      "source": [
        "print_2lines_defult('ปริชญา', 'หงส์ทองคำ','623020528-4','A')"
      ],
      "execution_count": 18,
      "outputs": [
        {
          "output_type": "stream",
          "text": [
            "ชื่อ ปริชญา นามสกุล หงส์ทองคำ รหัส 623020528-4\n",
            "เกรดวิชา Multivariate >>> A\n"
          ],
          "name": "stdout"
        }
      ]
    },
    {
      "cell_type": "markdown",
      "metadata": {
        "id": "c_fayu7kcAK_"
      },
      "source": [
        "เราสามารถเรียกฟังก์ชันโดยใช่ชื่อตัวแปลของฟังก์ชันช่วยได้"
      ]
    },
    {
      "cell_type": "code",
      "metadata": {
        "id": "81JBkNo_cVtr",
        "colab": {
          "base_uri": "https://localhost:8080/"
        },
        "outputId": "0de0d606-378a-4a85-ba13-4b4b48ac59eb"
      },
      "source": [
        "print_name2(ID='623020528-4',name='ปริชญา',surname='หงส์ทองคำ')"
      ],
      "execution_count": 19,
      "outputs": [
        {
          "output_type": "stream",
          "text": [
            "ชื่อ ปริชญา นามสกุล หงส์ทองคำ รหัส 623020528-4\n"
          ],
          "name": "stdout"
        }
      ]
    },
    {
      "cell_type": "markdown",
      "metadata": {
        "id": "s_IpGX75cogz"
      },
      "source": [
        "### **HW3 ให้เขียน function คำนวณจำนวนวินาทีที่จาก เวลาต่อไปนี้**\r\n",
        "\r\n",
        "'14-15-31'\r\n",
        "\r\n",
        "'13-00-01'\r\n",
        "\r\n",
        "'05-49-44'\r\n",
        "\r\n",
        "'00-00-16'\r\n",
        "\r\n",
        "และ print ให้สวยงาม"
      ]
    },
    {
      "cell_type": "code",
      "metadata": {
        "id": "t-Q2v247dmWO"
      },
      "source": [
        "def time(benz):\r\n",
        "  h =  int (benz.split('-')[0])*3600\r\n",
        "  m=  int (benz.split('-')[1])*60\r\n",
        "  s =  int (benz.split('-')[2])\r\n",
        "  ss = h+m+s\r\n",
        "  print(\"ตอบ เวลาทั้งหมดรวมเป็นวินาทีได้ = \",ss,\" วินาที\")"
      ],
      "execution_count": 26,
      "outputs": []
    },
    {
      "cell_type": "code",
      "metadata": {
        "id": "szNflv8d47cz",
        "colab": {
          "base_uri": "https://localhost:8080/"
        },
        "outputId": "fcfa042f-7611-491f-c677-f6e286861964"
      },
      "source": [
        "time('14-15-31')"
      ],
      "execution_count": 27,
      "outputs": [
        {
          "output_type": "stream",
          "text": [
            "ตอบ เวลาทั้งหมดรวมเป็นวินาทีได้ =  51331  วินาที\n"
          ],
          "name": "stdout"
        }
      ]
    },
    {
      "cell_type": "code",
      "metadata": {
        "id": "-v3Tny0x4-ad",
        "colab": {
          "base_uri": "https://localhost:8080/"
        },
        "outputId": "3c0d7d1b-95da-4a76-b7d2-e2cc4dd6b9c0"
      },
      "source": [
        "time('13-00-01')"
      ],
      "execution_count": 22,
      "outputs": [
        {
          "output_type": "stream",
          "text": [
            "ตอบ เวลาทั้งหมดรวมเป็นวินาทีได้ =  46801  วินาที\n"
          ],
          "name": "stdout"
        }
      ]
    },
    {
      "cell_type": "code",
      "metadata": {
        "id": "7DwSzuVb4_Dx",
        "colab": {
          "base_uri": "https://localhost:8080/"
        },
        "outputId": "17cd8857-85d5-4e09-f7df-2f4e5a4077ca"
      },
      "source": [
        "time('05-49-44')"
      ],
      "execution_count": 23,
      "outputs": [
        {
          "output_type": "stream",
          "text": [
            "ตอบ เวลาทั้งหมดรวมเป็นวินาทีได้ =  20984  วินาที\n"
          ],
          "name": "stdout"
        }
      ]
    },
    {
      "cell_type": "code",
      "metadata": {
        "id": "vmyVO59g4_XY",
        "colab": {
          "base_uri": "https://localhost:8080/"
        },
        "outputId": "433b6082-137e-4628-ca9d-6d4e8c2c5caa"
      },
      "source": [
        "time('00-00-16')"
      ],
      "execution_count": 28,
      "outputs": [
        {
          "output_type": "stream",
          "text": [
            "ตอบ เวลาทั้งหมดรวมเป็นวินาทีได้ =  16  วินาที\n"
          ],
          "name": "stdout"
        }
      ]
    },
    {
      "cell_type": "markdown",
      "metadata": {
        "id": "ccK1v5-pQ2vO"
      },
      "source": [
        "Num-> package สำหรับจัดการกับ Array ที่เป็นตัวเลข (Matrix)\r\n",
        "\r\n",
        "์Num + py -> Numpy-Numerical + python\r\n",
        "\r\n",
        "การใช้ package\r\n",
        "\r\n",
        "1.import =ชื่อpackage #เรียกใช้ package\r\n",
        "\r\n",
        "2.ชื่อ package.ชื่อฟังก์ชัน เรียกใช้ function"
      ]
    },
    {
      "cell_type": "code",
      "metadata": {
        "id": "pqgw3b-dAaAr"
      },
      "source": [
        "import numpy"
      ],
      "execution_count": 29,
      "outputs": []
    },
    {
      "cell_type": "markdown",
      "metadata": {
        "id": "FchL1ahgA1b2"
      },
      "source": [
        "data structure -> array\r\n",
        "\r\n",
        "สร้าง array (numpy array)"
      ]
    },
    {
      "cell_type": "code",
      "metadata": {
        "id": "X4mVdu1pA4XK",
        "outputId": "adee214f-e7a7-4a38-c7f0-05c974f68652",
        "colab": {
          "base_uri": "https://localhost:8080/"
        }
      },
      "source": [
        "mat_ex1 = numpy.array([[5.2,3.0,4.5],[9.1,0.1,0.3]])\r\n",
        "print(mat_ex1)"
      ],
      "execution_count": 30,
      "outputs": [
        {
          "output_type": "stream",
          "text": [
            "[[5.2 3.  4.5]\n",
            " [9.1 0.1 0.3]]\n"
          ],
          "name": "stdout"
        }
      ]
    },
    {
      "cell_type": "markdown",
      "metadata": {
        "id": "lxKfqATIA7iV"
      },
      "source": [
        "##ชี้ค่าใน numpy array"
      ]
    },
    {
      "cell_type": "code",
      "metadata": {
        "id": "-yuk-KPbBAMQ",
        "outputId": "e712ee8f-809e-4dd6-e0a9-1b979203f088",
        "colab": {
          "base_uri": "https://localhost:8080/"
        }
      },
      "source": [
        "mat_ex1[1,1] #[แถว,หลัก]"
      ],
      "execution_count": 31,
      "outputs": [
        {
          "output_type": "execute_result",
          "data": {
            "text/plain": [
              "0.1"
            ]
          },
          "metadata": {
            "tags": []
          },
          "execution_count": 31
        }
      ]
    },
    {
      "cell_type": "markdown",
      "metadata": {
        "id": "s37EbElmBDyX"
      },
      "source": [
        "ถ้าไม่มี numpy array"
      ]
    },
    {
      "cell_type": "code",
      "metadata": {
        "id": "0mcaXvtzBFTb",
        "outputId": "85edaf93-6d9c-431d-aec7-9cb85188044d",
        "colab": {
          "base_uri": "https://localhost:8080/"
        }
      },
      "source": [
        "list_ex1 = [[5.2,3.0,4.5],[9.1,0.1,0.3]]\r\n",
        "print(list_ex1)"
      ],
      "execution_count": 32,
      "outputs": [
        {
          "output_type": "stream",
          "text": [
            "[[5.2, 3.0, 4.5], [9.1, 0.1, 0.3]]\n"
          ],
          "name": "stdout"
        }
      ]
    },
    {
      "cell_type": "code",
      "metadata": {
        "id": "RFeCAV0WBIWR",
        "outputId": "6959d7ef-7612-4a7a-9b88-5efc14a6b822",
        "colab": {
          "base_uri": "https://localhost:8080/"
        }
      },
      "source": [
        "list_ex1[1][1]"
      ],
      "execution_count": 33,
      "outputs": [
        {
          "output_type": "execute_result",
          "data": {
            "text/plain": [
              "0.1"
            ]
          },
          "metadata": {
            "tags": []
          },
          "execution_count": 33
        }
      ]
    },
    {
      "cell_type": "code",
      "metadata": {
        "id": "SQ3PROBKBKS_",
        "outputId": "540d79b6-f588-48ab-9cf0-6ea8dbcdb377",
        "colab": {
          "base_uri": "https://localhost:8080/"
        }
      },
      "source": [
        "print(list_ex1) \r\n",
        "a = (list_ex1[1])\r\n",
        "print(a)\r\n",
        "print(a[1])"
      ],
      "execution_count": 34,
      "outputs": [
        {
          "output_type": "stream",
          "text": [
            "[[5.2, 3.0, 4.5], [9.1, 0.1, 0.3]]\n",
            "[9.1, 0.1, 0.3]\n",
            "0.1\n"
          ],
          "name": "stdout"
        }
      ]
    },
    {
      "cell_type": "markdown",
      "metadata": {
        "id": "shifynlYBLr9"
      },
      "source": [
        "Matrix Operations\r\n",
        "\r\n",
        "data 2 แบบ -> matrix (2D array) , scalar (ตัวเลขค่าคงที่)"
      ]
    },
    {
      "cell_type": "code",
      "metadata": {
        "id": "tDkjuet7BOmR",
        "outputId": "623b5781-70c1-472b-9804-ac74d4c30f7c",
        "colab": {
          "base_uri": "https://localhost:8080/"
        }
      },
      "source": [
        "mat_ex1 = numpy.array([[5.2,3.0,4.5],[9.1,0.1,0.3]])\r\n",
        "print(mat_ex1)\r\n",
        "mat_ex2 = numpy.array([[2,3.7,5.9],[91,1.5,7.3]])\r\n",
        "print(mat_ex2)"
      ],
      "execution_count": 35,
      "outputs": [
        {
          "output_type": "stream",
          "text": [
            "[[5.2 3.  4.5]\n",
            " [9.1 0.1 0.3]]\n",
            "[[ 2.   3.7  5.9]\n",
            " [91.   1.5  7.3]]\n"
          ],
          "name": "stdout"
        }
      ]
    },
    {
      "cell_type": "markdown",
      "metadata": {
        "id": "HEhd_MTrBR2K"
      },
      "source": [
        "##บวกกับลบ matrix เอาตัวเลขตำแหน่งเดียวกันมาบวกกันหรือลบกัน\r\n",
        "\r\n",
        "(หน้าตาของ matrixค้องเหมือนกัน)"
      ]
    },
    {
      "cell_type": "code",
      "metadata": {
        "id": "zkjxXDaFBY5t",
        "outputId": "f5e1ebc3-2dc0-4eaa-b040-e0fd39b2d7ff",
        "colab": {
          "base_uri": "https://localhost:8080/"
        }
      },
      "source": [
        "mat_ex3 = mat_ex1 + mat_ex2 \r\n",
        "print(mat_ex3)\r\n",
        "mat_ex4 = mat_ex1 + mat_ex2\r\n",
        "print(mat_ex4)"
      ],
      "execution_count": 36,
      "outputs": [
        {
          "output_type": "stream",
          "text": [
            "[[  7.2   6.7  10.4]\n",
            " [100.1   1.6   7.6]]\n",
            "[[  7.2   6.7  10.4]\n",
            " [100.1   1.6   7.6]]\n"
          ],
          "name": "stdout"
        }
      ]
    },
    {
      "cell_type": "markdown",
      "metadata": {
        "id": "0aZziDKsBc0A"
      },
      "source": [
        "\r\n",
        "การตรวจสอบขนาดของ matrix"
      ]
    },
    {
      "cell_type": "code",
      "metadata": {
        "id": "KnVbE8AcBd32",
        "outputId": "8dbf7a66-ca2e-4172-c7ed-184ecfa21dab",
        "colab": {
          "base_uri": "https://localhost:8080/"
        }
      },
      "source": [
        "mat_ex3.shape[0] #คู่อันดับ"
      ],
      "execution_count": 37,
      "outputs": [
        {
          "output_type": "execute_result",
          "data": {
            "text/plain": [
              "2"
            ]
          },
          "metadata": {
            "tags": []
          },
          "execution_count": 37
        }
      ]
    },
    {
      "cell_type": "markdown",
      "metadata": {
        "id": "kIEaj8QABgs0"
      },
      "source": [
        "## **คูณ matrix**"
      ]
    },
    {
      "cell_type": "code",
      "metadata": {
        "id": "Fn0eZqtKBk9J",
        "outputId": "d26b2950-360c-4394-841b-f15e253f90ff",
        "colab": {
          "base_uri": "https://localhost:8080/"
        }
      },
      "source": [
        "print(mat_ex1)\r\n",
        "print(mat_ex2)"
      ],
      "execution_count": 38,
      "outputs": [
        {
          "output_type": "stream",
          "text": [
            "[[5.2 3.  4.5]\n",
            " [9.1 0.1 0.3]]\n",
            "[[ 2.   3.7  5.9]\n",
            " [91.   1.5  7.3]]\n"
          ],
          "name": "stdout"
        }
      ]
    },
    {
      "cell_type": "code",
      "metadata": {
        "id": "qI8JFmbZBptA",
        "outputId": "834500b0-0dbb-426a-a7fb-fc2ccd60de71",
        "colab": {
          "base_uri": "https://localhost:8080/"
        }
      },
      "source": [
        "mat_ex1 * mat_ex2"
      ],
      "execution_count": 39,
      "outputs": [
        {
          "output_type": "execute_result",
          "data": {
            "text/plain": [
              "array([[1.040e+01, 1.110e+01, 2.655e+01],\n",
              "       [8.281e+02, 1.500e-01, 2.190e+00]])"
            ]
          },
          "metadata": {
            "tags": []
          },
          "execution_count": 39
        }
      ]
    },
    {
      "cell_type": "markdown",
      "metadata": {
        "id": "smTvO26LBt1A"
      },
      "source": [
        "###**การคูณ matrix (แถวคูณหลัก)**\r\n",
        "(หลักของ matrix ตัวข้างหน้า ต้องเท่ากับแถวของ matrix ตัวข้างหลัง)\r\n",
        "\r\n",
        "dot product ((AAA,x),(x,ZZZ)) = (AAA,ZZZ)"
      ]
    },
    {
      "cell_type": "code",
      "metadata": {
        "id": "4jcnIgy-ByOd"
      },
      "source": [
        "## numpy.dot(mat_ex1,mat_ex2) ต้องใส่ .T"
      ],
      "execution_count": 40,
      "outputs": []
    },
    {
      "cell_type": "code",
      "metadata": {
        "id": "4v4tYOWLB04Z",
        "outputId": "46453534-607f-45dd-be3a-641233f81e81",
        "colab": {
          "base_uri": "https://localhost:8080/"
        }
      },
      "source": [
        "print(mat_ex1)\r\n",
        "print(mat_ex1.shape)\r\n",
        "print(mat_ex2)\r\n",
        "print(mat_ex2.shape)"
      ],
      "execution_count": 41,
      "outputs": [
        {
          "output_type": "stream",
          "text": [
            "[[5.2 3.  4.5]\n",
            " [9.1 0.1 0.3]]\n",
            "(2, 3)\n",
            "[[ 2.   3.7  5.9]\n",
            " [91.   1.5  7.3]]\n",
            "(2, 3)\n"
          ],
          "name": "stdout"
        }
      ]
    },
    {
      "cell_type": "markdown",
      "metadata": {
        "id": "Vmgv0G3-B4q1"
      },
      "source": [
        "###Transpose กลับแถวเป็นหลักกลับหลักเป็นแถว\r\n",
        "\r\n",
        "matrix.T"
      ]
    },
    {
      "cell_type": "code",
      "metadata": {
        "id": "gjLtAiFiB-0l",
        "outputId": "c6e985e7-d3f9-4952-bbe2-d840ea12dd27",
        "colab": {
          "base_uri": "https://localhost:8080/"
        }
      },
      "source": [
        "print(mat_ex2)\r\n",
        "print(mat_ex2.shape)"
      ],
      "execution_count": 42,
      "outputs": [
        {
          "output_type": "stream",
          "text": [
            "[[ 2.   3.7  5.9]\n",
            " [91.   1.5  7.3]]\n",
            "(2, 3)\n"
          ],
          "name": "stdout"
        }
      ]
    },
    {
      "cell_type": "code",
      "metadata": {
        "id": "JyUgyqAtCAyF",
        "outputId": "76a8dc73-aeed-493f-8136-288c3a395bf0",
        "colab": {
          "base_uri": "https://localhost:8080/"
        }
      },
      "source": [
        "print(mat_ex2.T)\r\n",
        "print(mat_ex2.T.shape)"
      ],
      "execution_count": 43,
      "outputs": [
        {
          "output_type": "stream",
          "text": [
            "[[ 2.  91. ]\n",
            " [ 3.7  1.5]\n",
            " [ 5.9  7.3]]\n",
            "(3, 2)\n"
          ],
          "name": "stdout"
        }
      ]
    },
    {
      "cell_type": "code",
      "metadata": {
        "id": "I0jwDmo-CCYO",
        "outputId": "dc4f4247-44bb-4469-b346-514c64f8b5f3",
        "colab": {
          "base_uri": "https://localhost:8080/"
        }
      },
      "source": [
        "numpy.dot(mat_ex1,mat_ex2.T) #(2,3).(3,2)"
      ],
      "execution_count": 44,
      "outputs": [
        {
          "output_type": "execute_result",
          "data": {
            "text/plain": [
              "array([[ 48.05, 510.55],\n",
              "       [ 20.34, 830.44]])"
            ]
          },
          "metadata": {
            "tags": []
          },
          "execution_count": 44
        }
      ]
    },
    {
      "cell_type": "code",
      "metadata": {
        "id": "hnYvxN-oCEMY",
        "outputId": "031ba50d-0779-41ba-f17f-7f9c8edd737c",
        "colab": {
          "base_uri": "https://localhost:8080/"
        }
      },
      "source": [
        "numpy.dot(mat_ex1.T,mat_ex2) #(2,3).(3,2)"
      ],
      "execution_count": 45,
      "outputs": [
        {
          "output_type": "execute_result",
          "data": {
            "text/plain": [
              "array([[838.5 ,  32.89,  97.11],\n",
              "       [ 15.1 ,  11.25,  18.43],\n",
              "       [ 36.3 ,  17.1 ,  28.74]])"
            ]
          },
          "metadata": {
            "tags": []
          },
          "execution_count": 45
        }
      ]
    },
    {
      "cell_type": "markdown",
      "metadata": {
        "id": "qeHzNfMXCGvD"
      },
      "source": [
        "###HW4 อธิบายการหา Determinant และ Inverse matrix(รูปและคำอธิบาย)\r\n",
        "\r\n",
        "ดีเทอร์มิแนนต์ (Determinant) คือ ค่าของตัวเลขที่สอดคล้องกับเมทริกซ์จัตุรัส ถ้า A เป็นเมทริกซ์จัตุรัส จะเขียนแทนดีเทอร์มิแนนต์ของ A ด้วย det(A)\r\n",
        "\r\n",
        "####**ดีเทอร์มิแนนต์ของเมทริกซ์ขนาด 2×2**"
      ]
    },
    {
      "cell_type": "markdown",
      "metadata": {
        "id": "GA74R6LDEwQ9"
      },
      "source": [
        "![141692444_2459959587644616_4077241503969883220_n.jpg](data:image/jpeg;base64,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)"
      ]
    },
    {
      "cell_type": "markdown",
      "metadata": {
        "id": "e6DX0rxkEx-6"
      },
      "source": [
        "####**ดีเทอร์มิแนนต์ของเทริกซ์ขนาด 3×3**"
      ]
    },
    {
      "cell_type": "markdown",
      "metadata": {
        "id": "jwJWEWfWE3mk"
      },
      "source": [
        "![142207256_707542703467718_866749915014980840_n.jpg](data:image/jpeg;base64,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)"
      ]
    },
    {
      "cell_type": "markdown",
      "metadata": {
        "id": "ebkrJ4mvE4cV"
      },
      "source": [
        "Inverse martix\r\n",
        "\r\n",
        "ให้ A เป็นเมทริกซ์มิติ n×n ถ้า B เป็น เมทริกซ์มิติ n×n และมีสมบัติว่า AB=BA=In เมื่อ In เป็นเมทริกซ์เอกลักษณ์แล้วเราเรียก B ว่าเป็นเมทริกซ์อินเวอร์สของ A และเขียน B แทนด้วย A^−1\r\n",
        "\r\n",
        "การหา Inverse ของ Matrix ขนาด 2*2\r\n",
        "\r\n"
      ]
    },
    {
      "cell_type": "markdown",
      "metadata": {
        "id": "PuWUfsPBFZNQ"
      },
      "source": [
        "![142614276_843402459813536_609554785236485050_n.jpg](data:image/jpeg;base64,/9j/4AAQSkZJRgABAgAAAQABAAD/7QCEUGhvdG9zaG9wIDMuMAA4QklNBAQAAAAAAGccAigAYkZCTUQwMTAwMGE4YTAxMDAwMDU2MmIwMDAwZjM0ZTAwMDBjNzU3MDAwMDJkNjMwMDAwZjM4OTAwMDAzM2I2MDAwMDQ2Y2MwMDAwZmRkMzAwMDBmOGRjMDAwMDk4MjMwMTAwAP/bAEMACQYHCAcGCQgICAoKCQsOFw8ODQ0OHBQVERciHiMjIR4gICUqNS0lJzIoICAuPy8yNzk8PDwkLUJGQTpGNTs8Of/bAEMBCgoKDgwOGw8PGzkmICY5OTk5OTk5OTk5OTk5OTk5OTk5OTk5OTk5OTk5OTk5OTk5OTk5OTk5OTk5OTk5OTk5Of/CABEIBEsGvgMAIgABEQECEQH/xAAbAAEAAgMBAQAAAAAAAAAAAAAABQYBBAcDAv/EABkBAQEBAQEBAAAAAAAAAAAAAAADAgQBBf/EABkBAQEBAQEBAAAAAAAAAAAAAAADAgQBBf/aAAwDAAABEQIRAAABvAAAAAAAAAAAAAAAAAAAAAAAAAAAAAAAAAAAAAAAAAAAAAAAAAAAAAAAAAAAAAAAAAAAAAAAAAAAAAAAAAAAAAAAAAAAAAAAAAAAAAAAAAAAAAAAAAAAAAAAAAAAAAAAAAAAAAAAAAAAAAAAAAAAAAAAAAAAAAAAAAAAAAAAAAAAAAAAAAAAAAAAAAAAAAAAAAAAAAAAAAAAAAAAAAAAAAAAAAAAAAAAAAAAAAAAAAAAAB5ivQfr0QlrJzu1Z9nBGwAAAAAAAAAAAAAAAAAAAAAAAAAAAAAAAAAAAAAAAAAAAAAAAAAAAAAAAAAAAAAAAAAAAAAAAAAAAAAAAAAAAAAAAAAAAAAAAAAAAAAAAGKVN1G8ZG7/AB6S3WtKUhbTvA57gAAAAAAAAAAAAAAAAAAAAAAAAAAAAAAAAAAAAAAAAAAAAAAAAAAAAAAAAAAAAAAAAAAAAAAAAAAAAAAAAAAAAAAAAAAAAAAAAAAAAAAYx9RzyjXOn9G6I5HPeAh5HV6IXAc9wAAAAAAAAAAAAAAAB5GPXmHTdz+xigAAAAAAAAAAAAAAAAAAAAAAAAAAAAAAAAAAAAAAAAAAAAAAAAAAAAAAAAAAAAAAAAAAAAAAAAAAAAAAAAAAAGIaZ1fc02+c09+mHRPHm+M6mt+qXbXk4OXoAx8fek8gLPzPpNpbLGY2AAAAAAAAAAAAA5hfqzL9HPYBz9AAAAAAAAAAAAAAAHzD6NQvHqn1DTMa5HnoAAAAAGMtc9/mowFo9A+qLqb86m1tnmtg1jZzGxes2XMVK50D0AAAAAAAAAAAAAAAAAAAAAAAAAAAAAAAAAAAAAAAAAAAAAAAAAAAADy0pHPvmv75+PHOrxzzqHRH7HPcB8/Q5tIXGE6IVa9pDG8iVAAAAAAAAAAAAKl6Z8OmFvHNcAAAAAAAAAAAAADHz9RXuaP5+3x38l+kMfXz+wHoAAAAGM4iPfMUpeeiEJZtlCrS3sZ1kPVTtdRpOr2KG6JePOen8v6hjeRz3AAAAAAAAAAAAAAAAAAAAAAAAAAAAAAAAAAAAAAHmfXnQdG8epYo90nv1GNgAAAAAAAAAAAY0N+A1mr9HpF4pMI2qti51cbxm2tz6eulZ0N7G8h6AAAAAAAAAAAABWtTZ1+iFvHPcAAAAADDOo82lWsGvNoZ0AAABjOK37myVSF8eiOvYa70nedwcfUAAAAABq87mNrphLyhzWyHoAGKjbqlSfvnzrtZyl3jpGNcjGwAAAAAAAAAAAAAAAAAAAAAAAAAAAAAAAAAAAAAMV6xUrc/C8QFi9VfRk61WdylvP057ZHmgMZa5sPn6AAMES8loqIgrSu0nzS4vZsRqABioXDn1ZTNoiJfGgzuhzUZKdHPrVKbi7Y6Hu4zw9QPQAAAB8kfXYew9PPKyvMpnOrpmq2mNMjzQAAAFV+fKA6uboelTNrPt89qJe5VyMbAAAA8udWKP6IYn5rEqZGNgAAYy1yGq/lfunnrlbsFfrOy3HS3ePpyM7AAAAAx4+0L7mk3qoefXz9D8+d/c93nNNlfPbeIWAxU7ZUaThN6JmOmF6eHtxdeQAAAAAAAAAAAAAAAAAAAAAAAAAAAAAAAAAAAAAAYqVtjtYq3vozHRGv370941KbIeLF8/Vb818SdO8rx6Pza5UP1eZ6FmeevOb7zzoNZ7aj3iVFYs8SUDpPNumdEoyAt1Ez70kc9wAMcv6PzLp579M16wwqGd0yQ1fnp59DZh8Ux01Ey3F1ZD0AAADGhvxfvlM6Pzy+Wjr89lW8+fQOZ9MxrIhcAADBGvKZNwPQumHpGadTxrY6LCTedZE6AAADzOe3Kg9Q6IfQ57gAAAYrFn5/Se5coqJ15XvKWkLxmpSoW7l6MjGwAAAAMV2xxOsQNz5z0SmfsRqPg+lc2dYmxneKZdKPWchqS0485lbJKA3m3jnuAAAAAAAAAAAAAAAAAAAAAAAAAAAAAAAAAAAAABqc8nvrohAXXViPfLyObooHjf+a9XN0+n3DSharQFjrvVz2WsS3n75etpnh6+aW6rSfVzxvRKXdJUVyyVnOqdfKHdOnnm+c9H5vOnTxz3AAiOf3qi9fLdrBDTXNcM7iKB1XXrKrz8ixrS3cs6B6AAAA+Psc70eo4vGpWz6zKnL+m+XvrOROgAFWn6hMWjYNbZRrzfX6gvKiWmTxPeRjYAFQs9CulpSIjVrbOHnMr3Xo/q57FEfUxnUlufP1z2yHo8Sq2/l/ULSUG/aONULYtstWfhjYzz2iJfAyHoAAAADGRRPC/wt46efLGvNeGtsv55TrbvJVyMbUS9Uesp2cgp3GgzsAAAAAAAAAAAAAAAAAAAAAAAAAAAAAAAAAAAAABhpvKBfqD0vojp0LpHLjqb5+ue+OWdT5peHSvrV2oWxyzqXK+iO9Z6Tdd4sQ5Oqix9tovZy2a38qvM9zsJN/MK8rvXxO2n4876XH41JCdAAIKldP8Ky9PYlUAAAAAAAAAAAAAAACp519/ohZBz3AAAAGDm985103oh6jnuAAAABiJlqpvET0Gp2zWciVQAAAAAAAAAAAAAAMQs3j3zS3sZ8A9AAAAAAAAAAAAAAAAAAAAAAAAAAAAAAAAAAAAAAxCTde1iDvvKeo1n6816VQfPbnuQ0zKmOfdBr287sro72NeHL+rRFMQWtfR5+pKuIOdx75BTmcvA80AAAAAAAAAAAAAAAAAAAAAABzu4+25SeROgAAAGNPcjfc0fpVPuFMZEqgAAAAYq9oz7mOkGfPQegAAAAAAAAAAAAAAAAAAAAAAAAAAAAAAAAAAAAAAAAAAAAAAAAAAAAAAAYgp3Huee9D8/XXmK7YmfYqVZ89B6AAAAAAAAAAAAAAAAAAAAAAAAAAAAAAAAAAAAAAAAAAAAAAAAAAAAAAAAAAAAAAAAAAAAAAAAAAAAAAAAAAAAAAAAAAAAAAAAAAAAAAAAAAAAAAAAAAAAAAAAAAAAAAAAAAAAAAAAAAAAAAAAAAAAAAAAAAAAAAAAAAAAAAAAAAAAAAAAAAAAAAAAAAAAAAAAAAAAAAAAAAAAAAAAAAAAAAAAAAAAAAAAAAAAAAAAAAAAAAAAAAAAAAAAAAAAAAAAAAAAAAAAAAAAAAAAAAAAAAAAAAAAAAAAAAAAAAAAAAAAAAAAAAAAAAAAAAAAAAAAAAAAAAAAAAAAAAAAAAAAAAAAAAAAAAAAAAAAAAAAAAAAAAAAAAAAAAAAAAAAAAAAAAAAAAAAAAAAAAAAAAAAAAAAAAAAAAAAAAAAAAAAAAAAAAAAAAAAAAAAAAAAAAAAAAAAAAAAAAAAAAAAAAAAAAAAAAAAAAAPM+0ZG6xZsU3535dMx+/LeQ9AAAAAx8elW1mxe1KurzIzsAAAAAAAAAAAAAAAAAAAAAAAAAAAAAAAAAAAAAAAAAAAAAAAAAAAAAAAAAAAAAAADGY/S9zONba89B6AAAAABjGnSqYv/3VbVn3IzoAAAAAAAAAAAAAAAAADFQt9FrOP8LFbqy57JXFKlczY2dR8hjONA9AAAAAU+4UispGywE/nWRjYHlXJPnt49K3IGcjT6QEqbY80AAAAAAAAAAAAAAAAAAAAAAAAAAAAAAAAAAAAAAAABjONc9PTmV/pPfPOdPv5rEFWXRxKoAAAAAAAAAAAAFLrnVoPohR52KxeXQtuFmuHryPPQAAMfH3zneLZBwEl0Q1LXLbsqskagAAADBkAAAAAAAAAAAAAGNLePOY9M5zeOiMgOe4AFdp3vfOrmpFy0KcdO9qTd+ewZ2AB4UGYqvVzWaO89zXkRe6L0PGt0c3RitWXPuea6vU1p8q6FQul6z7Dm6AAAAAAAAAAAAAAAAAAAAAAAAAAAAAAAAAAAAAAAAAAK3U+n/NZc38ei++80u37KVMjG2Gq823n6PR8n08/QwQHvlgxTrX7n3Y8c69lXmdZkBneFZ2N4n8V2b8992pR/fOhud9APU+cb8ObWWH6ue/e2M8vRnGafrMxt0H0tHo45+jCK+dZmPn6Z1y3pVIsXTzzo5ugAAADBD+5jats2rqh9T1CvsK5E6AAAAAAAAAAAAAUKxwE50QnRz3AfH2OWdApev2cv1Jz2cagrvW7JKmROgAGjSeh53jmElfG8R8gzGoPQHn6a7zmvUeZdN6I5HPcAAAAAAAAAAAAAAAAAAAAAAAAAAAAAAAAAAAAAAAADCFqNJ9IxQrKbu5ym9a8nRGoCj3emVlKWCu2LOsRUqxrmHQYaJ6YX3wzG89q/CSmh28vx9Wmdnvn8757ZZvD2zy9HKNiaiO7k9M+mmbFgi71GtEndbXeW+jXnxlXmXRK/G9EehDk6Yqkycr0885zTqPM/Pek/evs89qTX7/AEXs5pF5SBESkRJe+X0cXWAAABjnV35v0Qvu9z7YeePSuV9DJIc/QAAABjU2/l5QLfDVXq5+qoqV5ejIegAAAAUSwVe39EJQc9wAPl9AAAAAAADBDPJp4e70DGrtajygdK5v0i8siFgAAAAAAAAAAAAAAAAAAAAAAAAAAAAAAAAAAAAAAAMR0jRd4jLxFWqmOeWyvTmsxHhaaYdFHN0AYp1yp9Z7lkrNmz6GN/HMb9zzp577U/X098h7pU9jWdq81G2wtQLVRel7z7DnuB5czuFQ6ee+yfx9c14GHm4HojeYGerkqelLWDphcvo4+rmt9pO508125n0qgY3ednz9I1xp7giYS40qs6/cIm80x9jm6AAAAK5F79f6ued3NnfjTmfTua9PpgOe4AAADy9Pk5z4WbV7OWUl6fYoVlxKoAAAA8Tm/Reb9Q6IZHPcAAAAAAAAADS5vbqf18vQZXU2+XoyPNY0t3S98ovR+c9GtLIhYAAAAAAAAAAAAAAAAAAAAAAAAAAAAAAAAAAAAAAAD45d0jn/AEQ2ehct6h4o9gql09fdIulNOiDnuBio2+v7xr2eFmhX7BrZ95lYLDK3lBy3uhXRjp56+c/TOqzZWffA89AqubQ3jIxuNibO1jIzvz9AA1ImwtZxkzoAAAAAAAADTgbS1nwxss+0O+YzrIZ2AAAAAAAAAAABiKlq1rEF0KmXLeciVQAAAMIv29zvjzQAADDUeVSI2JLs5boOPrAxo72j7mj9G5z0a08iFgAAAAAAAAAAAAAAAAAAAAAAAAAAAAAAAAAAAAAAANPn/SucdEfLo3N+mPISdyhXSg7S98yM7AAAAAAAAAAAAAAAAAAAAAAAAAAAAAAAAAAAAAAAAAAAAxTLnzysrBY4yUxoM7AAAxGSHOaT1bxAXimPsc9wAANDn0nr9fLG9B5903zW0OXoAxo78d7mk9G530S08iFgAAAAAAAAAAAAAAAAAAAAAAAAAAAAAAAAAAAAAAAHl6jW2MngPQAAAAAAAAAAAAAAAAAAAAAAAAAAAAAAAAAAAAAAAAAAAAAMcu6fy/oh071Oe4AAAFZjPGc6eexIKNjW3oyTxrIegY1tnU985r7bFr7OWj9OrdphX6EbY8ff5OZfPQNro56xbWY2DOgAAAAAAAAAAAAAAAAAAAAAAAAAAAAAAAAAAAAAAAAAAAAAAAAAAAAAAAAAAAAAAAAAAAAAAAAAAAAAAAAAAAAAAAAPnmPT65WUvucv9N5vcVXJl5NytassbZGdAViu9IVlRpKzvPdfYynsHoAAAAAAAAAAAAAAAAAAAAAAAAAAAAAAAAAAAAAAAAAAAAAAAAAAAAAAAAAAAAAAAAAAAAAAAAAAAAAAAAAAAAAAAAAAAAAAAAAAHl47Z4D0AAAAAAAAAAAAAAAAAAAAAAAAAAAAAAAAAAAAAAAAAAAAAAAAAAAAAAAAAAAAAAAAAAAAAAAAAAAAAAAAAAAAAAAAAAAAAAAAAAAAAAAAAAAAAAAAAAAAAAAAAAAAAAAAAAAAAAAAAAAAAAAAAAAAAAAAAAAAAAAAAAAAAAAAAAAAAAAAAAAAAAAAAAAAAAAAAAAAAAAAAAAAAAAAAAAAAAAAAAAAAAAAAAAAAAAAAAAAAAAAAAAAAAAAAAAAAAAAAAAAAAAAAAAAAAAAAAAAAAAAAAAAAAAAAAAAAAAAAAAAAAAAAAAAAAAAAAAAAAAAAAAAAAAAAAAAADGdLceZD0AAAAAAAAAAAAAAAAAAAAAAAAAAAAAAAAAAAAAAAAAAAAAAAAAAAAAAAAAAAAAAAAAAAAAAACv+9VlOiFvV7TlS2Zg5vOsjz0AAAAAAAAAADDWidZsAzoAAAAAADBD++Sulz/bvG2eEHsG/5+P36+vTy1Xlp3KHfI1yMbAAxAz1DpOG6nzbpdMZHPcAAAAAAAAAAAAAAAAAADETLVTWJmSq1pMjOwAAAAAAAAAAAAAAAAAAAAAAAAAAAAAAAAAAAAAAAAAAAAAAAAAIyu3RvFJjugc4vGeuOptQsK7n2xZgpx7keegAAAAAAYeWq8kHh7vYepXSmdMOiDmuAAAAAABiDnHvnOuh0WZvGyDnuAB8fYAAYjPOg2l0vnkvBVnZLhqbXNbIzsAAAAAAAAAAAAAAAAAABVrRW9417bTrh75lhOmQAAAAAYzFfXuZJq/XnuzjV1PfJVUZDXk+MbAAAAAAAAAAAAAAAAAAAAAAAAAAAAAAAAAAAAAAAHyVbWh770w3xzXxT7hr6xTpjSlazmhC4AAAGNT251SdlsvML7rMmI2oEV0qP6IUn76Z5+IqtWqMe2gQsAAAAAAABB1+3UXoh0gc9wAAAAKNGzEB28mPSz1X3zqTz9OHsAAAAAAAAAAAAAAAAA8YvbqNZ2v0pPnvHRPuBnoVQk3WdeRMxTXXzbU/Xegz3vjl6QAAAAKnDdEVnzX56a1nme10Ec6mNWZ3mfHL0AAAAAAAAAAAAAAAAAAAAAAAAAAAAAAAAAAAYaEBvFuREjnXsqNn982BnWImXp28RnQ6vaNZFdnuf+uWSlp9BfP1CwAAAA+Cq68JcOrmjN7S9PPbcOboAAAAAAAAAAAA8Ob9K5n0Q6iOe4AGlznqWrSVEkJ7XpiM+934e6/39VfebVWviZ982pSs4xq3bNB1/PeixFK+dZ6Z7ct+vPepZ5c896k5X7HTlBmZ7szx9p0AAAAAAAAAAAAAxUbc1nmE1dVJ6u3jMag9AAAAAAAGDnV15907oh6DnuAAAAAAAAAAAAAAAAAAAAAAAAAAAAAAAAABjR9ueUn4zdf9uzmz0HnPUIV5hZ5vPnsiOe+Oc9E5beHQ5Gv2CVdLntlh+iMZtbOxSdok4Sb4uoPNAAAYhZul7xB+tlstpc017lGbzadtnj6QegAAAAR9ds0FWUVtV+1WlahydQAAHlzPpXN+iHTxz3AAwiaZSfSc062516DOtbmNxp3XyzN9r9ghbInQD40t88pUJdqL2c3VM+Ptx9OPH3EJDzcvTGnu4T3kPQAAAAAAGPmmaxdlIbzd1J9HtyVH18WhXPbz2exEe2fZFp+nnuy8fo9Hxl79PnJkAAAAADU24n3NJ6Zz3oNZ5EbAAAAAAAAAAAAAAAAAAAAAAAAAAAAAAAAAAVuo9QxWVVj75C++UTqfN+ga8itaB3/fLJJ6e5z31uZdR5f0QtFtrNmjSp1jodatPf8Amyeka6W6Y1kPQAAMc66LzC8L9I6e5GsBEz8XWdrEbAAAAAAYhprDzmN/jva8psQsAABqc/vVL6IdFHPcADns7A6PZy+cptw+s9Nrli5rzX1Pby+uzm6l9fH387uYQfvkz98r27R6S5j0HG97mXTOZ7xcfGn/ADTPVIeXpnPaudRpF8pjIhYAAAAAAADEJNvcwKfe+V74sj1V/K2vfKZ5Xh6oPj0N7nm3n0565f8APUnvnLHUhy3HUxR7wzGgZ2AAAAgZ6tbxF3mnXHWQlUAAAAAAAAAAAAAAAAAAAAAAAAAAAAAAAAAABjI1NrJ4D0DEVK5eefoPQAAAAAAMUy5tZgp1nz0PPQAAAAAAAAAAAAIatzcZ0Quo57gAeXns4eYqtra88OY9V8N4gtC5s++PuYo+PsaH1uPfPL2PPYvnvTKd0QjprYs59c76JzTz29b/AD3U986g8fbnuAAAAAAAAAAABiIkea1lc56iXrz3InQDGrtULeL19xMvn0PNAAAAAYqtqp9J+1rrVk89yMbAAAAAAAAAAAAAAAAAAAAAAAAAAAAAAAAAAAAAAAAAAAAAAAAAAAAAAAAAAAAAAAAqmNWV6IWEc9wAAAAAAAAAAAMQ8xn3yIk/s8yPNAAAAAAAAY8/Wq6zq633u9EJeV5VN51eYPShfPZiq+29eVkn/nPF05HmgMc86HzW8bzI1Jn226/rWcbhrbW7jWeyIWAAAxSbvQ6ynLBCzWNBnYAAAAAAAAAAAAAAAAAAAAAAAAAAAAAAAAAAAAAAAAAAAAAAAAAAAAAAAAAAAAAAAHPrZR+h9ENoc9wAAAAAAAAAAAAAAAAAAAAAAMVmzPc8xz0LYvKrwnRvLGudTkZ8XlHWX10/F3gp3x5emkXWMmN49BOnjzDp3M+nnlYz2kaYtFWvVLhaZm+dbHub8IXAAAxz7oPOrxuMpoSEaB5oAAAAAAAAAAAAAAAAAAAAAAAAAAAAAAAAAAAAAAAAAAAAAAAAAAAAAAAAAAAAAADHn6R3vnP+o866NaIQuAAAAAAAw0Hm55869ry6OIWAAAAAAAAAAAAAAAAAjKpffnePsY2ABjT3DyPkGR5+h7E7e1n3IeaAAAxzXpfMbx6Fua2xCuQ9AAAAAAAAAAAAAAAAAAAAAAAAAAAAAAAAAAAAAAAAAAAAAAAAAAAAAAAAAAAAAAAxAz9S3jUvFVtXvgToAABisWerbxvzHP8AUrPpudPb57ZD3y5zZYzohs/NxT3kToAAAAAAAAAAAAAAAAAAAAAAAAAAAABjmHT+XdEOme3x989gegAAAAAAAAAAAAAAAAAAAAAAAAAAAAAAAAAAAAAAAAAAAAAAAAAAAAAAAAAAAAAAYot651aNpnI+RlQPNAAAAY1dvDzH0PQKDZI+s9XN09z/ANZ0viP340yHoAAAAAAAAAAAAAAAAADDWebOY7ePsPQAAAAAAMcs6nyvoh1TJz3AAAAAAAAAAAAAAAAAAAAAAAAAAAAAAAAAAAAAAAAAAAAAAAAAAAAAAAAAAAAAAAAxzPpvLbw6Ts+fpCwPQAAAAAAMeGweRXnM4155+pnQAAAAAAAAAAAAAAAAAAELStq2dPPUfK0VreejfdcsXJ0ZHmgAAAAAPnlvUeYdEOpDnuAAAAAAAAAAAAAAAAAAAAAAAAAAAAAAAAAAAAAAAAAAAAAAAAAAAAAAAAAAAAAAABjl3UeXdEOn/fx989wAMa2z8vKRsy2r0R8vbX8CV9YDyLT6U3zL16c8+DpX3y74OqOWfR1Fy/B1Dw5p7l816nsFjlaPZcbmBKgAAAAAAAAAAAAAAHMNi4/HTz1ixziVOYdOo101n3EbAAAAAAeXNOk836IdPHPcAAAAAAAAAAAAAAAAAAAAAAAAAAAAAAAAAAAAAAAAAAAAAAAAAAAAAAAAAAAAAAADHL+ocv6IdN9PL157A9AAAAAAweDzYD3Hz9jzz9nmGjtHqHoAAAAAAAAAAAAGCOeSTy9XoAAAAAAAAAAAGvznovO7w6aIXAAAAAAAAAAAAAAAAAAAAAAAAAAAAAAAAAAAAAAAAAAAAAAAAAAAAAAAAAAAAAAAA0KBZdfo57hk5+gAAAxVdZtSh3T3zZGNgVaubGz2ct7HH1AAUiW89Hohcxz3AAAAAAAAAAAAAr9I6ro2jS96c8NZj/vZ+Hvm+h5+e16EX5T/AKlZWh6rmzKa3htRWqWrc59pnUXNNvPvQFIsWNywxsDW530XnPRDpw57gAAAAAAAAAAAAAAAAAAAAAAAAAAAAAAAAAAAAAAAAAAAAAAAAAAAAAAAAAAAAAAAUeZr1q6ISw57gAAQlUmoHq5tiN97LvPpY+eX/ntXK54yl5RN6oV889mhydPkpmhaPRlGus96NM6HzC0+i61D+tedQPnl6I7e5reqylRKoAAAAAAAAAAAAGIiX53Sdxk65Y8+5GdgYy1njY5X0as9/GUq6mnLvcwEnuYMjzQHjzXpnMeiHUhz3AAAAAAAAAAAAAAAAAAAAAAAAAAAAAAAAAAAAAAAAAAAAAAAAAAAAAAAAAAAAAAAA51daLfeiG6Oe4AAGtC2PGs+Hp6Yz7QbdIY3nlm7aZi0qsscPjVlEbakdNvcxEuEXXtDR6oYsS359+o6Rgee1Q6JUrtaeRCwAAAAAAAAAwaUBBbnTz3Lb5reJ7knzRc6vnLd/T6IX+QZ5OkHoGPD3POa2+IkOmFjHN0AYaOw89w9A+OX9O5l0Q6kOe4AAAAAAAAAAAAAAAAAAAAAAAAAAAAAAAAAAAAAAAAAAAAAAAAAAAAAAAAAAAAAAAHON+3wvRDy9dPzJFGZJHGhk3bDVLVPfqJ0AAAAAAA1M7J5kPcRkph5zCQu2n0RrU+3863RGoAAAAAAADU2/l5y/Ym5Lr563s3GOnvyrU3Ut49kvB0x1N8/XD2YjpDnlJ9A9OXelMdOfP1z3qmJigdPP0iLp3l750XYqE1GtLt8NeqYyOe4HhzjoNC6IdKHPcAAAAAAAAAAAAAAAAAAAAAAAAAAAAAAAAAAAAAAAAAAAAAAAAAAAAAAAAAAAAAAAAAAAAAAAAAAAAAAAAAAAAAAAAAAAAADzjZV75ilXd7nx9jOwAAKLH9B17x5/JXj2NLxk0acxkrjo3jAXGMmJ0+3xrz3q1Ky07ph04c3QAAAAAAAAAAAAAAAAAAAAAAAAAAAAAAAAAAAAAAAAAAAAAAAAAAAAAAAAAAAAAAAAAAAAAAAAAAAAAAAAAAAAAAAAAAAAAAAAAAAAAABiJlvh5zjw6P79EeYbHSnnvPdq8489yI1AAAAAAAAAAAAAAAAAAAAAAAAAAAAAAAAAAAAAAAAAAAAAAAAAAAAAAAAAAAAAAAAAAAAAAAAAAAAAAAAAAAAAAAAAAAAAAAAAAAAAAAAAAAAAAAAAAAAAAAAAAAAAAAAAAAAAAAAAAAAAAAAAAAAAAAAAAAAAAAAAAAAAAAAAAAAAAAAAAAAAAAAAAAAAAAAAAAAAAAAAAAAAAAAAAAAAAAAAAAAAAAAAAAAAAAAAAAAAAAAAAAAAAAAAAAAAAAAAAAAAAAAAAAA8qjYOd3h1X61tmFgegAAAAAAAAAAAAAAAAAAAAAAAAAAAAAAAAeXlBQlZdCEqgAAAAAAAYfHm82A9AAAAAAAAAAAAAAAAAAAAAAAAAAAAAAAAAAAAAAAAAAAAxnFX9zaXx9+aAAAAAAAAAAAxHyEf7mv/Gz7dEfmxVWyyp7c36XzveLtvx0jGoeaAAAAAAAAAAAAA8qTYKH0Q6dsQk3CuR5oAAAAAAAAYCkaFpdGzzP4986d88uz750705fdMbnRKgAA+CqV2ervbydUHF1gAAAAAAAV+AuvPOiHTRz3AA1oeTqtZWHeoervHTnMZHOr7mOkI1yHoAAAAAAAAAAAAAAAAAAAAAAAAAAAAAAAAAAAAGtzOYhezl6pTrbUIVsUpVLXnQY2AAAAAAB56NcgLx6nmCnI0yPNAAYptzxrOpt5Z9B6AAAAAAAAAAAABXKX0yo9PPJ2ao26NAxQAAAAAAAADm9h3qh1c199PbPL0fP0PQAAANTn03r9PPBs/HRDq2YOb+f25HmgAAAMEa8k0Tue+bQ8188t6nzHoh07Ovsc9gegAAa1Iv8AzW8bRY9LclTIzoAAAAAAAAAAAAAAAAAAAAAAAAAAAAAAAAAAAADmunaqv3cd91vf35eis3ej3j3zIlUAAAAADHl6wXuaZb4W39EaffOb9IxrIjYAAAAAAAAAAAAAAAAADEBPxOs168UK+7wEqgAAAAAAAAY5x0eoVlOydXs+NZGdgAAAc80bp5dXNXo7qdR893rBU7ZGuRjYAAAHny7qkLWVU8Okems886HjM6Od32k7xJ6XlK0zqXDl/Sca2hCwAHlzLodH6IdGyc9wAAAAAAAAAAAAAAAAAAAAAAAAAAAAAAAAAGNKuaxcXn6Z2PI9QYh5itbxV+m896FTBrV2VLWi5XPoPQAAAAMUu1c/tGzz8LuZ1QOo8r6fTHsOe4AAAAA8T1aO089Q9AAAAAAw1PR5sB6AAB4+wAAAAAAAAAAYr9giNYgLtQr7vORKoAAAADx9hpbo8B6AAAAAABWK90GtXh9V2enNIm0EKhnQAEPWZ6J6IXYc9wAAAAAAAAAAAAAAAAAAAAAAAAAAAAAAAAAKLC2eq93HfZnnfpC23EastePQPn60uHrrMT4endydB26fauTpou5B9PtLmGzfdB7DXHl3T8e+gjYAAAClQF7rPXy+WehJ05XfaT0XWdkc3QAAAABC0fqNQvGsXGCv2s+o5ugAAAADEJOeXvnLt+5a/Tzw+ZPGdR/1ufJr/f38Hp6afmSvrAeRavak+B0P05n8HUHLsHUfPmn2dE9Od+J1DMHNwtkeegAAYipWI1mr3+hX2mMiNQAAAAAAAAAAAAAAAAAAAAKxr59emFpHNcAAAAAAAAAAAAAAAAAAAAAAAAAAAAAAAAADFHvNLrLPruRe8V6/1m+vWca/PfYr+jX+iHz0qOl8a5fe9KuVnP1iZsnnsdYsZ57B5oAAACreWvK9ELCOe/Muh12z1j6iVgAAAAI2gX+n9HPaN6lWLOp8RsAAAAAAAAAAAAAAABiAn3uapawyPNAAAYg52t7xFXmm3HWciVQAAAAAAAAAAAAAAAAAAAAKXIxM50QnRz3AAAAAAAAAAAAAAAAAAAAAAAAAAAAAAAAAAxTblCbxW9TYul40Ky2LylTZjZJKlLtO23nIxsAAAAAAACkS8190n9idAAAAAAAAAAAAAAAAAAAB8kV9Uac6IXIc9wAMGubCp2z3OR5oAAAABUrZR6ykLTAz2dBjYAAAAAAAAAAAAAAAAAAAAFBs1Vt3TCUHNcAAAAAAAAAAAAAAAAAAAAAAAAAAAAAAAAAAAAAAAAAAAAAAAAAAAAAAAAAAAAAAAAAfJn5psDaPUnM7P57ZXnmVcQ1X0+nn8rzTel+vUcvQABiGmoTWaz0GiXqmMiNTEa8kPrl3SqY2BOgAGOc9G5beHQpD49IWB6AAAAAB51Vo3j92jSks+7glUAAAAAAAAAAADnV0pV36Ib457gAAAAAAAAAAAAAAAAAAAAAAAAAAAAAAAAAAAAAAAAAAAAAAAAAAAAAAAAAAAAAAAAYgZ6u7xAX2ge9pe1fkdKs+jQNl53z2ktX307T3L3zHpUqfdStunLdD9LZ73lSrNJbM9+sLNRON1u5c6x0wtExQ5zGrdQbnz3z2ftuPqVMjOgAPHmnTuYdEOo50tzntkPQAMa2zFe+a3tXfnojY8V768XT10d7ntzW+0HoHRHcHPcAAAAADGt9c8pOT0vLS6ufoMrz/AKBy9GROgAAHN71R7t0QkBz3AAAAAAAAAAAAAAAAAAAAAAAAAAAAAAAAAAAAAAAAAAAAAAAAAAAAAAAAAAAAAAAAAfH2K5mxN48+a9N8/fPrnPSHnvPrzsCl2SQGRjYAGIiXh9Zp1hre91c0ff8AxlYWr8VNUumOlwtNlPPbhuaW7C2R56BivWF7nmM5aYG8dyTpcc96a5la8asYlUAAACn6F8rl47CEz75IWOr2ie/UToAAABUYKehuvl17rsSEa8u6hTbf756iNgMM+B7K/K6zTLPByFpWQc9wAAAAAAAAAAAAAAAAAAAAAAAAAAAAAAAAAAAAAAAAAAAAAAAAAAAAAAAAAAAAAAAAAAAAAAAAAAAAMam4eeXqPQAAAAANb69jzIegAAAAAAAAAAAAAAAAY1trDykxHTVpctusz6ee5EqgAAAAAAAAAAAAAAAAAAAAAAAAAAAAAAAAAAAAAAAAAAAAAAAAAAAAAAAAAAAAAAAAAAAAAAAAAAAAAAAAAAAAAAAAAAAAAAAAAAAAAAAAAAAAAAAAAAAAAAAAAAAAAAAAAAAAAAAAAAAAAAAAAAAAAAAAAAAAAAAAAAAAAAAAAAAAAAAAAAAAAAAAAAAAAAAAAAAAAAAAAAAAAAAAAAAAAAAAAAAAAAAAAAAAAAAAAAAAAAAAAAAAAAAAAAAAAAAAAAAAAAAAAAAAAAAAAAAAAAAAAAAAAAAAAAAAAAAAAAAAAAAAAAAAAAAAAAAAAAAAAAAAAAAAAAAf/8QAMRAAAQQBAgMHBAMBAAMBAAAAAwECBAUAERITIDAQFBUhNEBgIzNQcCIkMjFBkKBC/9oACAEAAAEFAv8A3FOVGoa2G1QWrXO/ajnI1s6a6S6JXvOk2N3YtSbixv2naS+I6thcZcu2/Ro3fW/aVnJ4AYcdZJmNRjcuPSUvq/2ivlksyyD10fu4Oy59LS+q/CI9iu/Vk92yJAZxJfbdr9KjT6n4MmuwRFGVF1T9V2y/0qjTvnY4o2ZbnGZ1Gn0+V7kY1Lf+Y3tIz3khnDPAfvh/gVsoyPRUcnslVEx0yO3BSgFX5nIEhwmCSOTv0nRxivxoiPx7HDdUN0h8sxNYom7yhGgRe8um6SaZ2sX8BcSdqZUqqw/YFKwLZFs5ceQhVZDkPxzXDeBVcDsOYYG99j8J1uPWLNFJ+XPY16dyjJjQjZ2T3b5cFu2Jyr5pLjujGHamYwxyyHQUIkX3V4nnRr/H36rohyKYxG7XwGcOJ15s1sZCELIJGqlXBAGFMJFCR/ber2DqSOYF6iL8wVdE8yEamicxRMM1agOseGEHvLz7dH/r39mThw43kQLOKZPLrz5aRmMYSSWHDZGbz3n+wgIZXu4QBN3l+JIRjvfTnbIkBm+X2yLRRnCRCj/AXf2aP7nv7x+IujaYO4nWkFaARHvkGgxUjD6F5/uj+1cm2jpw75HxBzka2ZLfIerHsyJZEErXI9vu7l2kWmbrJ7ZSbZNQusOQVABLJMR8J6ki+9vPtUf++uc447PGE1AZhx9OdZcJe/SdZJ3SHNRXOihQAetcH3lp43SvP+0rkaKSZTngA4Ef4hcl2AqgIY7kRyHqUcSXKUWVpSFjewPPAFQTgHXoXb/qUbPp9tuzbLpV/rXZP45Dbti9WXLZGatubdDmjk9a8/5RYSSAWeJxdRkaRvTe5GNlndJL4Wbg1sZ8YfStJfBbEjOkktI4o4cp4+5/WK/hj/kUoZMVucUeLIAmLOjJgZgDP5b3GF2RaoHFkfEbtf7FK3SPljO4aRI7pJWNQbeYhRjxFRU5pc4cZ0yyRwY0cklxwEjPrJKnDz2j90yrZth9t36il9Lbu1mAZxS9X/mSjKc7KlFC9pIxXWhHRqmUQhOneO+qwxGMFHMbCQJAx1R1FI6dyfRlTH4pumYiCG9z5BocdI4bkm6TkNqNi9a2fthwgKcr4p2ZwS4kU64kCUuQq4rDct5/vavCrZrY2DIwjfiF2JdYE7uzZNo4jY0ckkkYDI4+1VRqFtmtdDmMlI5yNbIM45adyrEyYRyy4z1IDttYivxPNYoEjhtx74tQ/bL5zO3lqiKSJ23f36T01s3SbTC3H6s52yJBZvl5LCEoybd9W7bN6c8/eJECuarUTRLEzRRq9m+X055OJLrhcKJ07oujKYO4qrohycUzmqzK5++H1rv09J9/pXa/2KkTSQ5VW5uDIWO+HZNKvw+YUDBtAAxB06aiEwTMsJ5ONVzHG7Lk20cWI6Q2IThSbYmyJlS3bDyX6oC7Yg7GQ6R2Wj9kPIz+ICYm6LCXSXzSXbI+Uvpe28blQVoxHK6QYRSRyQJfemdSyTWFXORkwpWCbPnLJyHCUw4ztkjpWD1HDhDQslxGMSRaDYhCEkErYnd29J7trGJxCp5dS0dum1bNkO0moqVsXvBboWUpvPrWY+LEgn7vIRdU7XORqSLUbMr5iyuS59XT+kyTEFIRlU9DfDpJkAFziSDSAPjvrZHHj9kqGdpa5+yZl21eJXTRxxL/ANu36uyMzhgyZ6o79lTXM3zOy7X6GVDtYZ/sxvUc1oukLKX0vbZAU8bzTKqGqukwwyMjRhxmdRzUc2XDJHc1ryLDq11RERCMVhW/85pNm4RwFQwskCQwTRDBVoiOwNYcmRYYo/PLsSjkhfxBdshNY8dyMOs6MmEtgtx9qdyxSqaPy+Kv4/Zas2zFkFUUWEWQoRNCMwmmHEgjjO69jCUDos4sdEuG4twzCWxlwhSndHrTFyLGHGb23Hq6j0fxG6N/KlBlyLcCmJtk9hU3DCuhslR2yRuqC45NHWbtZVeHjSeyxTbNlk1q6Vup+y8+1lJ6c32o/wB/muPSZUt2w+RQic72iiGrue4FskUr90fqWPrIHo+SVVkR6QJS4OpMuCqgMxERqchXbBhbuL2SYw5KCr44vaKmuGrAEVafEp1xlSFMFHEHmufV0/o/iMonFkQx8GNLbviw3bJXav8AF6eadj/N85dZdOHYDsuWaSiE3RqcoxonZbj3xMp2bYkj7EX1PNbtVYg2OI8TEGP8De5Rf86k5dZkJNInVs37IdYzfM/BToPenRAJGD8Qlv4caIziScXzTzY9F1TslJtkxl3R8XyTsgTA937LWOpQdlPv7rioip4UDe1EamDhAGTmVNcGAQ1/BXbtTUjdAdQi7yjbtZ1bsmUg/mtu7SHU7e99kxu2VFdujdlm3SbWu3QsN5CwFYpY3hkncNu1nZIrAlcGrANf+fkbFyumV7OHE6ct+yNEZvk9ayhFMaEDu8f5pd+mwSKg8tm7ZlU7dC7LCA6QSIDu4OxtdHaT8wSMEj+pYDeWLVRSNkfoS4aroleFTSuyzhkO6ujujg/abGNZ/wDTG5yMQZWET9hOc1uPnxmY+3GmOty4lubIklskfWvHqjKZj1kfpdrmu/EzLIiEfKO/Ea96sgSX4yoIuNqBY6oCqRIzYw+teL/OjT6XKR7RsW3ZrGOyQP53Ilij4lrGVRHEb2EmSOO2XNJIymGRF/EWsbhGp3Dd7W6XWVTJpF5bFjiRMrnx2B1TSTZjE6OVpxfFkc1V5Nfe2sYnGxFVFj2ZR5HkDkM6TlRqGso48NamfiIQ5IdY0f4qWHjgARQn/wC89nMUKK5zlDNOHATGPjjKwqc5CME2wK00qPPHGiGsJBc4pEWtM48btmViEUkQ482OxU0Wubth/FTo5wQleAsaSOQzHvaxJdomReKSV72VXCNhwEA4A0K6uiOjN6UxxXyFRUWJDJJWPGHHb+LnM2S4Lt8TmlE4siGFAR7IURjFdrlK5Uk894rtcDEcTHOhx0RHnLFDwAcxl3mE3YL4tNrUJjxkC7vUjFUhXRqwpMAAYGe+MJhmPTYQLt4e0tjHGoJA5DeXTC68UO3hdSxnq1dXa1UpTD97bppMqV1hcrv8j+5KljjMKQkksiH3aHSp/a55UdskR4JxKgCrga05MixBxk5nro0aak+MKiKndgY1jWcxpAg41yPb2f8AMa5r07LSUSOke1emDI0jcIRgmlt0R0SS2SPsl2fCJ4oDhttg6iIwrZJ2RxyJpjLGmFA9jke3FVESdZIqQYyyTJ5dtpNVVDFKZsEqhk9kyayLkewCdey1Fw5dSXiRenZSu7higdINYR2MgVL9sz3t16un9JzTYzo5hiKd8CC2PloB5wVMYgvZn+zG9R8Y/wCY2SBzua69VTOVYvZYjeSKMhAviH44MKJhm2MFsdNztrHvGrnkO80YgGUX/cMqoHBC4qnAwaQpKxizZKyTV0BGttRcOTTk3xstiE7yzbuh8Hgdlgfu8eMFZBhjaMZE2EYu5uXTf7GBsThQ1jILjikKOmftk9OebjSayPwY8tu6NDXbK6kkihAKcdpgTQG69wv9yoT+nzKiLiIie2lemieq+KzpzY+ElnIsWwKF1kqug5VSFMHlu/UUnpu21iatrJHBkFe0TIs8cglmfjSSBeNtYrJMcQBCy7d9Wkb9Lsn172k7sfGV8l+HE4BKuNxi5eN+nRu/njxsIk6tRja+QoD9lwXfJpg7Q5K9VH9PljG7wFFeJ8fhHNYQwxgs+3UJrM6U0nCi4yQZmd+k6NVWugnWRH6aojkk1bERf+1r3PidWzXWbWpthe3k2AgEERpR8kv0sL1fxSdI7uAbHyDRoQgNshoKXWrxIM2uQA6d+2Xy3n3aT7HaqaoVuwsv+VbXLpMb/J9uxO6UztJeWj98yrZshchHIxhSKUtezZEy5T+pSr/ayymOj5AmqYa/yen/ADJi6y4iaRclepj+n7DRhHwNeAJLt+pcpgbWdK6dpHpxNIWRU6qKuCwA01IxjWN6ZHIMcmUSS4PD3jsorWhKwzOpJdvkR27Ae2lF4EdVVVq/Q8k30kH1fxS2NxJNIjNMufV0/o7BP6db63lvP90f2u2RMCBFXVTWBSjqRq+VJEoDyZxZA6YC7sI7iFE3YLkuS7I4RqUqJomW/o6b1eW0VxU1VErITnP7LIajlx7R4mIu5p4h+9MTazkuBP7xCgPM5ERqdK8+3GlPjZXyXSQmXQUdNT9RURyEqE1WoLi1UjK+M6MLpldsEFu8vt7t+g8is4cfkm+kges+JquiPcr31peFKy49ZU+inekr/Wct5/qj+32W0h4R5FrHFYyrjtwY2DbIjCkIyqA1URGoqaoKqRhuW5CR61MRzF7JwVPHrIZQl7Njde04Bna2pAjvaSANkCbTpuEJgWHarwQohu9e8s3bYVY3dM9vcu1kxh8U/LO9JX+s+Jy10jRG75Lk2EaurbB/El17dkOxXSFWprN5bSKSQlZGfHF2HAw7AwABd8Qu36BpG6m6cqaKNkaQySPomkCDlgVppVKLcblnekr/AFnxOUmsaI7bJk+oB9l9YJ5v+ZMEp49dBIE/xu6dqekboDpTZSRhOcr3VQuHF6Es6RwqrzlytFwonLO9JX+s+KSwOjmYx5ysbtZ8fsnb5la3ZD6L3Ixso7pJhVh3PRNE6FqfiyE+hGyN5R+WeukOu85vxR7GkQYRi+QldvKNuwfRuTbR1Mfim6MknCB/5VXGI5Nrg/a7TP4YiGIR7ikflTFcj/1q7/I/udK1drNrzABEfax24+3fkCT3kPNKHxgdykboEFI+EqlcdPJO1fPBw443NENv64K1RFjHacWGmgDjrhmRJw5K8tpCcVzYch2Mq5DsHUMTAhYBn7IsoKmz6gXukHcgIpj42nfpBrngP+03sa9Ejhav/wA/ySQqT9J2U1Y+V0l0kX5BzmtR02M3Fs4qYtsDFuB54w3PGExtwPI8gchvQtjqIKLorf8An4mdL7q2DKSUP5PZ699gzgAAtsBMdcZBnJJX3JytCKHY8cvsbGSscSqQz2wZLsSrkriVB8Snfng+eD4ercIdRu750LZ++XEHxZH4q9yj/wA/J5cMcnH1BkxKk+SwJGJSiVX+5tGb4ld632NqBTAhSe7GaqOTmRqJznnAC6Occhkh2+RSh/n+KvP80XyopEENyuOaOFAB7LOa8DqyW+S32JCMGnfI+NKN/ZYejrfW+ytI3ANTG3i6llJ7uDK4vdwtRXOjiQAfxV2n0aNfqdeTNDHVk6M9O8gzjixZAUx9hGZhrdcrprpK/Ero3lTg3l7bof1IE5sYcKx7wbpyDjjsZbMcTttN/e2tVznBKzBHMNbJy9wqU1m+yt2bolO/bM6lw/dKWO5AK9VbH+/+EI9o2eJxdUnRlzvcfGua5Oy3buh1D0ZLlWjWYaQUy0jn69SfXlKZYElM7rIzu58SKdcZXyXZKiOipRt/l8R/5kkvGPCDwI3aYTDDfUO1hwGRl6RHoNkk7pJiicF9eTiROwwRnaCuCAubGbrADjx6uGQJPZTU3RIK7ZfUuAOQrBvIsKt2Y5FGRjkez8HMD3gC1klMWvlJncpOVIChH2XEjazsCJ5nxI6RheyuXayqZukX4jZl4USuFxZXarmt61yfKiPvJdt0NSO+h7o3mGP5SOaXvSPvdqCacOeLnzxcmeMPzxjEuEzxgeSiNKeDYDGBLGLiTYy4hhOwpWiGO1C5zZAXZvZm5M1T8FbxyKVoSPyPVEfgADA32dg7fMgN2Q/hEmUKMi3DtYc5knCkQQ0t3bxEaVnbdk1JSD/j2WU7g45yuWDMdHf03KjWmIpSxZUQILYwjNo18/dE/wAB+7zvjhJjq2K7PCY+eEBzwgeeDtwrUYQAuMV1SZEbWSVRayUmLBkpigM3PNO1EVc2Pza7PNMaYrcHZSWYO3GuDe0jPybl3ka3a34PLkJHCQjiviwRSBDcoiyx8eM5qsdSOdr2z38SXAZw4mSzd3A1HGLpqsoPdzVz98PpWxOHFEJ5cZGO9xY5go1rnLFR6R+rMkJGEtwTHWcl2QZ5lP0Cf4D93qSHbAZUs3TOVWo7Hw478soYo7Ak4Ze1whuwtbHJj6gmRQ8AH5KS7bHit3Sfg5ytCKTIfIJgiPE5V1Uf25UQUnIsVkVvY5dEVdVqpLzNy8d5R9GRa0fEl3Hq6j0fSuiampR6Cy69LSeo60gDJA31gBMft3VcJWr0Dfaj+o5rCV3Yay5CrAsH8Rrmu7Z08PDyoBww89mB5wKioovMXatjHQns1XRHWxtfFpGeLHzxc2eMEzxhcS4biW4cS1j4llFXEnRlxJQM4ws4jM3tzcmapmqdezXSFVprN+D3SO4AxvIsaqy0joAyea/8SRaCEr7du2DK70PJPlGyj/1l4mbl20odGWMEpjxA8CP0rB2+ZAZsh5delpPU9e1Y58QBEEWLKHJb0JXlFh+crmsycSXDAAUN2m6rIrJeW8nhswKI4qJonbubrySfUunCjhBaMKTLM3Bi4NNB+zdVx3L4VHzwmPnhAM8IDi07cWmxagmLUyMWslJiwJSZ3SQmd3NnBLnDJmx+bH5tdm12VKF7z1LhdIlMmsr4QiInZai4kWGzfKksUoFhScDVmfkaOyOzCt3iXyykYqDyZHSSEVUVXsajG9Q/34pGEDlkFxo1TGKMvsJVYwq18JYvRsF0h1yazeaxC4UpzyEyPWuUcZdsjJReMdEVyrqxzV3N7LUpBA3LqsuQucYq5DV6xslepaxz8Yiq7Lomp4UB0hPyl2v0aNPq/CxgEN3MWAApGtRjfYToBePVxXx2+9tV0hVCazeZ7GvRgRD7G1LkOZFUOnnWQuHkuvM6SJnDF2KiOTukfEix0xBsb2WBnBjKqqry/TqYm52WLt0yvbth6p7ybNbGyDP7y/mLIEHGqjk615lGnl+g7pf61In9jp8Ie/pHEhhOq5COjVWioiImS/VLOkbGoQrxbkH7kr0GMpFKSnbul81sus2r9D1rxfqUafR/Qd4uUae8kV4TkHXRmY1qNT2b3tGyRakVWWcluQ5rJKdhLSOx0+cM0XKkHCBzWS6za9NIfYYrQifPkOfXyFkg6N0v9mlT+p+g7p2silbpG/I3ZF0rIbZCz40MQ8qTOZJuJKpkSGSThRuCSvjd5NzzF1lJZtCEduu5rke27L/GtiNkYELAM6Nuv9ypT+l+g7R26bWN2wvyNyBz2sMUaDEU721mwEBF73LfxJLpbYsVdVyjX6mWsggBgsjjwJEMLsK/hjcqudFgOM0qMQle1Ww7hdZlQ3SH0rT11YmkH9ByXb5EduwH5JYwFVrUamINjVnRniPHhGOs+KwEGlXSVhBsI11ZGVWtRjewrOIJ7VG8skxkgQHGdlyJUOKacI40yQsno2HnMgeUP9BEdsYNN5fZucjUYUZPwtgxSQ6pHd85zRgnwcKONex7Gvb4dFwYBC6Uz1cT0v6CsHbYde3dM9lLksjDOch3QFckv8KiInuJXqY/2P0Fcu0i0zdZXSJbI0gbKOTEVFTke5GNkmdIN4c5sKrikQ/50/3hfb/QV47zo2/x6Uur3OLXyBoIxQrFIpQdtybaOoBxDfny/cZ/n9BXDtZdO3SH1HgEReS2drNqWo2H+ff/ALT/AJ+grFd0yAm2H7G0hvI9hCBVLGUmeKSchH7wD8QQ4hY2bGdiLr7L/wDX6DlLrJjpoD2TxDJi18Vc8Mi4xjRt/D2Mruw2MIcj4UliAkFA5F1T2Df9foMv3Wf4/O2BOLLrgtBGlWjGY+UV5K2cpl67v8j+5+gyfcb/AJ5pBOEFLWQipcPxLhMS3DiWsfEsouJYRVxJkdc7yDOMJc3N5tdMU4m4s2MmLZRUxLOMuMe17fwB2q055ZTpEgEkYtaBAheojJ1yfbD979Bk+4z/ADzKiKj6yM7FqBYtPi1BMWpkYtXJzw6VncZKZ3WRnAMmcN+aKmbnZxH5xSZxH5o52JHM7EgylxKuSuOrJKJWgfHB+AkwQyFDXRxL2SoJu8iarBdY32o/qP0GX7o/8e02tzY3Nqfm5H2I3qf0Gb7w/wDHsGFG9eY8oMdWPaRvvSTY41Y9pG+5keni+q/QUwvAjgGpz+wuTq3Iiqknmum6SaZ+6N7y4UiR8jzjAYlufEuH54wueM54znjC4twTFtpGLaSc8TlZ4nKxLWQmNuH423HjbSMuNmxnY17X9GR9iL6n9BXb/wCNIPV/Rl2m1R2clrgkaYXJZO3TKgXEk812zUNI/Q3vXw478dWRVxakGeEDzwdueDpngyZ4O3EqBYlVHzw2Lnh0TPDYuLVxlx1OPHU78dVSUx0GS3HMexWyTsxtlKTEtj5Ald6HyG+zH9R+grpdZVM3SL0LU/BjQo/eTWQhhkbnaVMlSJlnOcNzZJ2qR6kfViQcXse5rEa5r07LBm+HXv2TDyBASPPCd/ZImBjuY5Ht97OmpFSDKSUzn4w9/a6MF2Oroq4tVHyPHZHZyF+2H736CtV1m1aaQuheIuAkvAwISSSGr2Cg1r9kx7kYzVxi2DhNTKp++H2XD394jTCxkS0kasdua5NyLqMhCOK8OvGxfJJBFMas9D72xfxJlI36HNIfwwqqqsIili9J/wDkf3P0FY+tgej6BgsMxKgO4QmCa5u5ooUhJM/XuaKqLEivkkto7RBpCfz7DAEdPC42MrozVyRNDHdOi7nZUxVV2WD9kOOFxyxxcEPtpMgcZnjHnGkMkD5HrufBHwovMYfFFJjujEqF1h9Jf+M+5+gpq7pcNNIvV/7jqoCvGNgmygocMCvfHNzWKL3zVzsh1jnYiI1MuV0i0qf2vbzDrIOeCoYseQSOsGV3kTlRqSrApXMnnawCbjdC7T69Iv8AX5DyggURGFZyP8mC8y/oKcJRSQ2pWNS4Zni4c8XBni4M8XDni4sS3Fq1yOb7AoBGwQBC5LAKnjMIQD0spSYlrJyumOlJ7OV5RhORpJMh8l5ILxxaZ+2Tbk2Ra4TSGkOY80b1Hb32OhUe1eS8b5UbsIcQsdax0yNKHJQxEEJVeYlQEomchvsx/UfoIoRma+pCuLTrnhBc8INnhBs8ILng5MSndg2oxntiAEXFroq4tXGyPHHHb7NU1QtQ7dErmAUo2lHFgDjvu2qokcqJXQeKvmx6LqnYaGcb1GRMDxUIn/MsI/eI67huaIj8VNFpUXvNw7SJTsR0vllrtiw03S/185qPa2vjNdkuAdZIm7Bc9hIOklJR0RxCEWPXGLkaOyMyeFTxhkIB6WknEtZGBfxRdln6Kr9d+yiBGXEhRkxghs5CxwlxayMuJWRkxEREVyJiyQNyVLjPBGfw5H7RsjEDHWUdcUj1xGPdiRTriV8pcDVmV/7RVEciRgJiMan/ALzyOQbG2xOL8Ge9rGhOMyfo6x9HkddY/wAFu3aDrScOX7JzkY0RRlT5rMlNijdcPxLcuMt2LjHtIxyI5spiDkQvSe9e5GNfZnUgCIYPutUze3pXn/Qrob2Vzr3WqIrJfMYrQjS2BjbGK7GnE/4ka0Vh2rub7iZFbKH4NnhAtHU7sjiQIcsfWQPR+9tn7YeVDtYftT2hnOWbJXO9SM45lzc5c2OzhkypYRkfnc5G5dPa9zP9+ykt3R4q7ZPNKAkgL6o6Y6DJbjgGZjDFHg7OSzIclskfw05WhGq6qiaJZSjNlV5+8R/YqqNRs2M53RsIZnyYo1FH97d+mykX6PtZoO7nrGxzh7uDOENMRETpSDNAIxiSSKiorf8AXsl80/y/pPCMmWbBjkUo9oPhtnKUxsC7eK5GqHo3eytzq4qtcjaqRxgfh5AGSB2ENkYVGv8AL2tlH44IR+7yOpdF1fB2gC9yvdkGekl3UJNjiclhFXGnC/kkJtkAXcHpS38STEZw43w2YHgSMrHK6Hct1i0rtJPsCPQbP5GLZR2pAqX7Zn4i5TWLSr/Z9tOFwZNeTixOnZ+tcRzmLBNwHNVi1UcbR9N3m1yKjmwZDmPjmZkB5Uk9li3bMFZDDFfanXAWpEcioqcz3bWDTeX4daw3vei7VgShnZPGpYlUIne/YW5NkWpFvlTE3RYS7Zf4izbuhVGvfPbXbP50b/4dObXpJdGq2Ddl0HR1IVdepJrhnKxiDZ2lI0Q5JEnGFWSHqtfFjDd/J8disBzTl2xICbpnw+bCHIbGeoz+yuianpR6Bem5gl0L+JaNjPb3TdYtKuknrEY0jQRxA9ld7uFCMwBiW6aGMSQ6ugKxee1XSFUprN+DSZDIw22797XI9vY17XcllORqVwFNJw5mAYtx5xZopPWIcQsmE4smHJjCjd/i4v8Aob2kZ1XEY3FmR0xj2kb1iyAiwRWFb7+1T+jUet/AlG0rCU/m2nXI8MMfo3K/1aVP7Pwa4erpSt0Spduh5ZzFI+M9wz4qo1Jtkr8ixiSXxwMjjyyPx5EesUoFR4SJMkJkW0ejunZxTcZrVe7w+Vnh0rHIrVrQqGN1LTid1QZHdlI1yC6toZ4QL5rFlki54ubPFy54wTPGH54wueM54wzPFw4lrHxLKLiToy4koC4hRrm5M1TNc3JnFGmd5BjSjf1LT0NV638beL9OjT+fwa4juVcjzSxxpYydcrA8WVkwamjEEQeCkFFka0fuK7aITd5U8sJHEVZbIgRNapHtTa3pWr9sOpZumdkn1Mf7HVtJuqwYbpL2NRjeq5rXo6viri1cZc8IBnhAc8IFnhA88Hbng2eDuzwgueEyMWrk4tfKTFiSExQlTNj82uza7Nj84BVzusjHMIJauSpxdK19FU+t/G3i+dGn8Pg9wxrD1kMUgNnHDHj5Wx+ADtsXRhMENxSOZqJqqIrZ8dRntmJhCEkErYPB6l47+NG3z7JXqY3p+pONwIw0R5GzIYWAkCkJ+DtxOIClG9F6VwukOmT+3+Nu1+vSJ/W+D3f36T01vIQhKsbHyOwxWhGa2VWNaSQWDDbGbk+v4y9xk6iqSuyNDDH6t0v9ilbpG7JFW98hjdjOpOj95AtfKRUrpS5Ww3xvyF2v0KRPrfjblf7dOn9P4Pd/eBL4ESNHfJKcBY76mUQq5OAsgAaorlAAYG+yuWqkmmVVi/ips1kXIUtspvt7x3nRp/H8bbetqvRfB7OKsgY4Eh7osdkYb2Ne0QRhT2zxsIiIjU/EquiSCqY1Ii8XnORAiDaucXrXLtZVO3SJ+NtPXVvov0OqonK97WNlzArGyoHsjc9t6KsG0kvl1Toz3b5kBuyH13ORrZFsurbWQmQpKShe6sfW1/o/0Kq6JMsnvd/N6hOUDvFx6Mej2PcjGzJTpJHjcPADUxWNRjOe39FT+r5J0juwVI9SBVXC53rvI1NrevcyPOvhd5x9VHXI4GRx+6sPWQfSfoW3LsjV0bvJmtaxLYgXkyI3bGuT5VRuK+yO08mnVEl9lrKKwoZZg4s+Uud9k5VSSHblv6On9WUrAtfbsRYslklmWh+LJg1zCCTy5yfbD5m6JzMAzxWPniUXPE4ueKRsGRpGZMdvlQ2cON1zmYBh7Qz1bPktWDLSSzoz/WQvSfoW6GrgQpaxFlWJTpEhkkqRNrx/bmE4kkslBRYkV8lQEUJmuRzcPGEfErYuJBjJndI+DGwaZaJrCAZwHucSQQ8dwMo9d0onBjgGpjoiNTncmqeYyR5A5DOhPirJGtXJzwuTnhcnPCpGQwd3Bktu2TFfvjdYpGiHJO+SUokC3KsnDl9Gw8pkDzh/oVURyEqROUVUJioiNQrXcdvk2WB4SxYJTqETQjsIJOPBG8UXnsjcGLEEwpe9RIbfqSDQ46Rg3TtI1KzWQ5zWIa0CzIp2yRc0+v4y/UjkDbPTB2cZ2MOInVuIyo+FOdGxLWOuLax0zxdmrHI9nSui+ccjQqNhJJm14EAxVGROjbJpNqnawv0Tsbu6tnHdID3c+oq2QTIcJkbstgqWMMpBYqkK4FacmRY7YwucoBmQtQ1cfWSW48BR4w5WZVSSn6aojkPUscq1MjEqZGMp8Y1GM6VtFI54IRzLEisjNyRWmWQxu1nKUjRDZbAXBSAly7b9akd/X/TqxgKrGNYnVeAT8GJgk/CyBIcRKkzcJHKLFc52VIHBD+1trUX/AOSP/8QALhEAAgECBQMEAgMAAgMAAAAAAQIAAxEQEiAhMRMwMiJAQVBRYCMzQ2GAcHGQ/9oACAECEQE/Af8AzaXJ2WIxvY/tVRr+kRVyxv7P2kymL74H+z2aPm/Vm4iPl2M60Tdr6KbE99Nmt7F6luIN+yao+J1GxzgQG/29sKe5voKMPGIhG573+nsDNzBrJtN6n/qBQManjKa35lHj6nqxWDd5thKXGCOS1o75fYf6dkMDqJtGqAiUluew3qbLALaKvjM3oiLYfUVPGUx6Y34WDWTaGp8CI/wdFXxibLgv9kfdoNeZm8YtT8wG+pms951G/ERs2p/UcsVANVs7Sp5RBYazxFJXedU/iB2ONTxic7/UuLiDNwIiZZnF7RjYQVG+ZWb4ieMpncxWzR+JRj7MNFYxPHDipM3rvAb6jxKVrR/WdpR40mILnMY9S3Epiw1U9zfVUNli+hZluM0Q3XW/EpHbHODthV8YEBWBWU7fUP6mywehrYOuU3ji4jXHMbd8BtmlLxlTxlHylXkaK3MTxwenmgQAW7HRirliJl0KxzWOHRioBoRrtiMyz+Q6KbE8x1zCCl+cALdg07brP5JkY8xUC4VfGJ4/U0t95V23wrYVpT8sKmxlJviEXlOnbmOl9DU8x9l/prpcnW5sspCy+xIv9S/jKJ2lbiLuJUW4i8SomadJcCLwAD3KpY31HiUhYayL/dkXiLlhF4Bb/vEXUTqr2GNheIbj9CzDss4WKbj2lQkDaKmbedJZ017FXxieONRyIDMw+sRw2BqfjvvSvuILqYP+dLtlmdm4i0/z7al+NG7mZikRsw0VW+JdjKV8CLzoylz9Y1O86R/MVAuom0Vg2AcHDOsDAxnCxHzYVDmNhgzZYKpvvhmHGFPZraibTdxeU2uvfXzOhSV2mTa5lMWXQyBoKI00fq2qAQPcRKl8avjE8YYLo1oSOI3O0WneKLPhkIMNxvEW+5g2qR1zCL6DvgfW1pWwqLZrz1ERfLVWPxBUFrSifjXmZINaeZ7hNsTKP1TtYSmu14nmYwyvtjV8ZT8cKxhOZhaKbXBlPZZT3a+NU3NoI39kbjabvtgpytvKoJxqD07SknydTEB94FXmUdZRrxS3zrpb9ysd7ReMDKPH1VXfaUeLRPMx/MYuLrEFljcRaX5gUCZRgBbHJ6r4Zd76CoPbKg4KuXvP4yl46r/GryfFuJR4+qq35lKAWhW5v9dV8Ygsul3tKSnk6Xa5lHE8Sjx+t1tXLzOsGJgQmU1tj0iYq5f1uot4K0zOeIt/nE0wZ01/+AAf1TqLAb93MOOyTadUniZqk/kn8kRsw0VDZZR49q5sIhuPtGQGOoWIthCbQG/Zvg/mOyReIbHLrepljtcCILD2tTxlLx7FxhmEDgm31S+pr4MLiKHGp3yym5OxwalczpWjL6u0/kNbD1QqRz7N2YcTqN+IDH8YKhAtKYJN9ZpgzozoiKBn+lLgS8DA4ObLKQssLWgrA61szXM/071XkaHTNMjiWqQs4nqcQM86jfiGqZ1p1p1oKqnvst4KQHbp7m/0jvlgP5lLfaLTIbCtxF3EqbtaZfTeLxpc2WLSBEKWa3YfN8RCxOmryNDVAIrZsKxlMWXG0qCxxyqe0zZZ1VnVWdRZnWZhL9puJR4+kanc3jIMspCwmZ4P+ZWlPxjoS0yem2qtxBxCPX2CIisp01PIaL2aAEGVGsIMCbTrRHzStOq145sspC3aIvMizIs6azpLOiJ0Z0Z0Z0Yq5dT+MpeP1Nuyy5oBbvt/ZpKgx0zTILWxthVUniIh5MrcQVfx3qj5ZTNxi7ZRBvrq+Mp+P6F/p3iLy3aY2E9XMWrfYxnN7CG7GAWxrcQOsY2F5TzHfTV8Ynj+hU92J9ywvBSnTE3vFXK8MQMOcK052EqD0xag401uIOP0Eyj2urvb2ZS5vryjTWg/QX8ZT8dL5vidQjnF/Ucs6Y9/W/QqvEXjs3ytczqj21+zW/Qq3byj2vm0Ngdopv2K36FW05ak/kmZ5nb8Tqn8TrTrTrTqzO/4ilvn2PTa8FMCUxbsVfj9Crd2/fv3qnI/Qn9TW0lrRXDYm7Po4qd96d5lcT+SfyT+SZXmR/zMtSZqk6pHInWEVwcavI/Ql89Ln1bwLm3lNriFr7ylzgatjaK+aVdjedXfBHzHv1GsIm40I+bDKJlAxq8j9Cp+R0lQcAlotL8zKc1xhlEAtHf4Mpp8mNsJSG1+4XY8RHvGfLHcNBoTZ7Y3xrfoWRgdp/JL1JepEzfPZtgd502HBihr79sI3E6dmuI5s0sRvg7EQVcH9LXhrGBvTeUl+canI/YLRlzaTTYmCl+Zb4nTYcRA3zLxz6h+0mdI/mdGdIf9DqrEfSF/Vb7gm3dPG0/kiZvmVoOO/Va0G47ZqidadaK99L+fafZgdDlvidRhyJ1hOfp6jXMqH0xDdey1WxgN9DLm9hVX5lPx7fg2tzc2wBvqvMwwraqtrRRYfTstjOVlLx7DGwiC6mUePaPuspePbqjaIbjUabEx6YAieOqomadERFyyrvPXKbE86KvIH0hcDQ9rbyjxCwEvrqnaLYCUexf3D+MpePsXQ3uJlZuYq20N5/SVPKCqLS5ZsL3PqikW2iLn3M6dpSYnU6+qdESkN9dUfMpKedZnSYS1SfyT+SXqTM86jfidX/idadWdU/iA30txKXHt/wDT6Sr4ywCSkvzg9QcCU0sJ6kmVm5gFtX+mCLY66gJMVmv7Ii8UWGl/GUvH26/2fSOLrFUtzFp2OAQDtBPVf2y1LtpDX11fGJ4+3TzP6IasWqDg1T8SivzofxlLjDiI+bRWg7DMb2EUNffvU/I/ob+MRlURrneVDZYeMolI7RhcbTpt+YqMI3EV8otFds1jKp+IotorQaDMzzM8EpcnsO+WFmiNcaafkf0TIsdM0ZM0VAsCWN9DcRb/ABES25j7NedRjxBiReZGXidRhzFqX1MhvcTNUiZvnU4OaIluZTBGgMDF/s/azSEWnb/qd//EADERAAEEAAQEBQQDAAMBAQAAAAEAAgMREiAhMRATMDIEIkFQURQzQGAjQmFDUoBwkP/aAAgBAREBPwH/AO2tjAFvUjBWJv7VE3+xT34im/a/aQLUxryjgPtfhyR4P1Zpo2pI8ZsLkfJUgwx0OIUzWt268nmYD+DHDiFlEUa6LYSd1yW+h4hjiiK393s8JtABkErSPMpJA7Qdb/i/AAs0tkTecC9AvLEP9Tnl2/GLvUryNAvEentIg+U9hbv1mCyFOfNwkYA2wmRl6Irrj7XRcwt3zNaXaBMhIdamdQroM8jcSJvXJD3oNuS1I7EfaIhblK63JlkW5E65wL2TYvVykjoW3JAPMpDbjwd9oKPysRz4GsHmTof+qc3CazNbijpcpnqU9uE1mjGFuMp0hdocx/ibSi7dU92I52izSeA7S1yR8oxsA34w96eNDh9pYaKdy7sqSTGjEaxJrbNIxNqgoG+qf3FS9oT2Fu6YTi0XiNgo9WEZPDjcp/ceG8SwnBhRFaZm7qe8SjGAW5eIHmygWpThGFqjiJ1KldiOmabQBuaEW5OBe9YwHYVIKdnYacFOPNxwOq+EPci8tcaRex419oZ5GYkfOy+DHY2kFMdhdaZhJJCb5WcHC8KnPmUXcFP2qHY5IO1P7jwjlw6JzyTfQE5Tnl26kkx5HMGAOHDnlOkc7JI0BoPF2B+tr+JqPGZobVKN+E2nTf8AVWib6DZQRTl/EuYxvaE6Qu4Qdyf3H2gKc1TVDqCOHh/Xh4f1UwOGhwiIc1TMrzJpo2pZQ4UEx+EHIyXCK/CP2s82jQM8YtymNu/BBrUe0x9wU41tQdycNVE7CdU7dRSBi5zuAcRsi4nf8l8lgDM3dTOs52uwmwib96aaNqR+MprqNhE3r/7iDHH0XJeiKztbiNJ7cJr9CDT0WRlyc2jX4kIBdqnS4DVIzuXMd8q7zw9yk7jxijDhqnCii0gX7Y+Mt4CI1Z68c1aFENcNU6r0yxsxrlsbqU+W9B+KFNqA7JYiasIk1T24TWSFmmJU0FT1XBri3ZfUH4U50HtjZiNCucPQJ0hdvma2zQTmFu/AsI1PDluRaRumRlyfGWcIgWNs8GtxGkYRWnDCavhLq0HMBeitrKapW4Xdd/2xkc0Oorm6gDZSm3ZGSFqM5RN8QvEentbIi7VGMtNKSLCLHGHuUncUDWqdUjbCAO4TNhiTpcJ2TnXHZ4YwQvK7y2pX4fK1HzRJjsJtP/kbY4N8jLXhzqeETravJiqk8eU5vDt9UYXXa8Q31z4WybIijWeT7Y6gBO3EKff2qNuJymebwqT7YTTijN8Ye9S9x4QAprcDDacMRBCm1epdGgcYBQxIm0z7RUdYtVTY7PB7S5gpQ6HhaiNu1U0n9RmYLj0Re7tK8R6ZxIyqCe1laHPP6DqQN0tHfgN1Pv7VBoCVONbUn2wFF2HjGacpDbk0gHVPn/6ouJ3QcRtwc4nfjzDhw8A8gVkDiNumHkbcHPxa9aMW4KfuzYTV5u2Pi3dT7+1Q+rVP6BFxO6DyBXt0A8yebccsTMRUzxVDLG3CF4g6cW7rxG/63B65u2PRCJxRFacRunSNapnh1Vx5wGwTnYjf63C/CdUYPhYI27p9XpxbKWikZnf/AIAGPyaIRO+EQRoeqGki+iBZpckDuKwRfK/iVRKRuE1kibicvEbj8WMYnUVIKdXujZHN2UT3O1Ke7EbTW4jQThRo9Gjwi7D0QaNqUYhjGeOLFqVGzC4p7sRv8WLvCm7+hhKpBpRjcBftTvIyuDHYTaeYzrmjjxKVgAtvBswDVz73Ca4Bh6UesZGdh8gQeHaD8ONrT3LlM+U4UVH3BGIONlTEBuHOJnDRc8rnlPd/Hr7K2NztkWkaJzC3fhGLcpjbk1pcaCMBAzuBaygiP4utBsckcmBF8Z3CuJNbG7ZUxhRZGTuuU30KEA9V9P8A6vp/9X0/+owuHXa7CbRncdunNo0D2SOPEnNNaKfSinShza4eHGtp4oqIYW2sXnpP3OWMW5Pmo0EJPJfQjwf2TwxrcsGxyMiLtU5hbvwgbQ1UzrdxtRHE3Xjje1HotYXbLkuXJcuU9ct3wsB+FS16Ld1P3eyMlwikyU4tVObIWCMBOq9F4f1UvcopAG6rmHFiROXw+6dumkcsjoA0bUjmvF5Yuw5MOJopEhwIChbiKPACzS+nKfHgXh91yWqNuJyncDp0gSNlzHfK5jvlc165zlz3LnlfUf4vqP8AF9R/ie7EbzR9wU3d7SDW3RY8t2TjZvrs0iOVri3ZRyYFzDd8bPCFzQNVJKKpq8PuuSdz1oo8W6laGu04xsxGkRRrPF3qXv8A0I6RdYEjZEk79JjcRpfxg4aT4a1CZGKtyADGpxs3x8PujG46pjbNKUt2GWHuT+4/oUujAPyWuwm1z/gITHW0cJaLTnY2Gk00dVI5p24eH9VZbq5RHzp0JsnLBunbn9BGpU51rogWuRQv8NslNrJaJvhZywbo/oMQ8wUx8+WPDfmRhB7TxiGFuMrmmq/P8P6o/oMHcn7no1jZQXIcqr8Ujo+H9f0Lw/r08bvn8X7bU0uduE5tGj0PD+v6F4f1y4oj6Kolgj+VymfK5LflfT/6vp/9X0/+rkD1K5cfyntaB5T+Dzm1qnSuKmIdRHQg2P6F4f1R6d/gAX1odj+hM8jMWVrS7ZPjLN+IAbHk7ouvHLhFLHGfRfxL+FXEscfwuZH8LFEVhiK5LTsVyHJ0bm78Ydj+hP0jGWMeTRYg2gVK2naINDdFP28BDbbT2Fu6h1BauQK4PjwtvrxNxHVPFGhkkiwcMRRcTvxg9f0KXsGUOI24GQuNlOnFaIPGCjwDiNkSTumR1RCll9AmbhTu1rqNjaO5SRYUxhfso2YLtE3kecUd8a4wev6EJGkU5VEsMXyqiUmD+vRvgDWq5rTuE9zCNB0zKzdc22kFRC2aIEHyjhG0O3Rg/wB4M87MKEDU5gD8Kmf/AF4w9p/YASE15btlbK0DZGf4WLW1zWHcKQtPbwjBwEftIOq5wGwX1B+EZ3f+DoWBw19kEVsxe8NaXbdVtXqriUmD+q8Pujv14WAiynCjXTEDlyCvp/8AU+PCN8sfZ0o9WEZIww9y5TfQowH0RFezwsoKKsWqkFOroshsWU4UayNdh1H4ELwBhUvd07xsV5oxhbiXoiCNDmAtYTw8P65oN082b9njdbVs/VTd3QaLNKR1OAU/d+IzuCm7unAfMninZhK0NUcxJoqTu1zRPDd1zynvxG1BobX8YUzQNskOjSfZGsJ2yMu9FPumsLtkRW+eBvmtPBLrXiPToV0K/AZ3BT934Mb24cJWNjO1OcXGzkZ9s+yRHyik6FxKwhjOAbTfInNIOqkdgADVzQ7cKZobtmjf5LXPcpzoM8LjsFM/+udpoozMOhVxfCuJfxKolgj+VymfK5A+V9P/AKuQPlckfKcKNZWdwU/d+P8A8XskPchZkpTv/rwZEdypZMR0RwSbrExnanOxGzmOkXCRwIFZ4S2k9rQND+E00bTnYjeWPuCm7vx3faHskZpye9re1OlxCigaTpC7fpGS24fxnRAMvK5pbvnh7lIfMfx5Ptj9EbCTunQkbcGw/KndpWRncFP3cAL0UkeDJANbR6DGADE5PLCNOtL2D9Dj7gpGOc5MoeVRC3Ib43Kca2mENNlGVnwnyNIoBM7gnxYnWnxtw2FCP7Jzi7JB6o5G1eqwR/KwR/KP+KbtHQjjxIMYpW4Tll7B+icx3yo5MCZJhKfIXovJFZGVeqfhO5UsmLQKMXHQXKa3uKNXpxa4t1C5jH9y5TDsU+EtF5mSCsLlgi+VJg/rmZhwKSW9lM4OqshaRun6xD9Xv8QTn1T5cQr/AMnf/8QAPRAAAQICBQkGBQUAAQUBAAAAAQACAxESITFBURAgIjAyM2FxgRNAUmJykUJQYHCSI4KhorEEQ5CgwfEU/9oACAEAAAY/Av8AvFTJkFKGynxVGIyhxn91S5xkApCqGLAqTtBn+qjObTYVRNrKvup2LDoC3iu0iD9MfzkY7B0lEbiPunRbtv8A4QZdeUGtEgMn7kfT903PuuVe26s5R6k70fJaIcKWE/tbFPBQhxzIY4qKeHyR0rZVJsQWgqY+1juiE8Dl0ntHMqGGODpTUR3GWcXGwCarhaHOtB7bD317MCoR4S+RUaR5yqQIrHc61XGapMiAn60dDN6k4EG4qXbFaUR55laMNx5BUXiRwQPiJzovpKaycqRlNNhtsHfWnFqIwd8hEBt+1kb3GlEdIKUEURiVpOc4qqC7rUi01OBUMutLRPLSiGQXadoKK0YbipNmHYH6uouaHDity1aMNg5DJFPFQh5c6SLTZcVRIa44lTeZ4BMEXa497gnmoo4j5BNOf4ii3BQxwn3CiNKJgpuJc4qlHMvKFKGwDJTfDBdmQRzyTc8NOFqa8WtP1iSuLigBdn0XtmFU94U2trxPfIXNRenyB+LtFUzYwUk1niPcJDeGxSE3PcsX3u1ELkVoMJRcfhamt8R+k9F7TyPfop4KEOM8wsYwFrTIzTYjbD8hh+pReXyCGzqiMUYxsbUNeYjrlM1ucV5zadTC5FROaEEWurPJdobGfSJcbArwy5qBLXNwKDYk3s/kIObWD3wN8TkXeFuZFHmKHAlOiG5Uy8z4GxQ3OtI79D5qLyHcKUQyW5q9SD2GrWGHBrdecFPtXIOfaBJBorJTYYut1/ZDZZbzXbu/bqoPVRibAnPxsTWnaNZ+kQwfGVSdssUnCYU4TqLcCh/x4DyGwxIkXqlEtnbj3GiXTdgFRa6TsDqYbMBNRH4mWZPxCad6kyFjWckIeUa7SrJsCqYySlsvw10Lqo3RacRoOC2j7IOY6Y1hc6wIuNlwQdVT8KdTtcbNX2bDpu/hURZecFDaxtc7cchjOsbZz17nm4TXmeUILIoqqW233VcZn5LfDoqDH150HqojB8ZCpHZZX9JMHlTji7IYUI6d5wVEWXlBjbBn6b2t5lTGeGkFzuCDYBILreCkwcyVRf0IUnbbLdQ/hUmca8xnpTvWiPCAmM8R17n+y0nERP4UjovaqNkWdowTocR1KqYnrIbcAixrpA2yWgwlF7m1Digz4H6xsEfFWV2jtln+6xz3WNCna95QYLbygzwjJCo2URrz5jJOaLaJVcF/st0/2W5f+K3R6psSJIBudCHAqndOSLXtqJtCpMcCPpFkW7ZTmObNpM6lRhAs4qTepwVBn/3MmbFKHDpDElVaLxci42BOeb1Xc6rJENKtrqlDebSMwx23CsKQTWDqqV7CgPEJah7sTNCfw6OYz0p/rTuMk6J4Brop4KE3jkJjCoX4I0BJt00zjVrC4bIqCbFjVzsapCxOF7hIKEBcZ6yIeMgmC81nWNhC+soxTYyzmpmxPf4itISqUPgJa9nqT/Tq2Dyp7XiYLlSgmkML1NpLXIMiii/G4/SFGORI3KjDjFs7A8LTizGACosbIZHQ4TqLW4Iw4hm4WHI2EPitURwqDR7qG7jWiPFVkbxJOSN6yoZuDAhXok7OV/GrJDfiFFHlKherPiOwacjvXmQnc1GpGQbWnPNpNQU2ktdejMSc23WxVDJsVJ7gAqDaof8AqfEdsyNHiVDPmGriEYSTGu2Z1rSe0cypQtN38KbpucVSfvHfxq3OwCa3xHWv4VJnmrXYwjPxEKk7dt/lMij0lPgm+sa90rW1prjs2FTGZNxAHFShCmcbk4ObJwwzB6V+7JpivxBCbxQB6/R7ohuU9p7iqL7bVpbTajliOoTbW6kofOWSG66Scx4dWZ1KpQm8J5IbMBkjesoHGGAofOeVg82QDwkhRPSVC9Qz4mR3rzCG7TawpIR4gqGyFNw0sQqLJ8zrS02FGollzlJoLig6PZ4VIWJzLwUJ55Y1gIaa5psQWOyOhm9Scw8wtFjjyC0hQHFaIm7xHPLGSot/lMf4hPMiDylQ3GwOE1vgtBrnfwtGi0JkQiRIztkdnPK4+KtCFT0BcrKLPEUGMsCLH2FFwJLuPcC9g/TP8KiNJmBWlBPQqqEfdaDWtWm4uKm/QbxUmX2k5n7UOZ+kmwhdWU6MeQQiXsKoXPGVwxCYcHDJQd0K0YjDzRGClg0JouFZyxea/wCOMf8A0nuwblh88j/Un8lD9Qz/AN2RvGvNpGGwuxl3WmWNpYy1AePjCLfCdbF5qFyzSYOk3DBbo+603NatKbypCoZrnYCaY3E5ZPFlhU6FI+bus2zYeCqjf1VcYfitJznL9NgGd+1dT9JPfiakxmAUUeVQj5szkcx3NRF2htf/AJlpeJqhM8JcolN4aTK3LMfCZ5Jn4jNRPSVC9Yz6rjNBjbSmsHwiXyKD1UXprYvqUL0jXP41JnCv5GHB1FwqQYDPj9IxHcFDbxySXEHMijzFQz5Rmw4bn0XCqvLSbtMy6Vk9HJI2Kc3S8KAAkBk7RrNLPkVNkNrTwHyNjcAnuxdrXO8RTW4DXQ4f7lEiftH1qeJCBJAqqyxR5ioR8oyxFDyPPDJTJovNilREsZprbZDLSbNh4KbpvPH5lEnjJQxwnrIjvKobfNrxEh6VUpTQYbb/AK1Z68jQ62VeR3mAKbwqyh7HAG+abDnPLTo9LvnNN8MF2te1lq7R7C0Nx+wsx8LkzAVnK18OsgSkqL7SZ/dTRaBy/wDJjm4yHFTY8O5fcPScBzW9B5VrQhuPOpaMNg5qtjFSAlK0a+E24kovGyBX9mJtIPL5S5kLRDTKariv91UHOK3RHOpacRo5VrSe8rRe8FUW14nXwhwKiHjnF7jIBVQiRzVNnX6803V4L4h0X6bwe4Tea8FLZZ4QnPMwwj3+U9oNh/8AqMNzG0rQZd1aMGonF2c8NttyUWRQSbZ1Kc1RYO0xrTYjb/pcgOEx8iMYCbD/ABkmKipRNNv8qkw6uZMgqjTPlWgAwK97yqcbSdhcPlTmX3Jr/CVPP7OHtm04KZJJxVT5jAoRXkM5qbHBw4aik90gnOaZtuTGNFJ626Iwap03T5oOftAyzC+DUb2rShOVhUioXKf0s8M2iKkHi0KbDXeMMk3OAHFUYH5JpZOnOs9+mzQfwVGIFQpAONk06ma3YatwiTnOoKRqKwZ4lJg5nH5ZFHFQjwz3vxKay+9Uns07g2/I5txbqIQ+GvJNzmw2YuKlDb20TF1ikBNzk2Hhbnvdi5MbgJfS7okKp5uxWkCwrfP/ACVZc93upxNBv8qjDEu/ljxMJwaZyNRTHG0tBzJUqR4KcN08987ZplDZlVrTBgmu9ypTM8UWPM3tvx78eICbwJzjyTZ4qut1zVSdW42BBz964+yPp1FB3QrYLhi1VQn+y0hQHFaNbvEc8lNHH6ZrW5h/itFoHLOHaPDZoOaZg5k2uB5ZWCHUXXqUYUhiEHMMxkpPcAFKHDmMSVSbUbxloQmh0rSU1xnSPwi5VseFSY6YVN//ANW0WjAIaRLbwg5thyTNiMOB1cgPgG0cwwIZq+IpzmN0W3phuJkcoBFJxuVGdB2ByuNz61RvZVrJN23VBBg6lSYNitAeIS78PSv3Z5EtG4qTQXFU3VxP8QoVkGck98QUZ1AdziekqF6h9NUWxWE888elEYOyubDtwxU2OLSmvvv55KMRocF2jHaJuKo0jLBTa4tPBaRc9ya6JVSuUbpkeW20TLJKkxvFxktGOx5wCB+E2hUvhGyF2sUaRsBuUxY+tUT8JyFhJoXBClOjfJDsNjKSNo1BBg6lBjRIBOGBQOIyNNxapqUw4eZSpUB5VJ5pUawSiy5w1jjcKggTtPrKijylQj5hrXvFoCD3RHETrCk18nYHX/tCHM58iqh3aL6CoPrH0tRbpRMMFN0R3QoU3F7LwU4ssMj0yUXbTM5npTvXmGOwVjaQB2H1FF7rAqABabpoj4WVBMc4VPEwuyitDqGOC0GBqhtwE1EdicpfBZNhuFy3MT8Vu5c0YbrRgqbthn8nJCdxkoreAySe0OHFGJBsFrUPA6o5aFzAjFNr/wDMkX1lQ/SMmjttsRtBvBTWRGUaV7EC2lSJvUTlL+U3gCdXEffKrJoxXjqpdqZIOFoQe4V6yRrCL2RKA82Rhfbroihcu8UJFxvkg9pqObG9BUL1fSpd8VykK3uK2Q517inhokLUwOruTorHmQ+FS8QlnQ+Sf6sySe0fCU4m0tBUM8/8QneV6SpYtyP4VJnGvNc82AJz3WkqGMRPIPUnenI1kPaKidrLQvVWNWWL6ioQ8oyRfWVD9Iy/qMB4qm2ZN01DZgJ5HRT8VQ1bG4uUSk0EUZVqcBwHAqURoe/FNHFBrRIDWOebGiam41XNX6tKj5UGik0DgqTHTGtiOxcVDbg0d3fEwFSmayofX/c2L6SoXq+laFzFEPx/+sn7V1UXkoXPOhclE55hm8F3hCmV2cmhnBUrmJzMDUgx0pDC9GMbLBkc7xFNZgJZoYPjKawXlADIeYX7cjYjBMttCIr5IRojZNFnHK/B1YTGFgIbUgRenAQ3GZqKAwGb2kptItQc8FsP/VIVAauGeKfQlN2KpOFYMk88FDHmGtINhWhFlwIVT2L4D1RDjpE6x78BNMbie8MZiZ5IbcG5sX0qFz+lJpzjaSm4O0Tk/aE3mVF9Khc86F1UTnla1lVO/JTiGhwkq6TuZVFjQ0cFKI3kVM0ncCVICQUkHmJNoMwJZzHtaSBgjGiNkfhByljbbkYkQSqlLLOiJ5lGI2amS4jDupY5aUWY4BUGCQURrbS0gJlKG4BpmSR32JxqTOFfeAMGpjMTnRfSoXP6UinylQ2mykER4SgVEcLLFCHCai8lCzmGHWW3J3abTjZloxBMKkGzPH6RY3Ep7sBLWSMy7AKkzqNV+o8BOewzbcnRLmjOi+lQuf0pFHlKhHzBRfUVD9IXaTMiZluR8MGsrtIkhKz6cY3Bqe7F2rna82BFzjMlUja+vUl5tuCntPdkZi7SOdF9Khc/pUtuuKoitzig3AfUEThUofKeqLnWBF56BNpiTbzNS1NEbLKlP/qRbODckL0jOi8lC5/SsntDhxX6bA3l9QvdiU1uAlqmwR8VZXaO2Wf7qnvwCrXmNgRBuTOWY99tETVNzjNSc9zuZXbPEhd9tim89W/hJNpRGgms1rRpO5BaEMDmqREiDI574YtIVHsXTVN9cT/EXB4oE9c4ubDE1osaOQ+3Dm3tKD29eGTSfXgFownHmVRGi7A53awhM3hVQX9Qq6LeZWnEJ5KhDEh9ye1hbd4xXxMd7KTor5c1oMMsVpRQDwC7R7hVZL7qSc0O5hVQWfj/AOP/AEBEbSwn9lAyHtn+ES8aTT8xm5wHNVxm9Ftk9FsvPRVQ3Lcn8luf7LShO6KcN3TUhjdp/wDimEPlTdGbnWImUiLR9URJoMLXA44qoPK0YPuUWFtF4706I6wLsyyiTZX3IUdp1QVdJ7lVCd1VjR1Vb2KuKPZb/wDqt/8A1TntiUpXSQlZKvUkeGpQ2Yn5XB6qL0+qK6nYhaL2EKtzFQp0nSrqsTotwqHenV7Nahc+5Um2srVL4TagRYc+oSz6LnTdgFShlRHYuKdGN1Q+VwuqjdPqpz3WBTtc8psMXZRDh2ynNPD7W39ym94bzK3zFovaeRyReSh8+50m7D0YZ+CzW6O26oZI0U2VADEoAWlNhi75Ww+ZRBw7hRdMuwCn2oHNb6H+S3jPdVxmfkt5Pkv0mS4uTmvAmK6vpNsEcyjFNjLOeYyJcRJOa5hN4kuzcyU7JaylEPTFSMMhuM8x1Ky7kg1omStKG8cwhQe7knTtMkzgD3OfhM0B4hLW0fCE2NSbI3XoNuCh+ofJS5xkAts+y3wW+Z7qbSCMRlJ8Jmq7wqMHTONy03kqI34NaYkORnct0VuYn4rcxPxW5ifit3LmmUnAl2Ciu5D6Te/E1JjL78wseJhaEQS4qlOk/HVl7qgEXnoFReK7VDN9mWjEbNdoC4m6eSlRE8ZItZtWp0SIJVSHc4o8qherW9sBNpFfBSY0uPBU49Z8KIvaU1wsIn8kdDBkVsg9VuluXJ3aCUzUMogj4rcoYwTKDBbee5hvhaqXid9JOxdopguFZzK3Aa4QBzcu2dsts5qG7EJ7cHd7eOBUM+YZ8Ts9uVSnSM1U+YwctiGt2xboe63P9luJfuW6cnRGAgOxQhxZzbwW8/grfNVUVh6oxHWBSIc3iVVFYeq2grfkYitBIlXK5aLHHkFOKaAwvVGG2XdIp4yUIcJ/ROma8AqoQlxKo7L8E57rAq4QoIPYajmMh4CafF6DL2UI6d5wU3Ek8UASTDvGsJNgTohvKbD7WzgVDMN4dKaijl3t3JM56jShtPRbEuRW1E91tvW8ct6fZOa00gDamw5ymqnNK2QOZWwD1W5KrhPH7VKvLUJrZPstk+yvCqiPHVVupDzLTY4cq0HsM2n5oT4ig3D6ILzbcEXvMyVMRtPDBB17SnsbeEWuEiFEb8NuZEPGShjhPI6JfcuJtKkEYfAKGeEtWRe+pHs2l0sFRbDdP2U4jCAtEEngofabUq9dTIndJVQmqpwbyCayIaTXVal3JM562I7BpORp8InnViargt6VIOZSrN6a8XHM0obTzCqFA8FoRGkcU2HOcvmcR2DSoQ8w+iDEdYFSf0GGSkx0iiU3ktIaWIRDKybScpOCmnNfXRsOSEy61R4l50AmYN0l0CHM6tjPCE+J4jLI31p/p1/ZvsRe+K+QRoght0128T9o1L+Sh+oZ9W2bFPtn+6EOMZg34LRIPLK+E2biRKYsydobX/5qBQrLTYpG1MPDMoUut3dCVosZJbMP2WzD9lsQ1u2quD/ZVwT7quG9fGOi3n8LfNW+h/kt4z3W233W0FaFb3CIof0Q2WzOtSY0uPBTjn9oQLBJjgpZJMHaH+EKEM0uNyJoyINeSL6Tki9MkI81RutTop+KoLtIdc02GbRq4p4yUIcJ5G+tO9HcDRuMymvLKYFxU2Wi0HUxfQVC9Qz3YN0Qu0jBulWaSMrLkwXOqOQQWnSdbyyMDrCa1IZlGkJ4ZsX1lQwa3URUEGOYWTsM8hltOqGRo4d0npDkVa/3Vr/dbURbx6qin2VUb+qqiMVrPdbAPVborcv9luX/AIrdv9lsO9lslbJWyVYUJTofFrebkeDfomoZCRaytQm+ZPY0yJC3Tl+pJgVBmR7cRLJEf4jkoWG4r9QgN4INaJAa2J6im9m6YAlkkysgzknRHtLapV9xpQtB2FycXOm44amLyULPeTY4zBQBJdKwJz4tVVTVDPmGR78TUgBWVK8FA4jKOzqmayqUzPFb5/ut6/3TDE25V5IvrKMrrUALZ1ZGw/CEHkgMn81hjzKIeH0ZSZDaDwz6ZbXfI2oNaJAdxc+E2k1xnyTzEqLru/P4yTeAOfJzQ4cVoQ2t5DIDTHZg9U8NtkZKS7WINO4YJzobQWuM5zTGeESyyImFuWey3LPxVTGjpkc5ltimayhCYJNv8xXbv2Rs8ckXmoQ4T77KVJ+CoObRdnjtHgTUwZg6+COajHl9hGjFyefLrKfZtpYy1bobr1UGkYzVKOZ+UKQsyRvWUGB9FoEqlo0nOTae1KvvTnmwBOe60qfhGe7gAofX/dfDHBRD5vsJCbzUV3LvlM0gb5LYpepSaABw7oXuMgFKCKLcSq3B3MKWy/DLIUn8QqMM1k1g5KZ2n19M+LzULlldEdYFS7SjwCpO2gZHVN9CPq+wjRg1OOLvmUOEL6ynOibAuxVtB9wByCHPRdchAafUiWyAF5RY60KvYbbqIvqKhw2MpENEyV+pDFHgg4VgpkLGsp5ibIqVCGJDVHkE3iT9hH8KlD9/mTYrROjaiGPc0cFoAuKe5+lEomQChSxUR3FNgwa4kqzgplRBwyN7OqleqzTHmTYgvGVz/CJok2ldo80IeJThDJLLiVCBwUsAED4idXE6f4oX2EiO8xUNuDR8zmYLJ+lSaABwyEhoBN8k7RNEmYKqaQ3xFAM8VZxRGLclF7Q4cVY4cig1okBlezxCSLXCsKi5+jgEHxBKH/uQRPhcFQY+Q5Jmm50zZqovNQvT9g3OwCa3xHuk3EAcVoPa7kfksQAVppFgnPUfqMB4qbYQnxry0XAEcVuv5K0IbRqovqKg+gfYOKeElD5z7nSNZuCpPd0wUKjj8+i+sqH6R9gwPE5E4N1ZDYU2i+akTQPFTFYzS91gReegTjKcY3YLtHsLQ2yfz5/qKby+wcJvMqK7kNWXwTb8JU6Ex5VoPLUx7hIkZjYQ+KsrtHbLP9+gHc0OX2Dlg1TxJOtm+G0niM1w8IATT4jP6APP7CRTxULl3LtoYniFouc0ree4VrfZB5Ej8p04jWqqM1TH2WinzFQx5R3PTY13MLdfytg+6DWCTR8ok3bdZwWiC9ymYTui0HS4IdxH2EfzTeXz6IbgZBAm12kVRgimcbl2mjS9IXZxdu449wKbz+wjuaGe98p0QvgPRVwmlVwf7KuG9fGOi2z7Lej2W+Yt9D/JVRGe62hn1xWDqt81bZPRbRHRUmmYx+QvBtmqJMmeEKZ0GYlOa1ulLaKa/wAJ7g7kmcx9hHc0OWfI2LZLeRVUR4VUb+qqiMVrPdbIPVbr+Qt05bl/4rdP/FbDvZWFWlbbvdbbvdbR91eVVCef2rdFbIHVWA8iqMS0mcsPkNJ0w7EKci8+bK6hDJa4zBCY02ga9/JQ/UPsI/1JvLuuyFsj2Vg+dxPSVC9Y+wj/AFJvLuMmPa48DngRHSJQc0zB79J0QT4VoOaZtPeonpKhesfYN777k1gtJ7i2C2+sqFRtpDPDsWot8J77o7M9LJQZKXFVsYq4Tfdbn+y3H9luP7rc/wBlVDatlg6K1vstsey2x7L4D0WlCB5FaUNw5KsuHMKqM3qtFwPLUxPSVC9Y+wcNnVRIhuqGqLIH5KbnUhgQmxG2HNicKlSuZXnsfgU9mI79XBatgjqtp4W8et6fZb4/it8fxW+Psq4j18Z6rYPut1/Yrdf2K+IdVoxXDmtGK08wqqB5FVwj0Wk1zeaqiv8AdbyfMKtrD0RJEnC3Nf6SofqH2DAwaicXamQ2n1Kj8N5VCHUJICkZCxGE8zLbOWTsYRkbyqQivnzTnm1xTTe+s5ZuIAxKm0gjhliDhNQzxkpxHS4Kg2YPHLRea+CDmmYPfgJUnm5EykRaNRQ7RtLCeZXCYei3f8q146qjDzXckzmPsG/ooephYVp7YdRdepMEzeU+VbwJ0lD41JzjYBNeZ5TYEIDQtdkb5TLLQOyBUiGSkcVXRIwkg7EIg3ri0oveZkplG2kJZJp8Q3lQ+v8AvfohwMk92Ls978Ap3qG82y1ZTef2Di81C5amg8TCre8jBUWNkEW4pooESO1cosvCpioqQqbeVBLBU3RUSHjWMsojJqx3up0J8zkovnPgv/0Q3N7N9dqkF27tkbOSIeEkIbbSmw7Zd3m88hitzV6lTZ7YZpdiUxt8pnPczxBUHyxqQGBOrKbz+wcU+ZQh5Rr56QGAVFgkE6HZNdo9w4Sz4k8UG1nAIPj1N8KkLMg9Sdwb3hz7rByQiudpeFHszbaqVjhaESbAjQcWM4JzadIEXpgxcNTDPlTx5s2UR8jgqTHTGa7kmDj9g3g3mYQa5jXAKuER1Ww9bERbERbD1u3rdvQcLD3H9RgctBjW9MxzW7QrCm0lrlvJ9F8HsnBwAc3DukWXhKa4iYBsU3dBgu2fUfCizxBUR8ZkqUTdsFIzTnQ20WTqCheoZnZ9oKSqcMyE7moreS04jQqqbuQWhOYuKc8/CFOtz3FP7QSpWA5r/SVD9Q+wcojQ5aL3tVUYey3jVtsW2xbxi3rVXFHsmsFgEu76cNp6LdfyrHDqpQxb3SRX6bxR4qm7Tf8A4ix1hVMEk8VDdcCiJ1G1dpEH6d3FcQVMZSOzc7iFWxw6IdnSp3Sylo2hWERW0qbWEjFSq6Im4NXMqfhbPOinylQvUPt/RcJgql2fvkcWNm1xnNMZbREtQ9tNzQLACpdq5aT3O5qZFBuJVFg5nFOa3atCmwlrla09F8HsmPspCeWIofX/AD7l6bA5blq0GNbyGZpwwTitkjqtknqpCxVkBVxmfkojO1EyFDfgfulSh2zlPBb5/wCSre49VU0lbl/st1/KHaCi2+v7pSImFVBZ+KqaB/3z3PNgE1pNb2eH0OXOMhiv030vsfF5ZIR8o+hobcSmYO0T3Ok4yGKmxwdy+tqREybAtGE0c1Wxi04ZHJB7TMFFprBURjbAVC9I78XGwVqbSA3wyTYgvHe7VtDVQeqYfMO5iVlKtNFzqjnl77Atl46LeS5haMRp6/SRYGAtaZIEX95DSZEWFb/+q3j5rRijqE2GLskXmoXLvx8xlklgT3Y9maLVvnLfRPyVcR/5KskrZPsth3sv1JiuoHUTJA5qFRcDbYm8+5xB5SoR8wzzDJlxVRY5bo9FpQ3jotGI4ciq3Bw4hUgJEWj6OdEdYESgEWNeWhuCDnbQqPcpuMgqIiieqL2MpByYw2gd+Z68kQce7OZdcq4TKbbaluYf4qpjfbVmI65TdWbgpEEFDunI6vThtPMKhDbKQrTn+I/R1AbDMjHYhCJc4KKzke5dkDott5priKnWKi46TKvlFB9iYWkkk3qKOXdpjbbWE111h1rIVwEyn/8AKfWRos5oudWTkLCyi7W0XRK1vf4WjFYeuZEGDioZxaNXEdxUNvD6Oeyc8jJ3IHByIxb3FzzYBNeZ7kJf9KxAeIS+Ug4OThi3u723TqTDfKWsiJrPhbYmxQ0mdwVFwkcChGaSXOHtrDK1EG1B7WTaeK0oTx0TAwm2sZYvOahtkXPAsWiGtX6oBbiFMWHPc7AJrcT9H9tDE8QrJ8CqIFBzfhURrRMoOokAW9xo3vKBuYJqKPKVC9Xyl/CtDke7w4mIkojMDPWU2uou/wBVKI6mcLsjYwvqKfBu2hre0mWm+SDW2DML3mQCHZsIfxvWkAwcVTjOc5Gi2QnUFDYbQ3PinyqFzn9IF2zExTHC49zazwhPf4inDEJhwPyrRY1vId3BwcnDFuvLXibSj2bZT7lD8M612j2l0rJL9OHX5lN7pm4IRYoruGofxkm8Afoem7oMVpQ20OFqDhWDZlqcDyOYYMM6RtOCb4W1nJTealVBq9SkKnYHXSfEaCoj7pqGwxROVa3oRkg5pmDrtJ7RzK3zPdUmEEcNfpxADgqTHBw+QP6f6m8j8iLHiYK0ItXELSi+wWi2vE6kDFycfL9D0bmhNOITeBlkMJhkwW8UxzbZ5JmoIsg1N8WKk2y92CoM/wDuQj4WVBUy+iTYERWHNK3z0BGrbjhrHxgJsxwQa0TJsW6Put1/IRabQpONbq9aeznbXLBaLHHkMkRx2SatcOzqmZTUynUJGlithi3bFu2rdN91uf7Lcf2W6d7rYevj9lty6LfBb5n5Kp7T1Voy2qt7fdb6H+S0XtPI6yJ0/wBUPr/ny6GOKingPocR2iYsdkoMlKc1PtJ9MjcG6RyPY20rTYW81oRHAYINjSLfEnOwE0xviMslJ8NpKLnwofAStQa0VuNSAw1bvNUm+UTyxfWVD9I1xgQzV8RWEMWlBrRIDXUXCYwW6/lfEOq2oi23rePW8et8fZb/APqqow9lVEYtpnutkHqt1/K3L/ZVw3j9q2T7LZPstk+y2St2/wDFbmJ+KFJrmG6aIfW5l+rf0/1N5H5dBHNRTxH0Q2i0CYuRfEBnSkm9mwAl1uSvbdWczShsdENgTWNtKLOEkDexypGIBwvUoTaRxKm4lzrl2sTbuGGshsxM1Ef0yxfWVD9I1rnC2wIBzqINpKDGxBIYBEw3Tl8kBaJ0SojiJNOr5uR9Py5g8qcfN9EM9Kf60IbbGWlaZGjYMcpe+wKUJlF2JVU3vKma4htOTtIVT7xipdi5fqODB7rQbXida0YNTji7K57XtouM60Gi4S1tAGRtC3c+S3cuqc55rNw+YMHmUQ8Pl37VzcfoiH6U6Gzbc63BUG9TgpPEsCnQ36UhUclAGRnML9QhoVFjZdzDri1EEVB1XysCVJ5uRqouFo7xCbzUU8R8udyCZ1+iGlm227FS7OjxKot6nFUXiYUobA3u8ntDhxUgJD5VNOiG8qIbpah0Q2BAPY2iTddr5YNU8XT+XROn+KF9iKzm0nODRxUQMiAmUslK951DuibSrArzpamKeMlCHDuBc4yAUoLasSqww9FTlIzkR3uKoXL7DTKLYJosxvKnW4qbHEcE3Qdx4IObYUXOqAU7GCwIUmymJprBaSg0WAS1B5hftOaXfEagqdI0sUxxtLRqCcSg3AdwEAWWuRe+qGP5VVJvVUGd7i81C9P2Goj4zJaWw21SaJDghQ2xaRkhDyhNgC+soxH7Df8AVNtjRKeKrvbVl7JhLRK69Gg+3Fb0rfOTxEro35DzC6FUojpBaEMnmZKk3qMhA2WVBNiRZ11y1DuSZzGqpRDUrH+y2/4W0fZWu9kHsM2nJFPmUNvDuFJ5qX6eg1T7U9Vg8WjVReag+kfYZrx8JrTtGkHcVRGg3AKqpl5ThgU3kojuKb/x4RrlpuTqNgFqa/wlBwsOT9Rk1sH3W5atyz2VFjQ0cMkRU2Wqub3lNpkUj8OCi4SCe/AJrPEUALBqCFxaVSYemGpABk4WTXwnqtke6sb7r4PdBk5nJFHmKhu8uvL3WBUj0GCAfvT8PhyMwdVqovNQvT9hpGsKbHubwU3uL+CkBIJzZGlSsQTgRVOo4qwtZ4igxgqRfCZSa7BMY/aGoOLtFUYj6LbyiIApPxXie4oMvvKa3Fyc7whTc4AcVJk4hVNvtn9pCqfeMVex4UorA7iFWS3mFoRGnrre3bYdpUSKTMMFXSHRfGeiqhGXNBwsInq2QRZaUXym/wCHhxUhW9yEMtBIvQN7TqncQEzhP7FUqIpY64UNppUuxf8Aiq20B5lPaeb8k21lhmjQeWzwVrnu91NwoDiqDa+OolEYCv04hHAqoB3IrShuHRaMR46p7Ylcr9XI2KcJ1HgVaw9VawdVpxfYINbYNWIrG0hKRkqmFoxcpNrN5yOLJUXGc8E1uAzi91gWkHtWhEaUx2LU8YO+z0zBZPktFoHLXaUNp6KTGho4fJnQzYVoOa/+Fpw3BAEk4Il4kXGz7rzoif8A4kn/xAAuEAABAgMFBwQDAQEAAAAAAAABABEhMUFRYXGRoRAgMIGxwfBAYNHhUHDxoJD/2gAIAQAAAT8h/wCxRWMCZJTyV4WCH4pS4c/2qLAE5JRiclYl5Q+ZyRaOBHE4I6CBK58tP2oeemIVKswgLfwhCCCa/UD6TDmrkfv9pxQaELlSggcT2QQeATAbOmWp9R+0iAOYAKOWgbqJkZ4LbTYVo9ChclhdR+FKDYTCIfq3kpzgglZRZR3G7aZ0+07YQHmX4Swr3MnkIqaEKQY/qxoNp6lMwobdN8CCDBc3JM24cg+94h8USLKIHdcbj1pzQIdbCiup0ofgSQA5Udy6g5YJEEejAOQAUD5Ev0VzbJE+9DwsAnYU3spEjgVZ6Lg+a15VZ/ZCjw0dSvoXbtvNceQQzTYIEk/Ayz+tYUS+qvkh0/AkKYx4LNjpUJAz9CeiX1U9j2E5yTvvkXUW5R3J5mNRkVPijE22xdAgS5F74INga0lkce8c3u646AOgY4RpQo2RUs5QWDg5x3gBCkUIA12wTVKl3k+SfIGATikMampp6vLLonrOTr+AEciwESivBeAOiEMMzc6p95nUj6CHwknSvKAoBAG6BNbDzOZXKhRE89gLbd87moemx6bSZqUgwH3iI7IB14BEoMtA2+1dfI14Cxx8KbvHH1gxLyODd3fgIINBz+kxkDjmEtWRY04QgAACQ477QZKy9RrhEk6lO4AH8BwYAgjrO0BiU/dy8byyOPoj2kSAHKNsRsc9dy15wUDfqjuPyYBRKkcL/gfIuWg/gJObT6Duig8SOGQOZ/OPJMotNiJnocB0Q8CH/lcKGh9E+3xGqcJHqfaJGQAOSj6IPkUKdiYGRAaglB6gE4PrLuDKah9Ame4UjTrJsWbupMI5lXLdAGBFzeMv9cUG/wBEMT0BDFUFTgjLlfm6J5MWYPEAAAeCjs+0yTP1CQQXDAKgYitNeOynQQiO7vPC03YiFgEBOSM12KC6iYx1H2iSDjEwCKAPE50ReISYITAppglgrbgBEhNwgQBCT0JOUKcVkIuCQWfgvWozfxMWYyf3cGcKfb2TwWl2hMhVfFscnjQvFJKiAVmPVBWwKz04xw7+xBN5mjhARac5IiY/eDQOh6jiF+YTkp0qiyCBhS5XCGNqCRiMYZcOi6ibKkfCNkQJQMr2w1qhx4UmGQTRfUlDIRsszkv4ZSU8in+aPRRYKQQQ+9N40RyIu+wCg33VPaRTQh+pQqv2RsHGTAXmKG3gEbIIdjCYDfZY5KAgIgIMjvkSgO1AU/AUiIWItGhcAhEDGcgcEdHeAVooeBO0G6flWGL9XxuebeVrXQK6hd+6KFoBAABgOKSAcmSIl2JyUQKS0PcuUWhkC+oRgDQnWYogmYFHiOWpOZ+kRXz4pZ9rQzQ2zEWcUWZLrNfQ8R6McjTy5DIKxvo4lXoIhN1F7htimiMNcx+NgoABxmH47VFDu7IyIAGHTuizQNjhov7tSLPKW84B3RfCjsC53j8BRQjDHdenLI6sEFFOoPtFhhI66oQji0LBUecm+PKxNjhVkgWDE1LcMSABElPwCsCLAFQfZGdYDlGLNgWCxNIjGGCB2G6TkMMmMFIIZOO4/EacKhAQAiUKoOIlaUOxg8pKx03d24F/ukA7nkG4MXxFFA8QCIaaSGTdk8DNAxPGbW7nBDOSjyjsAQZe2hG4OTIsucOjhyQuzjUUiD0OaAAAAI6iHwkQYq+UeJZyMlBWDOdxHzT8inlyZ5AbEQDEYIlGI1CjwBHARgntXQw4/i3FNvflw8AO1KBpLw5BO5Vv8OikNTHyE7EoAPAe0CVg8ZT2UX2aAAmuFqgIYdBsBICWJmJqoXwe0Gwx60+AIyESxWI4kyEYKpuTEx3nY+/7DdtngbUEjMNEYSJBDRBtsEGLR5/SqrXRk41Xm1BP+6O2/wCZBtmudBuRsJ0RxhBRFH6QE1sIARoQnnBkEuKUIWA6hHpaIPiGRfe0ZolFHSuNDjIDlBRnl1uHOG6hZMXzHVqnsJwEbBvke9BgANAE6tVLlnDvsCjuEQjNAAAEhxDgGTQyQzKuNNKhWaKCNpesTZGh9gTXkKPHKCDwPL6QpqZKAIgIMtwnFVSZPF+UPshgKJsEbhvcD1KFsZbJGaZiKhbx/h7PoQ4C00TyOiBxgMYxRBufnFh2viOMJNNOGh1YbBKwY1+0VGmguRCO1BXMnn/mxxBEYOOwG8iK/qJABMVoDRjtat/Zs8OSPdA4vBkTG8n372FhqNg5zoNwADmatUyIWohETgTNqirGCKMAk8TMPFEq4GIuVzVg6q6pwDomB2NcUBgACACYYXYREmBi0d9s9RyJQuyAbICoGdliNSQsnCLNiwjTityjkgr2jM+t9qWVmIdAjQzLNwwKZFojXsWwOgznkuU+AjkT1uoB+qEoiQ3uU5qttNTgAZMn9ABmQzQkQVQHS1AmZQnnUWsgz0D0DlQ/8p2AyLBUg5vZNI/FihOplABo4P0CZuRI5IrESZhE7nTe09PHoZqiASHL7+yZ4dgftk5/YiO2/dGivrGuyPQERBQoQwDEEQy0TLCl0funfEfljayMWYdMH4gUNYNZnaEW/wBNhQvMAtV6LxVu+bYw2OK2ezdv5wF/RMBTaAkhsnz4AhiDnNELmzwPF8S7esGQKXDmKFGHOBMbHmVGMeLDRDIQCAA3bx9LjEa7Q0smQMQjzLxEpejADEOCiwF6wyR6fP7KjWH2TaT2QWdO0c94WC8e6Nwu9pUWoZKitTiYzKri5ZqINHxtKEkCiYIrtN1aSGYCCAWyDJ2BHhtMbIAPZRG+YxQsLbHNaiBDiWwhJguWWwjVPDCXZQGHkEDj8X3zMgYZIJhJ2CluA/BGN40XI/fivW8OyYPk3Gn6LR5/SluDz8x/BiY8TBwQixKjaPtGOcQbY0UGYEXwmdgAhSOwoACK7btOsr0+lsJw2KqMS5MUOAhQfKW0SE5X5V22rbrP7sIhAlAhdb7uglgGARsTHYojLDfADAIKIjpX8GYpuZ+lgIZDiltBKuIBxpSbS6Duoxbuoe3vVrWbv2UjYURrLcJo2z6W2VIFjoE8bARrsNkofTY8XFiRBr8V0bLfKiZBB9pEQubIZIQbXJkgADAMB+RM4GDGSfSZd5x4kSogmxUKpg+HHBSAIFAbNHalbbfeslc6FCYZE8cRBWnY6v4Ddk2XnOrawmjAk7ARJv2GM015moMwfmQQHVI4sVs2LWxTMYFmNGX6FGAEsE4RCEDR+WNo0w4HMnOCMAU/aZAIYoOws2G/0xmogpkoJjKFp/2GNcDeZTrwVFrykK1QShDHi5x3T7xExKccBTFDyb5RAGbRzs/S5IAclCWLaT/iW64gByV8FnRcvaDqUAeU1pgkD0RgucBMU5okS5K8fAhFiIRpvMKm5KGbawsKG3gHYDQ+/GMRkgDlNAm+KAHwcxy9Bg8hmUXcbw62oe7GD1W/iSHmL4VBEj8YoHaoQAAYBvSWIB6lX6J0G8M4kGZaxQnFCx4PNPgqQa11EbVBgCCkQKTT2udAmAGW6x2cP617kQRFxtj6CCoKbO1OacCLQIMxw2QgVJTqD5TNQDORTGGMOUxMUvI/4oNXB8VEJb1MKoEAAkd8SOwXsCvJYKJB+0XCe9sC6tyvvwXAOBB1KkDgE1yKFbJIkBFVJhH2gw745FgcgjbuGLB5kjhYiTYkBxoorRsEQgCCKEJvNPUL+1inMaCeqfLdiOy5qpjsE4yqTIIGObfYITscVzN/XOghbBA4hOMiw0OCCwwJE2IihLUCgG4bl0THRZGQCCYIT7AamQ6KZfUnxTiT+va2/nFcteUN9zjNbCibNEHxphQFMMUNOYCQsToDwFMCZz2MV220WExUPJPhHSAQhRBIRWnfvQDqrofR7XJkTBMwRrjvLJAAYZpZqISRQecsTCIVNTj69wmoTKjgHVGBmKMtyJ8E2ujyETFRvMd2DrGi+aEBAAzycVmgELK4ImcxCKtNRUeueVqTRsGu88HE3IAQSMdPgwWRMpwhNYA0CE2iGMESycLYfUcCJAVBQpnXQOibEHGj4ILefJQPcnMO/cMCVfcI9stoAReESxOVQphdxt64QL0KBJEbSQDksAmwG8+0wMRK7I6B7CY/CB1PUJ3kiABVJTkN0HTXiCBKbXXMWXJmESIHKFMEWwKCxj2IoJgKkj96Sdh9oyW2mCKc4XGwiIAEyUZqcPhTETMuLEAAAQA2smggKtyhNAklW4IZToM7SxWIYaIUcJzcDtZiw99U2EY+SnEiBpt6IwWMbAIpagwHQqyond29doPUrrt8iieXpMnk/P7KCwT1pgQJHmYo6IQRP0ZsazoIHFb1vbJIBzAK4QNW+BGH6lGRWA67XsC4EhQmAHZ3Qn8FrNpsY9IQHFDPR5ICYcxigsTrGQ4SiVckMYRmdFOuPvslaSYmVUZkAJsScdik/wAUWsq6RI5oFgEKjmJ4kUNrYUltU6zmuU9hoEECyN+avOXjKisE3vv2ui67an/oxsBVADBMAmVrhXLh2EHlJKALQFhcoV1JjoZA5HWaeRng5FEd27scRrz0kIQF0igV4nSXi1HijOd0FXaJwbCSLhwXZ47xCwCYPbvwFgEXoCwALh6YmP4shfyI+1vh4Yly+TA0QKqQORgjlvEBsFRXhPaKbwRPMSih3ug3B2RS0Woxl1ChRTWG5VXW2iICPlFNfkg8J5WI448BFP2lzH6TVlRkPvaQhGMRLBA/zVUoXgEckFqaEnUOvAbY5ZTzfxMWgnmezDfBFZMwllydQxGe+1oE9wYoApEYYPvZCHxdG5fJtkDATL9oQ0g4AaEFBEqM40cDBPOmcVE0FNRDFh7IpQ+gbhswWgYjDYGYBY9k+REIMXA+EUCI4TUB5BavEORAgYhCRgi0o5oGIAgtUIvRMQc1D8Z/0DDQJkXjmX9Q+oXkJwUNxu+YsWl+1QwklAb0DPRgnqUGiwx4yDEKwBAZAMTex/hHuCCISjapjn93be1XqpfxDcAQg4M0I5gUA80ZnsmMEQZ4cgZFaIoSAzbdEQlBhsnKDdCkCL9W7V5RRsppDbGLnnHY8SwehTQLT6jY2gNuSaBHhpjmllQZwE8ACY7DEmy1QhXkNhOfxdCwfJtoqI8hzQkIWpJRl+d/E5ZnRhuOR4bQH+CIAnAC1QmBrywKYQAJMaAYECAQm8sAOI+E4JPFCkMAoN+CiUxiTAUpnbi8QJjVWgAaentwzFEZmJIkoG8U274axad7VhAw251WGMHYlYe6kY04JSY17pva4tF6bgwEbwv2RCkiUbkWDMFEMtLRJyYI4wRoKJgdMZNemvENx7USAHKM2lynNBFU91UNoDwKccIIUMABht11HbYasMwBEhRRAGbkSxHiavja+QiPWugAuDnYshSEDhGOwyAQZ7VcmDdDB0IGCRQmZtDHAhkYgAOGBswMaIezCRoZEQQfGkVcIfRXidbijKcDEIsyYLxqqlYuOyDkfJchsi6LSHEv49Cudxr6hlzOLl/dkB4gfHd1r2rIjFIRU4pEqb+4fewnMWIFrzqLVt/dP2LR9prybnCwKaHiRMphHZR/zliuEACC4gSJhPV5Q0QyMCAAQCFIq0oMHPeAKYgsdkQA0wEbztP4JS5UeUcD02kj5LTR3GGApaFeM4QgAAwHpJWZiDYUI49iyUJhhTeWmCeUBYBD1s2RZqUvwdo9RGeUoDQC+Fd7VvaosdTpIEWE4iCDFF7YdBOJtEEUp/SKcGDVNK89DvCKDh3M7ppADiKW241LkOEDkY29o4j+Q+14nifriHA+/IqOoMWJMHhM8VpM5BOCBnNcnBEkMT9dd7Vvaot5M9JAOyHWUAvJ1GbwZFpDQAABgGAQSQYbN0zNiQAL+3I41sz9LBWyHDNoIDvI9ApyU3AjZacGL1JbFG5EkbBWBcx+t7VvapliGKO0GN7YIRCfMKEKkAe4H08C0BMu3UL8ItQAnJTwTSsgmgTsbBY1qAAAABDgu5qbGqZZdvBXpsBlZ0t7KFAw8Q9q3dgB0/RabPcN8GdVdHcIchjkf6oSVcaOEw0zkY0Tu5x5qFw7IAMgEVhOTIGBd6bkPYliO+dZYIWzrClO/iDPETf+tjYosQOM1DhmGNIDJ08TRBNkqw8Dqjs+N0U0nhLfdQBBYrs6hnJBIZssKFxPJQIAACQ3AAEEOCggRWx6oi5e4H63IgiteDdE0DtBa2Q8JxpQJgGAmMkMfg3pEi1veiTZA6ps150UUw6yEf2SQgxJ4LULJsST6Kw9TaWkBmjM3BAB2Nh8v2ozlYifgpuD/P8Ava7D9KCowMQk0IagMCRI/kWUG0mXWCfopRgDQcuSfKqHzCNLyYK++MEQYDECosjTqHBOER/UjAIQRJOL02/FDaRRjwUQPs57oqmYbBkEOIkA7l0pB8o9LFLLAPOBHqpSChT2IXeih9ecNL07iI5lfFp1U6xvxREjzPxsDA/H5Xl/ah0N5J6qq43K3zwbNhHd3VggXwmfxYTeZI4N/d7oCgvHJRDnJwjpPAn4Qw1GSEOeRzvVFbsKSbwS9EMgJPAKiqMCIwBuRSwQODvvbLpsN8iIBMLsogokbQo4QI1TwSGar+LGPf2Ioh5n7qlVLo+YdVKpCIm012sOg3CDoAIhwVf0TOFgIHhqLTPTsJlQfxS9GBhaILjUIhfEsh4pIhuS2lEklySh93iFNaWVMFE2mv4vCzNFiYTrslNAgxHFdbZmSAIlSBAksiv41SI8ipU7BdSow8IBCjBMITHtNkvP600OhuBh20kJz4lzoKMxjc8uJBBsqQMPfkyG2t4Ao2CQAWsSpgvY6GSElmzXuE6LRo3oxFrH2d1eD93bimioDHdEJF2daaSN67CNjnyP4UCaeKBGEF71Jua6B133VUcbbsHs7pkEADjv2Rsg0b5Tiul4ZKMhYAcDxSnhnIsXU75ZB6Ig+Yv7FSLMJnjG8AowVQoWCQD2kSAcyCJHegooASPj3HUitNXEJ4zlQMBhwz2s3KchjCyFihyNCPbIH8obWwBpaE0ApClshNXE10wgAaqlTivo8Up7p93BnDiu0AgTTLC1BBICFEJDFWDDzClhIPwhXQGIN6l2CHupgeY+UQTyU4YIiWm0xnGPDtKRIo1E1sfRtwZDp2tB7e0oBNBznoncHZtzXIKeziz75QCfgJII0cj9p69GY+vVjeXSRXF1t8zT7BNGKc0ncGJeIVCcj8oV84oVFgdR8YIWrB9EKmaFG8A1qqP5KAh0EVWMfiUp55bqtMgUb1YOOnAXRuoGlnq55q8Gf4IqdsYdDTF0EgBZoksRganH0lyGlBeYzx9kvmIlOKlOQLQQpzPBEqhuVpwGKf6bkyZreaZOEzlT2lcA/wAF6JzBMkiQDyLwgQQ4lwzrsBypzjyGoHCNpWiMZicAcEEFmbhHH1eqLRevAMOftMSlBneImkDk+FZZ4+EaeWEaPPWHXKBnRggEbOyKDd8kXE3P4FIMAKn/ACWPRSyryRnGXbSLGK4bltZo2GjMGyDuhMd5CCgAgfyZgHRqkQoQaQN7IjeSWxRqM0jl6yQTXofnCxToPC6o0CAIIR9z825du1ygrdi5zjsFAmBsSbzknJJmShABLyRSBdonJEPTGhDhsqYmWqLAUByyiOmJNx3IYJRZ00LkECJPGnXTJZaKpbiSVpRPdO/ZQHHB1RaL14pBMxGWwjRAhdN4UwwvC6NXYmHxbYoIz2hFCWxlo5pUcPbH2QZ5EEKfBMb/AMnG6PQKFM+t7IIqomNzIBsCzh1CMdmS60BBJYSnI8B2kAOyB0Y5GJim3ybAaGwtoOSuJ+bPRN42jl9pj24k5rZO8ynkmwwGzSuhXi3jjmd4BEwU3ubmSIjUgJyhAJB8TwTY9h9EDgt62+EcJl+6eRy4x0VMXg5kgrhbz7Sj5RsB5DZ9HAGAxSKYRmAgIEIrwHpuRLzaH0gRyQin9hQCCT1X9h8r+++UKuQflCrnlCm+MFQDD6qiODfKPmMT7KoBifwpFzIImWUQNI3KgWSH9Rf1ldM1eDNOLRnxnfaANQpOk509kEtyx/asH8Ecs1vepUmSAsImhIAqgzFArwcILZlHUKbofJAkrg2G4FOls0/dsO9ODoqhPmRR+bk+dFBAAAEEsyMSPMN8+HchpQV8GtHZonQrVuo9BGiWgWhAJEIMiEXgHBNz4MgZ+T75Yvsn2hGC3gkKAKYzHkQGEiFdNdhGS2M7M1GB0AQAAIDcanG1Hd8jaiUnTqqfIhoiOyKTfbabHioHpDUA7SAvNfC/hvhH7YfCNLQ+FRtSUef2VWsQUBI/N8KQYAVNOUQe6M0mQzDzJieZX9ov5a/gL+Yv5SGaiwyQlDXiw2wHdPq0PT2QQCGKDsAC4bG4RMtUQQKHwmU7ccBBFlHgSxblMMNpJmTsvh9CAkQQQQjtEAAcv7sOiLBeyKDQHzJOTgg9AmA4pEkPgUxAKg2Gw2S8QlbDARMfr0J4YGsRfCaigbAHBd+FNS99N8QBfYxUD490QszHtnaquX6yMIo50lshRDLJIAIDSDa5DByAdpaIwgKK9i8UXUy5LUTnJTjTmrpmzztqhBAHKwKa6AYtjVGDvMqBNY2/lcau0WAhGvswuIdQ334gVgQeCCAFPQvgPBjEkxQxnk3rm1aDVOi2aNv3HwB1HCVqCHDIiYw+CmaRYmRKQXwRREcnUfKkyFAM83TyFyF1rDacBEmCETl0JBllpUbE5iQBsREYkiSU7WFbvPhECDqluxxWMyDJrK60UwQCQ59YHAubUsU6Qo4YwO/GQyIJGiARxzhieiyh6/oRvxLFO2Fuo4nTXPnw5fAzFE1rJPkgjBZg8yhMAASAGx8TwKcbBA1tZqFF3iUAMnAeevqqqKRo3K5RQjIp7b7YsGjp8Q+C4+BjOqxIzT9CQ8Z0UPCdfWET7qzURjWk/wBIWsqBvSCBBOSisCyHKOOLsD2TWQJmemwkAOYKUoowTnbFgxaewjI30m+4rg0CbWPbKAc03hWJCbAOaL+E8KwOpTF4fQfoSMv9SrxToPyQRiDuwnApICpGTXkH5IEiRKdAjiKqgBOH7Ag5vNg2JseuxdMotnxQAAYb738nTdKhDB2UPvw4hGpADgpgI+Jk3owAY1QrwivAsEmi2jX9CXTZoUpxL6vyU0UBopajtxMEyaRfM/JQz26IC2qIaE9qMWqeUgj/AAkaRGfNEUkJJmViYdgViEXsqBh8k0MRg820BaRUmhDlNZz2JoVIFpgqYjH3RSWN3QLeXbtwze47CYFx6n9CRmn1ldINPybiG0xA1hQNsnF4CIo2uHACCErRBYfaD1EASzmCvWeo2XCBBOsXWAhxAmA2xhZ1DxAZiEElMpMMkSKOLEeWUkJYkHvCaGDKAoUFrglJuEbpQY3P0G4lYotkIQ9GT2lEyeYZOJ+FOGLARyLo4QWMENwDjleQ5hYmFIz2kRboCiv4uajxm0COfCN/GigYHi36Dv41oJv2aEfRz0vPT7RsowJ1jEiDhX8NIAA/qCcng6BgWdD9B3Mg7qGc7hv9I0l9FFXlc08kEqDun8Ybkp9iMLIWJqW0G4sF6bOswGc/nic/g6Bh3f0JklmZ4YUBuTnsFOZnid5qoeGSifGO4ciY5D+oJwWPR7AiPfUA7n6DwtDv3TF4xu3Fb81UAABhLcMYoGT90EjOQs27ewIi3lAH6D5KMgybGPOPonRjZhTxCJLdMWVu8D4QBWUlHg/iYcYsJiiDcyW6oAOAg+iMeb9CXgdZXHC09H17BT0BgQ7r+hQmsoB+IbDDSLUTAliVATc3ROY0UaTyRiiGcS9AYAqId/6ENyX+qFgXPzxXDRQTbQG6dEWN5Ph0+TQkR8Sd8IHAG9AhJcoh3P0Jri0u+xMwZOQ4BQXSCQq8GH0VEcG+UXMYn2RcxYmpBzi+FJucUDyyqEwuVA0ic09+6QByQFrUCp/yI9FLMIaNMcYaEgzyA/gZS40Osy4CZozQngE6EOAkXUVThKIEPxzYt5RB8n/QmvrRt8iA5TCKOPEVR2uAFWLz+6q1iCEFI/N8IGXJUR+LqjNcpEU80jPD5kQzBzKxHJAElsyQ/pkSTWEgOUutMUt55A6qdYoU+hd/kRSwJ0/AmmW5nitcIabY3EyAOjBuGCeXHhx/ReGt/QmudVonpCAaJ6eRs0AyFy/N+AsXkLf0JrHVaN6CSLhZQB36YQAB4IRaKB9dh4nwIReUI9V5axeVt/QbIkMGZO5TXdAMGHoAhTM5NAi4Rgtd8tKV5rgx9aFxukWbHER3YFUHkfnYEFYfOC8f5Xj/AAjSHxgqF4koqXNPlEyEv8Kh9BU+GJ8EB0YRWrAV4IuC6qTdUKcHefg+OsXibf0G0OZkl2QwKUcyfbhGCAWgT7ICArADopYC+67qFoCiuXmpvwDp5/xRAr5f31pDhiotyobopBgTRMuaHwjT0lYq+c+V4z5Qqp1YyQczifRAUyc68vyI+I7qWDD+SI0ICgOiC8EnNfPt0UTBcZSzrQWBQPUnymQTWZLdl/BlCXyf9B3JPUq8SPQcEjixMtUcZuAjdJgoALh3inrKB5I/uKIzOx0EnuC57Q7qmKYgoDGMS2svqoyGT1UnG2FUtCKvq1YJtl0qincHyAz2hpr4sDsg1AnB9cCVBdS1RS+znAIclz7SAYFTvMKsGbi+UVLAfRNaLTJJid0Hx6hP5P8AoPAbNAsVudTwYi0E18EzQxevkn5DTJDEpjUcsssTsoT+anhIkXGepKJN2eJKaSaDxIXXvtMEhaEO6ePEeB0OJSEDmYLIMlAyA8ffCNhWb+VD7CBCkE6R2qLyr3riuEGPKCYuhkN9hpnITgkkou6IA5RYiHD0ZUOH/QZP4JIW4LM3YhHYAIDGu0I9IGRWtMwZnV43ISIQVQkMg5aYDfc+UySZPm2tlNlaEbBUOdIWh2DJjOgST0cnCxjzRIAhXlNv6o27GbmdWCM4BUMkAeYM7fTvjRkTR/8Aa6JzBaRKZbhgE/VYp2+4GO+95ZwPYnqESGOorsN34emWkfoNkrYTleQ4xABjJMabdQQyOOgRWGwNhTwVgQG/Fj36GgpvbhOyRUA5w42IZEAEABsMFaI0KASGr1HpyQA5RCE0qMvzIk8ii4EWgd0CGEAopQAHJQ6EJAmPMokSJCNyMCgl5Aa8HGDNVgDtG6zCWw5QUMeo3TcWEhvQev6DF6WIa0FAQI1hXTc5Crlj5X8gfK/kD5X8cfK8wIoHAOSMy4nBu9C2OwqRFTHLRFuRUoBeEahqBVIYh+EBaxRgWFwj0hkqbtJp8RNpU70ZITzgSSF6O5Q1wosRyEyiVi5JPSBAmNZ1twuGMaUHxkp2cDuSlYOiqNrqsul45Iyw+JVGhOoBEKU84jNlBCaK5RIVGO7CXwZRh8n/AEG2KX0U9iyYVfMW90aWqvLPwvKPwvIKtMkp4Ia5ZLKD055ytpiVhMD+UTLCKfNXRJmfSAIBwU4l+pOELFYlCGBAHcbFE0lxYQ4CIB5oFSDbHmiiOASeZKDSEKQY7T4As3BWqISYYg5DpmfYRkuc9AYiRIkUPwEQzUeEjedFDu4fREOBTB69k4VQOnfeGb8gjgi21f8AX54DNApvHXESFJOi7B0nRyBcF1sOAOpezBC1RaBeX1UZXYTo2CrNjknKIzJpLSZyIxHAwQk8YruIJIYwDNrodg6hEA74d+yx4h1oUm5kVoIA3Cr3WRzUiwho8/NKBAACAC1vCpQeROpywJzorGAvh+0pTCGBIp3mlrcJphBSvNqWHzAd01w/QJ0/aRyMSYIUhPItJgf9z5pKJRtwMgiBigXDj2MBGOZFExEybU/R7oXh9l/BtPYxw5nnL+o8V3D79GeAjmRRUGCbvewIUYwETqAlO44XOO6h2LnQgQbgoeIAYhD4ZoEbl9dFfYblHucGDC9DEaM3qyKYZpn5ULjwTgXdquqJr6MZ4wYMCniGL2N82TKLnyz5TRqinX3D7SfdkF4lBkIHHqSAjHAmWvOKl8RBkAY4YCIo4GewG8kkb+uLVEwd3bY1WN37+lkhMKnByVMM1kSfMRmHzIooCyKn9siUAAvnG4AJmWkyIIlpj2LTPR319BRxl1t8yB8RYKd+WFkWY88D0Wuqaklo5BL4k69AWHs4hEHNGOzJdCGSAZM62a1B0VpOc30R+ICZJWu8jXhHvM5GUKppea9d4Fx2P2F+n16YrJbwpgHQ3TWFAUsihLPkUgAHLhYTgWmxPTJpFLgEZBCYIUOOPRg4DVB3qqEeHRjPQggNU4k9MeH2cRFjMLzbsulzom2Qge8KG5JjX0T716mhUInLUSJIy8U/EGL1QImCiokglMdguvpn0D80tCM4x5PFaTqrzqm7CAEJU6cnYywA4i4PFOAWzABLZKGgBiQ7LTIHcuzWqvVGnDjnM2wooPyF8Zn2dKQdxgdkY0w1VoAz1UR5vUehmEokTadQSgKNHJIo1LN3dvxN2j0KZtj1Hp2HFTAYp05HeUOIRL9o6BGFVZqU7S00QKI9LHMDFM/ERzDiAQDYhAoCJAFi9qYfxwQCkwY01ukYkGq+1jUOoHUOBJCAHNHYFg6AQZTAxCEzPEB377Aq5jGvs9y14YU8U0kgyhBBIwERk1yLkZBAFWLoRhsvIanoYZMhymntHUZBeLUE+bo7fiTtQ5ZqUjEImDenbEqHy/qcs5m/nEFYRYwggs0pMb7bGRQzdE4DlmBQ8WLGc5CmYbDYAAXYbfIoHyYAh5KYtqC+EYigvZ8AExxEmHUplA5b+KwZwTI8hH2gIAAA4t4ovZcPo2PMH+ZT2iLPIK9ECuJTr+KeYxOA/p7g7oVHWZ1HHD1nAUNZ1jM+ilLxeandA1qhVTVxoaJ3rlHIKGG8u88BlWg1T5tGjexzEr0BMlkoFBzRy2bltJEGhOJuC/EDdJioCRX9hey1HBRedi6KefnNxj4KVCUxBcocJBBYQzJlfwymxEHghp64cboQCnfId0Q4S6lx4LfZHJXmQH4B65PQRMC3ofggwEpjCd5PYLIjj2OPBasz0Kesh9R7HfMlm3VGMEThm3ZECNbYPXg2Gb4RQSwed2w5OARJKc2a1WCxMjgmSQYBialsOEPlkoenm1S9PEZzg1UTHMLpis1ligjLhx0cPFYRohTAv4T5V58L0EhiMUPOCcsOLgmtvEFroh2PwMmdeMaiJPLKIuBJN6gzCOoq5Z+V5hX9coVFBWHxggFS5fVCqDAEKuWPlFzAY/ZFTPEak3NBCkWWWiMCdlnK8CZaM0QzHNGWfImJ5FGGP3B4nhXF4l78cxbjOiwiDr7HOSYgCV6c2lFkeiEOUG8FxjKaIQ3mDXYeZhQzdFSMOIO18kMkMBKoDEJg6uhPaZOYoAAAgAgUJVIVy1AAkpRQArtzcNrVID17JzUJ27YfAivAWcYjNBAVbk4i/MdwQegTAcY5DPMgpiAwId1LBhKfth8L+qPheaPhGnpI0+apChecUfIeqP3BEUi83wgZYIVPj5Ae6m3JetWYk1PbtSB5ZaEkfmTnzFd1wIROnTG0KcM2vz0EL3PQ/HYUBdFiQHX2RN6UsaLokgEgtBgoUbqizX7GdrclsG0oksQWOJQm3KyvX6bInRCFrwUHW1KTkgrvAQn8lAG0AUih48NvEZfTPGawcBtedtXhrOKeFjzUN8VcghEA2AIeyECGahH4Qxs3SwiyKnAADiZ4cAsAniWGen47CztUxau0eyPFvK1ToFGyIcRD5fRHq+tpnkFRJKjsm9UJJXRRC4bAmaJMl9k7PL5ZqOWMESiDmOPFfpe6VeK9BtBiPlQtQJEEHFIRoly9NJ+IF3mH5RwU235Abtb9E/YW6/jngFg90060eyBieIo78eNYMFzgEkCdTsEjgUTExVXA7D8IIOSXJuy5WO0NTj6M9gWDFNQCHW/i4ooxhaF6KoOpH9RhJ3RY9B1/HG9z0EDX56j7IFm5apFH8FYIU8xMWpkfAnoQjwAM29PdGwHQwMCQA/FAIUgnHKWFEdShGv1wJMq6DWNnm+XHY3yh3WNLs/HG/ikQthHqf0RJAc91rI1JkX3Wg9sNkdiY5SHAJr89SEAsDzDeiRB+DdhpQXNDnH0AMEQSU5jMpz5IpCUYJtEK+rN8Tsgb9DcBCMAjJwUeATFMrKqGwGJSOIVUiR5Wo2zjcIvQDclPM/g8U1DGwexUY0gjsEHGIgQrSG9OLEvFF1PdQ4tvlFqZihhpAHoCPMH0BOiCQ0Jkgem+SbSWdyTMn1i6N+hjiOxcYVQGXTL9gQiOKgJrrwjoYY7LrekmwT4WQQp5ItQwpyho1AxT2tisCTNzKJgDE6qc8oAJj5USCUzdxzNw31U3Q9qEZoIgSY2Oa6lVHaeTBMGvQAAAGA3zYooSBia9bhQ/JMVG7b5V9zr+32NpYIdhSJqykgj7JOJifQQ/6BU4IoDcJyolF0QR848sRwtR/Q6gCHpCjkBaOIEwF+ZInmoBtTRBBAksQIWDYKM+1gYCAQTznAtMwgtBFXqBRnvEHVEBBA4OxnYISMigpkxNSvmR6p9K4aAbIMmGOoUPkJEU/DlFUJASMwuQvQOPA6inGFjROLLxD1QimAw4DmVDKvHfhT061cEJsS9BBSGEv8XsqFjn1BN+wh3yKEKqGdeOd9hunxmyzI7DxWUX37JiqfMeELJSc3P0McjBIEEI8zCCh1NhghkYEgAhjowIL0DA0DIrOJAgCEya0Dpam8gap5El4JGqKD2Iy4EMgGCcWzQGA2S4B1TK7VHU/CNqTDJE42xTMKCdu8Sjm3ImRti4QGaCBERYlQ74jNck+y+rBQcXhGKZXez4llTjihADwrhoUNL3jFHAhWr+Cl3IQwpdoxI67hBwzvDM+JMhjlIgSRBGRJ6lYAdJe1MngTkiBAIM+C77RoyYloNf0U6/gkeMGonAFqIpjiUbBaF2Q8g8wfbYxKQBZVHLVHKKiF5JM4GfyQgYxOSqeBzuGeaiV0rqWn5TUq+0poeo6CWR28M5ACUwQjI+7OEBLwLkZPnnwjO48O8g7MFhwzNIACIQCKoEwU/jNETsDyRsRI0OwH3jvsNyiLXozqazY8ck1djI/acvJp+nn0NpqYgu43GmP3grq8B+GLSRVCjQDN5zWdy0M1Axai6JcfnWftcNgFpv8kn/2gAMAwAAARECEQAAEPPPPPPPPPPPPPPPPPPPPPPPPPPPPPPPPPPPPPPPPPPPPPPPPPPPPPPPPPPPPPPPPPPPPPPPPPPPPPPPPPPPPPPPPPPPPPPPPPPPPPPPPPPPPPPPPPPPPPPPPPPPPPPPPPPPPPPPPPPPPPPPPPPPPPPPPPPPPPPPPPPPPPPPPPPPPPPPPPPPPPPPPPPPPPPPPPPPPPPPPPPPPPPPPPPPPPPPPPPPPPPPPPPPPPPPPPPPPHKW/PPPPPPPPPPPPPPPPPPPPPPPPPPPPPPPPPPPPPPPPPPPPPPPPPPPPPPPPPPPPPPPPPPPPPPPPPPPPPPPPPPPPPPPPPPPPPPPPPPPPPPPPJowPPPPPPPPPPPPPPPPPPPPPPPPPPPPPPPPPPPPPPPPPPPPPPPPPPPPPPPPPPPPPPPPPPPPPPPPPPPPPPPPPPPPPPPPPPPPPPPPPPPPPPPPJ1fCPPPPPPPPPPPPPPPPPPN/PPPPPPPPPPPPPPPPPPPPPPPPPPPPPPPPPPPPPPPPPPPPPPPPPPPPPPPPPPPPPPPPPPPPPPPPPPPPPPPPPPPPLwYQPPL3/PPPPPPPPPPPPPJ/PPPPPPPPPPPPPPPIHPPPPPPPINbCfZ6vPPPPPPPPPPPPPPPPPPPPPPPPPPPPPPPPPPPPPPPPPPPPPPPPPPPPPGFufPPNEvPPPPPPPPPPPPDPPPPPPPPPPPPPPPOQE/PPPPPKPn53CV1fPPPPPPPPPPPPPPPPPPPPPPPPPPPPPPPPPPPPPPPBlfPPPPPPPPPPPPKOfIM7fPPPPPPPPPPPPPC/PPPPPPMePPPPPL9GfPPPPPPCHvPPL9lPPPPPPPPPPPPPPPPPPPPPPPPPPPPPPPPPPPPPPPJ3pXfPJNNPO00PPPJY/I5AvPPPPPCVLvPPPPB7/fPPPPOdvPPPJNgn/PPPPPP8drPPOojPPPPPPPPPPPPPPPPPPPPPPPPPPPPPPPPPPPPPPPO2zO6fgBS9f4GfPPMSfERvvPPPPLGRtfPPPL9C1/PPPOO/PPPPLsHhfPPPPPM/POO/IpgfPPPPPPPPPPPPPPPPPPPPPPPPPPPPPPPPPPPPPPCnvA6dieCvshaPPPI8/Hr0/PPPPLBCjfPPO7fhvPPNvBRzt/NHPmW7/PPPPPPCiEzPGo/PPPPPPPPPPPPPPPPPPPPPPPPPPPPPPPPPPPPPPH3YfGw8nfIqaQmvPPLmPPPPPPPPPPPPPPPPM/PPPPPLPPPPPPOefPPPPPPPPPPPPPPPJK/PPPPPPPPPPPPPPPPPPPPPPPPPPPPPPPPPPPPPPO+7iagQtPJK/PPPPPPPPPPPPPPPPPPPPPPPK/PPPPPTvPPPPPK+/PPPPPPPPPPPPPPPPPPPPPPPPPPPPPPPPPPPPPPPPPPPPPPPPPPPPPPPPKUL+vPPPPPPPPPPPPPPPPPPPPPPPPPPPPPPPPPPPPPPPPPPPPPPPPPPPPPPPPPPPPPPPPPPPPPPPPPPPPPPPPPPPPPPPPPPPPPPPPPPPPPPPPPPPPPPPPPPPPPPPPPPPPPPPPPPPPPPPPPPPPPPPPPPPPPPPPPPPPPPPPPPPPPPPPPPPPPPPPPPPPPPPPPPPPPPPPPPPPPPPPPPPPPPPPPPPPPPPPPPPPPPPPPPPPPPPPPPPPPPPPPPPPPPPPPPPPPPPPPPPPPPPPPPPPPPPPPPPPPPPPPPPPPPPPPPPPPPPPPPPPPPPPPPPPPPPPPPPPPPPPPPPPPPPPPPPPPPPPPPPPPPPPPPPPPPPPPPPPPPPPPPPPPPPPPPPPPPPPPPPPPPPPPPPPPPPPPPPPPPPPPPPPPPPPPPPPPPPPPPPPPPPPPPPPPPPPPPPPPPPPPPPPPPPPPPPPPPPPPPPPPPPPPPPPPPPPPPPPPPPHP1J/PPPPPFF/PPPPPPPPPPPPPPPPPPPPPPPPPPPPPPPPPPPPPPPPPPPPPPPPPPPPPPPPPPPPPPPPIs/PPPPPPJFfPPPPPPPPPPPPPPPPPPKBTgK/PPPPPEXPPDPl/PPPPPPPPPPPPPPPPPPPPPPPPPPPPPPPPPPPPPPPPPLPQMPPPPPPPPPPPPPPDBnvPPPPK3PPPPPPPPPPPPPPPPPPPPIzfPPCfW/PPBQEvO/uvPPPPPPPPPPPPPPPPPPPPPPPPPPPPPPPPPPPPPPPPPPPiLfG3PFPHxd/PVOvOMHFH/ADjzXzzzzz2pTzzzzzzzzzzzzzzjzyjZn3zzxpprzxRTzzzzzzzzzzzzzzzzzzzzzzzzzzzzzzzzzzzzzzzzzzK3zzxkH9u/XFcmJP0/lHyGxNeVLzzzzyYvvzzzzzs//wA88888e888M8888888+I86W88888888888888888888888888888888888888888qRle880K89n39j88SPO9S8L3A/OD88888M7w88888M4y88888Qp88888888888Bd84V888888888888888888888888888888888888888888LWH882168Tc8488u8P8c8wc888888888sDr88888888888883O8888838888bb88p8888888888888888888888888888888888888888888Itb888888888888888888888888888888888888888888888ux8888yd88881U88j088888888888888888888888888888888888888888cR888888888888888888888888888888888888888888888881c8888By388sKz8gzY888888888888888888888888888888888888888888888888888888888888888888888888888888888888888888v8fe88NfR8888888888888888888888888888888888888888888888888888888888888888888888888888888888888888888888888888Tc8888888888888888888888888888888888888888888888888888888888888888888888888888888888888888888888888888888888888888888888888888888888888888888888888888888888888888888888888888888888888888888888888888888888888888888888888888888888888888888888888888888888888888888888888888888888888888888888888888888888888888888888888888888888888888888888v88888888888888888888888888888888888888888888888888888888888888888888888885Ks8888888888885888888884Y4c9c888Jk888888888888888888887f888888888888888888888888888888888888888888888888888ert7s888888883Qg888888888B888c88qAP88888888888888888888Knw888888r/AHevPPPPPPPPPPPPPPPPPPPPPPPPPPPPPPPPPPPPPPPPIPL0/PPPPIB/Cu3PPPPPPPPPE/PPPPPFCVPPPPPPPPPPPPPPPPPMCxbcQ/PPPPPPAJaPPPPPPPPPPPPPPPPPPPPPPPPPPPPPPPPPPPPOeFPNle2vPPPPOAc/PPPPPPPPPPPPHfPPD65qdHqm4q2dnPPPPPPPPPPPPPLHy/PPPPPPPOB/PPPPPPPPPPPPPPPPPPPPPPPPPPPPPPPPPPJsUTfI9COyvPPPJhmG/PPPPPCu/PPPJfPPNLuC2fPD2KQUj/PPPPPPPHQSAeW/zeutPPPPPFxvPPPPPPPPPPPPPPPPPPPPPPPPPPPPPPPPPPOjfm/g37jn/PPPKfQvPPPPPPJoPPPPFfPPOVWzlHHkDxGtvPPPPPPPPHY8QYD8MLX8/PPPPEYfPPPPPPPPPPPPPPPPPPPPPPPPPPPPPPPPPPPPMfPK/PPPPPPPLmPPPPPPPPPPPPPPDPPPNzHb4PPPG0bFHPPPPPPPPPPPPM5fPLOfPPPPPKpvPPPPPPPPPPPPPPPPPPPPPPPPPPPPPPPPPPPPPPPPPPPPPPPPPPPPPPPPPPPPPPPPGvPPPPPPPPPPPPOLfPPPPPPPPIBxSXr/ADyVH7DzzzzKPzzzzzzzzzzzzzzzzzzzzzzzzzzzzzzzzzzzzzzzzzzzzzzzzzzzzzzzzzzzzzzzzybzzzzzzzzzzzzzzzzzzzzzzzy+07L+xvxlqTfzzzznHzzzzzzzzzzzzzzzzzzzzzzzzzzzzzzzzzzzzzzzzzzzzzzzzzzzzzzzzzzzzzzzy3nzzzzzzzxtLzzzzzzzzzzzzzzzzzz7zzz9sxnzzzzS7zzzzzzzzzzzzzzzzzzzzzzzzzzzzzzzzzzzzzzzzzzzzzzzzzzzzzzzzzzzzzzzyKrzzzzqi/wQ/wA888888888888888888888888888888h88888888888888888888888888888888888888888888888888888888888888889y88888188FxP8888888888888888888Zu888888889c8888888888888888888888888888888888888888888888888888888888888888mi88888888xF88888888888888888888C2H8888888j88888888888888888888888888888888888888888888888888888888888888888t288/I2Jb5PxxRT08888888888888888q3i8888888F88888888888888888888888888888888888888888888888888888888888888888sJ888888898OB288888888888888/c888888888888W88888888888888888888888888888888888888888888888888888888888888888nc888M188Z888788888888888888//AMms0XeLPPvvPKPPPPPPPPPPPPPPPPPPPPPPPPPPPPPPPPPPPPPPPPPPPPPPPPPPPPPPPPPPPPPPPPPIfPPPL3HSlPPd9LNOvPPPPPPPPPPPPPPt/PIdbExvPL/PPPPPPPPPPPPPPPPPPPPPPPPPPPPPPPPPPPPPPPPPPPPPPPPPPPPPPPPPPPPPPPPB/PPPBNemt/D7aEapfPPPPPPPPPOHFcS+/PLUfPO/PDvPPPPPPPPPPPPPPPPPPPPPPPPPPPPPPPPPPPPPPPPPPPPPPPPPPPPPPPPPPPPPPPPFauNmfPPPPPPPPvNouPPPPPPPPPA7FCwtOffBfxvPPCfPPPPPPPPPPPPPPPPPPPPPPPPPPPPPPPPPPPPPPPPPPPPPPPPPPPPPPPPPPPPPPPPPPPPPPPPPPPPPPPPPPPPPPPPPPPPPPHIXPPPIuvX2w/vPPPPPPPPPPPPPPPPPPPPPPPPPPPPPPPPPPPPPPPPPPPPPPPPPPPPPPPPPPPPPPPPPPPPPPPPPPPPPPPPPPPPPPPPPPPPPPPPPPPPPPPLgLtPPPPPPPPPPPPPPPPPPPPPPPPPPPPPPPPPPPPPPPPPPPPPPPPPPPPPPPPPPPPPPPPPPPPPPPPPPPPPPPPPPPPPPPPPPPPPPPPPPPPPPPPPPPPPPPPPPPPPPPPPPPPPPPPPPPPPPPPPPPPPPPPPPPPPPPPPPPPPPPPPPPPPPPPPPPPPPPPPPPPPPPPPPPPPPPPPPPPPPPPPPPPPPPPPPPPPPPPPPPPPPPPPPPPPPPPPPPPPPPPPPPPPPPPPPPPPPPPPPPPPPPPPPPPPD8fPPPPPPPPPPPPPPPPPPPPPPPPPPPPPPPPPM/PPPPPPPPN/PPPPPPPPPPPPPPPPPPPPPPPPPPPPPPPPPPPPPPPPPPPPK9PPPPPPPPPPPK1Qi4fPPPPPPPPPPPPPO1fPPPPPPPPPMLO7PPPOJ9PPPPPPPPNvPPIR85/PPPPPPPPPPPPPPPPPPPPPPPPPPPPPPPPPPPPPDFQfPPPPPPPNpfPPNE/PPPPPPPPPPPPPIq/PPPPPPPPLFavPPPPCUpfPPPPPz9DCfPPPILPPPPPPPPPPPPPPPPPPPPPPPPPPPPPPPPPPPPPPL7dfPPPPPPO4V/PPPPPPPPPPPPPPPPPPPovPPPPPPPPPKr/PPPPAalPPPPPOpdD5BfPPMPPPPPPPPPPPPPPPPPPPPPPPPPPPPPPPPPPPH3JPKdMuvPPPPPL2OvPPPPPPN/PPPPPPP/PPLPPPPPPPPPPPO/vPPPPPHI/PPPPPPPFxAPPPCfPPPPPPPPPPPPPPPPPPPPPPPPPPPPPPPPPPDXga/VahO/PPPPBffvPPPPPPDvPPPPPNLWL0smXwdwZJPPPPPPPPPPPPPPPPPPPPPPPPPPPPDPPPPPPPPPPPPPPPPPPPPPPPPPPPPPPPPPPPIZ3rDb2Wa/PPPPGvP/PPPPPKxfPPPPPPPPPPPPPPPPPfvPPPIR/PPPPPPPPPPPPPPPPPPPPPMPPPPPPPPPPPPPPPPPPPPPPPPPPPPPPPPPPPOt1vzfPPPPPPPPAfPPPPPPPPPPPPPPPPPPPPFfPPPN/PPPPPCQvPPPPPPPPPPPPPPPPPPPPPHfPPPPPPPPPPPPPPPPPPPPPPPPPPPPPPPPPPPPPPPPPPPPPPPPPPPPPPPPPPPPPPPPPPN3uB3PPPMhPDrfPPJ8vPPPPPPAA/PPPPPPPPPPPPIvPPPPPPPPPPPPPPPPPPPPPPPPPPPPPPPPPPPPPPPPPPPPPPPPPPPPPPPPPPPPPPPPPKem6TZY1UvCNmpPPPOpvPPLFLV+vPPPPPPLGnfPPPJ/PPPPPPPPPPPPPPPPPPPPPPPPPPPPPPPPPPPPPPPPPPPPPPPPPPPPPPPPPPPPPPPPPLMaXPPPPPOD/AolPPP36NfPPPPBInfPPPPD5p/PMPLvPPPPPPPPPPPPPPPPPPPPPPPPPPPPPPPPPPPPPPPPPPPPPPPPPPPPPPPPPPPPPPPPPPPPPPPPPPPPPI/PPPPPPD/ADzzzzzzzzzzzzzzzzyf07zzzzzzzzzzzzzzzzzzzzzzzzzzzzzzzzzzzzzzzzzzzzzzzzzzzzzzzzzzzzzzzzzzzzzzzzzzzzzzzzzzzzzzzzzzzzzzzzzzzzzzzzzzzzzzzzzzzzzzzzzzzzzzzzzzzzzzzzzzzzzzzzzzzzzzzzzzzzzzzzzzzzzzzzzzzzzzzzzzzzzzzzzzzzzzzzzzzzzzzzzzzzzzzzzzzzzzzzzzzzzzzzzzzzzzzzzzzzzzzzzzzzzzzzzzzzzzzzzzzzzzzzzzzzzzzzzzzzzzzzzzzzzzzzzzzzzzzzzzzzzzzzzzzzzzzzzzzzzzzzzzzzzzzzzzzzz/xAAnEQEAAgICAgIDAQADAQEAAAABABEhMRAgMEFAUFFgYXGAkfBwgf/aAAgBAhEBPxD/AO2vxt/2rRQMUTAftKouXF8Zj9pAtBANE/gib3K0XLm/Ob/gndQqD4Fg4qykItZY7TAFn26HZKCZvQraiNnm/wDf+vgKhZkgoruBtmaNfEHfG6GVjZ9S5YJrPM7WHfhgoMDZfnfAUMsw49jNsdhMh+PA2pAFHTZGgPzMX9QqUphg+2BAHm+gC2Zoqvs6OoFBwMo7yCiu6xjDUmbOwTW5IpX2bSi9nVgrnUpYJh+7pMxQn4YSMc7oiv1IFGWnog5e4NLLQCOkyxo4IdIBdytszXTUTRwMAfwgGztulTYsBjzOqouE0AFQuftmrvCLWXWKh7i3Ca8iqPIGufhz6hNCH+J4ARMOQkEBaoFFRWg1abIupKNHFqx4AACjui8MEUTI6WMEvER+Zp+iIPDHjCf/AIw1nm7jGkbblFVAFHgZcH3813No+oWi4bKmY4DAw1PSMsvAW/vDqpEdwjE6Zi/hGe7Ju9xMh8EDTAAo+oWUsRBixUMTHAgGIiuYDTNKfJRV23VM69zNMACj7qikpVDNMAUf84tg8AiWd7KMs/oSbSwb14cyT8S4xTswLc/hAAo7qDhynRLy2CND9WzCcCNZee5B1CNTqpRdUAZ+KSyo6XppecSzS3Mh0tZoZaIbL64M0xHphzfrBzMS/caDhQ30I2zScJ0PGarmjeMDgAwIAtlFTHGbLjKXYjbEY5svh62BmDvsiZOmeYHbAAo5dTR+rbqCyepbp6GqCyo7DUsWlb0xENjiDSRjRJBjFS/LSiUDL1Dj/CIMENcQMkcRqHtogeCDnsdYmixWX3yTyALedGaP1WbIeSYFADlsmjgWghwAMBckyuVSYKKmiXvF1cDSACoaiDhlFBEHsXGNIQbe6bJHtHvmXyWQFA40Zt+qzELKM06RkCMAwKgleZ0JF204HTmvCl6C1p41bSUVUMUeZUoa7K3l1UNxOTZNv1RCCHKwdCCC+udUlAdauNwT1MX6Icrzum36sK19h6EOuL31EvcQlnNqxH6Y7b4Y7TAFH62xsmDJPXRo5P3AvUCsH7LR/wAUBHX6Ul7cRD3ANnlQbeEDbPSSz1LmxljWvVDk/FR0iGv2mXYdRuYOGbYAs8KDfB8JRpjX+96jjmH+LsmjwZquWRDbKY+qy+GOjQOu1TG4m8CWkPUxEvixbvmWSjYPhIYT8sMlpGCuVNLt7vXKfmH5ZjD19Lg1gEsmt4uGZCEbYxSd1CD6fCj5DDCHg3cWQZVSrcX8Qf4n+J/R8CANM20AMHizfpFSjcO7Nx0YsXrhYEYKRf5OBr63EJrAAwKK7i+WJtfhiNQRZwCldEQ7mvhKJ68CijwjtyH9ofkn95WXLl91SYM36TfoPAlwy9wS9RuQYS+EDlgUUdVgTRUej4LCpQfXXQ6N5SClmrm0JQuA9ktVU0JoEumOFfEG5P4T+U/lyNPzKfmf6n+pUrs6UH0wA1yh34TFMA0efIdKNzczDzHnKfjhIYtR1wQAeahRFvecoRUHvsmj9CC7eYMGANHivmZmcxODVV3cr0c6YYC5bwMhx1caP1sFOmL7Y3CQSw3EAYVKJsHF8SioyipBh1aZq/QVRcGF8KgWzOo+HU9CDhgBrgDR10JofoLpQ0OuCTHMGy+GiICievn6ENfoLk0eyDvlbhxjZZ8RQ3AOnw+kP0HQhrwpP5fFbq9EOcgmzwen6F6Q5dYlGmWJX6n54/LH+J/if4l3RLtQ5ofBzAcQqM0fBv8AoTQhrxVKgLrzoN/qGwesjbNByugP+7zo7GGMMqP/AHUqP78KjTKNnCD2kXo/RVm+pfyiWBibGNa0/PwFogaTAhehjhUPOuOJFeVrMtJwpshkB+ijY65dJXqAUPcUYSOjhTZA0JYpRxg7WEeScfUg4u4W0qKgorlLxAMOaXXOx+hLS5Yn8p/KLwtLvgUp4gfJjxJjjLFDMsaj4oaJ+Q4TH6BHbpZnzrfsCHZBFPW4DB2oio9nAbxBCsH9pFlEV3APzD/gdqgQ+jp8TZr649/Le3tKhXqRgZq86oCOh8Y9Sn4n+I7qury81AuPED2EEFn0+OPUTIlM+FqQgGzoIpgUV51WVh40MupR2b8aXmELOyDcE08DTDXWqKs+nuyVhJ+TwWTLw+4viRZ5K68oXs5lrIxFdkBUwblKrlQHuFz8EuToy+kjdL0RgG0w6wCWdzxjKXFs8AHXgsuvgC1H4ABg8Z2gaOmZ+kCK4UELqODEcuFQBMFXRgLfY6h74Sv3HZlq/cKUQRYz+0qP/dcFfqU7i8f4lvRKdwBs67/ke/pY2FZlZCxHsmyhagT/AB4Zo7GeDOvc7jEZRMfCq0zHdVSg+OyX0jIErvUiXjiIJTNX4qMvxlr9dF9wte6g0P1tGNBc2WJ/YrZpMnRsh4qC2ZGOiwEFAeB85cmP1FXtU/qZsSUwTRDVjVKGmGbWb5jW4yDUYJo6bDEJZ0SGJ/OfzlqzPa8FT+y5lm7/AEmZrqYEIVNRCYdL3qM4GZ/aRVqaJlqzyZpntZ6OG6rsWf8Ah4CYj8o+jys0zMUfp6XvwUb+Gl4i9S7a/wDE7//EACwRAQACAQMCBgICAwADAAAAAAEAESEQIDEwQUBQUWBhcbHwgaGAkdFwweH/2gAIAQERAT8Q/wDNzo54PdRh2yJczJHumwEpHFpi3wdgzz7WAVFJ4VLgAcH66i0GUhy678CoQLjoAvBMthBMZIlYgLgnCERUPNwuGWu0oIMABoOtz+/XwFQJYa7EsLvdQ+xHPoKcacUdFzKX5SRMqYrXWUKWU0HQvE4lhHr8n736AK0QKxuUgWUx7v0AXuWMrbOCWq7S9TyihuMvxB2GQlJqF4NjqhDrjIN1Zssv6SwaO7IQF+4rb3gnex7Hixrm5hP7mBYyR90JoDbQLwRFDllqsMrvoIfvSpXzLRMteCN6yJWPKHNCUU8/zFVdoGTEIxcpMbP9yAjQwQRb4I7TaBoDRKK/cxT1qjK26iRlwJkyYDtuARQkhwkP0RuVJu/joiCVBlsbyQxS3rqlaY0OMv53nYF8oIi5Y/nmj+gIQKJB5lTWLbcpRZT0gkdqnL7j/wBmlGxc7JxVbd4ikzELigY42VQgo2QqyTGrjYJjQYK1SX8v7/qIWzQiwEK9BCjLXcVWvQoHcr93pjHvGr/c8oFtEoBrFZEcNQZgB0AHqQ+SUkAoGR77L+ngsCP7nrSpiYj08C77kVW3ygXDHh5EoZCthC0gDcDXRm1GbXiQNONwEDxCMO294CK3zqm9EWyJIZK/zi4SPgiKnfUwdZ9hLLCImHoZc4hMG/CUSSQwnjEz3ClbvOMd6zRiwDiDEY8rPSZ0yaOWDriA5dMiEIVm20l1AsH7E8KkbIaDZQYyyvQrb4zJzL2i2Og76KXB3Iap8sJ5CV5j8W0BWjYhaHg7EPo0wDXM49ON4jGdFHHo9SXV8mnbMaY7udggkOWFg6+esS/XEQ4uBZNmHOIvgiK3XlFkeVj9hDK7xbjVY6C4CHuYij0I2pZYCDlG9U/7CF6MELWgCWAvaHYLgLHjtp9uzAMeYQHciALJhBbuSWZ4mN0w5la8ZYb2A/X46jtCJWNOROP68qrh4mAYCK0Y+ocGqNa8RIK8HIjBs6KKWFmUBR2z7BqLYlseYIbIorhJuFp5sLk4iyNxMmVCWudxMAepR80dt04px/XlYSoO8xR+4n6/rUiWAiQiiyI4wnMINS0yK14jRCeHYNS6ZdKW3cZ261AiuvpuQwY2grRBzfGvDOP68qYid5gQoBRyeHy6y/pLht5bgjA+2rayzANeGcP15Wt5fMDy3IicmdiiK2tKXDLG2A2aGmHue2wQ4MsbWJxncJy42MJ71FvL7lF/xQROfZRVpbEw71RQDB0XIQmKOYr1/mC4P/cGk7Ki+0RR4UQgLDzQSlEFMEv4SAvRgbISqi/v/HRchBHeV+xCqcS98KVQ5OhhupaI4JaJ5Vj97pXwQjl3Xc8Q1xaVhMkwVAivPSzLeWB4jT4PGbUx7P4wEBuBaNM1ObySPjj2wiN+T5KBYiFjMyQ0piY700AXgc7wZZYjn2/71uDsMIky8Pg/MwY/MPRmNH8pfE42iIpCu0dquVWOs9SYwVFXL5dtnbxEUdQWDmY2zpYoRR5mB8scHxgottYRXCOpkW296pQzGGOiR6RmtDIiWVdtRHDMarjBqHNf9xK29KXxz4Z8UQhHuijtKimU7xYI8DyRaxElWIQplFmR2ThDt1KIuIghEW3aM2JVcyhnoVEUxztNLsKJUTKxMq8E4VGOQj2GOBWcsKm+ZQEZB26XKNAFHyQ9eHpEO8S2oOGVuNyefkyrzquS6KNwtzr5DZbVS0tzM7FwNzenzS46FTLCXL9RZVrrE14EoGoL0uN44RZewsE9espanKOlQx6ghhWZfxGycRWWozfiPNJRwXFk2mf7ntubAIgzklAZXAwsEBUECLJRpp0p9o2HhN3vG2Tbz/XsJGgmJ0SKiNlOfBo1edghsiZLouUu05M5PsGwpYtvGnJySmnQGgul38fyjl7BN3ittwpxqE04j8UUqfCAuCIcnssGVHnojXE+R4UQ2ssJ7UToRw9hOUPOpV5hyP1/EV7/AJgsej+Ms4mnaLRaEIVc/jL54EECMkUu6gnsoDlHLoVpctEQtOumASq9n/N9W1Wtgly+Nj/o643CLrYv0/mfrmU9vzKeI/SEOQfv8TsH9/nSb2mCWNeP7CxX1tc9djdVsL5Eqa2sFANEIOZS6OBXXOhl3dca+EJdQLalAb0B4YNS14ewmI7T6Utu4QDifIYhvnTDKcolRUBJiyYj6Z1BTuYmZxFKh7IsK6jWSMK1WFpjXh7CDhlvf86D5/zBh0dqq9EQJzpUzN0hpuExyxPMZhFzBHsaLIqgVZoJk5nEW4IHEqx41wX3ABQxi9oAMNVGoL5Zzc0pqVAXiXge6SAppl7EJK/wOWIjhryO4t0qavy5Ch1cDtiPB+YKDKbnxOfrugliOmgth3mfKDuNo4nSeyRMqYvIfK4ip8nybyw4RBYdEbjmKy2O4Lbb17w5gp9MWPkltw4mXiHqjtG5MAiHJosiO2684lr5OAsy28VmU49CmitO0NB+PCOk+Ya6emnrL43Gb5NBhRC3OvqmficUqWSmIj+q/wA//JXoq/KJj2NhZ74yoQKxFVDemQiSjBy6CjKdC1XXgHX2QVvmOIqtvRFwYZQt26MG8kBgUJLA7QBQZgo+fY0kVCxjRuINdp8RF+7fwqHVN4ApcBo0nwfmfvmW8P5gsKcfjLOIpFHMD4JVlt/sTj+vD8fv18keMWewRLpAtohHhCAXYRAKplfuYm4MI9f+6G63mYtMeNj4JSEuFtNwdvw+IeSGSwV7mBWZiISc26VTTw1ic7AtoilDebMubw/F+vx7EEtVE+6VmoZS8+kqGz/cj0oqRaZ52ZkK1ej3xjT1v0/XsMmSU7tAFG6l+vaDLg7Ss+qVkuJbjBgx/wCyZg4hJzyu0ct2cRAjTsCBwn7nTAFOE7HjoM88Rhgg1nG39P17ExVFha5jM1OQ4ht9tmD2QJeD0nwOWTZhmQzOzVCFCjobImNyZe5HBuskWI6xCAJaheCcMmQ/fT2eKcdC1V4MUbIX1R6hX+J3/8QALhABAAECBAQGAgMBAQEBAAAAAREAITFBUWFxgZGhECAwscHwQNFQYHDh8aCQ/9oACAEAAAE/EP8A9ihtXMEBqrTuNW7TIV7VGuOCELoQQ3vQiCXHD/VFQAswBjXKiIfc0Mqx9+WRbLW3eU0fZDxCmCO5WPBg4sZ7Lcv9TtTnkfvLgd2+lR+c3lfDPVtrQAAgLEVEu65EfhS4AGPI/wBTYU0qY+6ZG/CorDbZePNwKAYIeAHgRK5L2aSAZ/6li1gEq5BSwuMnI4Pl3aOFkeqach3nx2+fc+K027j+F8FhuPEJk/y1x2FR5j5UDc35sX4eT/yfYU/9l9X+EBg8SGULd6WyD1mG48SzSkSIHUf8sQzLPQ/FCQJLxxUiDl4TFZVv1FpBwiwy6uVf+pUPmR+nHQCWn5kytGuELtbjUB2F2fzGoBJQ2xXcyKmBlkcW/D+BZIAEq1bhjDOHPF5DRoTLgI4J+EU7K8VYCn7oZfvqFvODngBCeXg0U/3DDeEchkeSVLkE5Nz+iVOLCg9xCXrVkIckHSYrPjyJ1CjYELikknav/PFfMPiKToms1UIXsTElOIoZYuavFpQxt+YNpJnER7RTt5JwRe6/wMKMpjp5sXbj4E7knml3z+CBH8y0DFeFMYSIy8MBzmiaO2E6D9UeAj9MihggwLi3Piu8/AC9/CaukzgKroBVkiTBEiysleVbTCvZekhETCCmaiz77f252u4kHRqeA7inRYq7xn0AqKxHQ/v4VlXc8bnv5hBEERzGpYiuTyeZnQkYxInob9qES7YtLkH/ALVoyUMCTB3IflkagblI96/92AHx/AQTmo5BdpvB7joYDkQVI8v0wRZG0zFMMia4t+XrYeEWQpw0+zti96Qj0OWOQYcCjlGuR/EOBPEqDjiF6wrvN8B6WLpvGEBh5jQAQeKSX0trGiwsmUuCkDlNOZFibNzmWo/ts+Lgw5cAmllY9+f9rC8A4BB51K/eDg6jiO5SJF1kcFouQ3/i5HIKfy5dCfUP1Ueufo/t/AYUIPce6olBTOCFvOPnRWk4c4W7yL0JcBAGQevFE7PeOs0MtXnQG4DqyaFEABcL8NB75+SPEpW9PcKHF3jd9A504ugmh8mrij1Nij+oslALq4FOSHIroP51+oVnja96xiAXw/50YeKAPIJBhiLF8Mdaw7ORxNR3G1TUn5/f/dX2Or+Bh+BY0S9KFmEiLUGY4TDyrvGty8cPd6+Cp2GLYDdaiiIbuwDQwKEgUfjbHfHh5yhf+klKaBiwnBDbr7KUtiDhIdCXp/UW3ufgAStA82sWIMHUvbKhy9yYeClYNN3G8LjwepRGRGzHD8yGm4E2D7oqXLgHcgdp8mKh0Eopncl4L+1XBZAalg5tIQ5SE2AMKx5i9QpPOJ/O4kTpTgYuq/gaRCF10GdWl8sYIcJHesHgkbCxEyT02rBC0u2gZuuRvTIr2YIOxHarNOTMDCsxqzULFC4q2CoUFsmfddcNvXTOkhgo+C3WidSk9PgOfolC5rTRS/OACl7VgbDpmw6Y71Zk6ny5EHL+oud7MlOqVGXYxwXgdrLyoRvQMibjUyU3x/cbPWo7+OQHG5gG2c0ysNUQi7reSdvwVIpBZ8TYnaZp6eYZwYi7TPoxS4rzQe6pJMM5J8jAaaNEv+VMqweHJn2Kd7icIt3L08FCQiJukvd9Z9zPIXdcjesYExiY5j2qCCKWZJmrM7+txevQ/erD5wrioUsPJL2ogC7V3B7UXLbP9h2fUnY07IKjrS7HOLnvVhb1uBbmODvURELwEIxwl29GKawu2jiufFy0x0oHmI4fscipBCDuQEy8U28N1Hs0XeQ9Xb18XrhrBMc6IzEhcJMXa9TfJziKDUCXZvSBKR9s66ZT+2sbsaPZNX12WwjGJDp5SuzpHImBpKnNTvRlJiWjl9p5f1LKMxxSfagDjBdiD3fCfAGh8wfo419JWNq5UNMoWQeaa4XGpcJogJSDIjmPhIMeWcFZEaCrrpQCPbBomUuo2N8IRC9UT4Sw46F6MOpISOq+tSK8IxbE3sjwnP0IuSMuQXuam6XDzUdh5Oy+FrbLuolGeQsZC3eRRKIBAbeq4iAlXIpvFDOhsOnehe+hZVzES7s0pOZH0JmNWgUQWYMjSVu5sWSx0CIJOLM9vU+oiFEAaJsYkApeLtqvM/iMOpB3olucRA1gyM6cOkcplOdn/nqNFuBaWzm3pIBiQ4J8MenqYw0W+gbraodAgGrYDYwKi8VZZ+PIwNqCZBCaXHbwplFrmgnmvrpZz3+XajRQ1wlITtNEs5ZL9SRQzAn20r3sgdyjbH61xWJS9omBa0a38pUuiTq/pTCr05SAhzPagFgncSIuZnDvWs0RcnR2f6jeWSXUL1JelS8sCBgBxyYOFIQphJR0h3Y8KwVbOHHN1dDOt2K/MP21W8RHqoYAMVaauKLS8CFjd6U4wEum2qzKkQO2gEtTFi4PgOB3pcwSbKEHVfCWxHQSxDSIruGmi718jq7Ey77AYmhU+hgDVcKiEKHm4vwbUsBbLnJEdx5U0rDbSQh8POwE1L/xSrQbcIQiQI7MeSHUx6L90ToU9f11hXcNB91DJqBz5PQevq5UySGZ+m9EjN6ahfh4BROyAzh+KZ5qDJBgu7UfbAfmk7hWvpKCWwVgknEC35qtWQxw4G463bDWaLGkAEAaBWqaJ2SF4AzWDAE0P+Ueo05PLGVxRaJgDmK46EHL1MXnlawdlvQpzuDqciepR2AqOAFZDSzkTY5FqSaknNEjzKOSultJHYPXlbwjVYnb4Qn49ObRvUHxQvElbRpolQ+C9oHBw7HjTINhbYZJZ4JQqEmKjgap6b/1B1qFZO+BchztDnVstESroBReMUVcYyTzL7VgTNzHVcV3fDKqop6sgbWpDLfozQjGZJTU8Q2Pag5vtUkMhabKg6XcqiqG4HbsaSEjnD9BHPwyFWOx2oV9Vrqzml4BWlOCA3GIGJnecam3gluddL+6hSRlRuM8gHymgWvcOIk7lMRaeqf288XsKjjKO9ONKR0HyaRMEXlI+aM3K50RGOgc6fghBeDAOXWpnhzNGKKhhUBiTMJ0beplRIynJDPYo16MqwKju0SZcTYGK7FQ0VmWIYOzQ5uwvTBhcQ8B6ttawXDHhCe1HotKBDA2iXZp+CsgADDnEVDosxHdrRmFwHdYXl1qcsbu4A9qh1BtL512uv8Ayh9ImMOmk0sJSnOUFCVAQGgephaRNgPutBTFTusHYKVsOaDtffprT4lxnhiH77caeQ4WMvo1kaHPIBzI6evZNI+7uatBScTnyQeVHAAUXEczyX8BJAcVq112uh89nGobmynKnJVEjXyRjR9yrrqfY+PCAxpFgeeZszR/cQyIGYsgXj/T7jpxAsObTWGgBq4BoHal6gLMI6Ozaryrncf3DuPipB7RzUt7MZe9JO4tvF9z4ZRk8ST7KTSIRJCCGU0oCsF2uMqgPMTiA91YUsYBnBfv4QJ1eqqBGEHnHZanWUpyo7h4FKBr9F+/B2H9hQGsB3VtQ/b57eyfnN2pxqBNV8m0EkWMbJzHrU3KWxww1q+mC9ZHCZat8q0Bofq5PMqVQZSVMJgC2UFHqSMX1iISkRkJkCODB+lCsJRijlVhOuLfiGBsX4UYZIBABkFR+gJnZgipKCEaMXPPJXFJKYxFjTB1qd0GHERROSNRTlWbcGVyQoHdwQpxPZvUiror2KII2MqGwv1irj0RccBkOHOfOOs5yyMZcjSIqJD2BJMcvJhIq4qqcEi0AV5VJxNqdAWiA3gsdRl7UcgjmSbsuwVICUOEijGzEnmw23jjxMzE7RHv4tQjh5BdxpRQ+tkxwXedTvDkEbM3begYlg1XNdVzpdoYYsiXE3GokOMXCA9/XQSHCnYyls7m20eXEcCYe6Fz22pxc9j3ChXNtjsNDoVzhLmwdqcF25Il0LHIpAk2d6bY+sVGIplIMNgMg8n3eNfSa/1JLafPWHIl51I8ndyYu6Q60WCRXltCrtwRyHafEP8ApEiv/PkD4LlUzP8AVqUvMqsnoD71KiXSYSWp5H7k0JLGwtDmweM559o+VToxg8ArvFY4IDiHwPjsQLr4NiDetTh/vKjI6+y89k0Pu/Hg6RD3b9PLdJEz0uKTRBYqPwAFocPGFh0JjGGCfQhiTnDZ7RUpqXgCY6z5I9EwZp9lJZtPz5EEhpH+oOVldBDK81GB4E7pSqzDdLkQd6g3Bl2u7qtENEAgAwA8otsHQhaU+718FGXhJSKzT4w/DROBYPbysdqAAFg/DSmFCJIm9Jkl4C/imOUUVlBpF7UQ2DefhTQCyIboL3o8FYiElxUvfwjySPU9xUI0Xs/P9Sa/ncm3YFDBQV4/yNWJkkNhJ3Ke3ANdll2fESRRKsocxo8FATn4ODW6I70EsMzY+FWd5GwWOrL08UMxY3JXYKlq40bQu61HI0HIMi2zoE4okTBPAnpWRjiXSZ5eFnjo4CjciJ3U5GfsfOikQzIuT1aJWgOPwZ1gF0dYInn/AAXEfZWXHQ9XCOXQP6VxLuofn1iiw66X91XpLhCBj2fwYlZNi0pmQitKORVETYsZf1BpDIHPcR3NTPKObPgPC+oCPBqyf+of+UwUgE4PjkGQuEo7Vr8x4onwNfAL0pW7OkpIWLUqKQkLNmzEb+MjPCGK8BuQPKs6mKAWKTwZMbXRz8CUqouI4jTh5ObEcLJjvvQ9CAwAwCgJIkavIpbiNxgsHxl50oGhEkTerBAEIxpJl/BkPnvjQlPTcA/b6igS5UarvMVn5oBMOmkety8NG3mAjj/CGP6ihf6loAkF4BKwE4sOFGNNWGgEDZZOzWPBkcQD38GoPiT5zd6mrFXkg7FYUmLF9FWdSaLyw6jNsVGLwxhG8T7KR+ZVZwRPPxY6MglussHglIBhBE6WPNSjYAQBgH8iYBEboA74056OeH7BD1MO0q3EHdKxMEFsZexWHqxT5SAEyb3BHeaYZNWwK/RBy/urTUUckMWUVIJ6cgJebTjVp4AOj3UxKKXUnZPGOtc6DGCIN70WImOwpljbwAEEjlUwsNxrsfCp55/koGEa6MJyedEBBYPUALZGIFO1Q7dXxZgG8Qt/8FFCQPKEnVKuhjbIuA8WDxmV8xSTIiwZs3p0w9ySYETnh/qaIxEhGkr0lDC8v/pjG7cwgN1pkjoU4O8Yf6Hu+UR3qVmjIsuYTvUgJmYDtL2pSwfQhKMudwr1V7U2kM6Z445m/rNQRwIzQD3VMq3UXBHEnl/gx+BNMjAEq4BWSRYA6n8TI/RFWMKTIE4W/VSsgcQY6QKdSzGd9pqHU2aIckPaopJ0R94KCJLeHs1ANcRekHvSPPylYYGAZHrzf9YJ+qi/5U/68wkEFaFKZVsPoQ+9QgR40WT1n++TXhytBrscagWeH7K9q1idLTirnM/AxJhneGabtqfXjaweLN22oHLRtgbA0CSd/wCJDW4LrX5mJ/yrvLjlqEm2Jz0oUAGAehPqRDmHFT2imeyrhB8eE+QjQQcSCnQmoQLDOL2qDpSQ6AxOQZLxpGQeU60YMfY0MMvajIE6iGE6n9Vw8MCNgrxBh5dHpMZxw/NJKvLloQmRaZwv4B1hJGR2acDFm2D3c+tNjKhoXRPp6a7G4IDitQAXIT1IOk1OPmZ76R2obL+aTiuAdCrBbfE4mrtxxoAILB/ENM8mQ6G/dbhUZxFGeQcySnYkBEzHz29qDHJjd7HKmWOShetRN3WZpDhyip/1ShIY3XdaYzLDIh0dGjz4xrVz0M12Kn7ZMiQE2QcZoFOFXSklztGBzKUSZ+t/agBpvGbrNAQ2B8I9Hxacj82D6rNthwpMEH/fSKEh285psJQwEdGmdgouYOz/AFaKCNQhDF8uNQOrxtJgrjRQAS5dbmm+HhiFOIOrRvz2RscbHi9GozOTTBNy0jHXCj8xJKJUF8R9jid6nJcm46rOlGtC58S4uWM4Wp2HyQhKLsXv6bvMBlAmwaRhGNKbFIZEySr82i1cBm9tajVEZrjPxh6tzM0/PIlBImxPnTtMsXx/4ed58OQbdgUFiFtYu7PDDgVkOPTdyIjVioIgnDwLeCgzJFMpEh5S9fQvuGBomPY96zo7Ewhs2SL2N6VWVGKOgeEPGglgMRfgWAOQVLyQGfdevbzJtWe/e01lh2IH9XlbbHVnDkvThQVtWWeZFnlVtH9M6KCSxKXu1rY8N0bZOfRohxpF1Wfkn8eSp8R6daOo5Na7DhgwCovRDdC+Ri7Is5zsPJoq2A9uKPvh5tFhAxeKID5nKakwFJhIk9OPCdFYeKz0EzelTspzJMtZq00EYi4LqjZeH5w/+MEfFfRAT8+Z4IEOMVjaS4JKaAS8uZLob9JpYBkiicA0qTgNFyKBq2u8jfR9/ND0HkoOYa2/Cl6DwcU3C5zK2hCN8VmwhchsL9YpyQiOkNjY8/8A4RhRL/uko/q/GkD3iSHSlZF1f01t2sx28wOjhleQFjejg5KpE8VYBSrYCo4taRHU8Q+TKjARYkTOlMHGE7pi5RRN7k+tnZoAlTWOWaFyNXYpQIvwkBjn0qVBZaV445jk+MSookQjEhGGtXIpcsMEVg74ZUPa9MHEmazbOZXRMR2asOSx8gUjSm6AbpfmowyxPqM4nB3Ki4q+okngbNJTAG61MNJYK2Z+/TWnACmQPkcDrlQIQoAwA8bgNpXWZdDPXDDGSQgMCCdxqNyYMloemPLxAVcDESiVadFhEAPoPZ8YIwRxm3uPOrt0jrO66W5epJQZNQ58uW9EuJmo8X9b0U+ImLcRc1GWkloV9IdxU/mijJ/bp55KD5srhOpglSB9djzSxzoUpmHBcTdq1f50NkQlpzJwpFfIAhlUyyij0So39Ddxd1bEPto/qo1Pg5YAlXAKMpDATdtry86HNlzoVKXCDKEIdV8GjyDiAGIe8bVOpUOHDIZ8EqYmwMhiRlrw8LkBkMrqJceFbUG1XVmdzekBrSDE6xhQ6xjKpOWJVrQAZXAHsUlEYeRCJXTHWa5D6qlTnWw0KO9KsnGntyw4dbvIaHYSKDyQe4ouKYyTqDUxOlMhSkdTi4vTKiUsCSHJTV244P4pxsDB+3OmUC88dndSopvmuAKC6FuKyDhwdyJtNH6cL690+0eNtrlax5C/GKbwT2Xi/W9cLScb7tYDonkpX/swE0U38ADuSHcpbFqFwC4X3ijhDQGQbIj1agzSJN6noa0x6IqIluipjhFYgBtzDtPqPPLbWBJxZedWUsM4i9gvxaB8lgcRJ3phLWHggff1IqYvYuE4E7GLSouFJLMGAxhEVkiCczoZLwX1/pmS/Nb3TvHx53KXiCSoTllEdvxtoE76gW70P9WFTHJ3GDD29qQBTgwuUCmItiCGqbyaYVA86ZqRnhhO1TUp3CeK4neyPDzcZw6fsqTRdzycaQpLK95ntwq6FQMhew24NXSsH63pQoiEIJjg4xeKu55HKTFzToFTsFXYc+UPBKQU4R1FhDjZEtlFXBzjduLjRf8AlyU+/KNDwvQzTs0GKHEjDCmoOm/FMEa9E8lntRuISyXCxQ1obrYUcMjgMXlr4FmHSg0/8llTwbcMFjhpypB0m7IMVYsaPWj2z8nDY4j2nxSxmI4S7QVjla8jvLoeAAMg76mbN+3wUpDZtWZv7hQYumOTMCE2SoBEC1CwWSC6BFLqPCbYK2ANK+a5nsFWAk5wfkfTWIJpmWDyWaxaBFWBicpilFNA+RtnSBUNtEZKD+WRUZn3H1GVmRcRsjV//T/tw4jQTqEMNjMkKLAkcckDvpyo9WGMTpk96kXPqT5fkWEsw4nldu7UQSZvh3MHyFOPs30JP6j/AFUMYn3F5uwXemdTxiXa3U0zan1hY1XYcHDnNCyUAgJCYNJmgSEfcIRDtYVBYIwNBmvE6VHYUFuH7PMLutRcBPs8hahIHBHGpKut8EDXyoEHvV8BKGVYD4t2j+YLyHB3OlAvERwRPbwgZIj5Ce61MWE3zUdg8qow5tgmpzilsZHALUTjxMc7khRW9n7HzWgPZeDc4ouSaCDVZ6VaQ4hCc4mpHOoIR4Tu2KEmgAu/hiInKCDtWHzNzQvd8N8k762IHs8YKNIMDyQ1rEZI9QA7zSgWI+KikSwFFNyoYuOaW7zfb03gC87gvlKlCCES4ydho5wl1RwgvJOdL7GBL6EJYqS88NRaJhEQweoIqCjGAl9qaDL9rl3aLUQuguzdIN70N4TBgcFoi4MSSImSNx9WF5AnCUdqnchRxAP45BRaBzdu5p1YqbquLSS9FRl46Uo+tdRn+q0zyokynCvY5UnHhkZK5HFGeB4AI/q0mz5fHRaVLoj8VwYOrPML31kpeTgTAYTYDHuipljKuq0S1CfMIglXTKjtNFlKg43nlRelF6vEcu9WMOZAhnd2KjLDkzrcbERz2pmkAStSyITxTHesJTpYHlmRF/y1707C/RxeRehyhg0Cx4Adj3KSP73pFI1NMsSIZwzbeiUbF4CmptShhCoQwY0Yznl4usOigxdGSoI9ElNjUkOtXwCcBJKZZrHNSHIEN72rM/sJHjj4EITJAVkdNafMErwiG8OtEpAAQAWA9NQsRcUJ7VOThpLGWBOc0xjuzBE0xoNe/RVB2R6ij1CBsIwRsnOnTttZuRPah/f3FXZQfyKjG674SAPUBD9Umkcv38FFj8d+xiBB37KMamSAI4Je/l+v0rsf9UY2BVwK76CSzSLYPyLB5Q8DIynu/NT3Vez4px9y1CfuwfML/wBporf1hrLwQCRskgsOSzjSqlxauETvdYynBSgCcE6AoGO3sCdd2pwGO44b8MlDw4zCOaAvWigGBwAZAUTsgibNKwIsahkFMRra+3mFV5omoyheHWmbSyAHEMtDafE/yYrRRwXehHkcqKpe5AI8Qwbgz3Y+SGFXWCaiXKAFrMQOygMcIokQCwGR+JMGMAxLBKigLnA4qx0avwGgxVxVzWoik1YSoKcG8izAC2ZdPzZ6QMOYHtNR9u05KO8eqelNRTYKN1V7RTXcJzJ7BrLy/T6V2f2f6ouKIfGVCJYhwSZSoMDQdxj4ohMC6iansAnlPcUY0L3r8qDUj1A+a2kbo3mjNvUIQuLBaKhoVAGIQSlp4eNrmZUwrUSmzlL+iWJ3if5OPzolYV5f2Cp3LDzSeojaabMhkpsT1p71oFZbYPpHym4vQ1gWOVQEcZRIEbIOM0uKQeXbgHzPu9K7N7P9UTCxnGUUosTDoIFogmR99KUzTsp5PARCrLDiC5dIo1GEAYBQpHScJAB2YqMLE1KkTbAid/62VG9nUJ8CpSIYnAPlaPRwrGKKs3NbGfSmzNTirTxVKGmDsvz9GPXmDwOGbtUuqT9wAOQVnSViDWIk6Q8pX0+ldk9n+qFQSNkoxZrJZd9TBqYUJXVup0zWkEkTyIqfCf67C0gHkD3mpVLs95B2T0nUqdkGNRmG7DwOOu9Fc/EZFdgvowiaLEAAwAwPRaaZgyc/rblRQsTqYa8Xb/qjGtkX0PmJ7mupD5p9Cb0T/VULflR3q/mxBF4uNR/X2kxV62mhGw6MB6UIl7Glsc/ZQvJiA4N8InpR6PwGAfKK10MuZ1oJdtkgwBkBYq5U6jCRitjj7PEruRBgmKf1bIiDboCtum86LU8sxiVIYOUWNZ/zZMVCTpQYSE80ow9LC24Cj7loPj15ksFl8AyqbNCsusHtTsD6ntI+aDIkWIwMk7OFHmWKQJwgyTtJepYoDE/e61NguCLg5alzeRuuublQrKBEOzNW0wA4HiULYUI3EcmhxyjeQcYEhyrdvKnY/wA3BY4NQ0Echs/NORIQt80fjXwST7HGt4sc0rjAAPoDSgNYJkMZGMcvMJtMLGGA1YsnCoAbunrCp8Rzuvcd6htjmerPxR3DZxlVxVzaj/R2n5Egw4mCOjDc7pQONRB9mp1NZcDxJvSAqf8A3VnlUvh2Cnqp7VBLgcZUZMhaHDzR5Z/0nYhhDo1FJ8ED1igix/8AJNP+sXVnBiHQcF2/xQKFRkmRbV9uNHJgHApIxrr+c/hstJQOrWJqPpur7ZzcKt/CgO9A90L91mDxB4LogHr7pFJQZ0RJqfOHorjBFMQfKQ4TSaCFGImCUkDCC8c/4mKvN2RABEr1LVqt7he4jo/2hZu7AiOVPu5FBM8R2woy77Ed6NYAbrsB71ahxCQrMaJOH5UrLIgxVsBxaHxilAYJhsZGP4Tpe1wDF4ZpbrXPB/lFASKdnvFdty/au2E/wpWB4N+Ss0DhKsa4gL8GgYxdgXoSNJ8L0T0eiorJ/jEu8OVLEzANnwD/ABdzhKzaV+p/aEXIxjo0RxKQ6MWvSE70rY90+yo5QIYJYGLLF8sqMuHbyhegd/x58brFNrGJ0aZJrOqPwkjEzClhvg8qwuFr9RuYnSj6sBgjgnnxFSYBLqx58/KhONsHCZqyZsCQuiViWCcJR2pLYd/VdciDn/Fz6M+p+lcTC/tV9oe94wDdbFNGxAalg9iouXnhdc3xsxa5AVABtkzNSMZawGWJqR+EJV8EpcJxpOHOj71YlX6A1NA12dUKh5qeifwx96yMD7F5OmVTnSst63JnqerioSn0WMN0p0grKuK0zt2yMoOA32q8UEzqsFX9DjBdc3+Lm1x1J+KA/wCUP+vBQSoDOgBBHBPVNoIKRS4LKBPGaMkNizNmaxt/XWpfvd6HniX7akZEzU+YR3pDz4XqQdWpytjBNDJe4p/U4dZ6csOsvIq6TzlHwe544UeTEnJCnUe1OtLYCsBcytjfhUEPJBLEoztn6c1bwtiumgfSmFZFtSc2GGsLzqCSXHxPHY4WGHOZ3mkYtF+rtQsgGYDqlT+AkDU5GR4RUBYraEidmvpoP5fhwusLgsqXItzMPVMkUDdue50o1i+I2KzNcypBonhwluru+wUGDBXhD+FGecrkVEx6oOwtYAeAe4VgPNB70TwdBTmWqXwQEnuVACQPbFooD4NlY22fJBu1FPTJaPAWKROoo4O2jiTPD1YhksGAC02S2tJ3MfYTWO8lPYr6L8UlHRp1imeIYzlM9qIJ+XYJGbGM6VeZiLiq+x/UnLAEq5FN2Q0NDYdAomIda3emHLyAC6kTBHJKE56wlOhI9qdOJBQLjC+Ovt6cu0U2Pmsdkg30h86tWtphsk9sHekazzY/cA+MNMxNk1EuUBlDFQnOwS1FLIg4QQ541IySSCE2nDOsSLtRUorZYwj8M9gXEIe1KLafrOPoT5RJyFKEi+gkQ60Z0UVjjpRiLe+3VgpoW40t7O5iPiu0wAkn8IbGSWEGSdqkvrzRWPHg/sq9pU/akHE0GAiplNulY+BKgptC2Oadt/HoInDNXIKfifjP4MD8PBYEN1X2ip+LkOwHuH+k4+WfHKsJUf1NDVyxuXcdWCo8WwbcIyetAQVI6eqq28iHve7yoZzWC4OOeRfilELi+8pLOPSB+WnLJdVW+x6CjDzWSR+4jeJjekORYs5qwEmISNJucqLbgR0HiOAfLWaHB/qi4vhGgUJNA/SmYTg36p5XDikgZJxb0KizADjMNJis/P0WRWCX7cld7nezUCkpUussAbqxWFmghHGFSgJ4BN0msdvA0JgvJQ2FSTWprDwPzSQtvBE4hkjjWw+VfisyMYOgsfbUcEW+Iuqz+x+JmN7CfCrDRJ6r8v6SJSlN5vRkbtN4LqrzApMGMroBiq0xpA1FAXFixkbras1pweJxwehQOCyOZqOiZ+TCoQd1BPAO9Ffo+EJ6pOlHgogDVi5G7t7LJaZRXi0/cYe4XoJpnRJhRImY+mIRdtAJWsW3Q0MjkWqCdc8Z3XNRqDLkCZOVD0EkcUQY6/lmT+kUoXT21GHnQLuIe7GrgozF2VO1MdD+ZU5L4rTJLi1Ow/AfkpJKheAssS2nC9Qa1HIGFph0Ek1OxJHVpE2MBZe4r7jHdKxs/Ziav4jMB7UwYhxcnU8L1tyFlpHE+b9Ulj1FXrScylZ4bPmiECyr2Q96KGc1nwPZqeSoc/zMfCPxUIrBdoc35kWfmsJnngEf0daHM5g8Dhm7U6hZT7GgZFPqO6ONgBum5BUHZWNxucMqIgMtwUQHOIpSDWEjUgZJBo7W4hfh4tJKSJwv+U0cXHM3xTHhdIgLm7H7ditkZ0mI2CVpyUqDmzYqYHZvULG0yFMDLnzo7B6WVWUgDu7COdQdKUiSjnwp2opEYjVgHWo2eChFxiRciieWwi7YUzakJXZyneMd6PVTiCJiSW7eCBpBcfsRFYY2n7hqGDdxK4IgZ4z6KhtPaoSf3hRh57eVzY4wCTvWdGj2LQ7p5tozgneiUBOcrrCnEsRUALa09Wk8DZcwbnMtSGRh4ISHCjYmvqJRjwVXVJ0ioHqJnoDR42rgylWNr1h/JQVBI4yjvUmyJnAC9v6RDoGYMVwA3Wrb24fAD5c/CxazYckbJtV3l64t2pkuPxVLWJD4O2icabRAwpYwLQAT44rgXAJqa86ndu03QcQSUkIWtFZUcrdLuQHu0lja772qgZKOxiPZQ1C9xvU7uxwn05hSh8X9BUdLXgH7Xp4G5pR4TV+vTgiSwCwTvQWswEW0LYuBUyJZIbtr1BJdzEkielsDnp6O5r7q2LPUUYeaEMqLgBitj3pGembR0gUuViyiMJcxc29MCxhRA8vBQJagdXIgu635EeCQqgyxB8rvCPQ0nOxgRic6V+KvESyVMGZ6jySouILTx03iN6Gbn4eC2qjQvSHm9nBugvy8L5WfNrhWJjOAfujYngj5V7dh+FI9yfhXYyfhVi30vBVhp5/cFB9wHu12fm+axRcD+6EwfloXDoKl9dE5lUMYh8y9qv2yfycd6M/6O0olhkxCdrvOiLZlLHHSrJzHHcP0dawdV2EAF76POsUxAcWiPAEcirZ0xBnCDPIjeisLSYm5X7KdNkVkuSJs+CYmWcnTjRZPvPgAQwtxuoM4S1wRNQNXlHFOLalnej0wib4kc6JaVTwUqja8Vh6LT/8AiCfCjiLg+f8AasaPIp3Z/AOMEC+IzPRR5VNmktA78TLGoDwRolw2RjE9HbuHrrjp9A/HnBcRBpm91K7WSsuYvhe15ajBk8myytPKpQI5FkeyFRURAyjEwRzew+GAUssyA9qOyYBgBgeRBQ3BGRwx8J8GjB6e5p3xXHSRiwPfaopxWHLAbETz8EZIJzEnFylzijGkxQN4gfhoJDUt2TajgI1/5GiuTUTgFdmF4z+FJ7sH2Sg4jk/Kj9gnw12ky9xX2CW6Vjp+9ZVji4J9q7uX6acAOP6qSx+ttSePV/qov36/9vUf79JmPQiMrspsjPlPqNQX/m34V/2VlHz/AEhUAjiNbb2iO3gs/EMYwsOl+VSJBUbH2ChAILKXJ2cGn7ZGLQnUYrPaSRywt1at9Fl51T4ag9aRSlihHETKoSUx5hZTaYcvCIzmUDXZLNMiTATsj3w0ohQh5B6jg1jJrPFVJKUM4gWRueEdV3MQRDe80wgqFKhmMYPwCEXq7JJuPwL8ltqAM8hOBuhK8PR3A7iHzW2j6E/Hn0gLsylOIsRVkmDEwFgH6oWiLgOSHQDljwzyCmvAE0gKYDGpIiQcjYdCmAiBuq4BUrphNA/DWG1Hgk+DWshvxCwOU60CRFiyDOcZrDVxvZFBDFkVH3obxLwHFhd0iaa+o10q5EvwLNexq2KyLsMZNqypsaAN2/YKlyXiTDGCIvhM8vzoqNvGKioNKg0qDSoNKA9WPUPQj5qX/pD/AI/paCQ4NYopSjGhocPOud8hgtU/UUVdsCB+BFLQCApF0RcJuVLkURKMsUtLOX5323C/Ff8AtKfs87tdy46NO7UkesTQIiRtTE5TEyBkREbTPKu8VwUd6DJFYjFOkVC2HVNm7uxvg2E5uFSAs2dJppFn1AJ7eJ1sgZHiNS4bsQ6Fq+QZ7lKDE6Z7HgmUbw7d6Yb0psW7quK0EMKM8xsMsmN2orqWPB5DLfh4bWvSfChCR7g/KkhWALd4fmQ5LIYA1V42M6MClX4TEvcTzxTBwyrvBLG9D6KSkRzGtfVKtjVKxah6H/f9Tj+Ri3Eeh8kVvJcz+j1N6M5rrZPpvkkbMQyJwaUTVYIRwg0YHuJpdB5HWhTqEAAZB4EZzszikBQgFAQWfKh6vRmcms5cajG5WpCXX8rG/T3gwN6koPsaBsFisWLbxIHfzomzCbWfKolkmzh65N/2B/xUGhOgfv8AwSzM1+UD5q/M0+Un4/MeCDkARtKI34U2SHme23ZQ45gAHI/DyqcQp5FBolgC7w2OEPGh+YJHcFJwRzISarM7lCJIyU7YASrgFKRkQg6FSeVqXkmugZlo3DBpq+OTcD5XeZ59uegL4rc7uK/PgVnLKM1gButqfCpmOE0jPnNLhnOWEAg0kfS+zBrkuv7Hx/gmQ4Hm/AFTIXjcAPefzHw5/iRoHHrFh1mpMiiESEspeA01pZtcvNZSlgdbfFOyBuW0bUroFFYAUQ1tHOsJRMZj/wCjyqw0lnjQQPOr5EiGMJxNqbJTvmXN7UCCAIA82dZo2uiPimpw6GBMES34U0SJhYDrDM9SgFmNgjcaSPlJbFu5elW/LYjO6zsHeoikq3lVxVcX0vtkE/NfaAR8f4JZl4bkJ7zUIYC3Np2j+SQACKRFc4BmeNPEOU7sJtSBvTixOaWObUMRSXdo3U8tql/ArGQxelORMM4H2AqMTjd3a7OTYyz0pTDS91XNaI1R6L+/BJY4QKQLE5s47UmqDKTU4BnrNMZKmxNTk+JKSjNYJq8+njrLUdCM0JmDAG73rISYRM7Bi4WwriSTRUdkrJULzH5UbsUeI+kZ1s2CjcBerf4JCkhhwlHapnIXOIJ/k37tdUjxtehKDAgOR4YTx6OKl2rv/XoLMLkmFal6ADafZTsHF8IubXsZVMWSOInt4KXS94TrR4yMrZdZejRGBDwAw8ScxD0kSaWWpGp8U5IAAIzCyBjemdAWJ2h3PTYAAEBgU+WG8plPEiOdDGIomEst0axtJOSYYMCC8mHo51ySdAK3UTrf/Azwd0UmnHd6ixQAj8MMhxIDm1HEcrhxh/hSWMIxYFHIaY2lGTMJ5x6AwtsXQcQaIw5kmS2kxy8cSwMweTT7WIOlMPbiPZ3d/RalmhdEVtZ7Gn/AWvpwZ8q0v7K/D8NXikBhfwGbT/QJYtBl760oLArNsB5fws1Ks4lgiX0MfLb09yl762eXZT/gUSt0OAPuCppsYO6h7T6ThUg+JJo5hK2nxToi5H2JOsULCEkoeCeWdjG2Kx9SBePAb670SgIZhZfedDcjfoNKRYYYBb/zrhW4zd1bBD2Kf8CkPkIcYD2agXgB4Cvuek0Goixgv0h60VtqWUziF+0UzFWzcTVWeZUBETMJ1NnEo8Zj7s6cDn7KlGwMs18InjHgfzrhS3Ze7Q2IO1P+BSn/AFc0f+NZHqwjBsFebnQoABAFgPJgicAI91OtYlIOwqP4ufw3BpbgnehA0A/wPNaO2fCt9z1n5erHlnDYu1lgM7WTGobMwXuNT90RFnd97qxbiB8UH11EwkYk2f4l0ULns2NRIH7bCg4SkRkfwXBq7397Rh/gTW5T76/8doH4Yt21FHBSaQlT7wQpkmH7a0dwIwZ/EY6TM0GMPbfhV3RZi8VcOLVsAxs95ojmZ323BtrUxeCrJcvwHK0Jo7oTvRh/gThTKZr3UAGQdv55+SQWlnuy86gObZ4EkLkB3mhEDaSA7Z9hvQpUpmBzU23aTsyWYGIhaTG1o7+utmb2o7h79GH+BODX02rXZPbzrKlTrTDlrTWBXSnCEerX2MzWaV24fcUj3J+Fdpb+FX1Tew1hS4P3pgQ5PvFYyfrrXaAb5rtpFoCWlUmtSa1JrUmtQQmrau1XvdrHZz+01Zvp/EKObngdhq5+uSH+BCaB2eOPOjzFAHAwnFeddawg5U8cKSggNoyuhfQonQQGcDc5lqBFkSR2fX2gbs0d29pRh/gTg0YP6y0pf6R5zMhRLiOIlJlbrx0lX3IjQKbFm3zFTfQDZrsB/MK7SXyRWMyNkp8Qz7Ne1tPYrvBD8V3ei+KXX50Vgo4KUYQ8HX1b5rE7xdKX3ZNYZGpB1isN/wBm4r6Fjaa4O/Z9lTwCilBAiS02y/gTcRgkEmEER96HsG4sByAdRoAILeBMg0QUwuUYXogAmZoBfXUrT31CR19lRh/gThRgvrKlK/aKfwYqKxAPGnEHlr/w1dvofwE/lqH095Rk/rH/AANwqCp9VVofaCn11BKwFYtk3hyHzxyVK63IFigMPDwT82amNyhFRxgxR+gnDp+V9rqr6DT/AIHGgjz12LZxM1JIuuhiuRLRAEAQenPlejgvOUcBRXgUXBERogTglvPln3UUe0VIbdQNAh3n80BjhrasOy48qlociUJN3G8jRrcCP5ULEcGfDWefCFR5+DlGB4z+FM7rP1XaCb3op0QfM0rkffShYvx/TXdj/kV37n3jX3kXWK7+4/KsOHE9ordDw+ypqfOZDX3FKF+kf8DewhbgB7mpCDxFJ7Dq9GakJ/ERduDxcdM6lI3FTggSssfBxHBHcSPKzzYjkHvSgcsTlOw93l54cku+A/Yqf7CPF/pfmggSNkaQZBxZ/sr6NTdauqWgx3o/DcRfBTlPiP3TldJT/wAJQ+J4A+aH2OHw12lv4FH9X+NKC1Uk5jhQJ75+xr7ULpFd+x9q1gjkvsKkJfJ7zQKH4SvuFQwAYEk6NqxEOie4DXXySe1FLRg5UkiTfl5TOqDup7M/b/gcJ4E5qe0VYm/LA+D0UFsRMSErpbnS4DxsQZGUrbvViE9cFMzMsxFKQs93E72MC+lF4YfnAIuzHXwQwEEsZ3NBi60LuSWcPEkPOriKRWJbtLmFF3wOR3nxW43gg5tYTfiJzPGFJMfnPYVLjBO5X3NA0uAvww98KyqSkt0RTl4wiMKaDm/ZovRh4I/nFJktgAzY0HmbcC9xHR80eA9ArSvdImZ8SEBHJq5tM2brE1d4ax+1lPzsZ/KpKEm4lwlfLAdR7NLYm7KMP8CjmRDrfNQRxDc4u3osMtdi+UU2GGGSE2yGONNEFKcXP6LQRBiLrpQZET808xD96MHeK7LIAS0zXvqftpXYYAaknO93fhUiTnhR3d12h2HibplyVx4ptypIiSGghFrmNKcBvZE4zNEcgSsSSYaCyULgkNYConBP2U9IpV9gyDIpt7A2IowpQYBVcgq6ARJywDkQVZLp+aGlFKNaF7uLTtmU3A/fnXv34GO9KUpJ3K5zVlZac0U809MSOvtU5enulGH+BTHadAVA9r1v6IfrrREwRySoBTsPND2Ci47I4uq4ru1jQ98EijiTmABGGBtljQQ/pM+00r8JDZNyoAguQflcj4oQM9xjexeZLdrC2DjFuoTp4igeJc4CQ0tk2A6kNSSM5kw86gLFE9YWfFwWU/dRnUM87HJMt4LzaKcyJeLpwPukE4cgHh8h78PCakRHOexmpw0N+ACqxSYxHK0lldrv446Ysu22PdbVkcb6YKAQhwTQNHihFsFLixHmzTjIW4xBymPOaKYVeTg8qKF6iIpQxDSv/fBf29PvntX2WtGH+BFgDsmPilOQk3FD6zABZCOCNJGBlDyEihzonu2Hu5ru1M3AY5iZH97UkdsRZm0qhll54LyBJzg9lQyJjLCbwOOlESVz47BtjwoIagEAGAeBGwe4SfFY6Sjih+OySAutXEhsRh1xd6vtWMEDlOKM+dW+zAIjhjxqbG8bAck2aTuxGAF1pGPRNBqF5dMKm71bxInEnjQDS0HMQecpqPUnQn5qfXL1/V5RRAkCg1QGOdCMy3so3HZ8u/q6FbIHqKMP8COqypukjhg70WoAbxFrpJ2phetv3BWSPBfE+fNanI5v/VADhuyo5TQ6ytciR/Bl1kCwGkkMViGLIpcXHyAZINdkcyQ3qZd2Ul7iO5g1ZkH22FY79XRKnBomcqclYSNfxMAa5Gs6g9amUZjnUp4NsOOmq5uda9FrntOhlLdb4KS725h2mnsQq4P0BzqFinYMB2m+8VgmytNYynGMsKBnBfQ+RsIJZUNDC7nXZBWpHxSBYLuMj2aOGusnQ/FDsgZ/aX7Vx8AQ7h7UepBbic8xODV8ZMdUwObaksgMTLdCmGc21gyjKZDl5Xtid1Hdh7P8Di9OEL8CXOVMKgzQXYe9BbFv+xVnDxh8V/6VGtWGd9nCjJHCqynO8yxtLUuBOGMBB+PkxeN3Y1ebm17WV3QD5mlsRF8wYS7ZH4bRIBIjgjTJ1pJgdJBntWJIyYNs13e1FriDPUTcblL5wpGxxiAvvSDnbVBHs0p8ENkcJ4TVzSC4vLk74UEhbux/5SmSIHZ8G5FDY6wkuTaY512Et7lW2phIZ/Ws2qwyF4wnwDOHktIkjmLzo8Xu54CWpwCXbB4qA5tM4FjAJ4lnlUGgJ5XYHaeVKVbg4n3UIDPOrHtXmtgQBxUHdq6F2AF2P8/P1kCkSom0MgRyWHnNAAAgMCoWaIQmlGW0NSI0tYAvPyRUeJgVKiwEUYzjeoxmZLw4KUoMSCyb9hmnRnGAjbH1gq/cuuEM39UdEqDqMuZJU1Gc9uI7mCUHHBT4igGGG5O/ehFYnOUkx4hHi7d6uGAcf8/OfqFmFBvnBxKYlLtfctfQfNDyZeclDoQ96enZvkLQFEGYSHpFGkUAQAYBQc8AD3rGKMmTpM0EYRgsGYNamBhfmQ9v9SxkMXJBZ6kc69mYezXdz33azL9d9q7/ANA6oUHYn1hoGlwqYDIE3d/9SPVcSwmiNXJLU/TWRvpntUf/ALnPDEY4wE1E2YqrrEldOF9qIEkbn9GJpcxQUEycXB4hh/w9DPR6QnwZ3HrxaP6LHkE94BTAUsGuA9n4ZSpmCA3aQv0KSHcy/usVILkkSl2XIKYtP1Yii8DJHuqM3cfahRuCDzGlBkdgjZKkSeKzBleuBh0I/OmtGmgEtPw+8A7iTOsJtUawS0OCcmT8iampNaw08YU44uWkJMg4ejNpE6/80w+PSBRh+ExxIdqxO0xRPIgZNl7jzq/FeCVWwBqtKRvUh2pGlJyN3hO9RIkyY9Jnwn+n5UqPqnaYUyL4Y1h7ObRJPyJqCHJ5hSGTMfAFUAY3nI8I+aIydvKg5LPalzxciJVlYylaaie16ipntOin5yPo5PmXamdMs/Ox+KKBXAoOWUti1VGOVe2j4KxHkj813hE+afhJ1VrsfKh8G+2lJ+xZRAmzgLgc8/QRieQHVoIvKRGOiacJ9JKMPwgh5THGUd6wcEjhCe3nUyIATA2tnUoIyFXcDvQVGbSD1TUwmGYDrEVFRLJQ6TFMEOyPvB60zQ0tmWNnMcv6dAykRmsg3W1YpPXFrDBQ4FG2uNxNCXXHhV2xYrCIZjcTn+EZj5hgN1oG2mAQF0EA9fSn4IELwCSbYY4UpSKRwnFjrR+aFiwhXhW0/wBcPxUSQ0mLrPq8OmDwq1dEap3NcHcrBXw/TXaFL4oCDNoVFR6F14G62A4tSO3E9J4fRNL8GIZEyRwpyNPe9afKeBhDzpiyR5jSAJg0+iEqLmK9UmpqUiiTvgrFowprPgHBj3f6ciHoAwOyvY24+An37uGi938wnSKkdiA4wfY/CHRGILGJvwO80aBFfAjDHBpdIojiuJ6Jy3/iDUkSwCwSo1sjaSAFjBqDQhyR8/jHF7dcfIYbhSXg0OS8emPKhEk9RHeAN1joFCkSl5oun70mpXLNzWhhkrALTRueRD6s8qxJrRQg0/JPvLCo0RcmPSZrh4/+AEqzJ7gH0sCkWkHWxjsCisRdxD3F/pzQIpRiXAd4qLTrSOJQ1zBB2typvjwIPkqRrOsE9pqfwO0YgE0zflP3mrpQzRdUdSZeFTghNyId6afxEDZnkh81NmHUCe0/jZUMbcLwAcJjlUzJ5p+QB5+po5E4EVK7Ag8JVR3Z6RQ1EKzLeUY3vwtUVi5AJJuO1SBTrIugA3MdPUnuiaClmnCHHEBvNQabkeHZZ7VIIjNg6xFI2gGsXAwgM8qxr5p4SADkfKgGbYQbEraMBrZ24a5qx2p1nRxF2s8IoVRAGCNx85MYdNJp0rvWQUAEH9ORQlu4QgBmRFi9LL5vIWolqL3EsAM9vt3pwBxOQQN0IpHA1cEoC+cxb8DKsLQeVd7BzopmRs/9E8qPElQ4iTuVvj1T+1GH8O0AvbRoCXkTQmuiaZf9I/Hh575Se7pSuOC8kPs9S0T0swMJzE1qR05sR3L+w28Hs3fMcy3IpeKkapA5ydH1UijsIRHO+DURcD2KilgBcXN8IFTlc3QNVpmdqIiSmgC+LDrqIzLO9BL7UAobzC8i4l0mpUio0gWxLdruOTgHz7rdM/atvz9HD+ntKfkAghlrN8TtQrEhGYsJzLUfhZ1EG7fsFWNIzg/ta/8AYAIr/wA4INHrz+SgkOFTXGMeTeC/44lYqnZD3inwJ1RB2mj1jKBGb/XGhTVEpGF1WNvwviKLPhVJMWIEIiUcbNqWySwRhyuepRVGYDBOQf8ArUTa8+f3NDLjh59TgOl9ivpsL5f0d4UnoYPlyqLZFuiDiYY4FFbBJmJJ4YXawX+gRxjDyMwYfAOIdWenHBQw3IwMhzSOE+ERusBdNBm1FcRhaR1B3q6gyWGU1WCd9vWMokl/GsYxQy+Q9Tc6BQLdovZ2MNVpL6XaoGxOW2VAeqR5PWlbDjDDq0rDuH8lYQFJh66u/iXQloDLMS4OiYjx/gAZrex81s0u5+P4IH7Qj2TRNaBUFYTU5G/SlmDmlXulBED/AObkcg9GOMnyE+K0y65/o5YgQMpSTzt0qCgaLQV3OirT0KZPfwS8K8UeMuhtGeOlE5AQZVB4EtRai0moQAYrWPozA+I78KsMtpD5dCrXnF+YftvCU2yGUnuJ0io3cxE0NxjtlUhKZIQMWaakuP2M1L30IMrNCya2mkAVI4PpqjFMGwAiLNotFG6MHNaEpQv6Kk7KSxhLOG9H6sMuFAHQ9U5q5WM4XibttqvH1ksVs1AgKbCQZHUOXrR6XjEwtnJdaWIKVZKutGAZIBSScITWh4ngPyozvs40ZlRmhwf6oeL4I+VJwnM+NN7wv1TsLwX4V2k34VffJ7DWHv7Fwr3+g92u5ovmjHDkobDreDMDPEV3lS+acA/rrW3i3Oy+pm9KHaVD+N/8HIHzUv8A1Ar4/o4oAQmtw4MlygpQBQCDYpBCjExA1jLSlghEmV3AGSlVLjSOksnDBzhy8Ia53sSghziKfpDF0Hg4PKggMyCfWk7U9MIbo5oWTgHxWbQrkms/JngFCACgDIrfs9+eps0SNZMjQEA8XKrdqBwlbciiFZBlrBHpx2xzsZdlUtkuukO6eIg6e7pS+vtPW34nJZnYz1wwxvOX6DH26UfoQ8APWIxMBI8mrst9qAUp9m3Gk4BXcutOWFWSXEVIwvAfkrIbjSXE8WfKj4jjD4a7QXzGvskN4rET961MZXG9k12dJ8U4Y8XSWPUV/wCorFHwf6rteJ8UYDovxSIgulbZkxhUNlFYtMneyPpwrQ9z4qUajuKP42b/AKSh8VF/xgL5/o8SQ0PnwgBkJgzpfGgKIJlxqGECSwEt05xQUrLa1P0DuviBLklBRXYPECEOd8tS2B5oarsF2gMbPJ3oicoHbFR1KmmBi5NEC8y1IMlOswXe1GWXBwTgD4p4IRMSDjzdi3qRtiI4AHuqZxgbxVfY8bftX197o9Vi7LYWfIl5V17KdLx03r3dWAxidaUqEGGThIg3/NioqKio8YhpCYMRY0mJpGuExErbWPT+4K78V9M5Hz/HT/8ArS/VbpJ0/d/SeLKD5s5BwIcM96H7AxvLjXNHDKfFJgcsYrgBu04EEjQagGPG3GoPtTMPFXAqWgCMkex79vBDL9Zbs5dj3ogUHOB3I70wZ6f807tA4BhvvPA5B6r5cHmyexRKY9IB7z4oyKspVmAEN8LlZ+2GgQeqLg1WEJIdkWlC0ise9aNal/aoA9FJALyuv8LEUel9Egj5raD6pfFH8btde6+ag/oA+P6PhTGUUdF+6jOOZChI62tpjRKzbqweOVTqM5uHP6JRlw24LhJnjZb41lWe6ABJIeT1oTBm8D8It1eVRdBx7vqvpp+HAJZkSLJyt1qAQDRIL0f4uVCELRqUMbWp6QEuA4IwSW085+DITI/OB7NQrynkL5/jo1pOx+a4/Ha+P6QNBKFCSJJc7EUXUrkw93lQjNRu1NgyMqxEOTimZbOa8Vv+PAkGY4nW9Hy+BgDYP4pOQNVcgpxZIhyFhyKIeLeLI7L0JW2WDFcAOLBRTwBW8wLKkM7FGHrRlY0bq+xKn2YVwA+H8dItEdKINvdW/wAIiblrChEkueRVioIOrTmvAgspROMDPg7wlnh/QvPzuFMEyXa1EdBMsQng+axU0kJv6GdZzSdH9ayjk/dxrL1yQMrQAZtAnGicu8sjn0Km2YRZ7JShTV0AA2dIfy5ltOgqAcXVf8GCAJVcAM6YIkYW4OI0i/tWtzKFc2jWZRb59GolQRAgLMJ/SomsPs07kisgpciCaZq7s6aKoGNWDGWFYR6loZvIvUepDoBB58q+m1rD+mHllgNLzWbsF+2dJH17sDtXdMjBfOgFaxj86LNYaieAR+A2NgRZricMeZpW2DoxEE4Bm/SBJNZ/Y0VvMjKM3/n5bl+DsUYP7R/guVdLAxv1WODWHA2rf9mexVtpQQDkUHYWRMMFqNcsL5BQ5tI4oXvSRDk9MnW/SpqpJsMS+wXeVXBAbQqptLbahIEyTgs5D4yGNFCPUBhaovjwWZ1CQNKSH7FgodJzJfFSfjtgszZiBiPAz9C9O37YVo9ZxLQC68CoMXleghpbO+bvyOT4NMs+hq9bcCgu4RhZcE3xslooSwoAwDzpjpRyGjwcJ5ip9CKxdaAEqcgpIEo52qfZ/ikMG4fqpmiTmoFIZP8A74SVpM4GHYorIjhB7j+AsjVguugza0IpAc3Ug5HOgAjOAJySgYIUGDPYe3f03CPoWP8ABmUBSGQRPUDnQToCSWmIYdXKlMYRI8WBbYDeg90ZM2NXbrFK2FFxQUotOPQKZ0h+gGBSdXNKC56LoRV+DFMLHmL0KgIDuGxgOZJRKXEwRJHwnpPAqBpIltqVnZ/hpQMI5/caTX6Uq6TZtCdePg8JPRybtWEaLGQkiYoanIGLgBgbFAHuWiBRYXIJqJso8Zh2msEyXiW7kolIMx2MVyJaMmQBgBYPQHADLnSYMvDc/wCUZkAJ7NonzhR6GN7zJSQjGHGlY3D9geAguIclNxjxfwU8HyiwkzbY8AIiEOCk7NNOMVjQQOSPrhJkGroG62KfwkwLmQGrq51C2AsBcOPpkY5eDiYC70luw9JVs5dQfmhC0ulvj/BiEmyQRySgwazgLhMPejuNgurBV60Pj4hgNAK3RhBWyONLiYFyKlvSY4MiOsYlaPhhJscXaoNX5rNXNaPLrSZfMaLeatqBkmYqSWwx6BFtGSFjJOE86HgmsQN7LtKICEEy7uJtZwpT3vpfYDkFJicRHHkYFKoiKdwF94om5F4Ej2mjgfEgObUaExfei/IShjM8cLE6I+eVRly0O+XY560Oc/cP2PRosAW6iSEeUVEm+Ze8qgBFya9Mampj04KoIsqybJBxN6mhDIJmr49r1NJWk/uaKt4ae6VGSLcoDYh96nnMdkk9NcQOLWQcoetMULEozNrGRre0FCLuN9imQUBAFnKMvIRjbC1W3oTup+KkaAkdvQitsZ6PhWpzPWnZ/wAKSEgQMwOOPgk+oDJKdiMQgudSts/+FICzpHol6hSdBQKINBkd/AYuU4zGIcMeVSBZBxrGGFBMqJS4YtOpPPI2N+sVcIC2KZxlYD0IpcwRA4CE5NOPCh9SE6NTqczH2hUlEMyHXCo8AMlDpMVhF8ADeboAcLc/TIOqSAjklLAW/YLid6bgbUZ7ilbFu3tSIgDG56m3SowinoBB6aFqZYhMMF4RywrPoUCOd3lULPj8mht4GhosgFmEb22Grm75YsET5sCXRd0A3WxUdJNmRG8M9qiJTlj1Ie1bv3WNJLx6JH6f8eQs11Xne1bOvMdvWm1tm56xNIHRlgS6uv8ACxQDgDMERHqVMAOBMnJtRhgTO+gW71lAQNCcigBiFlAQSZLLb/VkmtsOCPX/AOST/9k=)"
      ]
    },
    {
      "cell_type": "markdown",
      "metadata": {
        "id": "TaogZS2YE7M2"
      },
      "source": [
        "ในการหาอินเวอร์สของเมตริกซ์ที่มีมิติ n x n (n ≥ 3) โดยทั่วไปมี 2 วิธี\r\n",
        "\r\n",
        "**1.การหาอินเวอร์สโดยใช้เมตริกซ์ผูกผัน(Adjoint Matrix)**\r\n",
        "\r\n",
        "สำหรับเมตริกซ์ A ที่มีขนาด n x nถ้า cijเป็นโคแฟกเตอร์ในแถวที่ I หลักที่ j ของเมตริกซ์ A โดยที่ i,j=1,2,3,…,n แล้วเมตริกซ์ผูกผันของ A เขียนแทนด้วย adj.A = [Cof.A]\r\n",
        "\r\n",
        "**2.การหาอินเวอร์สโดยใช้การดำเนินงานแบบแถว**\r\n",
        "\r\n",
        "สำหรับเมตริกซ์ A ที่มีขนาด nxn การหาอินเวอร์สของเมตริกซ์ A สามารถทาได้โดยเติม เมตริกซ์เอกลักษณ์ขนาด nxn เข้ากับเมตริกซ์ A ซึ่งสามารถเขียนแทนได้ด้วยเมตริกซ์ [A: I] เมตริกซ์ ดังกล่าวเรียกว่าเป็นเมตริกซ์แต่งเติม (Augumented Matrix) จากนั้นจะใช้การดำเนินงานแบบแถวในการที่จะเปลี่ยนเมตริกซ์ [A: I] ให้เป็นเมตริกซ์ [I : B] ซึ่งจะได้ว่า B =A-1"
      ]
    },
    {
      "cell_type": "markdown",
      "metadata": {
        "id": "iKdP96EzQT9H"
      },
      "source": [
        "~~Pandas~~"
      ]
    }
  ]
}