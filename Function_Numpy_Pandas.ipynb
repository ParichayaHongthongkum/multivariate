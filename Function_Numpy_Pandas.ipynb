{
  "nbformat": 4,
  "nbformat_minor": 0,
  "metadata": {
    "colab": {
      "name": "Function_Numpy_Pandas.ipynb",
      "provenance": [],
      "authorship_tag": "ABX9TyOLJTyeqfNqTnvI3eLKpXj/",
      "include_colab_link": true
    },
    "kernelspec": {
      "name": "python3",
      "display_name": "Python 3"
    }
  },
  "cells": [
    {
      "cell_type": "markdown",
      "metadata": {
        "id": "view-in-github",
        "colab_type": "text"
      },
      "source": [
        "<a href=\"https://colab.research.google.com/github/ParichayaHongthongkum/multivariate/blob/main/Function_Numpy_Pandas.ipynb\" target=\"_parent\"><img src=\"https://colab.research.google.com/assets/colab-badge.svg\" alt=\"Open In Colab\"/></a>"
      ]
    },
    {
      "cell_type": "markdown",
      "metadata": {
        "id": "NJrGVCIXSOhM"
      },
      "source": [
        "# **Function**"
      ]
    },
    {
      "cell_type": "markdown",
      "metadata": {
        "id": "tKTgBV1SsBvt"
      },
      "source": [
        "\r\n",
        "\r\n",
        "```python\r\n",
        "def function_name(_Input_):\r\n",
        "     do_sometime with _Input_ to produce _Output_\r\n",
        "     return _Output_\r\n",
        "  ```\r\n",
        "\r\n"
      ]
    },
    {
      "cell_type": "markdown",
      "metadata": {
        "id": "AKRCIJFrS8a1"
      },
      "source": [
        "function มีส่วนสำคัญทั้งหมด 4 ส่วน\r\n",
        "\r\n",
        "1. บอก python ว่าเราจะเขียนฟังก์ชัน ชื่ออะไร def function_name(): (ขาดไม่ได้)\r\n",
        "\r\n",
        "2. กำหนดตัวแปลที่จะเป็น input (ขาดไม่ได้)\r\n",
        "\r\n",
        "3. ส่วนประมวล do_sometime with input to get Output (ขาดไม่ได้)\r\n",
        "\r\n",
        "4. ส่วน output return Output (ขาดไม่ได้)\r\n",
        "\r\n",
        "เราใช้ เว้นวรรค (indent) เพื่อบอกขอบเขตของโปรแกรม"
      ]
    },
    {
      "cell_type": "markdown",
      "metadata": {
        "id": "Ft0LhfARWQJc"
      },
      "source": [
        "### **สร้างฟังก์ชัน**"
      ]
    },
    {
      "cell_type": "code",
      "metadata": {
        "colab": {
          "base_uri": "https://localhost:8080/"
        },
        "id": "PiD4WjhjSEgk",
        "outputId": "f2c2f91c-23a6-4079-d2dc-5cfaecb89c34"
      },
      "source": [
        "def print_name(name,surname,ID):\r\n",
        "      st = f'ชื่อ {name} นามสกุล {surname} ID {ID}'\r\n",
        "      return st\r\n",
        "print('outside function')"
      ],
      "execution_count": null,
      "outputs": [
        {
          "output_type": "stream",
          "text": [
            "outside function\n"
          ],
          "name": "stdout"
        }
      ]
    },
    {
      "cell_type": "markdown",
      "metadata": {
        "id": "pTzYi1GVWu0S"
      },
      "source": [
        "การเรียกใช้ฟังก์ชัน"
      ]
    },
    {
      "cell_type": "code",
      "metadata": {
        "colab": {
          "base_uri": "https://localhost:8080/",
          "height": 35
        },
        "id": "yo9FoUP7V85T",
        "outputId": "409cf438-e723-4c3e-9d81-0e28626e4aa8"
      },
      "source": [
        "print_name( 'ปริชญา' , 'หงส์ทองคำ' , '623020528-4' )"
      ],
      "execution_count": null,
      "outputs": [
        {
          "output_type": "execute_result",
          "data": {
            "application/vnd.google.colaboratory.intrinsic+json": {
              "type": "string"
            },
            "text/plain": [
              "'ชื่อ ปริชญา นามสกุล หงส์ทองคำ ID 623020528-4'"
            ]
          },
          "metadata": {
            "tags": []
          },
          "execution_count": 8
        }
      ]
    },
    {
      "cell_type": "code",
      "metadata": {
        "id": "K0ovSbsmx3St",
        "colab": {
          "base_uri": "https://localhost:8080/"
        },
        "outputId": "4d280121-f55e-4914-f273-d7aba96500b5"
      },
      "source": [
        "output_string = print_name('ปริชญา', 'หงส์ทองคำ', '623020528-4' )\r\n",
        "print(output_string)"
      ],
      "execution_count": null,
      "outputs": [
        {
          "output_type": "stream",
          "text": [
            "ชื่อ ปริชญา นามสกุล หงส์ทองคำ ID 623020528-4\n"
          ],
          "name": "stdout"
        }
      ]
    },
    {
      "cell_type": "markdown",
      "metadata": {
        "id": "BI6BrSWwXefO"
      },
      "source": [
        "ฟังก์ชันไม่จำเป็นต้องมี output"
      ]
    },
    {
      "cell_type": "code",
      "metadata": {
        "id": "iN3gYUGPYqxc"
      },
      "source": [
        "def print_name2(surname,ID,name):\r\n",
        "      st = f'ชื่อ {name} นามสกุล {surname} รหัส {ID}'\r\n",
        "      print(st)"
      ],
      "execution_count": null,
      "outputs": []
    },
    {
      "cell_type": "code",
      "metadata": {
        "id": "07BMt_zR0D-G",
        "colab": {
          "base_uri": "https://localhost:8080/"
        },
        "outputId": "f6a3755e-8a95-4bce-9867-3322cf0a38a6"
      },
      "source": [
        "print_name2('ปริชญา', 'หงส์ทองคำ','623020528-4')"
      ],
      "execution_count": null,
      "outputs": [
        {
          "output_type": "stream",
          "text": [
            "ชื่อ 623020528-4 นามสกุล ปริชญา รหัส หงส์ทองคำ\n"
          ],
          "name": "stdout"
        }
      ]
    },
    {
      "cell_type": "code",
      "metadata": {
        "id": "TVT78KUx0TG0",
        "colab": {
          "base_uri": "https://localhost:8080/"
        },
        "outputId": "521b55ab-e6e2-4ebf-c84b-d7586c7ea0c8"
      },
      "source": [
        "op2 = print_name2('ปริชญา', 'หงส์ทองคำ','623020528-4')"
      ],
      "execution_count": null,
      "outputs": [
        {
          "output_type": "stream",
          "text": [
            "ชื่อ 623020528-4 นามสกุล ปริชญา รหัส หงส์ทองคำ\n"
          ],
          "name": "stdout"
        }
      ]
    },
    {
      "cell_type": "code",
      "metadata": {
        "id": "-1dB3AKc0bvh",
        "colab": {
          "base_uri": "https://localhost:8080/"
        },
        "outputId": "8c157711-f9be-42fb-8159-de0f5226d049"
      },
      "source": [
        "print(op2)"
      ],
      "execution_count": null,
      "outputs": [
        {
          "output_type": "stream",
          "text": [
            "None\n"
          ],
          "name": "stdout"
        }
      ]
    },
    {
      "cell_type": "markdown",
      "metadata": {
        "id": "QEPj1x2X0xiy"
      },
      "source": [
        "ฟังก์ชันไม่จำเป็นต้องมี input"
      ]
    },
    {
      "cell_type": "code",
      "metadata": {
        "id": "ko83RvgB06oz"
      },
      "source": [
        "def Pi():\r\n",
        "      return 3.14159265359"
      ],
      "execution_count": null,
      "outputs": []
    },
    {
      "cell_type": "code",
      "metadata": {
        "id": "o0CuwlU71Ee7",
        "colab": {
          "base_uri": "https://localhost:8080/"
        },
        "outputId": "8c4b0fbf-c365-4953-a11e-264c51707d74"
      },
      "source": [
        "#คำนวณพื้นที่วงกลมที่มีขนาดเส้นผ่านศูนย์กลางเท่ากับ 3\r\n",
        "Pi()*(1.5**2)"
      ],
      "execution_count": null,
      "outputs": [
        {
          "output_type": "execute_result",
          "data": {
            "text/plain": [
              "7.0685834705775"
            ]
          },
          "metadata": {
            "tags": []
          },
          "execution_count": 17
        }
      ]
    },
    {
      "cell_type": "code",
      "metadata": {
        "id": "WLcX8lDO1dOY"
      },
      "source": [
        "def print_my_name():\r\n",
        "      print ('Parichaya Hongthongkum 623020528-4')"
      ],
      "execution_count": null,
      "outputs": []
    },
    {
      "cell_type": "code",
      "metadata": {
        "id": "gwhv4lXc2CvS",
        "colab": {
          "base_uri": "https://localhost:8080/"
        },
        "outputId": "cc411a85-4c67-431b-9a7e-964bf8facb37"
      },
      "source": [
        "print_my_name()"
      ],
      "execution_count": null,
      "outputs": [
        {
          "output_type": "stream",
          "text": [
            "Parichaya Hongthongkum 623020528-4\n"
          ],
          "name": "stdout"
        }
      ]
    },
    {
      "cell_type": "markdown",
      "metadata": {
        "id": "RsrEdJiyaCSA"
      },
      "source": [
        "####input ของ function ใน python มี 2 แบบ input ที่จำเป็นต้องใส่ กับ input ที่ไม่จำเป็นต้องใส่ (มีค่า default)\r\n",
        "\r\n",
        "####เราต้องเรียง input ที่จำเป็นต้องใส่ขึ้นก่อน"
      ]
    },
    {
      "cell_type": "code",
      "metadata": {
        "id": "l5BQPEB2a1Gf"
      },
      "source": [
        "def print_2lines_defult(name, surname, ID, grade='F'):\r\n",
        "      st = f'ชื่อ {name} นามสกุล {surname} รหัส {ID}'\r\n",
        "      print(st)\r\n",
        "      st2=f'เกรดวิชา Multivariate >>> {grade}'\r\n",
        "      print(st2)"
      ],
      "execution_count": null,
      "outputs": []
    },
    {
      "cell_type": "code",
      "metadata": {
        "id": "gYWHXZCJb-vv",
        "colab": {
          "base_uri": "https://localhost:8080/"
        },
        "outputId": "8aebfbb8-2eb0-43c9-b5c0-eec80cca2295"
      },
      "source": [
        "print_2lines_defult('ปริชญา', 'หงส์ทองคำ','623020528-4')"
      ],
      "execution_count": null,
      "outputs": [
        {
          "output_type": "stream",
          "text": [
            "ชื่อ ปริชญา นามสกุล หงส์ทองคำ รหัส 623020528-4\n",
            "เกรดวิชา Multivariate >>> F\n"
          ],
          "name": "stdout"
        }
      ]
    },
    {
      "cell_type": "code",
      "metadata": {
        "id": "hf15MkdU3BKk",
        "colab": {
          "base_uri": "https://localhost:8080/"
        },
        "outputId": "e7dcb30e-32fb-4165-b0ab-0efeed67c805"
      },
      "source": [
        "print_2lines_defult('ปริชญา', 'หงส์ทองคำ','623020528-4','A')"
      ],
      "execution_count": null,
      "outputs": [
        {
          "output_type": "stream",
          "text": [
            "ชื่อ ปริชญา นามสกุล หงส์ทองคำ รหัส 623020528-4\n",
            "เกรดวิชา Multivariate >>> A\n"
          ],
          "name": "stdout"
        }
      ]
    },
    {
      "cell_type": "markdown",
      "metadata": {
        "id": "c_fayu7kcAK_"
      },
      "source": [
        "เราสามารถเรียกฟังก์ชันโดยใช่ชื่อตัวแปลของฟังก์ชันช่วยได้"
      ]
    },
    {
      "cell_type": "code",
      "metadata": {
        "id": "81JBkNo_cVtr",
        "colab": {
          "base_uri": "https://localhost:8080/"
        },
        "outputId": "2c21abab-db1e-4581-d849-bac746423bc3"
      },
      "source": [
        "print_name2(ID='623020528-4',name='ปริชญา',surname='หงส์ทองคำ')"
      ],
      "execution_count": null,
      "outputs": [
        {
          "output_type": "stream",
          "text": [
            "ชื่อ ปริชญา นามสกุล หงส์ทองคำ รหัส 623020528-4\n"
          ],
          "name": "stdout"
        }
      ]
    },
    {
      "cell_type": "markdown",
      "metadata": {
        "id": "s_IpGX75cogz"
      },
      "source": [
        "### **HW3 ให้เขียน function คำนวณจำนวนวินาทีที่จาก เวลาต่อไปนี้**\r\n",
        "\r\n",
        "'14-15-31'\r\n",
        "\r\n",
        "'13-00-01'\r\n",
        "\r\n",
        "'05-49-44'\r\n",
        "\r\n",
        "'00-00-16'\r\n",
        "\r\n",
        "และ print ให้สวยงาม"
      ]
    },
    {
      "cell_type": "code",
      "metadata": {
        "id": "t-Q2v247dmWO"
      },
      "source": [
        "def time(benz):\r\n",
        "  h =  int (benz.split('-')[0])*3600\r\n",
        "  m=  int (benz.split('-')[1])*60\r\n",
        "  s =  int (benz.split('-')[2])\r\n",
        "  ss = h+m+s\r\n",
        "  print(\"ตอบ เวลาทั้งหมดรวมเป็นวินาทีได้ = \",ss,\" วินาที\")"
      ],
      "execution_count": null,
      "outputs": []
    },
    {
      "cell_type": "code",
      "metadata": {
        "id": "szNflv8d47cz",
        "colab": {
          "base_uri": "https://localhost:8080/"
        },
        "outputId": "6fd33a1e-4c07-470e-fb52-7526a690c05d"
      },
      "source": [
        "time('14-15-31')"
      ],
      "execution_count": null,
      "outputs": [
        {
          "output_type": "stream",
          "text": [
            "ตอบ เวลาทั้งหมดรวมเป็นวินาทีได้ =  51331  วินาที\n"
          ],
          "name": "stdout"
        }
      ]
    },
    {
      "cell_type": "code",
      "metadata": {
        "id": "-v3Tny0x4-ad",
        "colab": {
          "base_uri": "https://localhost:8080/"
        },
        "outputId": "ecab5c7b-f0c5-4bee-8907-9f4348fa1384"
      },
      "source": [
        "time('13-00-01')"
      ],
      "execution_count": null,
      "outputs": [
        {
          "output_type": "stream",
          "text": [
            "ตอบ เวลาทั้งหมดรวมเป็นวินาทีได้ =  46801  วินาที\n"
          ],
          "name": "stdout"
        }
      ]
    },
    {
      "cell_type": "code",
      "metadata": {
        "id": "7DwSzuVb4_Dx",
        "colab": {
          "base_uri": "https://localhost:8080/"
        },
        "outputId": "be8c3780-35e6-4ffc-dbce-1c315b0cef65"
      },
      "source": [
        "time('05-49-44')"
      ],
      "execution_count": null,
      "outputs": [
        {
          "output_type": "stream",
          "text": [
            "ตอบ เวลาทั้งหมดรวมเป็นวินาทีได้ =  20984  วินาที\n"
          ],
          "name": "stdout"
        }
      ]
    },
    {
      "cell_type": "code",
      "metadata": {
        "id": "vmyVO59g4_XY",
        "colab": {
          "base_uri": "https://localhost:8080/"
        },
        "outputId": "55db4a70-95d1-48f6-edc0-c2800277073b"
      },
      "source": [
        "time('00-00-16')"
      ],
      "execution_count": null,
      "outputs": [
        {
          "output_type": "stream",
          "text": [
            "ตอบ เวลาทั้งหมดรวมเป็นวินาทีได้ =  16  วินาที\n"
          ],
          "name": "stdout"
        }
      ]
    },
    {
      "cell_type": "markdown",
      "metadata": {
        "id": "ccK1v5-pQ2vO"
      },
      "source": [
        "Num"
      ]
    },
    {
      "cell_type": "markdown",
      "metadata": {
        "id": "iKdP96EzQT9H"
      },
      "source": [
        "~~Pandas~~"
      ]
    }
  ]
}