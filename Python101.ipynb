{
  "nbformat": 4,
  "nbformat_minor": 0,
  "metadata": {
    "colab": {
      "name": "Python101.ipynb",
      "provenance": [],
      "authorship_tag": "ABX9TyPkNjnD4IUQBziTV1IJ470Y",
      "include_colab_link": true
    },
    "kernelspec": {
      "name": "python3",
      "display_name": "Python 3"
    }
  },
  "cells": [
    {
      "cell_type": "markdown",
      "metadata": {
        "id": "view-in-github",
        "colab_type": "text"
      },
      "source": [
        "<a href=\"https://colab.research.google.com/github/ParichayaHongthongkum/multivariate/blob/main/Python101.ipynb\" target=\"_parent\"><img src=\"https://colab.research.google.com/assets/colab-badge.svg\" alt=\"Open In Colab\"/></a>"
      ]
    },
    {
      "cell_type": "markdown",
      "metadata": {
        "id": "H3yuFJJSLkZJ"
      },
      "source": [
        "## **ตัวแปร variable**\r\n",
        "\r\n",
        "##### **หลักการตั้งชื่อตัวแปรเบื้องต้น**\r\n",
        "\r\n",
        "   1.ตั้งให้สื่อ\r\n",
        "\r\n",
        "   2.ภาษาอังกฤษ\r\n",
        "\r\n",
        "   3.ใช้ตัวเลขได้แต่ห้ามขึ้นต้นด้วยตัวเลข\r\n",
        "\r\n",
        "   4.ห้ามเว้นวรรค\r\n",
        "\r\n",
        "   5.ตัวเล็กกับตัวใหญ่ไม่เหมือนกัน\r\n",
        "\r\n",
        "มี output 2 mode : ออกหน้าจอ กับ เข้าไปเก็บในตัวแปร"
      ]
    },
    {
      "cell_type": "code",
      "metadata": {
        "id": "H4vKxA_wLWC9",
        "colab": {
          "base_uri": "https://localhost:8080/"
        },
        "outputId": "00d41224-1eec-42dd-a19b-f95cecc7a954"
      },
      "source": [
        "3.14159 # hashtag หรือ sharp # คือ comment   >>> คือ output ที่ออกหน้าจอ"
      ],
      "execution_count": 31,
      "outputs": [
        {
          "output_type": "execute_result",
          "data": {
            "text/plain": [
              "3.14159"
            ]
          },
          "metadata": {
            "tags": []
          },
          "execution_count": 31
        }
      ]
    },
    {
      "cell_type": "code",
      "metadata": {
        "id": "q4DhT6FrLnQP"
      },
      "source": [
        "pi  =  3.14159 #อันนี้คือการแสดงผลoutputที่เข้าไปอยู่ในตัวแปล"
      ],
      "execution_count": 32,
      "outputs": []
    },
    {
      "cell_type": "code",
      "metadata": {
        "id": "iKSAw8X4LnX6",
        "colab": {
          "base_uri": "https://localhost:8080/"
        },
        "outputId": "e3aae5b6-1938-443c-c937-4ecf59291b73"
      },
      "source": [
        "pi"
      ],
      "execution_count": 33,
      "outputs": [
        {
          "output_type": "execute_result",
          "data": {
            "text/plain": [
              "3.14159"
            ]
          },
          "metadata": {
            "tags": []
          },
          "execution_count": 33
        }
      ]
    },
    {
      "cell_type": "markdown",
      "metadata": {
        "id": "WqZLcFQSACwY"
      },
      "source": [
        "# **ตัวแปรมี** **3** **ชนิดได้แก่** \r\n",
        "integer,int หรือ charหรือstring และ float\r\n",
        "### **ตัวแปรจำนวนเต็ม(int)**"
      ]
    },
    {
      "cell_type": "code",
      "metadata": {
        "id": "y_yVvjhRLncW",
        "colab": {
          "base_uri": "https://localhost:8080/"
        },
        "outputId": "c59913e0-e8d8-4573-8f55-5916d69a7d82"
      },
      "source": [
        "a = 123\r\n",
        "print(a)"
      ],
      "execution_count": 34,
      "outputs": [
        {
          "output_type": "stream",
          "text": [
            "123\n"
          ],
          "name": "stdout"
        }
      ]
    },
    {
      "cell_type": "markdown",
      "metadata": {
        "id": "MlV06JQDBaQC"
      },
      "source": [
        "### **ตัวแปรจำนวนจริง(float)**"
      ]
    },
    {
      "cell_type": "code",
      "metadata": {
        "id": "uFWp14VPLnhF",
        "colab": {
          "base_uri": "https://localhost:8080/"
        },
        "outputId": "0191fb36-2841-41f4-bb6b-5413c051dc28"
      },
      "source": [
        "b = 321.\r\n",
        "print(b)"
      ],
      "execution_count": 35,
      "outputs": [
        {
          "output_type": "stream",
          "text": [
            "321.0\n"
          ],
          "name": "stdout"
        }
      ]
    },
    {
      "cell_type": "markdown",
      "metadata": {
        "id": "UP25rBUtCSmz"
      },
      "source": [
        "### **ตัวอักษร-ข้อความ (character และ text, string)**"
      ]
    },
    {
      "cell_type": "code",
      "metadata": {
        "colab": {
          "base_uri": "https://localhost:8080/"
        },
        "id": "qV51J71ICEpD",
        "outputId": "d1bb32b1-a712-45ca-c011-5b1dfe4c648e"
      },
      "source": [
        "c = '987'   # เราใช้ single quote ' หรือ double quote \" ล้อมรอบตัวหนังสือเพื่อระบุว่าเป็น character-string\r\n",
        "print(c)"
      ],
      "execution_count": 36,
      "outputs": [
        {
          "output_type": "stream",
          "text": [
            "987\n"
          ],
          "name": "stdout"
        }
      ]
    },
    {
      "cell_type": "code",
      "metadata": {
        "colab": {
          "base_uri": "https://localhost:8080/"
        },
        "id": "z3WNOzKNC0le",
        "outputId": "57842da6-fd35-4dfa-b6a6-0bdcf430fbc8"
      },
      "source": [
        "a + b # float + int = float"
      ],
      "execution_count": 37,
      "outputs": [
        {
          "output_type": "execute_result",
          "data": {
            "text/plain": [
              "444.0"
            ]
          },
          "metadata": {
            "tags": []
          },
          "execution_count": 37
        }
      ]
    },
    {
      "cell_type": "code",
      "metadata": {
        "colab": {
          "base_uri": "https://localhost:8080/",
          "height": 163
        },
        "id": "YMSn6f3bC_hf",
        "outputId": "9e4cd3ad-1755-4a23-f52a-9d75ad8cb81b"
      },
      "source": [
        "b + c "
      ],
      "execution_count": 38,
      "outputs": [
        {
          "output_type": "error",
          "ename": "TypeError",
          "evalue": "ignored",
          "traceback": [
            "\u001b[0;31m---------------------------------------------------------------------------\u001b[0m",
            "\u001b[0;31mTypeError\u001b[0m                                 Traceback (most recent call last)",
            "\u001b[0;32m<ipython-input-38-293edd7bed73>\u001b[0m in \u001b[0;36m<module>\u001b[0;34m()\u001b[0m\n\u001b[0;32m----> 1\u001b[0;31m \u001b[0mb\u001b[0m \u001b[0;34m+\u001b[0m \u001b[0mc\u001b[0m\u001b[0;34m\u001b[0m\u001b[0;34m\u001b[0m\u001b[0m\n\u001b[0m",
            "\u001b[0;31mTypeError\u001b[0m: unsupported operand type(s) for +: 'float' and 'str'"
          ]
        }
      ]
    },
    {
      "cell_type": "code",
      "metadata": {
        "colab": {
          "base_uri": "https://localhost:8080/"
        },
        "id": "zNiotGKCDF1Z",
        "outputId": "d3d419eb-e7d5-4edb-de0c-a270741f023c"
      },
      "source": [
        "d = 'มหาเทพ'\r\n",
        "print(d)"
      ],
      "execution_count": 39,
      "outputs": [
        {
          "output_type": "stream",
          "text": [
            "มหาเทพ\n"
          ],
          "name": "stdout"
        }
      ]
    },
    {
      "cell_type": "markdown",
      "metadata": {
        "id": "-hKLBFyAB6AX"
      },
      "source": [
        "### **การเปลี่ยนชนิดของตัวแปร variable casting**"
      ]
    },
    {
      "cell_type": "code",
      "metadata": {
        "colab": {
          "base_uri": "https://localhost:8080/"
        },
        "id": "ZGRX5Fu6DbfS",
        "outputId": "132d86dc-5eab-4cff-eccb-dd8c7982e2f6"
      },
      "source": [
        "a + int(c)"
      ],
      "execution_count": 41,
      "outputs": [
        {
          "output_type": "execute_result",
          "data": {
            "text/plain": [
              "1110"
            ]
          },
          "metadata": {
            "tags": []
          },
          "execution_count": 41
        }
      ]
    },
    {
      "cell_type": "code",
      "metadata": {
        "colab": {
          "base_uri": "https://localhost:8080/"
        },
        "id": "NYg4rNYlDjrx",
        "outputId": "17f14050-e73c-4b86-ab34-4ad7fd974bd3"
      },
      "source": [
        "a + float(c)"
      ],
      "execution_count": 42,
      "outputs": [
        {
          "output_type": "execute_result",
          "data": {
            "text/plain": [
              "1110.0"
            ]
          },
          "metadata": {
            "tags": []
          },
          "execution_count": 42
        }
      ]
    },
    {
      "cell_type": "code",
      "metadata": {
        "colab": {
          "base_uri": "https://localhost:8080/",
          "height": 35
        },
        "id": "syCsw3EnDsML",
        "outputId": "36a3f8c7-7ac3-49bb-d152-81d7d3b1388e"
      },
      "source": [
        "str(a)"
      ],
      "execution_count": 43,
      "outputs": [
        {
          "output_type": "execute_result",
          "data": {
            "application/vnd.google.colaboratory.intrinsic+json": {
              "type": "string"
            },
            "text/plain": [
              "'123'"
            ]
          },
          "metadata": {
            "tags": []
          },
          "execution_count": 43
        }
      ]
    },
    {
      "cell_type": "markdown",
      "metadata": {
        "id": "jC3GStkIDxbi"
      },
      "source": [
        "## **การดำเนินการ Operation (Operators +,-,*,/,%)**"
      ]
    },
    {
      "cell_type": "code",
      "metadata": {
        "colab": {
          "base_uri": "https://localhost:8080/",
          "height": 163
        },
        "id": "EHFuOb_2D22O",
        "outputId": "cafb827b-4c6f-4b93-c7f1-f64266f6b463"
      },
      "source": [
        "a+z"
      ],
      "execution_count": 45,
      "outputs": [
        {
          "output_type": "error",
          "ename": "NameError",
          "evalue": "ignored",
          "traceback": [
            "\u001b[0;31m---------------------------------------------------------------------------\u001b[0m",
            "\u001b[0;31mNameError\u001b[0m                                 Traceback (most recent call last)",
            "\u001b[0;32m<ipython-input-45-179711c15452>\u001b[0m in \u001b[0;36m<module>\u001b[0;34m()\u001b[0m\n\u001b[0;32m----> 1\u001b[0;31m \u001b[0ma\u001b[0m\u001b[0;34m+\u001b[0m\u001b[0mz\u001b[0m\u001b[0;34m\u001b[0m\u001b[0;34m\u001b[0m\u001b[0m\n\u001b[0m",
            "\u001b[0;31mNameError\u001b[0m: name 'z' is not defined"
          ]
        }
      ]
    },
    {
      "cell_type": "code",
      "metadata": {
        "colab": {
          "base_uri": "https://localhost:8080/"
        },
        "id": "ZxflINCcEBVl",
        "outputId": "298dc94f-a0a3-4e35-ebab-3386db4c6f9c"
      },
      "source": [
        "a+b"
      ],
      "execution_count": 46,
      "outputs": [
        {
          "output_type": "execute_result",
          "data": {
            "text/plain": [
              "444.0"
            ]
          },
          "metadata": {
            "tags": []
          },
          "execution_count": 46
        }
      ]
    },
    {
      "cell_type": "code",
      "metadata": {
        "colab": {
          "base_uri": "https://localhost:8080/"
        },
        "id": "bOY-RXQPEEzX",
        "outputId": "efbb8b57-bca6-42e8-de56-596eb8b543b5"
      },
      "source": [
        "a-b"
      ],
      "execution_count": 47,
      "outputs": [
        {
          "output_type": "execute_result",
          "data": {
            "text/plain": [
              "-198.0"
            ]
          },
          "metadata": {
            "tags": []
          },
          "execution_count": 47
        }
      ]
    },
    {
      "cell_type": "code",
      "metadata": {
        "colab": {
          "base_uri": "https://localhost:8080/"
        },
        "id": "E88YlOjKEKLl",
        "outputId": "93325ec6-1751-4a5c-a149-59064041e0ea"
      },
      "source": [
        "ab = a*b\r\n",
        "print(ab)"
      ],
      "execution_count": 48,
      "outputs": [
        {
          "output_type": "stream",
          "text": [
            "39483.0\n"
          ],
          "name": "stdout"
        }
      ]
    },
    {
      "cell_type": "code",
      "metadata": {
        "colab": {
          "base_uri": "https://localhost:8080/"
        },
        "id": "XjWSNO62EXKC",
        "outputId": "4547c655-84cc-42f8-9264-0d0f88cac6eb"
      },
      "source": [
        "ab+int(c)"
      ],
      "execution_count": 49,
      "outputs": [
        {
          "output_type": "execute_result",
          "data": {
            "text/plain": [
              "40470.0"
            ]
          },
          "metadata": {
            "tags": []
          },
          "execution_count": 49
        }
      ]
    },
    {
      "cell_type": "markdown",
      "metadata": {
        "id": "jzygmpjoEez-"
      },
      "source": [
        "### **% คือหมาย modulo**"
      ]
    },
    {
      "cell_type": "code",
      "metadata": {
        "colab": {
          "base_uri": "https://localhost:8080/"
        },
        "id": "Km-NWbpIEcJM",
        "outputId": "063ef1c5-ba32-40eb-9b1e-ee4df27e83dd"
      },
      "source": [
        "5%3"
      ],
      "execution_count": 50,
      "outputs": [
        {
          "output_type": "execute_result",
          "data": {
            "text/plain": [
              "2"
            ]
          },
          "metadata": {
            "tags": []
          },
          "execution_count": 50
        }
      ]
    },
    {
      "cell_type": "code",
      "metadata": {
        "colab": {
          "base_uri": "https://localhost:8080/"
        },
        "id": "_TX4xYR1EqZV",
        "outputId": "dc9e07ad-10a0-4000-88a2-32ffe80e5af3"
      },
      "source": [
        "7%3"
      ],
      "execution_count": 51,
      "outputs": [
        {
          "output_type": "execute_result",
          "data": {
            "text/plain": [
              "1"
            ]
          },
          "metadata": {
            "tags": []
          },
          "execution_count": 51
        }
      ]
    },
    {
      "cell_type": "markdown",
      "metadata": {
        "id": "ve6LvfBLEwMP"
      },
      "source": [
        "### **คำสั่ง print แบบพิเศษ (การ format string)**"
      ]
    },
    {
      "cell_type": "code",
      "metadata": {
        "colab": {
          "base_uri": "https://localhost:8080/"
        },
        "id": "DGzMpsZ8E1QP",
        "outputId": "4d04b20f-b48a-438f-a263-259a11aaf674"
      },
      "source": [
        "print('สุดหล่อ') #สิ่งที่อยู่ข้างในวงเล็บคือ ตัวแปร และ string"
      ],
      "execution_count": 52,
      "outputs": [
        {
          "output_type": "stream",
          "text": [
            "สุดหล่อ\n"
          ],
          "name": "stdout"
        }
      ]
    },
    {
      "cell_type": "code",
      "metadata": {
        "colab": {
          "base_uri": "https://localhost:8080/"
        },
        "id": "WUYbJsNCE9Mc",
        "outputId": "868b5287-0736-4c6e-f9ce-91024f6a5a69"
      },
      "source": [
        "print(f'% คือการหารเอาเศษ เช่น 7%3 = {7%3}') # เพิ่ม f หน้า 'string' และใช้ {} ใส่ code"
      ],
      "execution_count": 53,
      "outputs": [
        {
          "output_type": "stream",
          "text": [
            "% คือการหารเอาเศษ เช่น 7%3 = 1\n"
          ],
          "name": "stdout"
        }
      ]
    },
    {
      "cell_type": "code",
      "metadata": {
        "colab": {
          "base_uri": "https://localhost:8080/"
        },
        "id": "CV4Js3jGFDlQ",
        "outputId": "d91c85eb-9e02-41d9-c59c-aaafa9b35a53"
      },
      "source": [
        "print(f'% คือการหารเอาเศษ เช่น 7%3 = {7%3} \\\r\n",
        "    แต่\\n/ คือการหารปกติ เช่น 7/3 = {7/3}  \\\r\n",
        "    และ\\n// คือการหารเอาส่วน เช่น 7//3 = {7//3} \\\r\n",
        "    หรือ\\nใช้ int() เพื่อหารเอาส่วน เช่น int(7/3) = {int(7/3)}') # \\n คือการขึ้นบรรทัดใหม่ \\ ใช้ในการตัด code แต่ com จะไม่เห็น"
      ],
      "execution_count": 54,
      "outputs": [
        {
          "output_type": "stream",
          "text": [
            "% คือการหารเอาเศษ เช่น 7%3 = 1     แต่\n",
            "/ คือการหารปกติ เช่น 7/3 = 2.3333333333333335      และ\n",
            "// คือการหารเอาส่วน เช่น 7//3 = 2     หรือ\n",
            "ใช้ int() เพื่อหารเอาส่วน เช่น int(7/3) = 2\n"
          ],
          "name": "stdout"
        }
      ]
    },
    {
      "cell_type": "markdown",
      "metadata": {
        "id": "bLbIBIbfFHhp"
      },
      "source": [
        "### **DATA STRUCTURE (โครงสร้างข้อมูล)**"
      ]
    },
    {
      "cell_type": "code",
      "metadata": {
        "colab": {
          "base_uri": "https://localhost:8080/"
        },
        "id": "PFfC1PTGFMEN",
        "outputId": "eb314c56-eb4b-4edf-ffeb-acc1089ab384"
      },
      "source": [
        "[111,'ขี้เกี้ยม','ไก่น้อย',a]"
      ],
      "execution_count": 55,
      "outputs": [
        {
          "output_type": "execute_result",
          "data": {
            "text/plain": [
              "[111, 'ขี้เกี้ยม', 'ไก่น้อย', 123]"
            ]
          },
          "metadata": {
            "tags": []
          },
          "execution_count": 55
        }
      ]
    },
    {
      "cell_type": "markdown",
      "metadata": {
        "id": "bfTPzdizFc34"
      },
      "source": [
        "### **List คือ การเอาข้อมูลหลายๆตัวมาเรียงต่อกัน**\r\n",
        "##### **list สามารถสร้างได้ 2 แบบ ดังนี้**\r\n",
        "##### **แบบที่1 > square brackets**"
      ]
    },
    {
      "cell_type": "code",
      "metadata": {
        "colab": {
          "base_uri": "https://localhost:8080/"
        },
        "id": "QDtNycxZFvYA",
        "outputId": "0b73ecb1-e9bb-4d1e-b763-605e62f2dfdf"
      },
      "source": [
        "list_a = []\r\n",
        "print(list_a)"
      ],
      "execution_count": 56,
      "outputs": [
        {
          "output_type": "stream",
          "text": [
            "[]\n"
          ],
          "name": "stdout"
        }
      ]
    },
    {
      "cell_type": "code",
      "metadata": {
        "colab": {
          "base_uri": "https://localhost:8080/"
        },
        "id": "U_qU2ukCF43D",
        "outputId": "9c237bf5-cc17-499f-eccd-ab9988cf9b41"
      },
      "source": [
        "list_b = [111,'ขี้เกี้ยม','ไก่น้อย',a]\r\n",
        "print(list_b)"
      ],
      "execution_count": 57,
      "outputs": [
        {
          "output_type": "stream",
          "text": [
            "[111, 'ขี้เกี้ยม', 'ไก่น้อย', 123]\n"
          ],
          "name": "stdout"
        }
      ]
    },
    {
      "cell_type": "markdown",
      "metadata": {
        "id": "O4cZZ-hRGCta"
      },
      "source": [
        "### **ลำดับที่อยู่ใน list มีความสำคัญ (ลำดับใน list เริ่มจาก 0,1,2,...)**"
      ]
    },
    {
      "cell_type": "code",
      "metadata": {
        "colab": {
          "base_uri": "https://localhost:8080/",
          "height": 35
        },
        "id": "QW6V6XXlGH2x",
        "outputId": "f432e762-edc3-4c74-9093-add6bd4196a0"
      },
      "source": [
        "list_b[2]"
      ],
      "execution_count": 75,
      "outputs": [
        {
          "output_type": "execute_result",
          "data": {
            "application/vnd.google.colaboratory.intrinsic+json": {
              "type": "string"
            },
            "text/plain": [
              "'ไก่น้อย'"
            ]
          },
          "metadata": {
            "tags": []
          },
          "execution_count": 75
        }
      ]
    },
    {
      "cell_type": "markdown",
      "metadata": {
        "id": "ejPpqE0_GNDK"
      },
      "source": [
        "###### **แบบอย่างที่2**"
      ]
    },
    {
      "cell_type": "code",
      "metadata": {
        "colab": {
          "base_uri": "https://localhost:8080/"
        },
        "id": "DETZuOrDGL5C",
        "outputId": "cc18b732-91e7-4769-d038-7600cd895f34"
      },
      "source": [
        "list_c = list()\r\n",
        "print(list_c)"
      ],
      "execution_count": 59,
      "outputs": [
        {
          "output_type": "stream",
          "text": [
            "[]\n"
          ],
          "name": "stdout"
        }
      ]
    },
    {
      "cell_type": "markdown",
      "metadata": {
        "id": "QycKI3keGXB8"
      },
      "source": [
        "### **append() เพิ่มสมาชิกใน list**"
      ]
    },
    {
      "cell_type": "code",
      "metadata": {
        "colab": {
          "base_uri": "https://localhost:8080/"
        },
        "id": "NMStNeY5GdYZ",
        "outputId": "0fa6e51a-fe47-46b6-9436-2bf40c0eb00c"
      },
      "source": [
        "list_b.append('u')\r\n",
        "print(list_b)"
      ],
      "execution_count": 74,
      "outputs": [
        {
          "output_type": "stream",
          "text": [
            "[111, 'ขี้เกี้ยม', 'ไก่น้อย', 123, 'u', 'u']\n"
          ],
          "name": "stdout"
        }
      ]
    },
    {
      "cell_type": "markdown",
      "metadata": {
        "id": "YD9mgABwGkBK"
      },
      "source": [
        "##### **ตัวที่อยู่ในวงเล็บหลังจากตัวแปร list เรียกว่า index ใช้สำหรับชี้ข้อมูลใน list**\r\n",
        "\r\n",
        "##### **(ชี้จากข้างหน้า,ชี้จากข้างหลัง)**\r\n",
        "\r\n",
        "##### **0 คือสมาชิกตัวแรก , -1 คือสมาชิกตัวสุดท้าย**"
      ]
    },
    {
      "cell_type": "code",
      "metadata": {
        "colab": {
          "base_uri": "https://localhost:8080/",
          "height": 35
        },
        "id": "MXU28Na2G2aB",
        "outputId": "20bbb2fd-df48-4e31-f5b2-08c05135db63"
      },
      "source": [
        "list_b[-1]"
      ],
      "execution_count": 61,
      "outputs": [
        {
          "output_type": "execute_result",
          "data": {
            "application/vnd.google.colaboratory.intrinsic+json": {
              "type": "string"
            },
            "text/plain": [
              "'u'"
            ]
          },
          "metadata": {
            "tags": []
          },
          "execution_count": 61
        }
      ]
    },
    {
      "cell_type": "markdown",
      "metadata": {
        "id": "kZxfDTMiG1Pd"
      },
      "source": [
        "### **String > list of characters**"
      ]
    },
    {
      "cell_type": "code",
      "metadata": {
        "colab": {
          "base_uri": "https://localhost:8080/"
        },
        "id": "f89LakpTHGJQ",
        "outputId": "5114ab48-8a28-4017-a9c8-555d74297d83"
      },
      "source": [
        "t = 'apex legends'\r\n",
        "print(t)\r\n"
      ],
      "execution_count": 62,
      "outputs": [
        {
          "output_type": "stream",
          "text": [
            "apex legends\n"
          ],
          "name": "stdout"
        }
      ]
    },
    {
      "cell_type": "code",
      "metadata": {
        "colab": {
          "base_uri": "https://localhost:8080/",
          "height": 35
        },
        "id": "DQxDmH0ZHVHb",
        "outputId": "17df90ca-30de-474c-e80b-92831366fc51"
      },
      "source": [
        "t[1]"
      ],
      "execution_count": 63,
      "outputs": [
        {
          "output_type": "execute_result",
          "data": {
            "application/vnd.google.colaboratory.intrinsic+json": {
              "type": "string"
            },
            "text/plain": [
              "'p'"
            ]
          },
          "metadata": {
            "tags": []
          },
          "execution_count": 63
        }
      ]
    },
    {
      "cell_type": "code",
      "metadata": {
        "colab": {
          "base_uri": "https://localhost:8080/",
          "height": 35
        },
        "id": "NXkcDh8QHdQl",
        "outputId": "cc9252ef-54a6-483e-9bc7-8167d905e739"
      },
      "source": [
        "t[-1]"
      ],
      "execution_count": 64,
      "outputs": [
        {
          "output_type": "execute_result",
          "data": {
            "application/vnd.google.colaboratory.intrinsic+json": {
              "type": "string"
            },
            "text/plain": [
              "'s'"
            ]
          },
          "metadata": {
            "tags": []
          },
          "execution_count": 64
        }
      ]
    },
    {
      "cell_type": "code",
      "metadata": {
        "colab": {
          "base_uri": "https://localhost:8080/",
          "height": 35
        },
        "id": "mZxrg0qqHhMb",
        "outputId": "a7910ee6-c354-46b3-fcb0-0fb610a4db15"
      },
      "source": [
        "t[6]"
      ],
      "execution_count": 65,
      "outputs": [
        {
          "output_type": "execute_result",
          "data": {
            "application/vnd.google.colaboratory.intrinsic+json": {
              "type": "string"
            },
            "text/plain": [
              "'e'"
            ]
          },
          "metadata": {
            "tags": []
          },
          "execution_count": 65
        }
      ]
    },
    {
      "cell_type": "code",
      "metadata": {
        "colab": {
          "base_uri": "https://localhost:8080/",
          "height": 35
        },
        "id": "7bapodhyHkem",
        "outputId": "433f164b-30d9-4398-eeb0-ffcde46700a0"
      },
      "source": [
        "t[4]"
      ],
      "execution_count": 66,
      "outputs": [
        {
          "output_type": "execute_result",
          "data": {
            "application/vnd.google.colaboratory.intrinsic+json": {
              "type": "string"
            },
            "text/plain": [
              "' '"
            ]
          },
          "metadata": {
            "tags": []
          },
          "execution_count": 66
        }
      ]
    },
    {
      "cell_type": "code",
      "metadata": {
        "colab": {
          "base_uri": "https://localhost:8080/",
          "height": 35
        },
        "id": "jjnQYbbIHm-u",
        "outputId": "84a072c8-67a0-4585-a2d2-0c3196127c48"
      },
      "source": [
        "t[-7]"
      ],
      "execution_count": 67,
      "outputs": [
        {
          "output_type": "execute_result",
          "data": {
            "application/vnd.google.colaboratory.intrinsic+json": {
              "type": "string"
            },
            "text/plain": [
              "'l'"
            ]
          },
          "metadata": {
            "tags": []
          },
          "execution_count": 67
        }
      ]
    },
    {
      "cell_type": "markdown",
      "metadata": {
        "id": "rEtEZ09zhlG6"
      },
      "source": [
        "# **คาบ 3 วันที่ 11 มกราคม 2564**"
      ]
    },
    {
      "cell_type": "code",
      "metadata": {
        "id": "INWAphm1h2sY",
        "outputId": "f997a008-d0ec-4218-f48b-1ed6764789f7",
        "colab": {
          "base_uri": "https://localhost:8080/"
        }
      },
      "source": [
        "len(t)"
      ],
      "execution_count": 68,
      "outputs": [
        {
          "output_type": "execute_result",
          "data": {
            "text/plain": [
              "12"
            ]
          },
          "metadata": {
            "tags": []
          },
          "execution_count": 68
        }
      ]
    },
    {
      "cell_type": "code",
      "metadata": {
        "id": "ENWZrSwApSds",
        "outputId": "9664d0d5-6586-4125-bf45-b5a6fe559d12",
        "colab": {
          "base_uri": "https://localhost:8080/"
        }
      },
      "source": [
        "list_b"
      ],
      "execution_count": 69,
      "outputs": [
        {
          "output_type": "execute_result",
          "data": {
            "text/plain": [
              "[111, 'ขี้เกี้ยม', 'ไก่น้อย', 123, 'u']"
            ]
          },
          "metadata": {
            "tags": []
          },
          "execution_count": 69
        }
      ]
    },
    {
      "cell_type": "code",
      "metadata": {
        "id": "QMepx3MYpWMf",
        "outputId": "f7ea9177-f2b5-46b1-dee8-0bc0ea9d499b",
        "colab": {
          "base_uri": "https://localhost:8080/"
        }
      },
      "source": [
        "len(list_b) # len คือคำสั่งตรวจสอบความยาวของ list (จำนวนสมาชิก)"
      ],
      "execution_count": 70,
      "outputs": [
        {
          "output_type": "execute_result",
          "data": {
            "text/plain": [
              "5"
            ]
          },
          "metadata": {
            "tags": []
          },
          "execution_count": 70
        }
      ]
    },
    {
      "cell_type": "code",
      "metadata": {
        "id": "deiMxj-opkqh",
        "outputId": "e3059402-6183-4c07-fde7-7c8d52e375d1",
        "colab": {
          "base_uri": "https://localhost:8080/"
        }
      },
      "source": [
        "list_b.append(t)\r\n",
        "print(list_b)"
      ],
      "execution_count": 76,
      "outputs": [
        {
          "output_type": "stream",
          "text": [
            "[111, 'ขี้เกี้ยม', 'ไก่น้อย', 123, 'u', 'u', 'apex legends']\n"
          ],
          "name": "stdout"
        }
      ]
    },
    {
      "cell_type": "markdown",
      "metadata": {
        "id": "vdAfBn3xquzy"
      },
      "source": [
        "## **ตัวที่อยู่ข้างใน [ ] เราเรียกว่า index (ตัวชี้)**\r\n",
        "[a:b] -> [a,b)"
      ]
    },
    {
      "cell_type": "code",
      "metadata": {
        "id": "gFacn54cqFrF",
        "outputId": "8ddd211c-ac8d-4146-f6d2-ca382bb61246",
        "colab": {
          "base_uri": "https://localhost:8080/"
        }
      },
      "source": [
        "print(t)\r\n",
        "print(t[7:9])\r\n",
        "print(len(t[7:9]))"
      ],
      "execution_count": 77,
      "outputs": [
        {
          "output_type": "stream",
          "text": [
            "apex legends\n",
            "ge\n",
            "2\n"
          ],
          "name": "stdout"
        }
      ]
    },
    {
      "cell_type": "code",
      "metadata": {
        "id": "ObyIii8brspj",
        "outputId": "d3daeb1c-8390-48b0-f867-ffa578cb6983",
        "colab": {
          "base_uri": "https://localhost:8080/",
          "height": 35
        }
      },
      "source": [
        "t[0:14:2]"
      ],
      "execution_count": 78,
      "outputs": [
        {
          "output_type": "execute_result",
          "data": {
            "application/vnd.google.colaboratory.intrinsic+json": {
              "type": "string"
            },
            "text/plain": [
              "'ae eed'"
            ]
          },
          "metadata": {
            "tags": []
          },
          "execution_count": 78
        }
      ]
    },
    {
      "cell_type": "code",
      "metadata": {
        "id": "D3audAnLrx0u"
      },
      "source": [
        "z = [1,2,3,4,5,6,7,8,9,10]"
      ],
      "execution_count": 79,
      "outputs": []
    },
    {
      "cell_type": "markdown",
      "metadata": {
        "id": "bS9byMJGsQiV"
      },
      "source": [
        "## **Quiz**"
      ]
    },
    {
      "cell_type": "code",
      "metadata": {
        "id": "Ym43tHp7sU8v",
        "outputId": "eac2bd20-027b-4c0e-8134-a0e5cc9cb18d",
        "colab": {
          "base_uri": "https://localhost:8080/"
        }
      },
      "source": [
        "z[1:10:2]"
      ],
      "execution_count": 80,
      "outputs": [
        {
          "output_type": "execute_result",
          "data": {
            "text/plain": [
              "[2, 4, 6, 8, 10]"
            ]
          },
          "metadata": {
            "tags": []
          },
          "execution_count": 80
        }
      ]
    },
    {
      "cell_type": "markdown",
      "metadata": {
        "id": "thtSm65es0My"
      },
      "source": [
        "ถ้าเว้นว่างหน้า : หมายความว่า เริ่มตั้งแต่ตัวแรก\r\n",
        "\r\n",
        "ถ้าเว้นว่างหลัง : หมายความว่า ไปจนถึงตัวสุดท้าย"
      ]
    },
    {
      "cell_type": "code",
      "metadata": {
        "id": "ua0aJJCZtLFf",
        "outputId": "a2f93c9c-3601-487f-a177-85fdb1f01404",
        "colab": {
          "base_uri": "https://localhost:8080/"
        }
      },
      "source": [
        "print(t)\r\n",
        "print(t[:6])\r\n",
        "print(t[10:])\r\n",
        "print(t[-4:])\r\n",
        "print(t[:])"
      ],
      "execution_count": 81,
      "outputs": [
        {
          "output_type": "stream",
          "text": [
            "apex legends\n",
            "apex l\n",
            "ds\n",
            "ends\n",
            "apex legends\n"
          ],
          "name": "stdout"
        }
      ]
    },
    {
      "cell_type": "code",
      "metadata": {
        "id": "hUpnY0gseBpR",
        "outputId": "9ecba04f-a60d-4009-fb6b-4f566902f2a5",
        "colab": {
          "base_uri": "https://localhost:8080/"
        }
      },
      "source": [
        "print(z[::2])"
      ],
      "execution_count": 82,
      "outputs": [
        {
          "output_type": "stream",
          "text": [
            "[1, 3, 5, 7, 9]\n"
          ],
          "name": "stdout"
        }
      ]
    },
    {
      "cell_type": "markdown",
      "metadata": {
        "id": "gHPDn1lceOB_"
      },
      "source": [
        "#### **เราสามารถเอา list มาต่อกันได้ด้วย +**"
      ]
    },
    {
      "cell_type": "code",
      "metadata": {
        "id": "ksD-J67qegC4",
        "outputId": "e0024293-5fa0-4668-e52e-96961b025c3b",
        "colab": {
          "base_uri": "https://localhost:8080/",
          "height": 35
        }
      },
      "source": [
        "t + '??'"
      ],
      "execution_count": 83,
      "outputs": [
        {
          "output_type": "execute_result",
          "data": {
            "application/vnd.google.colaboratory.intrinsic+json": {
              "type": "string"
            },
            "text/plain": [
              "'apex legends??'"
            ]
          },
          "metadata": {
            "tags": []
          },
          "execution_count": 83
        }
      ]
    },
    {
      "cell_type": "code",
      "metadata": {
        "id": "-QWXuCiKekve",
        "outputId": "73141ff0-332b-4c9c-aa2e-1fd854d79504",
        "colab": {
          "base_uri": "https://localhost:8080/",
          "height": 163
        }
      },
      "source": [
        "t + list_b ## ไม่สามารถเอา list ปกติมาต่อกันกับ string ได้"
      ],
      "execution_count": 84,
      "outputs": [
        {
          "output_type": "error",
          "ename": "TypeError",
          "evalue": "ignored",
          "traceback": [
            "\u001b[0;31m---------------------------------------------------------------------------\u001b[0m",
            "\u001b[0;31mTypeError\u001b[0m                                 Traceback (most recent call last)",
            "\u001b[0;32m<ipython-input-84-afe6394b2886>\u001b[0m in \u001b[0;36m<module>\u001b[0;34m()\u001b[0m\n\u001b[0;32m----> 1\u001b[0;31m \u001b[0mt\u001b[0m \u001b[0;34m+\u001b[0m \u001b[0mlist_b\u001b[0m \u001b[0;31m## ไม่สามารถเอา list ปกติมาต่อกันกับ string ได้\u001b[0m\u001b[0;34m\u001b[0m\u001b[0;34m\u001b[0m\u001b[0m\n\u001b[0m",
            "\u001b[0;31mTypeError\u001b[0m: must be str, not list"
          ]
        }
      ]
    },
    {
      "cell_type": "code",
      "metadata": {
        "id": "nY6PpR9te8OE",
        "outputId": "8c598886-54f0-4b72-a027-af0f2fb04816",
        "colab": {
          "base_uri": "https://localhost:8080/"
        }
      },
      "source": [
        "print(list_a)\r\n",
        "print(list_b)\r\n",
        "print(list_b + list_a)"
      ],
      "execution_count": 85,
      "outputs": [
        {
          "output_type": "stream",
          "text": [
            "[]\n",
            "[111, 'ขี้เกี้ยม', 'ไก่น้อย', 123, 'u', 'u', 'apex legends']\n",
            "[111, 'ขี้เกี้ยม', 'ไก่น้อย', 123, 'u', 'u', 'apex legends']\n"
          ],
          "name": "stdout"
        }
      ]
    },
    {
      "cell_type": "code",
      "metadata": {
        "id": "TFTgk2tCfqrH",
        "outputId": "9bc792b4-0b87-4768-c9bb-7bc373360e72",
        "colab": {
          "base_uri": "https://localhost:8080/"
        }
      },
      "source": [
        "list_b .append(list_a)\r\n",
        "print(list_b)"
      ],
      "execution_count": 86,
      "outputs": [
        {
          "output_type": "stream",
          "text": [
            "[111, 'ขี้เกี้ยม', 'ไก่น้อย', 123, 'u', 'u', 'apex legends', []]\n"
          ],
          "name": "stdout"
        }
      ]
    },
    {
      "cell_type": "markdown",
      "metadata": {
        "id": "F9W5R4F_fOH1"
      },
      "source": [
        "#### **การแบ่ง string ตามสัญลักษณ์ที่กำหนด -> split string**"
      ]
    },
    {
      "cell_type": "code",
      "metadata": {
        "id": "geAy2h_AffP1",
        "outputId": "748d60c9-b869-4f7a-97d8-4effb3ef174c",
        "colab": {
          "base_uri": "https://localhost:8080/"
        }
      },
      "source": [
        "t.split('  ')"
      ],
      "execution_count": 88,
      "outputs": [
        {
          "output_type": "execute_result",
          "data": {
            "text/plain": [
              "['apex legends']"
            ]
          },
          "metadata": {
            "tags": []
          },
          "execution_count": 88
        }
      ]
    },
    {
      "cell_type": "code",
      "metadata": {
        "id": "Kgb96EMThGFM"
      },
      "source": [
        "time = '12:30:15'"
      ],
      "execution_count": 89,
      "outputs": []
    },
    {
      "cell_type": "code",
      "metadata": {
        "id": "nGjPFfwihSf5",
        "outputId": "21f104ca-a591-491a-958c-7c7a0104e427",
        "colab": {
          "base_uri": "https://localhost:8080/"
        }
      },
      "source": [
        "time.split(':')"
      ],
      "execution_count": 90,
      "outputs": [
        {
          "output_type": "execute_result",
          "data": {
            "text/plain": [
              "['12', '30', '15']"
            ]
          },
          "metadata": {
            "tags": []
          },
          "execution_count": 90
        }
      ]
    },
    {
      "cell_type": "code",
      "metadata": {
        "id": "sO8DdyexheP3",
        "outputId": "02d7c7bc-768e-441c-fc42-4bba0e9f0fab",
        "colab": {
          "base_uri": "https://localhost:8080/"
        }
      },
      "source": [
        "t_sp = t.split(' ')\r\n",
        "print(t_sp)"
      ],
      "execution_count": 91,
      "outputs": [
        {
          "output_type": "stream",
          "text": [
            "['apex', 'legends']\n"
          ],
          "name": "stdout"
        }
      ]
    },
    {
      "cell_type": "code",
      "metadata": {
        "id": "2YA_KSWRjNOD",
        "outputId": "9c29bce5-f7a4-4f27-fd87-ac21d42f5793",
        "colab": {
          "base_uri": "https://localhost:8080/"
        }
      },
      "source": [
        "## วิธีรวมกลับ\r\n",
        "print(':'.join(t_sp))"
      ],
      "execution_count": 92,
      "outputs": [
        {
          "output_type": "stream",
          "text": [
            "apex:legends\n"
          ],
          "name": "stdout"
        }
      ]
    },
    {
      "cell_type": "markdown",
      "metadata": {
        "id": "wLvxnAmHjbMK"
      },
      "source": [
        "### **HW คำนวณเวลาเป็นวินาทีของเวลาต่อไปนี้โดยใช้คำสั่ง split() ช่วย (print ออกมาให้สวยงาม)**\r\n",
        "\r\n",
        "12:30:15\r\n",
        "\r\n",
        "13:41:07\r\n",
        "\r\n",
        "12:53:15\r\n",
        "\r\n",
        "00:59:25\r\n",
        "\r\n",
        "11:11:11\r\n",
        "\r\n",
        "16:06:09\r\n",
        "\r\n",
        "21:12:30\r\n",
        "\r\n",
        "10:06:15\r\n",
        "\r\n",
        "ตัวอย่าง > 00:01:10 = 70 วินาที"
      ]
    },
    {
      "cell_type": "code",
      "metadata": {
        "id": "9-p73639nPQW",
        "outputId": "dee5f87f-f4b6-4a2f-f279-6e8c5a30f2c4",
        "colab": {
          "base_uri": "https://localhost:8080/"
        }
      },
      "source": [
        "b1 ='12:30:15'\r\n",
        "b1.split(':')\r\n",
        "list_b1 = [12,30,15]\r\n",
        "h1 = list_b1[0]*60*60\r\n",
        "m1 = list_b1[1]*60\r\n",
        "s1 = list_b1[2]\r\n",
        "ab1 = h1+m1+s1\r\n",
        "print(f'คำตอบ ได้เป็นวินาทีเท่ากับ {ab1} วินาที')"
      ],
      "execution_count": 106,
      "outputs": [
        {
          "output_type": "stream",
          "text": [
            "คำตอบ ได้เป็นวินาทีเท่ากับ 45015 วินาที\n"
          ],
          "name": "stdout"
        }
      ]
    },
    {
      "cell_type": "code",
      "metadata": {
        "id": "xtbfVnt8ni4P",
        "outputId": "24762a34-314d-473d-a025-4d156435df8e",
        "colab": {
          "base_uri": "https://localhost:8080/"
        }
      },
      "source": [
        "b2 ='13:41:07'\r\n",
        "b2.split(':')\r\n",
        "list_b2 = [13,41,7]\r\n",
        "h2 = list_b2[0]*60*60\r\n",
        "m2 = list_b2[1]*60\r\n",
        "s2 = list_b2[2]\r\n",
        "ab2 = h2+m2+s2\r\n",
        "print(f'คำตอบ ได้เป็นวินาทีเท่ากับ {ab2} วินาที')"
      ],
      "execution_count": 108,
      "outputs": [
        {
          "output_type": "stream",
          "text": [
            "คำตอบ ได้เป็นวินาทีเท่ากับ 49267 วินาที\n"
          ],
          "name": "stdout"
        }
      ]
    },
    {
      "cell_type": "code",
      "metadata": {
        "id": "SVbv4ukFoRi7",
        "outputId": "85f2d94a-15eb-4312-cabe-772b86f650bc",
        "colab": {
          "base_uri": "https://localhost:8080/"
        }
      },
      "source": [
        "b3 ='12:53:15'\r\n",
        "b3.split(':')\r\n",
        "list_b3 = [12,53,15]\r\n",
        "h3 = list_b3[0]*60*60\r\n",
        "m3 = list_b3[1]*60\r\n",
        "s3 = list_b3[2]\r\n",
        "ab3 = h3+m3+s3\r\n",
        "print(f'คำตอบ ได้เป็นวินาทีเท่ากับ {ab3} วินาที')"
      ],
      "execution_count": 109,
      "outputs": [
        {
          "output_type": "stream",
          "text": [
            "คำตอบ ได้เป็นวินาทีเท่ากับ 46395 วินาที\n"
          ],
          "name": "stdout"
        }
      ]
    },
    {
      "cell_type": "code",
      "metadata": {
        "id": "4UHRow6Lomz8",
        "outputId": "7c57fc25-d49b-49d4-a333-d1df0812244f",
        "colab": {
          "base_uri": "https://localhost:8080/"
        }
      },
      "source": [
        "b4 ='00:59:25'\r\n",
        "b4.split(':')\r\n",
        "list_b4 = [00,59,25]\r\n",
        "h4 = list_b4[0]*60*60\r\n",
        "m4 = list_b4[1]*60\r\n",
        "s4 = list_b4[2]\r\n",
        "ab4 = h4+m4+s4\r\n",
        "print(f'คำตอบ ได้เป็นวินาทีเท่ากับ {ab4} วินาที')"
      ],
      "execution_count": 110,
      "outputs": [
        {
          "output_type": "stream",
          "text": [
            "คำตอบ ได้เป็นวินาทีเท่ากับ 3565 วินาที\n"
          ],
          "name": "stdout"
        }
      ]
    },
    {
      "cell_type": "code",
      "metadata": {
        "id": "mHk3bKFjo7Kh",
        "outputId": "67a3c12f-8b29-4008-cff8-40f531dc6d4a",
        "colab": {
          "base_uri": "https://localhost:8080/"
        }
      },
      "source": [
        "b5 ='11:11:11'\r\n",
        "b5.split(':')\r\n",
        "list_b5 = [11,11,11]\r\n",
        "h5 = list_b5[0]*60*60\r\n",
        "m5 = list_b5[1]*60\r\n",
        "s5 = list_b5[2]\r\n",
        "ab5 = h5+m5+s5\r\n",
        "print(f'คำตอบ ได้เป็นวินาทีเท่ากับ {ab5} วินาที')"
      ],
      "execution_count": 111,
      "outputs": [
        {
          "output_type": "stream",
          "text": [
            "คำตอบ ได้เป็นวินาทีเท่ากับ 40271 วินาที\n"
          ],
          "name": "stdout"
        }
      ]
    },
    {
      "cell_type": "code",
      "metadata": {
        "id": "e-7xXPCAp5uU",
        "outputId": "52be1b54-ec1a-450a-8e06-5f47d3fd6ae6",
        "colab": {
          "base_uri": "https://localhost:8080/"
        }
      },
      "source": [
        "b6 ='16:06:09'\r\n",
        "b6.split(':')\r\n",
        "list_b6 = [16,6,9]\r\n",
        "h6 = list_b6[0]*60*60\r\n",
        "m6 = list_b6[1]*60\r\n",
        "s6 = list_b6[2]\r\n",
        "ab6 = h6+m6+s6\r\n",
        "print(f'คำตอบ ได้เป็นวินาทีเท่ากับ {ab6} วินาที')"
      ],
      "execution_count": 112,
      "outputs": [
        {
          "output_type": "stream",
          "text": [
            "คำตอบ ได้เป็นวินาทีเท่ากับ 57969 วินาที\n"
          ],
          "name": "stdout"
        }
      ]
    },
    {
      "cell_type": "code",
      "metadata": {
        "id": "7O31JvEvqLL8",
        "outputId": "5e29e9ae-2166-4d9a-dcba-d6461f8ab988",
        "colab": {
          "base_uri": "https://localhost:8080/"
        }
      },
      "source": [
        "b7 ='21:12:30'\r\n",
        "b7.split(':')\r\n",
        "list_b7 = [21,12,30]\r\n",
        "h7 = list_b7[0]*60*60\r\n",
        "m7 = list_b7[1]*60\r\n",
        "s7 = list_b7[2]\r\n",
        "ab7 = h7+m7+s7\r\n",
        "print(f'คำตอบ ได้เป็นวินาทีเท่ากับ {ab7} วินาที')"
      ],
      "execution_count": 113,
      "outputs": [
        {
          "output_type": "stream",
          "text": [
            "คำตอบ ได้เป็นวินาทีเท่ากับ 76350 วินาที\n"
          ],
          "name": "stdout"
        }
      ]
    },
    {
      "cell_type": "code",
      "metadata": {
        "id": "oBvoq4FEqZIP",
        "outputId": "c4a0e37a-761e-4690-874d-4107dc8262e2",
        "colab": {
          "base_uri": "https://localhost:8080/"
        }
      },
      "source": [
        "b8 ='10:06:15'\r\n",
        "b8.split(':')\r\n",
        "list_b8 = [10,6,15]\r\n",
        "h8 = list_b8[0]*60*60\r\n",
        "m8 = list_b8[1]*60\r\n",
        "s8 = list_b8[2]\r\n",
        "ab8 = h8+m8+s8\r\n",
        "print(f'คำตอบ ได้เป็นวินาทีเท่ากับ {ab8} วินาที')"
      ],
      "execution_count": 114,
      "outputs": [
        {
          "output_type": "stream",
          "text": [
            "คำตอบ ได้เป็นวินาทีเท่ากับ 36375 วินาที\n"
          ],
          "name": "stdout"
        }
      ]
    }
  ]
}