{
  "nbformat": 4,
  "nbformat_minor": 0,
  "metadata": {
    "colab": {
      "name": "Chapter_5_Factor Analysis.ipynb",
      "provenance": [],
      "authorship_tag": "ABX9TyNOpNEcSpRBFfXBm3pI8D8f",
      "include_colab_link": true
    },
    "kernelspec": {
      "name": "python3",
      "display_name": "Python 3"
    },
    "language_info": {
      "name": "python"
    }
  },
  "cells": [
    {
      "cell_type": "markdown",
      "metadata": {
        "id": "view-in-github",
        "colab_type": "text"
      },
      "source": [
        "<a href=\"https://colab.research.google.com/github/ParichayaHongthongkum/multivariate/blob/main/Chapter_5_Factor_Analysis.ipynb\" target=\"_parent\"><img src=\"https://colab.research.google.com/assets/colab-badge.svg\" alt=\"Open In Colab\"/></a>"
      ]
    },
    {
      "cell_type": "markdown",
      "metadata": {
        "id": "d3jQL5bfaBjI"
      },
      "source": [
        "https://www.datacamp.com/community/tutorials/introduction-factor-analysis\n",
        "\n",
        "##Factor Analysis"
      ]
    },
    {
      "cell_type": "code",
      "metadata": {
        "id": "DSMreNfNZ3Ww"
      },
      "source": [
        "import pandas as pd "
      ],
      "execution_count": 236,
      "outputs": []
    },
    {
      "cell_type": "markdown",
      "metadata": {
        "id": "x6ZzE-uIaJBn"
      },
      "source": [
        "https://vincentarelbundock.github.io/Rdatasets/datasets.html\n",
        "\n",
        "ข้อมูล psych 25 Personality items representing 5 factors (ลักษณะ บุคลิกภาพ )"
      ]
    },
    {
      "cell_type": "code",
      "metadata": {
        "colab": {
          "base_uri": "https://localhost:8080/",
          "height": 232
        },
        "id": "8EHd9airaNH7",
        "outputId": "ea178716-07a4-46be-a83c-937bffea91c8"
      },
      "source": [
        "BFI_data = pd.read_csv('bfi.csv')\n",
        "BFI_data.head()"
      ],
      "execution_count": 237,
      "outputs": [
        {
          "output_type": "execute_result",
          "data": {
            "text/html": [
              "<div>\n",
              "<style scoped>\n",
              "    .dataframe tbody tr th:only-of-type {\n",
              "        vertical-align: middle;\n",
              "    }\n",
              "\n",
              "    .dataframe tbody tr th {\n",
              "        vertical-align: top;\n",
              "    }\n",
              "\n",
              "    .dataframe thead th {\n",
              "        text-align: right;\n",
              "    }\n",
              "</style>\n",
              "<table border=\"1\" class=\"dataframe\">\n",
              "  <thead>\n",
              "    <tr style=\"text-align: right;\">\n",
              "      <th></th>\n",
              "      <th>Unnamed: 0</th>\n",
              "      <th>A1</th>\n",
              "      <th>A2</th>\n",
              "      <th>A3</th>\n",
              "      <th>A4</th>\n",
              "      <th>A5</th>\n",
              "      <th>C1</th>\n",
              "      <th>C2</th>\n",
              "      <th>C3</th>\n",
              "      <th>C4</th>\n",
              "      <th>C5</th>\n",
              "      <th>E1</th>\n",
              "      <th>E2</th>\n",
              "      <th>E3</th>\n",
              "      <th>E4</th>\n",
              "      <th>E5</th>\n",
              "      <th>N1</th>\n",
              "      <th>N2</th>\n",
              "      <th>N3</th>\n",
              "      <th>N4</th>\n",
              "      <th>N5</th>\n",
              "      <th>O1</th>\n",
              "      <th>O2</th>\n",
              "      <th>O3</th>\n",
              "      <th>O4</th>\n",
              "      <th>O5</th>\n",
              "      <th>gender</th>\n",
              "      <th>education</th>\n",
              "      <th>age</th>\n",
              "    </tr>\n",
              "  </thead>\n",
              "  <tbody>\n",
              "    <tr>\n",
              "      <th>0</th>\n",
              "      <td>61617</td>\n",
              "      <td>2.0</td>\n",
              "      <td>4.0</td>\n",
              "      <td>3.0</td>\n",
              "      <td>4.0</td>\n",
              "      <td>4.0</td>\n",
              "      <td>2.0</td>\n",
              "      <td>3.0</td>\n",
              "      <td>3.0</td>\n",
              "      <td>4.0</td>\n",
              "      <td>4.0</td>\n",
              "      <td>3.0</td>\n",
              "      <td>3.0</td>\n",
              "      <td>3.0</td>\n",
              "      <td>4.0</td>\n",
              "      <td>4.0</td>\n",
              "      <td>3.0</td>\n",
              "      <td>4.0</td>\n",
              "      <td>2.0</td>\n",
              "      <td>2.0</td>\n",
              "      <td>3.0</td>\n",
              "      <td>3.0</td>\n",
              "      <td>6</td>\n",
              "      <td>3.0</td>\n",
              "      <td>4.0</td>\n",
              "      <td>3.0</td>\n",
              "      <td>1</td>\n",
              "      <td>NaN</td>\n",
              "      <td>16</td>\n",
              "    </tr>\n",
              "    <tr>\n",
              "      <th>1</th>\n",
              "      <td>61618</td>\n",
              "      <td>2.0</td>\n",
              "      <td>4.0</td>\n",
              "      <td>5.0</td>\n",
              "      <td>2.0</td>\n",
              "      <td>5.0</td>\n",
              "      <td>5.0</td>\n",
              "      <td>4.0</td>\n",
              "      <td>4.0</td>\n",
              "      <td>3.0</td>\n",
              "      <td>4.0</td>\n",
              "      <td>1.0</td>\n",
              "      <td>1.0</td>\n",
              "      <td>6.0</td>\n",
              "      <td>4.0</td>\n",
              "      <td>3.0</td>\n",
              "      <td>3.0</td>\n",
              "      <td>3.0</td>\n",
              "      <td>3.0</td>\n",
              "      <td>5.0</td>\n",
              "      <td>5.0</td>\n",
              "      <td>4.0</td>\n",
              "      <td>2</td>\n",
              "      <td>4.0</td>\n",
              "      <td>3.0</td>\n",
              "      <td>3.0</td>\n",
              "      <td>2</td>\n",
              "      <td>NaN</td>\n",
              "      <td>18</td>\n",
              "    </tr>\n",
              "    <tr>\n",
              "      <th>2</th>\n",
              "      <td>61620</td>\n",
              "      <td>5.0</td>\n",
              "      <td>4.0</td>\n",
              "      <td>5.0</td>\n",
              "      <td>4.0</td>\n",
              "      <td>4.0</td>\n",
              "      <td>4.0</td>\n",
              "      <td>5.0</td>\n",
              "      <td>4.0</td>\n",
              "      <td>2.0</td>\n",
              "      <td>5.0</td>\n",
              "      <td>2.0</td>\n",
              "      <td>4.0</td>\n",
              "      <td>4.0</td>\n",
              "      <td>4.0</td>\n",
              "      <td>5.0</td>\n",
              "      <td>4.0</td>\n",
              "      <td>5.0</td>\n",
              "      <td>4.0</td>\n",
              "      <td>2.0</td>\n",
              "      <td>3.0</td>\n",
              "      <td>4.0</td>\n",
              "      <td>2</td>\n",
              "      <td>5.0</td>\n",
              "      <td>5.0</td>\n",
              "      <td>2.0</td>\n",
              "      <td>2</td>\n",
              "      <td>NaN</td>\n",
              "      <td>17</td>\n",
              "    </tr>\n",
              "    <tr>\n",
              "      <th>3</th>\n",
              "      <td>61621</td>\n",
              "      <td>4.0</td>\n",
              "      <td>4.0</td>\n",
              "      <td>6.0</td>\n",
              "      <td>5.0</td>\n",
              "      <td>5.0</td>\n",
              "      <td>4.0</td>\n",
              "      <td>4.0</td>\n",
              "      <td>3.0</td>\n",
              "      <td>5.0</td>\n",
              "      <td>5.0</td>\n",
              "      <td>5.0</td>\n",
              "      <td>3.0</td>\n",
              "      <td>4.0</td>\n",
              "      <td>4.0</td>\n",
              "      <td>4.0</td>\n",
              "      <td>2.0</td>\n",
              "      <td>5.0</td>\n",
              "      <td>2.0</td>\n",
              "      <td>4.0</td>\n",
              "      <td>1.0</td>\n",
              "      <td>3.0</td>\n",
              "      <td>3</td>\n",
              "      <td>4.0</td>\n",
              "      <td>3.0</td>\n",
              "      <td>5.0</td>\n",
              "      <td>2</td>\n",
              "      <td>NaN</td>\n",
              "      <td>17</td>\n",
              "    </tr>\n",
              "    <tr>\n",
              "      <th>4</th>\n",
              "      <td>61622</td>\n",
              "      <td>2.0</td>\n",
              "      <td>3.0</td>\n",
              "      <td>3.0</td>\n",
              "      <td>4.0</td>\n",
              "      <td>5.0</td>\n",
              "      <td>4.0</td>\n",
              "      <td>4.0</td>\n",
              "      <td>5.0</td>\n",
              "      <td>3.0</td>\n",
              "      <td>2.0</td>\n",
              "      <td>2.0</td>\n",
              "      <td>2.0</td>\n",
              "      <td>5.0</td>\n",
              "      <td>4.0</td>\n",
              "      <td>5.0</td>\n",
              "      <td>2.0</td>\n",
              "      <td>3.0</td>\n",
              "      <td>4.0</td>\n",
              "      <td>4.0</td>\n",
              "      <td>3.0</td>\n",
              "      <td>3.0</td>\n",
              "      <td>3</td>\n",
              "      <td>4.0</td>\n",
              "      <td>3.0</td>\n",
              "      <td>3.0</td>\n",
              "      <td>1</td>\n",
              "      <td>NaN</td>\n",
              "      <td>17</td>\n",
              "    </tr>\n",
              "  </tbody>\n",
              "</table>\n",
              "</div>"
            ],
            "text/plain": [
              "   Unnamed: 0   A1   A2   A3   A4   A5  ...   O3   O4   O5  gender  education  age\n",
              "0       61617  2.0  4.0  3.0  4.0  4.0  ...  3.0  4.0  3.0       1        NaN   16\n",
              "1       61618  2.0  4.0  5.0  2.0  5.0  ...  4.0  3.0  3.0       2        NaN   18\n",
              "2       61620  5.0  4.0  5.0  4.0  4.0  ...  5.0  5.0  2.0       2        NaN   17\n",
              "3       61621  4.0  4.0  6.0  5.0  5.0  ...  4.0  3.0  5.0       2        NaN   17\n",
              "4       61622  2.0  3.0  3.0  4.0  5.0  ...  4.0  3.0  3.0       1        NaN   17\n",
              "\n",
              "[5 rows x 29 columns]"
            ]
          },
          "metadata": {
            "tags": []
          },
          "execution_count": 237
        }
      ]
    },
    {
      "cell_type": "markdown",
      "metadata": {
        "id": "oJPjm7nDaV5c"
      },
      "source": [
        "Factor Analysis Assumption : สิ่งที่เก็บข้อมูลมาแบบ Observe Variable เพื่อไปเป็น Factor Analysis ที่มีตัวแปรอยู่เบื้องหลังของผลนั้น โดยจุดประสงค์คือเราต้องการหาตัวแปรเบื้องหลังที่มีอิทธิพลต่อ factor analysis"
      ]
    },
    {
      "cell_type": "markdown",
      "metadata": {
        "id": "HDDfAcyGaXUj"
      },
      "source": [
        "Factor Analysis'\n",
        "Assumptions:\n",
        "ในข้อมูล multivariate ที่มีตัวแปร Observe Variables จำนวน n ตัว\n",
        "\n",
        "มีตัวแปร Factors (Latent Variables) จำนวน k ตัว ที่สามารถอธิบายข้อมูลทั้งหมดได้\n",
        "\n",
        "โดย k < n\n",
        "\n",
        "; k ที่น้อยกว่า n เพื่อทำให้เราสามารถลดตัวแปรที่ไม่จำเป็นออกได้"
      ]
    },
    {
      "cell_type": "markdown",
      "metadata": {
        "id": "nz2J_35Kawwo"
      },
      "source": [
        "###Assumption ในการทำ Factor Analysis : \n",
        "\n",
        "\n",
        "1.   there are no outliers in data : ต้องไม่มี outliers เพื่อจะให้ค่าไม่ผิดเพี้ยนไป \n",
        "2.   Sample size should be greater than the factor : จำนวน data ต้องน้อยว่า จำนวน Factor Analysis\n",
        "3.   There should not be prefact multicollonearity : เช่น การหา correlation จะได้เท่ากับ 1 หรือ plot กราฟจะได้เป็นเส้นตรง ต้องไม่มีค่าแบบนี้ \n",
        "4.   There should not be homoscedasticity : เช่น ตัวข้อมูลที่มีการกระจายคล้ายๆกัน เป็นกลุ่มที่อยู่ใกล้ๆกัน ความ error ของข้อมูลอยู่ในกรอบเดียวกัน ต้องไม่มีค่าแบบนี้ \n",
        "\n",
        "ซึ่งจาก Assumption เราสามารถใช้เครื่องมือในการทำได้เลย \n"
      ]
    },
    {
      "cell_type": "markdown",
      "metadata": {
        "id": "4-b95lcba30f"
      },
      "source": [
        "Factor Analysis มีประโยชน์หลักอยู่ 2 อันคือ \n",
        "\n",
        "1. Confirmatory : เช่น เราจัดกรุ๊ปข้อมูลไว้ แล้วเมื่อทำ fa แล้วกรุ๊ปยังอยู่แบบเดิม แสดงว่าสามารถยืนยันได้ว่า group ที่เราจัดนั้นเป็นจริง \n",
        "2. Exploratory : เป็นการหาตัวแปรที่ซ่อนอยู่ในชุดข้อมูล สามารถอธิบายอะไรได้บ้าง \n",
        "\n",
        "ที่ช่วยในการอธิบายทฤษฎี หรือสมมติฐานที่เราต้องการู้ได้ โดยดูจากความสัมพันธ์ของแต่ละตัวแปร ว่ามี factor ไหนอธิบายได้บ้าง "
      ]
    },
    {
      "cell_type": "code",
      "metadata": {
        "colab": {
          "base_uri": "https://localhost:8080/"
        },
        "id": "8D3nEfgKa7Tr",
        "outputId": "e241a5b5-4078-42c6-eb64-c4bcc577401f"
      },
      "source": [
        "!pip install factor_analyzer #ถ้าเกิดเราใช้ libary ที่ไม่ได้มีคนใช้บ่อย เราจะต้องทำการติดตั้งเอง\n",
        "import matplotlib.pyplot as plt "
      ],
      "execution_count": 238,
      "outputs": [
        {
          "output_type": "stream",
          "text": [
            "Requirement already satisfied: factor_analyzer in /usr/local/lib/python3.7/dist-packages (0.3.2)\n",
            "Requirement already satisfied: scipy in /usr/local/lib/python3.7/dist-packages (from factor_analyzer) (1.4.1)\n",
            "Requirement already satisfied: scikit-learn in /usr/local/lib/python3.7/dist-packages (from factor_analyzer) (0.22.2.post1)\n",
            "Requirement already satisfied: numpy in /usr/local/lib/python3.7/dist-packages (from factor_analyzer) (1.19.5)\n",
            "Requirement already satisfied: pandas in /usr/local/lib/python3.7/dist-packages (from factor_analyzer) (1.1.5)\n",
            "Requirement already satisfied: joblib>=0.11 in /usr/local/lib/python3.7/dist-packages (from scikit-learn->factor_analyzer) (1.0.1)\n",
            "Requirement already satisfied: pytz>=2017.2 in /usr/local/lib/python3.7/dist-packages (from pandas->factor_analyzer) (2018.9)\n",
            "Requirement already satisfied: python-dateutil>=2.7.3 in /usr/local/lib/python3.7/dist-packages (from pandas->factor_analyzer) (2.8.1)\n",
            "Requirement already satisfied: six>=1.5 in /usr/local/lib/python3.7/dist-packages (from python-dateutil>=2.7.3->pandas->factor_analyzer) (1.15.0)\n"
          ],
          "name": "stdout"
        }
      ]
    },
    {
      "cell_type": "code",
      "metadata": {
        "id": "4YMaVh0gbA5q"
      },
      "source": [
        "from factor_analyzer import FactorAnalyzer #เมื่อติดตั้งแล้วก็จะดึง มาใช้ได้ตามปกติ "
      ],
      "execution_count": 239,
      "outputs": []
    },
    {
      "cell_type": "markdown",
      "metadata": {
        "id": "ukdTA0MFbCzN"
      },
      "source": [
        "การ .drop เช่น df.drop(['gender', 'education', 'age'],axis=1,inplace=True) โดย inplace คือการอัพเดตข้อมูลลงไปเลย"
      ]
    },
    {
      "cell_type": "markdown",
      "metadata": {
        "id": "dlbTGrQLbE49"
      },
      "source": [
        "## Quiz 5 ตัดตารางโดยใช้ .iloc "
      ]
    },
    {
      "cell_type": "code",
      "metadata": {
        "colab": {
          "base_uri": "https://localhost:8080/",
          "height": 402
        },
        "id": "U6SAVa4dbHRD",
        "outputId": "5a8296ab-7919-45ed-faee-6a968bd1364a"
      },
      "source": [
        "BFI_data_dropped = BFI_data.iloc[:,1:-3] #.iloc[:,1:26] \n",
        "BFI_data_dropped"
      ],
      "execution_count": 240,
      "outputs": [
        {
          "output_type": "execute_result",
          "data": {
            "text/html": [
              "<div>\n",
              "<style scoped>\n",
              "    .dataframe tbody tr th:only-of-type {\n",
              "        vertical-align: middle;\n",
              "    }\n",
              "\n",
              "    .dataframe tbody tr th {\n",
              "        vertical-align: top;\n",
              "    }\n",
              "\n",
              "    .dataframe thead th {\n",
              "        text-align: right;\n",
              "    }\n",
              "</style>\n",
              "<table border=\"1\" class=\"dataframe\">\n",
              "  <thead>\n",
              "    <tr style=\"text-align: right;\">\n",
              "      <th></th>\n",
              "      <th>A1</th>\n",
              "      <th>A2</th>\n",
              "      <th>A3</th>\n",
              "      <th>A4</th>\n",
              "      <th>A5</th>\n",
              "      <th>C1</th>\n",
              "      <th>C2</th>\n",
              "      <th>C3</th>\n",
              "      <th>C4</th>\n",
              "      <th>C5</th>\n",
              "      <th>E1</th>\n",
              "      <th>E2</th>\n",
              "      <th>E3</th>\n",
              "      <th>E4</th>\n",
              "      <th>E5</th>\n",
              "      <th>N1</th>\n",
              "      <th>N2</th>\n",
              "      <th>N3</th>\n",
              "      <th>N4</th>\n",
              "      <th>N5</th>\n",
              "      <th>O1</th>\n",
              "      <th>O2</th>\n",
              "      <th>O3</th>\n",
              "      <th>O4</th>\n",
              "      <th>O5</th>\n",
              "    </tr>\n",
              "  </thead>\n",
              "  <tbody>\n",
              "    <tr>\n",
              "      <th>0</th>\n",
              "      <td>2.0</td>\n",
              "      <td>4.0</td>\n",
              "      <td>3.0</td>\n",
              "      <td>4.0</td>\n",
              "      <td>4.0</td>\n",
              "      <td>2.0</td>\n",
              "      <td>3.0</td>\n",
              "      <td>3.0</td>\n",
              "      <td>4.0</td>\n",
              "      <td>4.0</td>\n",
              "      <td>3.0</td>\n",
              "      <td>3.0</td>\n",
              "      <td>3.0</td>\n",
              "      <td>4.0</td>\n",
              "      <td>4.0</td>\n",
              "      <td>3.0</td>\n",
              "      <td>4.0</td>\n",
              "      <td>2.0</td>\n",
              "      <td>2.0</td>\n",
              "      <td>3.0</td>\n",
              "      <td>3.0</td>\n",
              "      <td>6</td>\n",
              "      <td>3.0</td>\n",
              "      <td>4.0</td>\n",
              "      <td>3.0</td>\n",
              "    </tr>\n",
              "    <tr>\n",
              "      <th>1</th>\n",
              "      <td>2.0</td>\n",
              "      <td>4.0</td>\n",
              "      <td>5.0</td>\n",
              "      <td>2.0</td>\n",
              "      <td>5.0</td>\n",
              "      <td>5.0</td>\n",
              "      <td>4.0</td>\n",
              "      <td>4.0</td>\n",
              "      <td>3.0</td>\n",
              "      <td>4.0</td>\n",
              "      <td>1.0</td>\n",
              "      <td>1.0</td>\n",
              "      <td>6.0</td>\n",
              "      <td>4.0</td>\n",
              "      <td>3.0</td>\n",
              "      <td>3.0</td>\n",
              "      <td>3.0</td>\n",
              "      <td>3.0</td>\n",
              "      <td>5.0</td>\n",
              "      <td>5.0</td>\n",
              "      <td>4.0</td>\n",
              "      <td>2</td>\n",
              "      <td>4.0</td>\n",
              "      <td>3.0</td>\n",
              "      <td>3.0</td>\n",
              "    </tr>\n",
              "    <tr>\n",
              "      <th>2</th>\n",
              "      <td>5.0</td>\n",
              "      <td>4.0</td>\n",
              "      <td>5.0</td>\n",
              "      <td>4.0</td>\n",
              "      <td>4.0</td>\n",
              "      <td>4.0</td>\n",
              "      <td>5.0</td>\n",
              "      <td>4.0</td>\n",
              "      <td>2.0</td>\n",
              "      <td>5.0</td>\n",
              "      <td>2.0</td>\n",
              "      <td>4.0</td>\n",
              "      <td>4.0</td>\n",
              "      <td>4.0</td>\n",
              "      <td>5.0</td>\n",
              "      <td>4.0</td>\n",
              "      <td>5.0</td>\n",
              "      <td>4.0</td>\n",
              "      <td>2.0</td>\n",
              "      <td>3.0</td>\n",
              "      <td>4.0</td>\n",
              "      <td>2</td>\n",
              "      <td>5.0</td>\n",
              "      <td>5.0</td>\n",
              "      <td>2.0</td>\n",
              "    </tr>\n",
              "    <tr>\n",
              "      <th>3</th>\n",
              "      <td>4.0</td>\n",
              "      <td>4.0</td>\n",
              "      <td>6.0</td>\n",
              "      <td>5.0</td>\n",
              "      <td>5.0</td>\n",
              "      <td>4.0</td>\n",
              "      <td>4.0</td>\n",
              "      <td>3.0</td>\n",
              "      <td>5.0</td>\n",
              "      <td>5.0</td>\n",
              "      <td>5.0</td>\n",
              "      <td>3.0</td>\n",
              "      <td>4.0</td>\n",
              "      <td>4.0</td>\n",
              "      <td>4.0</td>\n",
              "      <td>2.0</td>\n",
              "      <td>5.0</td>\n",
              "      <td>2.0</td>\n",
              "      <td>4.0</td>\n",
              "      <td>1.0</td>\n",
              "      <td>3.0</td>\n",
              "      <td>3</td>\n",
              "      <td>4.0</td>\n",
              "      <td>3.0</td>\n",
              "      <td>5.0</td>\n",
              "    </tr>\n",
              "    <tr>\n",
              "      <th>4</th>\n",
              "      <td>2.0</td>\n",
              "      <td>3.0</td>\n",
              "      <td>3.0</td>\n",
              "      <td>4.0</td>\n",
              "      <td>5.0</td>\n",
              "      <td>4.0</td>\n",
              "      <td>4.0</td>\n",
              "      <td>5.0</td>\n",
              "      <td>3.0</td>\n",
              "      <td>2.0</td>\n",
              "      <td>2.0</td>\n",
              "      <td>2.0</td>\n",
              "      <td>5.0</td>\n",
              "      <td>4.0</td>\n",
              "      <td>5.0</td>\n",
              "      <td>2.0</td>\n",
              "      <td>3.0</td>\n",
              "      <td>4.0</td>\n",
              "      <td>4.0</td>\n",
              "      <td>3.0</td>\n",
              "      <td>3.0</td>\n",
              "      <td>3</td>\n",
              "      <td>4.0</td>\n",
              "      <td>3.0</td>\n",
              "      <td>3.0</td>\n",
              "    </tr>\n",
              "    <tr>\n",
              "      <th>...</th>\n",
              "      <td>...</td>\n",
              "      <td>...</td>\n",
              "      <td>...</td>\n",
              "      <td>...</td>\n",
              "      <td>...</td>\n",
              "      <td>...</td>\n",
              "      <td>...</td>\n",
              "      <td>...</td>\n",
              "      <td>...</td>\n",
              "      <td>...</td>\n",
              "      <td>...</td>\n",
              "      <td>...</td>\n",
              "      <td>...</td>\n",
              "      <td>...</td>\n",
              "      <td>...</td>\n",
              "      <td>...</td>\n",
              "      <td>...</td>\n",
              "      <td>...</td>\n",
              "      <td>...</td>\n",
              "      <td>...</td>\n",
              "      <td>...</td>\n",
              "      <td>...</td>\n",
              "      <td>...</td>\n",
              "      <td>...</td>\n",
              "      <td>...</td>\n",
              "    </tr>\n",
              "    <tr>\n",
              "      <th>2795</th>\n",
              "      <td>6.0</td>\n",
              "      <td>1.0</td>\n",
              "      <td>3.0</td>\n",
              "      <td>3.0</td>\n",
              "      <td>3.0</td>\n",
              "      <td>6.0</td>\n",
              "      <td>6.0</td>\n",
              "      <td>6.0</td>\n",
              "      <td>1.0</td>\n",
              "      <td>1.0</td>\n",
              "      <td>1.0</td>\n",
              "      <td>4.0</td>\n",
              "      <td>5.0</td>\n",
              "      <td>5.0</td>\n",
              "      <td>6.0</td>\n",
              "      <td>1.0</td>\n",
              "      <td>1.0</td>\n",
              "      <td>1.0</td>\n",
              "      <td>NaN</td>\n",
              "      <td>1.0</td>\n",
              "      <td>6.0</td>\n",
              "      <td>1</td>\n",
              "      <td>6.0</td>\n",
              "      <td>6.0</td>\n",
              "      <td>1.0</td>\n",
              "    </tr>\n",
              "    <tr>\n",
              "      <th>2796</th>\n",
              "      <td>2.0</td>\n",
              "      <td>4.0</td>\n",
              "      <td>4.0</td>\n",
              "      <td>3.0</td>\n",
              "      <td>5.0</td>\n",
              "      <td>2.0</td>\n",
              "      <td>3.0</td>\n",
              "      <td>4.0</td>\n",
              "      <td>4.0</td>\n",
              "      <td>3.0</td>\n",
              "      <td>2.0</td>\n",
              "      <td>2.0</td>\n",
              "      <td>4.0</td>\n",
              "      <td>4.0</td>\n",
              "      <td>3.0</td>\n",
              "      <td>NaN</td>\n",
              "      <td>3.0</td>\n",
              "      <td>2.0</td>\n",
              "      <td>3.0</td>\n",
              "      <td>3.0</td>\n",
              "      <td>6.0</td>\n",
              "      <td>3</td>\n",
              "      <td>5.0</td>\n",
              "      <td>4.0</td>\n",
              "      <td>2.0</td>\n",
              "    </tr>\n",
              "    <tr>\n",
              "      <th>2797</th>\n",
              "      <td>2.0</td>\n",
              "      <td>3.0</td>\n",
              "      <td>5.0</td>\n",
              "      <td>2.0</td>\n",
              "      <td>5.0</td>\n",
              "      <td>5.0</td>\n",
              "      <td>5.0</td>\n",
              "      <td>5.0</td>\n",
              "      <td>1.0</td>\n",
              "      <td>1.0</td>\n",
              "      <td>2.0</td>\n",
              "      <td>2.0</td>\n",
              "      <td>6.0</td>\n",
              "      <td>3.0</td>\n",
              "      <td>6.0</td>\n",
              "      <td>3.0</td>\n",
              "      <td>4.0</td>\n",
              "      <td>3.0</td>\n",
              "      <td>3.0</td>\n",
              "      <td>1.0</td>\n",
              "      <td>5.0</td>\n",
              "      <td>1</td>\n",
              "      <td>6.0</td>\n",
              "      <td>4.0</td>\n",
              "      <td>3.0</td>\n",
              "    </tr>\n",
              "    <tr>\n",
              "      <th>2798</th>\n",
              "      <td>5.0</td>\n",
              "      <td>2.0</td>\n",
              "      <td>2.0</td>\n",
              "      <td>4.0</td>\n",
              "      <td>4.0</td>\n",
              "      <td>5.0</td>\n",
              "      <td>5.0</td>\n",
              "      <td>5.0</td>\n",
              "      <td>2.0</td>\n",
              "      <td>6.0</td>\n",
              "      <td>2.0</td>\n",
              "      <td>2.0</td>\n",
              "      <td>4.0</td>\n",
              "      <td>5.0</td>\n",
              "      <td>4.0</td>\n",
              "      <td>5.0</td>\n",
              "      <td>5.0</td>\n",
              "      <td>6.0</td>\n",
              "      <td>4.0</td>\n",
              "      <td>1.0</td>\n",
              "      <td>5.0</td>\n",
              "      <td>2</td>\n",
              "      <td>5.0</td>\n",
              "      <td>5.0</td>\n",
              "      <td>1.0</td>\n",
              "    </tr>\n",
              "    <tr>\n",
              "      <th>2799</th>\n",
              "      <td>2.0</td>\n",
              "      <td>3.0</td>\n",
              "      <td>1.0</td>\n",
              "      <td>4.0</td>\n",
              "      <td>2.0</td>\n",
              "      <td>5.0</td>\n",
              "      <td>5.0</td>\n",
              "      <td>3.0</td>\n",
              "      <td>3.0</td>\n",
              "      <td>3.0</td>\n",
              "      <td>3.0</td>\n",
              "      <td>3.0</td>\n",
              "      <td>1.0</td>\n",
              "      <td>2.0</td>\n",
              "      <td>2.0</td>\n",
              "      <td>1.0</td>\n",
              "      <td>2.0</td>\n",
              "      <td>2.0</td>\n",
              "      <td>1.0</td>\n",
              "      <td>1.0</td>\n",
              "      <td>3.0</td>\n",
              "      <td>1</td>\n",
              "      <td>3.0</td>\n",
              "      <td>5.0</td>\n",
              "      <td>1.0</td>\n",
              "    </tr>\n",
              "  </tbody>\n",
              "</table>\n",
              "<p>2800 rows × 25 columns</p>\n",
              "</div>"
            ],
            "text/plain": [
              "       A1   A2   A3   A4   A5   C1   C2  ...   N4   N5   O1  O2   O3   O4   O5\n",
              "0     2.0  4.0  3.0  4.0  4.0  2.0  3.0  ...  2.0  3.0  3.0   6  3.0  4.0  3.0\n",
              "1     2.0  4.0  5.0  2.0  5.0  5.0  4.0  ...  5.0  5.0  4.0   2  4.0  3.0  3.0\n",
              "2     5.0  4.0  5.0  4.0  4.0  4.0  5.0  ...  2.0  3.0  4.0   2  5.0  5.0  2.0\n",
              "3     4.0  4.0  6.0  5.0  5.0  4.0  4.0  ...  4.0  1.0  3.0   3  4.0  3.0  5.0\n",
              "4     2.0  3.0  3.0  4.0  5.0  4.0  4.0  ...  4.0  3.0  3.0   3  4.0  3.0  3.0\n",
              "...   ...  ...  ...  ...  ...  ...  ...  ...  ...  ...  ...  ..  ...  ...  ...\n",
              "2795  6.0  1.0  3.0  3.0  3.0  6.0  6.0  ...  NaN  1.0  6.0   1  6.0  6.0  1.0\n",
              "2796  2.0  4.0  4.0  3.0  5.0  2.0  3.0  ...  3.0  3.0  6.0   3  5.0  4.0  2.0\n",
              "2797  2.0  3.0  5.0  2.0  5.0  5.0  5.0  ...  3.0  1.0  5.0   1  6.0  4.0  3.0\n",
              "2798  5.0  2.0  2.0  4.0  4.0  5.0  5.0  ...  4.0  1.0  5.0   2  5.0  5.0  1.0\n",
              "2799  2.0  3.0  1.0  4.0  2.0  5.0  5.0  ...  1.0  1.0  3.0   1  3.0  5.0  1.0\n",
              "\n",
              "[2800 rows x 25 columns]"
            ]
          },
          "metadata": {
            "tags": []
          },
          "execution_count": 240
        }
      ]
    },
    {
      "cell_type": "markdown",
      "metadata": {
        "id": "GIUA2BGpbKsa"
      },
      "source": [
        "1.   there are no outliers in data : ต้องไม่มี outliers เพื่อจะให้ค่าไม่ผิดเพี้ยนไป\n",
        "\n",
        "เราจึงต้องเอาค่าว่างออกไป โดยการใช้ .dropna()"
      ]
    },
    {
      "cell_type": "code",
      "metadata": {
        "id": "iEsniYNkbLhR"
      },
      "source": [
        "BFI_data_dropped2 = BFI_data_dropped.dropna()"
      ],
      "execution_count": 241,
      "outputs": []
    },
    {
      "cell_type": "code",
      "metadata": {
        "colab": {
          "base_uri": "https://localhost:8080/"
        },
        "id": "e-3rfSTVbNYx",
        "outputId": "5f4df90e-aca4-4d6c-dcb5-2173dc85cfdc"
      },
      "source": [
        "BFI_data_dropped.shape"
      ],
      "execution_count": 242,
      "outputs": [
        {
          "output_type": "execute_result",
          "data": {
            "text/plain": [
              "(2800, 25)"
            ]
          },
          "metadata": {
            "tags": []
          },
          "execution_count": 242
        }
      ]
    },
    {
      "cell_type": "code",
      "metadata": {
        "colab": {
          "base_uri": "https://localhost:8080/"
        },
        "id": "lt2v7vgZbOu4",
        "outputId": "e024111e-a8ab-45b4-f652-ef4cb73c46bd"
      },
      "source": [
        "BFI_data_dropped2.shape"
      ],
      "execution_count": 243,
      "outputs": [
        {
          "output_type": "execute_result",
          "data": {
            "text/plain": [
              "(2436, 25)"
            ]
          },
          "metadata": {
            "tags": []
          },
          "execution_count": 243
        }
      ]
    },
    {
      "cell_type": "markdown",
      "metadata": {
        "id": "OuLLB0BibRSi"
      },
      "source": [
        "3.   There should not be prefact multicollonearity : เช่น การหา correlation จะได้เท่ากับ 1 หรือ plot กราฟจะได้เป็นเส้นตรง ต้องไม่มีค่าแบบนี้"
      ]
    },
    {
      "cell_type": "markdown",
      "metadata": {
        "id": "rWXsvDzTbSFE"
      },
      "source": [
        "###Bartlett’s test\n",
        "pacget ที่เกี่ยวกับตัวสถิติ เพื่อให้ง่ายต่อการคำนวณ"
      ]
    },
    {
      "cell_type": "code",
      "metadata": {
        "id": "3PYHewt2bWxU"
      },
      "source": [
        "from factor_analyzer.factor_analyzer import calculate_bartlett_sphericity #import fuction calculate_bartlett_sphericity เพื่อนำมาใช้ "
      ],
      "execution_count": 244,
      "outputs": []
    },
    {
      "cell_type": "markdown",
      "metadata": {
        "id": "U65F3MHPbe9I"
      },
      "source": [
        "เราสามารถดูได้ว่า ถ้า p-value เท่ากับ 0 แสดงว่า data ที่เรามีไม่มี prefact multicollonearity"
      ]
    },
    {
      "cell_type": "code",
      "metadata": {
        "colab": {
          "base_uri": "https://localhost:8080/"
        },
        "id": "rXA95C5Qbgar",
        "outputId": "3b44a650-b481-4e24-c420-ea7679edddac"
      },
      "source": [
        "chi_square_value,p_value=calculate_bartlett_sphericity(BFI_data_dropped2)\n",
        "chi_square_value, p_value #จะบอกค่าว่ามี chi_square เท่าไหร่ p_value"
      ],
      "execution_count": 245,
      "outputs": [
        {
          "output_type": "execute_result",
          "data": {
            "text/plain": [
              "(18170.966350869243, 0.0)"
            ]
          },
          "metadata": {
            "tags": []
          },
          "execution_count": 245
        }
      ]
    },
    {
      "cell_type": "markdown",
      "metadata": {
        "id": "LQZJbgIgbi-o"
      },
      "source": [
        "4.   There should not be homoscedasticity : เช่น ตัวข้อมูลที่มีการกระจายคล้ายๆกัน เป็นกลุ่มที่อยู่ใกล้ๆกัน ความ error ของข้อมูลอยู่ในกรอบเดียวกัน ต้องไม่มีค่าแบบนี้"
      ]
    },
    {
      "cell_type": "markdown",
      "metadata": {
        "id": "o7JOXvyXbkh7"
      },
      "source": [
        "##Start Factors analysis\n",
        "\n",
        "Choosing the Number of Factors "
      ]
    },
    {
      "cell_type": "markdown",
      "metadata": {
        "id": "-rc2nkc2bpUw"
      },
      "source": [
        "###Import"
      ]
    },
    {
      "cell_type": "code",
      "metadata": {
        "id": "STT0DPR_bruJ"
      },
      "source": [
        "from factor_analyzer import FactorAnalyzer"
      ],
      "execution_count": 246,
      "outputs": []
    },
    {
      "cell_type": "markdown",
      "metadata": {
        "id": "zlsVykItbwej"
      },
      "source": [
        "###Define "
      ]
    },
    {
      "cell_type": "code",
      "metadata": {
        "id": "3MKLOO1tbzLz"
      },
      "source": [
        "fa = FactorAnalyzer(n_factors=20)"
      ],
      "execution_count": 247,
      "outputs": []
    },
    {
      "cell_type": "code",
      "metadata": {
        "id": "6cQzitZSb8EZ"
      },
      "source": [
        "data_fa = fa.fit_transform(BFI_data_dropped2)\n",
        "#fit คำนวนพารามิเตอร์ \n",
        "#tranfrom เป็นการนำ data ที่คำนวณมาแล้วเข้าไปใส่ในแกนที่ถูกเปลี่ยน"
      ],
      "execution_count": 248,
      "outputs": []
    },
    {
      "cell_type": "code",
      "metadata": {
        "colab": {
          "base_uri": "https://localhost:8080/"
        },
        "id": "Brgt3WFPb-UU",
        "outputId": "09671c93-749a-4d0b-b3ee-f305d75bb096"
      },
      "source": [
        "data_fa.shape"
      ],
      "execution_count": 249,
      "outputs": [
        {
          "output_type": "execute_result",
          "data": {
            "text/plain": [
              "(2436, 20)"
            ]
          },
          "metadata": {
            "tags": []
          },
          "execution_count": 249
        }
      ]
    },
    {
      "cell_type": "code",
      "metadata": {
        "id": "5FsZviNRcfKv"
      },
      "source": [
        "ev,v = fa.get_eigenvalues() #เพื่อนำไป plot ในกราฟ Scree plot"
      ],
      "execution_count": 250,
      "outputs": []
    },
    {
      "cell_type": "markdown",
      "metadata": {
        "id": "wlclGmnvcY4E"
      },
      "source": [
        "วิธีตัดสินว่าเราจะลดเหลือกี่ Dimention (มี factors ทั้งหมดกี่ตัว)"
      ]
    },
    {
      "cell_type": "code",
      "metadata": {
        "colab": {
          "base_uri": "https://localhost:8080/"
        },
        "id": "Zm_fMPjBcnwD",
        "outputId": "3bdd3593-15e0-4a72-dd04-e296bbd1efbf"
      },
      "source": [
        "ev"
      ],
      "execution_count": 251,
      "outputs": [
        {
          "output_type": "execute_result",
          "data": {
            "text/plain": [
              "array([5.13431118, 2.75188667, 2.14270195, 1.85232761, 1.54816285,\n",
              "       1.07358247, 0.83953893, 0.79920618, 0.71898919, 0.68808879,\n",
              "       0.67637336, 0.65179984, 0.62325295, 0.59656284, 0.56309083,\n",
              "       0.54330533, 0.51451752, 0.49450315, 0.48263952, 0.448921  ,\n",
              "       0.42336611, 0.40067145, 0.38780448, 0.38185679, 0.26253902])"
            ]
          },
          "metadata": {
            "tags": []
          },
          "execution_count": 251
        }
      ]
    },
    {
      "cell_type": "markdown",
      "metadata": {
        "id": "V5dNAHezcqSx"
      },
      "source": [
        "Scree plot เป็นกราฟที่บอกว่า factor แต่ละตัวมี eigenvalues อยู่เท่าไหร่\n",
        "\n",
        "โดยการทำ Scree plot เพื่อมาดู factor ที่มากว่า 1 แล้วจะนำ factor นั้นมาใช้"
      ]
    },
    {
      "cell_type": "code",
      "metadata": {
        "colab": {
          "base_uri": "https://localhost:8080/",
          "height": 893
        },
        "id": "2TzXI7nfcrs8",
        "outputId": "c2731b44-ce09-4b47-a073-8b6cf3262b5f"
      },
      "source": [
        "# Create scree plot using matplotlib\n",
        "plt.plot(range(1,BFI_data_dropped2.shape[1]+1),ev,'bo-')\n",
        "plt.plot([0,BFI_data_dropped2.shape[1]+1],[1,1],'r--')\n",
        "plt.title('Scree Plot')\n",
        "plt.xlabel('Factors')\n",
        "plt.ylabel('Eigenvalue')\n",
        "plt.grid()\n",
        "plt.show()"
      ],
      "execution_count": 252,
      "outputs": [
        {
          "output_type": "display_data",
          "data": {
            "image/png": "[encoded data removed]",
            "text/plain": [
              "<Figure size 1080x1080 with 1 Axes>"
            ]
          },
          "metadata": {
            "tags": [],
            "needs_background": "light"
          }
        }
      ]
    },
    {
      "cell_type": "code",
      "metadata": {
        "colab": {
          "base_uri": "https://localhost:8080/"
        },
        "id": "jK0_YfWxctfo",
        "outputId": "f9c4ba9b-d567-40bf-f34a-7cf079ecd371"
      },
      "source": [
        "data_fa[:,:6] #ที่เป็น 6 ตัวเพราะ ตัวที่ 1-6 มีค่ามากกว่า 1 "
      ],
      "execution_count": 253,
      "outputs": [
        {
          "output_type": "execute_result",
          "data": {
            "text/plain": [
              "array([[-0.89749661, -0.12809666, -1.22649076,  1.08665889,  0.42476701,\n",
              "         0.03981611],\n",
              "       [ 0.33679356, -0.15018138, -0.04332274, -0.10339328,  0.29665648,\n",
              "        -1.11019718],\n",
              "       [-0.24521029,  0.80409961,  0.39343377, -0.30106518,  0.82703928,\n",
              "        -0.2982022 ],\n",
              "       ...,\n",
              "       [ 0.38724631, -0.02183587,  1.19616826, -1.19357208,  0.79669501,\n",
              "        -0.95295109],\n",
              "       [-0.75695976,  0.94984758,  1.24363484, -1.15230215,  2.2534133 ,\n",
              "        -1.0218667 ],\n",
              "       [-2.35583952, -1.49829856,  0.49436981, -1.64734311,  0.94742323,\n",
              "         0.43462495]])"
            ]
          },
          "metadata": {
            "tags": []
          },
          "execution_count": 253
        }
      ]
    },
    {
      "cell_type": "markdown",
      "metadata": {
        "id": "LBfyNJAdcvtC"
      },
      "source": [
        "##Factor Loading"
      ]
    },
    {
      "cell_type": "code",
      "metadata": {
        "colab": {
          "base_uri": "https://localhost:8080/"
        },
        "id": "Bpj3YU55cxKp",
        "outputId": "89173d4d-52b7-4215-cd70-a1b0420eee32"
      },
      "source": [
        "fa.loadings_.shape\n",
        "\n",
        "#เป็นการบอกว่ามีกี่ตัวแปร แล้วดูตัวแปรไหนมีอิทธิพลบ้าง"
      ],
      "execution_count": 254,
      "outputs": [
        {
          "output_type": "execute_result",
          "data": {
            "text/plain": [
              "(25, 20)"
            ]
          },
          "metadata": {
            "tags": []
          },
          "execution_count": 254
        }
      ]
    },
    {
      "cell_type": "code",
      "metadata": {
        "id": "FHHBl5yBc0JE"
      },
      "source": [
        "from factor_analyzer import FactorAnalyzer\n",
        "fa2 = FactorAnalyzer(n_factors=6)\n",
        "data_fa2 = fa2.fit_transform(BFI_data_dropped2) "
      ],
      "execution_count": 255,
      "outputs": []
    },
    {
      "cell_type": "markdown",
      "metadata": {
        "id": "BA4KwO60c7dg"
      },
      "source": [
        "ทำการ Plot factor loadings"
      ]
    },
    {
      "cell_type": "code",
      "metadata": {
        "id": "KUgzQIryc8iU"
      },
      "source": [
        "from matplotlib import pyplot as plt\n",
        "import numpy as np\n",
        "import matplotlib"
      ],
      "execution_count": 256,
      "outputs": []
    },
    {
      "cell_type": "markdown",
      "metadata": {
        "id": "JKJou5nddAVq"
      },
      "source": [
        "##matrix plot\n",
        "confirmatory สามารถทำได้ดีเมื่อเรารู้ว่าตัวแปรไหนอยู่ในกลุ่มเดียวกันบ้าง"
      ]
    },
    {
      "cell_type": "code",
      "metadata": {
        "colab": {
          "base_uri": "https://localhost:8080/",
          "height": 880
        },
        "id": "zsyzYnoQdC4K",
        "outputId": "d71d4a76-fc37-4a31-8050-4ce57e6e5f5c"
      },
      "source": [
        "matplotlib.rcParams['figure.figsize']=[15,15]\n",
        "plt.imshow(np.absolute(fa2.loadings_))\n",
        "\n",
        "#กราฟนี้จะบอกว่า ค่าที่มีค่ามาก สีในกราฟก็จะสว่าง \n",
        "#โดยแกน y คือ factor ที่อธิบายค่าตัวที่ 1 ,2 ,3 ,... ไปเรื่อยๆ\n",
        "#โดนแกน x คือ ข้อมูลตัวที่ 1 ,2 ,3 ,... ไปเรื่อยๆ\n",
        "#ส่วนค่าในช่วงที่เป้นสีคือค่าของ factor loading "
      ],
      "execution_count": 257,
      "outputs": [
        {
          "output_type": "execute_result",
          "data": {
            "text/plain": [
              "<matplotlib.image.AxesImage at 0x7f5f4d87dc90>"
            ]
          },
          "metadata": {
            "tags": []
          },
          "execution_count": 257
        },
        {
          "output_type": "display_data",
          "data": {
            "image/png": "[encoded data removed]",
            "text/plain": [
              "<Figure size 1080x1080 with 1 Axes>"
            ]
          },
          "metadata": {
            "tags": [],
            "needs_background": "light"
          }
        }
      ]
    },
    {
      "cell_type": "markdown",
      "metadata": {
        "id": "vYQ6amRBdFv0"
      },
      "source": [
        "Bar plot กราฟแท่ง\n",
        "Exploratory สามารถทำได้ดีในตอนที่เราไม่รู้ว่าตัวแปรใดอยู่ในกลุ่มเดียวกันบ้าง"
      ]
    },
    {
      "cell_type": "code",
      "metadata": {
        "colab": {
          "base_uri": "https://localhost:8080/"
        },
        "id": "6VtvCLWldIU-",
        "outputId": "1ff96e01-4d8f-4a6a-858c-fe9dee426757"
      },
      "source": [
        "BFI_data_dropped2.columns #เรียกดู columns ก่อน "
      ],
      "execution_count": 258,
      "outputs": [
        {
          "output_type": "execute_result",
          "data": {
            "text/plain": [
              "Index(['A1', 'A2', 'A3', 'A4', 'A5', 'C1', 'C2', 'C3', 'C4', 'C5', 'E1', 'E2',\n",
              "       'E3', 'E4', 'E5', 'N1', 'N2', 'N3', 'N4', 'N5', 'O1', 'O2', 'O3', 'O4',\n",
              "       'O5'],\n",
              "      dtype='object')"
            ]
          },
          "metadata": {
            "tags": []
          },
          "execution_count": 258
        }
      ]
    },
    {
      "cell_type": "markdown",
      "metadata": {
        "id": "B_gJaJmVdLHc"
      },
      "source": [
        "เราเลือกมา 1 factor เพื่อนำค่าในกราฟข้างบนมา plot เป็น Bar เพื่อให้ดูค่าง่ายขึ้น"
      ]
    },
    {
      "cell_type": "code",
      "metadata": {
        "colab": {
          "base_uri": "https://localhost:8080/",
          "height": 658
        },
        "id": "YjsQtrA9dMXw",
        "outputId": "16cb6aea-097c-41b4-866d-699b7a69069d"
      },
      "source": [
        "matplotlib.rcParams['figure.figsize']=[15,15]\n",
        "plt.bar(range(25),np.absolute(fa2.loadings_[:,0]),tick_label=BFI_data_dropped2.columns) \n",
        "#range(25) ค่าของข้อมูลทั้งหมด 25 ตัว \n",
        "#เป็นการเอา columns แรกในทุกๆแถว นั้นก็คือ .loadings_[:,0] นั้นคือ factor 1 "
      ],
      "execution_count": 259,
      "outputs": [
        {
          "output_type": "execute_result",
          "data": {
            "text/plain": [
              "<BarContainer object of 25 artists>"
            ]
          },
          "metadata": {
            "tags": []
          },
          "execution_count": 259
        },
        {
          "output_type": "display_data",
          "data": {
            "image/png": "[encoded data removed]",
            "text/plain": [
              "<Figure size 1080x1080 with 1 Axes>"
            ]
          },
          "metadata": {
            "tags": [],
            "needs_background": "light"
          }
        }
      ]
    },
    {
      "cell_type": "markdown",
      "metadata": {
        "id": "R-3Con_kdPLt"
      },
      "source": [
        "##Exam 3\n",
        "\n",
        "ทำ Factor Analysis ข้อมูล Fifa 2018 \n",
        "https://drive.google.com/file/d/1UORRKWMb8GCN455eJE_n9MvBHupnSVwv/view?usp=sharing"
      ]
    },
    {
      "cell_type": "markdown",
      "metadata": {
        "id": "b0mLUiMSdQ4l"
      },
      "source": [
        "**ทำการ Import ข้อมูล**"
      ]
    },
    {
      "cell_type": "code",
      "metadata": {
        "colab": {
          "base_uri": "https://localhost:8080/",
          "height": 791
        },
        "id": "P5OT_byedUw5",
        "outputId": "66348880-6e9a-466f-ac4b-49a3ff587ed2"
      },
      "source": [
        "exam = pd.read_csv('FIFA_2018.csv')\n",
        "exam"
      ],
      "execution_count": 301,
      "outputs": [
        {
          "output_type": "execute_result",
          "data": {
            "text/html": [
              "<div>\n",
              "<style scoped>\n",
              "    .dataframe tbody tr th:only-of-type {\n",
              "        vertical-align: middle;\n",
              "    }\n",
              "\n",
              "    .dataframe tbody tr th {\n",
              "        vertical-align: top;\n",
              "    }\n",
              "\n",
              "    .dataframe thead th {\n",
              "        text-align: right;\n",
              "    }\n",
              "</style>\n",
              "<table border=\"1\" class=\"dataframe\">\n",
              "  <thead>\n",
              "    <tr style=\"text-align: right;\">\n",
              "      <th></th>\n",
              "      <th>Date</th>\n",
              "      <th>Team</th>\n",
              "      <th>Opponent</th>\n",
              "      <th>Goal Scored</th>\n",
              "      <th>Ball Possession %</th>\n",
              "      <th>Attempts</th>\n",
              "      <th>On-Target</th>\n",
              "      <th>Off-Target</th>\n",
              "      <th>Blocked</th>\n",
              "      <th>Corners</th>\n",
              "      <th>Offsides</th>\n",
              "      <th>Free Kicks</th>\n",
              "      <th>Saves</th>\n",
              "      <th>Pass Accuracy %</th>\n",
              "      <th>Passes</th>\n",
              "      <th>Distance Covered (Kms)</th>\n",
              "      <th>Fouls Committed</th>\n",
              "      <th>Yellow Card</th>\n",
              "      <th>Yellow &amp; Red</th>\n",
              "      <th>Red</th>\n",
              "      <th>Man of the Match</th>\n",
              "      <th>1st Goal</th>\n",
              "      <th>Round</th>\n",
              "      <th>PSO</th>\n",
              "      <th>Goals in PSO</th>\n",
              "      <th>Own goals</th>\n",
              "      <th>Own goal Time</th>\n",
              "    </tr>\n",
              "  </thead>\n",
              "  <tbody>\n",
              "    <tr>\n",
              "      <th>0</th>\n",
              "      <td>14-06-2018</td>\n",
              "      <td>Russia</td>\n",
              "      <td>Saudi Arabia</td>\n",
              "      <td>5</td>\n",
              "      <td>40</td>\n",
              "      <td>13</td>\n",
              "      <td>7</td>\n",
              "      <td>3</td>\n",
              "      <td>3</td>\n",
              "      <td>6</td>\n",
              "      <td>3</td>\n",
              "      <td>11</td>\n",
              "      <td>0</td>\n",
              "      <td>78</td>\n",
              "      <td>306</td>\n",
              "      <td>118</td>\n",
              "      <td>22</td>\n",
              "      <td>0</td>\n",
              "      <td>0</td>\n",
              "      <td>0</td>\n",
              "      <td>Yes</td>\n",
              "      <td>12.0</td>\n",
              "      <td>Group Stage</td>\n",
              "      <td>No</td>\n",
              "      <td>0</td>\n",
              "      <td>NaN</td>\n",
              "      <td>NaN</td>\n",
              "    </tr>\n",
              "    <tr>\n",
              "      <th>1</th>\n",
              "      <td>14-06-2018</td>\n",
              "      <td>Saudi Arabia</td>\n",
              "      <td>Russia</td>\n",
              "      <td>0</td>\n",
              "      <td>60</td>\n",
              "      <td>6</td>\n",
              "      <td>0</td>\n",
              "      <td>3</td>\n",
              "      <td>3</td>\n",
              "      <td>2</td>\n",
              "      <td>1</td>\n",
              "      <td>25</td>\n",
              "      <td>2</td>\n",
              "      <td>86</td>\n",
              "      <td>511</td>\n",
              "      <td>105</td>\n",
              "      <td>10</td>\n",
              "      <td>0</td>\n",
              "      <td>0</td>\n",
              "      <td>0</td>\n",
              "      <td>No</td>\n",
              "      <td>NaN</td>\n",
              "      <td>Group Stage</td>\n",
              "      <td>No</td>\n",
              "      <td>0</td>\n",
              "      <td>NaN</td>\n",
              "      <td>NaN</td>\n",
              "    </tr>\n",
              "    <tr>\n",
              "      <th>2</th>\n",
              "      <td>15-06-2018</td>\n",
              "      <td>Egypt</td>\n",
              "      <td>Uruguay</td>\n",
              "      <td>0</td>\n",
              "      <td>43</td>\n",
              "      <td>8</td>\n",
              "      <td>3</td>\n",
              "      <td>3</td>\n",
              "      <td>2</td>\n",
              "      <td>0</td>\n",
              "      <td>1</td>\n",
              "      <td>7</td>\n",
              "      <td>3</td>\n",
              "      <td>78</td>\n",
              "      <td>395</td>\n",
              "      <td>112</td>\n",
              "      <td>12</td>\n",
              "      <td>2</td>\n",
              "      <td>0</td>\n",
              "      <td>0</td>\n",
              "      <td>No</td>\n",
              "      <td>NaN</td>\n",
              "      <td>Group Stage</td>\n",
              "      <td>No</td>\n",
              "      <td>0</td>\n",
              "      <td>NaN</td>\n",
              "      <td>NaN</td>\n",
              "    </tr>\n",
              "    <tr>\n",
              "      <th>3</th>\n",
              "      <td>15-06-2018</td>\n",
              "      <td>Uruguay</td>\n",
              "      <td>Egypt</td>\n",
              "      <td>1</td>\n",
              "      <td>57</td>\n",
              "      <td>14</td>\n",
              "      <td>4</td>\n",
              "      <td>6</td>\n",
              "      <td>4</td>\n",
              "      <td>5</td>\n",
              "      <td>1</td>\n",
              "      <td>13</td>\n",
              "      <td>3</td>\n",
              "      <td>86</td>\n",
              "      <td>589</td>\n",
              "      <td>111</td>\n",
              "      <td>6</td>\n",
              "      <td>0</td>\n",
              "      <td>0</td>\n",
              "      <td>0</td>\n",
              "      <td>Yes</td>\n",
              "      <td>89.0</td>\n",
              "      <td>Group Stage</td>\n",
              "      <td>No</td>\n",
              "      <td>0</td>\n",
              "      <td>NaN</td>\n",
              "      <td>NaN</td>\n",
              "    </tr>\n",
              "    <tr>\n",
              "      <th>4</th>\n",
              "      <td>15-06-2018</td>\n",
              "      <td>Morocco</td>\n",
              "      <td>Iran</td>\n",
              "      <td>0</td>\n",
              "      <td>64</td>\n",
              "      <td>13</td>\n",
              "      <td>3</td>\n",
              "      <td>6</td>\n",
              "      <td>4</td>\n",
              "      <td>5</td>\n",
              "      <td>0</td>\n",
              "      <td>14</td>\n",
              "      <td>2</td>\n",
              "      <td>86</td>\n",
              "      <td>433</td>\n",
              "      <td>101</td>\n",
              "      <td>22</td>\n",
              "      <td>1</td>\n",
              "      <td>0</td>\n",
              "      <td>0</td>\n",
              "      <td>No</td>\n",
              "      <td>NaN</td>\n",
              "      <td>Group Stage</td>\n",
              "      <td>No</td>\n",
              "      <td>0</td>\n",
              "      <td>1.0</td>\n",
              "      <td>90.0</td>\n",
              "    </tr>\n",
              "    <tr>\n",
              "      <th>...</th>\n",
              "      <td>...</td>\n",
              "      <td>...</td>\n",
              "      <td>...</td>\n",
              "      <td>...</td>\n",
              "      <td>...</td>\n",
              "      <td>...</td>\n",
              "      <td>...</td>\n",
              "      <td>...</td>\n",
              "      <td>...</td>\n",
              "      <td>...</td>\n",
              "      <td>...</td>\n",
              "      <td>...</td>\n",
              "      <td>...</td>\n",
              "      <td>...</td>\n",
              "      <td>...</td>\n",
              "      <td>...</td>\n",
              "      <td>...</td>\n",
              "      <td>...</td>\n",
              "      <td>...</td>\n",
              "      <td>...</td>\n",
              "      <td>...</td>\n",
              "      <td>...</td>\n",
              "      <td>...</td>\n",
              "      <td>...</td>\n",
              "      <td>...</td>\n",
              "      <td>...</td>\n",
              "      <td>...</td>\n",
              "    </tr>\n",
              "    <tr>\n",
              "      <th>123</th>\n",
              "      <td>11-07-2018</td>\n",
              "      <td>England</td>\n",
              "      <td>Croatia</td>\n",
              "      <td>1</td>\n",
              "      <td>46</td>\n",
              "      <td>11</td>\n",
              "      <td>1</td>\n",
              "      <td>6</td>\n",
              "      <td>4</td>\n",
              "      <td>4</td>\n",
              "      <td>3</td>\n",
              "      <td>24</td>\n",
              "      <td>5</td>\n",
              "      <td>79</td>\n",
              "      <td>479</td>\n",
              "      <td>148</td>\n",
              "      <td>14</td>\n",
              "      <td>1</td>\n",
              "      <td>0</td>\n",
              "      <td>0</td>\n",
              "      <td>No</td>\n",
              "      <td>5.0</td>\n",
              "      <td>Semi- Finals</td>\n",
              "      <td>No</td>\n",
              "      <td>0</td>\n",
              "      <td>NaN</td>\n",
              "      <td>NaN</td>\n",
              "    </tr>\n",
              "    <tr>\n",
              "      <th>124</th>\n",
              "      <td>14-07-2018</td>\n",
              "      <td>Belgium</td>\n",
              "      <td>England</td>\n",
              "      <td>2</td>\n",
              "      <td>43</td>\n",
              "      <td>12</td>\n",
              "      <td>4</td>\n",
              "      <td>3</td>\n",
              "      <td>5</td>\n",
              "      <td>4</td>\n",
              "      <td>1</td>\n",
              "      <td>5</td>\n",
              "      <td>5</td>\n",
              "      <td>88</td>\n",
              "      <td>510</td>\n",
              "      <td>108</td>\n",
              "      <td>11</td>\n",
              "      <td>1</td>\n",
              "      <td>0</td>\n",
              "      <td>0</td>\n",
              "      <td>Yes</td>\n",
              "      <td>4.0</td>\n",
              "      <td>3rd Place</td>\n",
              "      <td>No</td>\n",
              "      <td>0</td>\n",
              "      <td>NaN</td>\n",
              "      <td>NaN</td>\n",
              "    </tr>\n",
              "    <tr>\n",
              "      <th>125</th>\n",
              "      <td>14-07-2018</td>\n",
              "      <td>England</td>\n",
              "      <td>Belgium</td>\n",
              "      <td>0</td>\n",
              "      <td>57</td>\n",
              "      <td>15</td>\n",
              "      <td>5</td>\n",
              "      <td>7</td>\n",
              "      <td>3</td>\n",
              "      <td>5</td>\n",
              "      <td>0</td>\n",
              "      <td>12</td>\n",
              "      <td>2</td>\n",
              "      <td>92</td>\n",
              "      <td>698</td>\n",
              "      <td>110</td>\n",
              "      <td>5</td>\n",
              "      <td>2</td>\n",
              "      <td>0</td>\n",
              "      <td>0</td>\n",
              "      <td>No</td>\n",
              "      <td>NaN</td>\n",
              "      <td>3rd Place</td>\n",
              "      <td>No</td>\n",
              "      <td>0</td>\n",
              "      <td>NaN</td>\n",
              "      <td>NaN</td>\n",
              "    </tr>\n",
              "    <tr>\n",
              "      <th>126</th>\n",
              "      <td>15-07-2018</td>\n",
              "      <td>France</td>\n",
              "      <td>Croatia</td>\n",
              "      <td>4</td>\n",
              "      <td>39</td>\n",
              "      <td>8</td>\n",
              "      <td>6</td>\n",
              "      <td>1</td>\n",
              "      <td>1</td>\n",
              "      <td>2</td>\n",
              "      <td>1</td>\n",
              "      <td>14</td>\n",
              "      <td>1</td>\n",
              "      <td>75</td>\n",
              "      <td>271</td>\n",
              "      <td>99</td>\n",
              "      <td>14</td>\n",
              "      <td>2</td>\n",
              "      <td>0</td>\n",
              "      <td>0</td>\n",
              "      <td>Yes</td>\n",
              "      <td>18.0</td>\n",
              "      <td>Final</td>\n",
              "      <td>No</td>\n",
              "      <td>0</td>\n",
              "      <td>1.0</td>\n",
              "      <td>18.0</td>\n",
              "    </tr>\n",
              "    <tr>\n",
              "      <th>127</th>\n",
              "      <td>15-07-2018</td>\n",
              "      <td>Croatia</td>\n",
              "      <td>France</td>\n",
              "      <td>2</td>\n",
              "      <td>61</td>\n",
              "      <td>15</td>\n",
              "      <td>3</td>\n",
              "      <td>8</td>\n",
              "      <td>4</td>\n",
              "      <td>6</td>\n",
              "      <td>1</td>\n",
              "      <td>15</td>\n",
              "      <td>3</td>\n",
              "      <td>83</td>\n",
              "      <td>547</td>\n",
              "      <td>100</td>\n",
              "      <td>13</td>\n",
              "      <td>1</td>\n",
              "      <td>0</td>\n",
              "      <td>0</td>\n",
              "      <td>No</td>\n",
              "      <td>28.0</td>\n",
              "      <td>Final</td>\n",
              "      <td>No</td>\n",
              "      <td>0</td>\n",
              "      <td>NaN</td>\n",
              "      <td>NaN</td>\n",
              "    </tr>\n",
              "  </tbody>\n",
              "</table>\n",
              "<p>128 rows × 27 columns</p>\n",
              "</div>"
            ],
            "text/plain": [
              "           Date          Team  ... Own goals  Own goal Time\n",
              "0    14-06-2018        Russia  ...       NaN            NaN\n",
              "1    14-06-2018  Saudi Arabia  ...       NaN            NaN\n",
              "2    15-06-2018         Egypt  ...       NaN            NaN\n",
              "3    15-06-2018       Uruguay  ...       NaN            NaN\n",
              "4    15-06-2018       Morocco  ...       1.0           90.0\n",
              "..          ...           ...  ...       ...            ...\n",
              "123  11-07-2018       England  ...       NaN            NaN\n",
              "124  14-07-2018       Belgium  ...       NaN            NaN\n",
              "125  14-07-2018       England  ...       NaN            NaN\n",
              "126  15-07-2018        France  ...       1.0           18.0\n",
              "127  15-07-2018       Croatia  ...       NaN            NaN\n",
              "\n",
              "[128 rows x 27 columns]"
            ]
          },
          "metadata": {
            "tags": []
          },
          "execution_count": 301
        }
      ]
    },
    {
      "cell_type": "code",
      "metadata": {
        "colab": {
          "base_uri": "https://localhost:8080/"
        },
        "id": "c5Mbmps2r0vN",
        "outputId": "18b2f76f-b99f-46e6-e6d5-d247ad6878bb"
      },
      "source": [
        "exam.shape"
      ],
      "execution_count": 302,
      "outputs": [
        {
          "output_type": "execute_result",
          "data": {
            "text/plain": [
              "(128, 27)"
            ]
          },
          "metadata": {
            "tags": []
          },
          "execution_count": 302
        }
      ]
    },
    {
      "cell_type": "code",
      "metadata": {
        "colab": {
          "base_uri": "https://localhost:8080/",
          "height": 455
        },
        "id": "ofZx0-0GdXp8",
        "outputId": "1fce9c53-727a-4499-f785-6eab00b78669"
      },
      "source": [
        "exam_drop = exam.iloc[:,3:20]\n",
        "exam_drop"
      ],
      "execution_count": 303,
      "outputs": [
        {
          "output_type": "execute_result",
          "data": {
            "text/html": [
              "<div>\n",
              "<style scoped>\n",
              "    .dataframe tbody tr th:only-of-type {\n",
              "        vertical-align: middle;\n",
              "    }\n",
              "\n",
              "    .dataframe tbody tr th {\n",
              "        vertical-align: top;\n",
              "    }\n",
              "\n",
              "    .dataframe thead th {\n",
              "        text-align: right;\n",
              "    }\n",
              "</style>\n",
              "<table border=\"1\" class=\"dataframe\">\n",
              "  <thead>\n",
              "    <tr style=\"text-align: right;\">\n",
              "      <th></th>\n",
              "      <th>Goal Scored</th>\n",
              "      <th>Ball Possession %</th>\n",
              "      <th>Attempts</th>\n",
              "      <th>On-Target</th>\n",
              "      <th>Off-Target</th>\n",
              "      <th>Blocked</th>\n",
              "      <th>Corners</th>\n",
              "      <th>Offsides</th>\n",
              "      <th>Free Kicks</th>\n",
              "      <th>Saves</th>\n",
              "      <th>Pass Accuracy %</th>\n",
              "      <th>Passes</th>\n",
              "      <th>Distance Covered (Kms)</th>\n",
              "      <th>Fouls Committed</th>\n",
              "      <th>Yellow Card</th>\n",
              "      <th>Yellow &amp; Red</th>\n",
              "      <th>Red</th>\n",
              "    </tr>\n",
              "  </thead>\n",
              "  <tbody>\n",
              "    <tr>\n",
              "      <th>0</th>\n",
              "      <td>5</td>\n",
              "      <td>40</td>\n",
              "      <td>13</td>\n",
              "      <td>7</td>\n",
              "      <td>3</td>\n",
              "      <td>3</td>\n",
              "      <td>6</td>\n",
              "      <td>3</td>\n",
              "      <td>11</td>\n",
              "      <td>0</td>\n",
              "      <td>78</td>\n",
              "      <td>306</td>\n",
              "      <td>118</td>\n",
              "      <td>22</td>\n",
              "      <td>0</td>\n",
              "      <td>0</td>\n",
              "      <td>0</td>\n",
              "    </tr>\n",
              "    <tr>\n",
              "      <th>1</th>\n",
              "      <td>0</td>\n",
              "      <td>60</td>\n",
              "      <td>6</td>\n",
              "      <td>0</td>\n",
              "      <td>3</td>\n",
              "      <td>3</td>\n",
              "      <td>2</td>\n",
              "      <td>1</td>\n",
              "      <td>25</td>\n",
              "      <td>2</td>\n",
              "      <td>86</td>\n",
              "      <td>511</td>\n",
              "      <td>105</td>\n",
              "      <td>10</td>\n",
              "      <td>0</td>\n",
              "      <td>0</td>\n",
              "      <td>0</td>\n",
              "    </tr>\n",
              "    <tr>\n",
              "      <th>2</th>\n",
              "      <td>0</td>\n",
              "      <td>43</td>\n",
              "      <td>8</td>\n",
              "      <td>3</td>\n",
              "      <td>3</td>\n",
              "      <td>2</td>\n",
              "      <td>0</td>\n",
              "      <td>1</td>\n",
              "      <td>7</td>\n",
              "      <td>3</td>\n",
              "      <td>78</td>\n",
              "      <td>395</td>\n",
              "      <td>112</td>\n",
              "      <td>12</td>\n",
              "      <td>2</td>\n",
              "      <td>0</td>\n",
              "      <td>0</td>\n",
              "    </tr>\n",
              "    <tr>\n",
              "      <th>3</th>\n",
              "      <td>1</td>\n",
              "      <td>57</td>\n",
              "      <td>14</td>\n",
              "      <td>4</td>\n",
              "      <td>6</td>\n",
              "      <td>4</td>\n",
              "      <td>5</td>\n",
              "      <td>1</td>\n",
              "      <td>13</td>\n",
              "      <td>3</td>\n",
              "      <td>86</td>\n",
              "      <td>589</td>\n",
              "      <td>111</td>\n",
              "      <td>6</td>\n",
              "      <td>0</td>\n",
              "      <td>0</td>\n",
              "      <td>0</td>\n",
              "    </tr>\n",
              "    <tr>\n",
              "      <th>4</th>\n",
              "      <td>0</td>\n",
              "      <td>64</td>\n",
              "      <td>13</td>\n",
              "      <td>3</td>\n",
              "      <td>6</td>\n",
              "      <td>4</td>\n",
              "      <td>5</td>\n",
              "      <td>0</td>\n",
              "      <td>14</td>\n",
              "      <td>2</td>\n",
              "      <td>86</td>\n",
              "      <td>433</td>\n",
              "      <td>101</td>\n",
              "      <td>22</td>\n",
              "      <td>1</td>\n",
              "      <td>0</td>\n",
              "      <td>0</td>\n",
              "    </tr>\n",
              "    <tr>\n",
              "      <th>...</th>\n",
              "      <td>...</td>\n",
              "      <td>...</td>\n",
              "      <td>...</td>\n",
              "      <td>...</td>\n",
              "      <td>...</td>\n",
              "      <td>...</td>\n",
              "      <td>...</td>\n",
              "      <td>...</td>\n",
              "      <td>...</td>\n",
              "      <td>...</td>\n",
              "      <td>...</td>\n",
              "      <td>...</td>\n",
              "      <td>...</td>\n",
              "      <td>...</td>\n",
              "      <td>...</td>\n",
              "      <td>...</td>\n",
              "      <td>...</td>\n",
              "    </tr>\n",
              "    <tr>\n",
              "      <th>123</th>\n",
              "      <td>1</td>\n",
              "      <td>46</td>\n",
              "      <td>11</td>\n",
              "      <td>1</td>\n",
              "      <td>6</td>\n",
              "      <td>4</td>\n",
              "      <td>4</td>\n",
              "      <td>3</td>\n",
              "      <td>24</td>\n",
              "      <td>5</td>\n",
              "      <td>79</td>\n",
              "      <td>479</td>\n",
              "      <td>148</td>\n",
              "      <td>14</td>\n",
              "      <td>1</td>\n",
              "      <td>0</td>\n",
              "      <td>0</td>\n",
              "    </tr>\n",
              "    <tr>\n",
              "      <th>124</th>\n",
              "      <td>2</td>\n",
              "      <td>43</td>\n",
              "      <td>12</td>\n",
              "      <td>4</td>\n",
              "      <td>3</td>\n",
              "      <td>5</td>\n",
              "      <td>4</td>\n",
              "      <td>1</td>\n",
              "      <td>5</td>\n",
              "      <td>5</td>\n",
              "      <td>88</td>\n",
              "      <td>510</td>\n",
              "      <td>108</td>\n",
              "      <td>11</td>\n",
              "      <td>1</td>\n",
              "      <td>0</td>\n",
              "      <td>0</td>\n",
              "    </tr>\n",
              "    <tr>\n",
              "      <th>125</th>\n",
              "      <td>0</td>\n",
              "      <td>57</td>\n",
              "      <td>15</td>\n",
              "      <td>5</td>\n",
              "      <td>7</td>\n",
              "      <td>3</td>\n",
              "      <td>5</td>\n",
              "      <td>0</td>\n",
              "      <td>12</td>\n",
              "      <td>2</td>\n",
              "      <td>92</td>\n",
              "      <td>698</td>\n",
              "      <td>110</td>\n",
              "      <td>5</td>\n",
              "      <td>2</td>\n",
              "      <td>0</td>\n",
              "      <td>0</td>\n",
              "    </tr>\n",
              "    <tr>\n",
              "      <th>126</th>\n",
              "      <td>4</td>\n",
              "      <td>39</td>\n",
              "      <td>8</td>\n",
              "      <td>6</td>\n",
              "      <td>1</td>\n",
              "      <td>1</td>\n",
              "      <td>2</td>\n",
              "      <td>1</td>\n",
              "      <td>14</td>\n",
              "      <td>1</td>\n",
              "      <td>75</td>\n",
              "      <td>271</td>\n",
              "      <td>99</td>\n",
              "      <td>14</td>\n",
              "      <td>2</td>\n",
              "      <td>0</td>\n",
              "      <td>0</td>\n",
              "    </tr>\n",
              "    <tr>\n",
              "      <th>127</th>\n",
              "      <td>2</td>\n",
              "      <td>61</td>\n",
              "      <td>15</td>\n",
              "      <td>3</td>\n",
              "      <td>8</td>\n",
              "      <td>4</td>\n",
              "      <td>6</td>\n",
              "      <td>1</td>\n",
              "      <td>15</td>\n",
              "      <td>3</td>\n",
              "      <td>83</td>\n",
              "      <td>547</td>\n",
              "      <td>100</td>\n",
              "      <td>13</td>\n",
              "      <td>1</td>\n",
              "      <td>0</td>\n",
              "      <td>0</td>\n",
              "    </tr>\n",
              "  </tbody>\n",
              "</table>\n",
              "<p>128 rows × 17 columns</p>\n",
              "</div>"
            ],
            "text/plain": [
              "     Goal Scored  Ball Possession %  Attempts  ...  Yellow Card  Yellow & Red  Red\n",
              "0              5                 40        13  ...            0             0    0\n",
              "1              0                 60         6  ...            0             0    0\n",
              "2              0                 43         8  ...            2             0    0\n",
              "3              1                 57        14  ...            0             0    0\n",
              "4              0                 64        13  ...            1             0    0\n",
              "..           ...                ...       ...  ...          ...           ...  ...\n",
              "123            1                 46        11  ...            1             0    0\n",
              "124            2                 43        12  ...            1             0    0\n",
              "125            0                 57        15  ...            2             0    0\n",
              "126            4                 39         8  ...            2             0    0\n",
              "127            2                 61        15  ...            1             0    0\n",
              "\n",
              "[128 rows x 17 columns]"
            ]
          },
          "metadata": {
            "tags": []
          },
          "execution_count": 303
        }
      ]
    },
    {
      "cell_type": "markdown",
      "metadata": {
        "id": "l0IeQiX3dc57"
      },
      "source": [
        "ดูขนาดข้อมูล"
      ]
    },
    {
      "cell_type": "code",
      "metadata": {
        "colab": {
          "base_uri": "https://localhost:8080/"
        },
        "id": "1UjU3iIfderC",
        "outputId": "3963b40e-41e5-41c2-a7c2-06981bf898c6"
      },
      "source": [
        "exam_drop.shape"
      ],
      "execution_count": 304,
      "outputs": [
        {
          "output_type": "execute_result",
          "data": {
            "text/plain": [
              "(128, 17)"
            ]
          },
          "metadata": {
            "tags": []
          },
          "execution_count": 304
        }
      ]
    },
    {
      "cell_type": "markdown",
      "metadata": {
        "id": "kp7Xy5Nxdhml"
      },
      "source": [
        "ทำการใช้ Bartlett’s test\n",
        "\n",
        "โดยถ้าค่า p value เข้าใกล้ 0 ถึงว่าดี"
      ]
    },
    {
      "cell_type": "code",
      "metadata": {
        "colab": {
          "base_uri": "https://localhost:8080/"
        },
        "id": "MDs_AG7adjX_",
        "outputId": "e6464c5c-b5ad-464f-9adb-db802ada2f42"
      },
      "source": [
        "from factor_analyzer.factor_analyzer import calculate_bartlett_sphericity\n",
        "\n",
        "chi_square_value,p_value = calculate_bartlett_sphericity(exam_drop)\n",
        "\n",
        "chi_square_value, p_value"
      ],
      "execution_count": 305,
      "outputs": [
        {
          "output_type": "execute_result",
          "data": {
            "text/plain": [
              "(1299.3697851171412, 2.713580160466225e-189)"
            ]
          },
          "metadata": {
            "tags": []
          },
          "execution_count": 305
        }
      ]
    },
    {
      "cell_type": "markdown",
      "metadata": {
        "id": "B_GXRILYdmhy"
      },
      "source": [
        "แปลผลจาก output ได้ว่า\n",
        "\n",
        "ค่า P-value มีค่า 2.71 x 10^-189 ซึ่งมีค่าเข้าใกล้ 0 มาก"
      ]
    },
    {
      "cell_type": "markdown",
      "metadata": {
        "id": "WscG2tuPscCu"
      },
      "source": [
        "ทำการใช้ Kaiser-Meyer-Olkin (KMO) Test\n",
        "\n",
        "ถ้าค่า KMO model มีค่ามากกว่า 0.6 แปลว่าข้อมูลเหมาะสมที่นำไปทำ Factor Analysis"
      ]
    },
    {
      "cell_type": "code",
      "metadata": {
        "colab": {
          "base_uri": "https://localhost:8080/"
        },
        "id": "bLy-gwh_dsX0",
        "outputId": "32baca06-7da0-4e05-f28b-12be7acb938b"
      },
      "source": [
        "from factor_analyzer.factor_analyzer import calculate_kmo\n",
        "\n",
        "kmo_all,kmo_model=calculate_kmo(exam_drop)\n",
        "\n",
        "kmo_model"
      ],
      "execution_count": 306,
      "outputs": [
        {
          "output_type": "execute_result",
          "data": {
            "text/plain": [
              "0.5594556344508279"
            ]
          },
          "metadata": {
            "tags": []
          },
          "execution_count": 306
        }
      ]
    },
    {
      "cell_type": "markdown",
      "metadata": {
        "id": "FKBotHQKfN3D"
      },
      "source": [
        "แปลผลจาก output ได้ว่า\n",
        "\n",
        "ค่า P-value มีค่า 2.71 x 10^-189 ซึ่งมีค่าเข้าใกล้ 0 มาก"
      ]
    },
    {
      "cell_type": "markdown",
      "metadata": {
        "id": "ODPi1-ZgfQp8"
      },
      "source": [
        "ทำการใช้ Kaiser-Meyer-Olkin (KMO) Test\n",
        "\n",
        "ถ้าค่า KMO model มีค่ามากกว่า 0.6 แปลว่าข้อมูลเหมาะสมที่นำไปทำ Factor Analysis"
      ]
    },
    {
      "cell_type": "code",
      "metadata": {
        "colab": {
          "base_uri": "https://localhost:8080/"
        },
        "id": "JmlodutRfSB8",
        "outputId": "224f72a5-ec80-437a-b8e2-8369faf07905"
      },
      "source": [
        "from factor_analyzer.factor_analyzer import calculate_kmo\n",
        "\n",
        "kmo_all,kmo_model=calculate_kmo(FIFA_data)\n",
        "\n",
        "kmo_model"
      ],
      "execution_count": 267,
      "outputs": [
        {
          "output_type": "execute_result",
          "data": {
            "text/plain": [
              "0.5770790223132766"
            ]
          },
          "metadata": {
            "tags": []
          },
          "execution_count": 267
        }
      ]
    },
    {
      "cell_type": "markdown",
      "metadata": {
        "id": "JRUyelYofYTg"
      },
      "source": [
        "แปลผลจาก Output ได้ว่า\n",
        "\n",
        "ค่า KMO จาก model มีค่าประมาณ 0.56 หรือประมาณได้ 0.6 แปลว่าเหมาะสมที่นำไปทำ Factor Analysis"
      ]
    },
    {
      "cell_type": "markdown",
      "metadata": {
        "id": "bfIBO2bgfZkO"
      },
      "source": [
        "###ทำการ Factor Analysis"
      ]
    },
    {
      "cell_type": "code",
      "metadata": {
        "id": "ApsYJxlAfcPh"
      },
      "source": [
        "# IMPORT\n",
        "from factor_analyzer import FactorAnalyzer"
      ],
      "execution_count": 309,
      "outputs": []
    },
    {
      "cell_type": "code",
      "metadata": {
        "id": "FWI-abpXfd-B"
      },
      "source": [
        "# DEFINE กำหนดขนาดที่เลือก\n",
        "ex_fa = FactorAnalyzer(n_factors=11)"
      ],
      "execution_count": 308,
      "outputs": []
    },
    {
      "cell_type": "code",
      "metadata": {
        "id": "BKqsVABYffR2"
      },
      "source": [
        "# Fit-transform\n",
        "data_ex_fa = ex_fa.fit_transform(exam_drop)"
      ],
      "execution_count": 310,
      "outputs": []
    },
    {
      "cell_type": "code",
      "metadata": {
        "colab": {
          "base_uri": "https://localhost:8080/"
        },
        "id": "F8daTCwqfkyv",
        "outputId": "41d40a1e-7cc7-4549-e899-dcbfb6686f52"
      },
      "source": [
        "# ตรวจสอบ ขนาดข้อมูล\n",
        "data_ex_fa.shape"
      ],
      "execution_count": 311,
      "outputs": [
        {
          "output_type": "execute_result",
          "data": {
            "text/plain": [
              "(128, 11)"
            ]
          },
          "metadata": {
            "tags": []
          },
          "execution_count": 311
        }
      ]
    },
    {
      "cell_type": "markdown",
      "metadata": {
        "id": "VIohhGRhfmfM"
      },
      "source": [
        "ตัดสินว่าเราจะลดเหลือกี่ dimension โดยการใช้ eigen values"
      ]
    },
    {
      "cell_type": "code",
      "metadata": {
        "colab": {
          "base_uri": "https://localhost:8080/"
        },
        "id": "gRx0QMeMfoQ6",
        "outputId": "5e91107c-98eb-4b00-bc89-59b7ce4c2851"
      },
      "source": [
        "ev,v = ex_fa.get_eigenvalues()\n",
        "ev"
      ],
      "execution_count": 312,
      "outputs": [
        {
          "output_type": "execute_result",
          "data": {
            "text/plain": [
              "array([4.93533676, 1.66110682, 1.45898601, 1.31857945, 1.27991548,\n",
              "       1.1607222 , 0.89822418, 0.80740568, 0.78874612, 0.65948826,\n",
              "       0.56563441, 0.48116939, 0.38549929, 0.29659929, 0.22859409,\n",
              "       0.06848785, 0.00550471])"
            ]
          },
          "metadata": {
            "tags": []
          },
          "execution_count": 312
        }
      ]
    },
    {
      "cell_type": "markdown",
      "metadata": {
        "id": "O3-COLMDfqoP"
      },
      "source": [
        "**ทำการ scree plot** \n"
      ]
    },
    {
      "cell_type": "code",
      "metadata": {
        "colab": {
          "base_uri": "https://localhost:8080/",
          "height": 893
        },
        "id": "GlRYzNOWfshV",
        "outputId": "633a1143-521a-4912-b043-e17ac4057d85"
      },
      "source": [
        "plt.plot(range(1,exam_drop.shape[1]+1),ev,'bo-')\n",
        "plt.plot([0,exam_drop.shape[1]+1],[1,1],'r--')\n",
        "plt.title('Scree Plot Fifa with 17 factors')\n",
        "plt.xlabel('Factors')\n",
        "plt.ylabel('Eigenvalue')\n",
        "plt.grid()\n",
        "plt.show()"
      ],
      "execution_count": 313,
      "outputs": [
        {
          "output_type": "display_data",
          "data": {
            "image/png": "[encoded data removed]",
            "text/plain": [
              "<Figure size 1080x1080 with 1 Axes>"
            ]
          },
          "metadata": {
            "tags": [],
            "needs_background": "light"
          }
        }
      ]
    },
    {
      "cell_type": "markdown",
      "metadata": {
        "id": "kvTlv3lEf02d"
      },
      "source": [
        "จากข้อมูลจะเห็นได้ว่าจาก 17 factor มีตัวที่มีค่า factor มากกว่า 1 อยู่ 6 ตัว"
      ]
    },
    {
      "cell_type": "code",
      "metadata": {
        "colab": {
          "base_uri": "https://localhost:8080/"
        },
        "id": "RhbXmP8gf2Pd",
        "outputId": "6dd5e45a-dfca-43fa-db4b-7318c1bb7b39"
      },
      "source": [
        "data_ex_fa[:,:6]"
      ],
      "execution_count": 314,
      "outputs": [
        {
          "output_type": "execute_result",
          "data": {
            "text/plain": [
              "array([[-1.11907117e+00,  9.66853807e-01,  2.38848913e+00,\n",
              "         1.22865852e+00, -4.90448254e-01,  4.45640461e-01],\n",
              "       [ 3.46387501e-01, -5.48473912e-02, -9.97785854e-01,\n",
              "        -7.95329882e-01, -8.74599691e-01,  3.30918286e-01],\n",
              "       [-8.78924200e-01,  6.27151862e-01, -5.76846303e-01,\n",
              "        -6.89538363e-02, -7.92359466e-01, -2.90195491e-02],\n",
              "       [ 5.89534809e-01,  4.66753901e-01, -1.22206159e-01,\n",
              "        -1.55781099e+00,  3.31688552e-01,  8.16720059e-02],\n",
              "       [ 7.20448563e-02, -5.27831560e-01, -1.68595850e-01,\n",
              "         1.66025456e+00,  1.60813742e-01,  7.14872306e-02],\n",
              "       [-1.85189668e+00, -1.13329407e-01, -1.08033774e-01,\n",
              "         4.19657612e-01,  5.68703943e-02,  3.19178873e-02],\n",
              "       [-7.09419653e-01, -2.68118220e-01,  4.09643496e-01,\n",
              "        -1.74884486e-01, -1.24591975e+00,  5.25339632e-02],\n",
              "       [ 1.62717074e+00, -2.45464024e-01,  7.78267546e-01,\n",
              "        -7.19248371e-01, -4.74175002e-02,  3.66564307e-02],\n",
              "       [ 1.80332681e-01, -2.64043832e-01,  6.48412834e-01,\n",
              "         4.82084842e-01, -4.54361851e-01,  8.34969347e-03],\n",
              "       [-6.36939636e-01,  4.74738606e-01, -1.85508683e-01,\n",
              "         1.28595229e+00, -1.19941844e+00,  1.77741011e-01],\n",
              "       [ 1.88864164e+00, -6.45583073e-01, -8.22189506e-02,\n",
              "        -8.41002052e-01,  1.20469173e+00, -1.56926463e-01],\n",
              "       [-1.70943048e+00, -1.98425554e-01,  9.21042227e-02,\n",
              "         1.09138969e-01, -4.84570772e-03, -4.13774640e-01],\n",
              "       [-6.80706655e-01,  2.46255183e-01, -1.32716858e-02,\n",
              "        -7.63484589e-01,  9.85093051e-01,  7.64482114e-01],\n",
              "       [-6.52926514e-01,  2.10855074e-01,  1.13844256e-01,\n",
              "         8.79078529e-01, -2.01693387e-01,  3.69123355e-01],\n",
              "       [ 3.69737942e-01, -4.01402383e-01,  1.79772276e-01,\n",
              "         1.15607829e+00,  5.75486505e-01, -2.40714899e-01],\n",
              "       [-2.16898364e-01, -5.81953327e-01, -1.11128448e+00,\n",
              "         5.33378377e-01, -3.36799445e-01, -1.22039913e-01],\n",
              "       [-1.37483471e-01, -9.69094054e-02, -6.35742977e-01,\n",
              "         1.03586545e+00, -1.10117835e+00,  6.76131357e-02],\n",
              "       [-4.95707225e-01,  3.28301895e-01,  1.24202746e-02,\n",
              "         2.72455073e-01, -6.45008531e-03,  3.49708807e-01],\n",
              "       [ 6.40655893e-01,  4.43348191e-01,  2.26248398e-01,\n",
              "        -6.20613632e-01,  1.46902007e+00,  1.50382557e-01],\n",
              "       [-1.44589118e+00,  3.17939978e-01,  4.41934906e-01,\n",
              "         3.47652791e-01,  6.15425246e-01,  3.83001522e-01],\n",
              "       [ 5.57656293e-01, -3.29248856e-01, -4.04592248e-01,\n",
              "        -3.41089447e-01,  1.33237525e+00, -3.11928238e-01],\n",
              "       [-2.37788058e-01,  1.28146906e-01, -4.73108657e-02,\n",
              "         1.28493217e+00, -4.97886418e-01, -2.31229726e-01],\n",
              "       [ 2.84438409e-02, -5.17549816e-01, -1.13300638e-01,\n",
              "         1.17210210e+00, -2.19843131e-01,  6.48932979e-03],\n",
              "       [-2.43291990e-01, -7.08125686e-01, -1.05906762e+00,\n",
              "         1.94344084e+00, -1.67628697e+00, -2.13873434e-01],\n",
              "       [ 8.28268198e-01, -4.63763103e-01,  1.16065991e+00,\n",
              "         6.43724609e-01,  6.22433756e-01, -9.30395957e-02],\n",
              "       [-8.68386394e-01, -5.01490694e-01, -8.25195231e-01,\n",
              "         1.36765671e+00, -6.92780162e-01, -1.72307405e-01],\n",
              "       [-9.11810634e-01, -2.21064987e-01, -2.99282556e-01,\n",
              "         1.01487156e-01, -8.58040751e-01,  2.05836664e-01],\n",
              "       [-3.59413540e-02,  2.60865861e-01,  9.82977463e-01,\n",
              "        -1.09017871e+00,  8.85340399e-01,  5.16226349e-01],\n",
              "       [-6.10039230e-01, -1.25875179e+00, -1.09646829e+00,\n",
              "         8.06842656e-01, -2.01898556e+00, -3.54952626e-01],\n",
              "       [ 6.52382662e-01, -3.84927653e-01,  5.90282317e-01,\n",
              "        -9.25894191e-01, -7.31805663e-02,  7.40919976e-02],\n",
              "       [ 2.40622498e-01,  6.20236725e-01,  2.06467391e-01,\n",
              "        -1.08631922e+00,  1.30821986e-01,  4.66867408e-01],\n",
              "       [-9.22364089e-01,  1.14102162e-01,  3.26979499e-02,\n",
              "         3.26011920e-01, -4.27049018e-01,  1.10245312e-01],\n",
              "       [-5.21732695e-01,  5.41834511e-01,  3.13599863e-01,\n",
              "        -6.58718928e-01, -1.54483427e-01, -4.18420112e-01],\n",
              "       [-1.76929537e-01,  3.06357532e-01, -6.96193333e-01,\n",
              "        -7.55976930e-01,  1.04403519e+00, -4.59880930e-01],\n",
              "       [-6.05453513e-02, -4.61484632e-01, -4.12384916e-01,\n",
              "         8.30722951e-01, -6.39852050e-01, -1.38623038e-01],\n",
              "       [ 4.81972988e-01, -2.57995798e-01,  4.47280047e-02,\n",
              "         1.60638099e+00,  1.71451545e+00, -5.13607380e-01],\n",
              "       [ 2.53900656e-01, -2.76638627e-01,  6.29687086e-02,\n",
              "        -6.68067655e-01,  3.82340172e-01, -4.06550719e-02],\n",
              "       [ 8.69708832e-01, -6.84605479e-01, -5.41420974e-01,\n",
              "         1.57549215e-02, -1.12223436e+00, -1.27404472e-03],\n",
              "       [-1.45306796e+00, -1.50456405e-01, -1.14732796e+00,\n",
              "         1.65236932e-01, -2.27358133e-01, -5.66045280e-01],\n",
              "       [ 2.51037381e+00, -5.41557373e-01, -7.76617832e-01,\n",
              "        -1.14268964e-01, -1.33233810e-02, -3.59530884e-01],\n",
              "       [-6.69962987e-01,  9.14354610e-01,  4.74670637e-01,\n",
              "        -9.52409700e-01,  1.10141041e-01,  2.80649621e-01],\n",
              "       [-6.61774264e-02,  7.98829103e-01,  1.14496472e-01,\n",
              "        -1.64182671e+00, -2.18220424e-02,  1.66750964e-01],\n",
              "       [-2.84943583e-01, -3.62872568e-01, -2.36850022e-01,\n",
              "        -4.30881237e-01,  1.80281896e-01, -5.48796002e-01],\n",
              "       [ 5.83451712e-01, -5.31349598e-01, -7.90095221e-01,\n",
              "         3.85314525e-01,  9.92566925e-02, -4.36907969e-01],\n",
              "       [ 5.82707084e-01, -6.83779563e-01, -9.96181719e-01,\n",
              "         3.41765991e-01, -1.14694090e+00,  1.08392059e-01],\n",
              "       [-4.60081310e-01, -1.97135401e-01,  7.87108751e-01,\n",
              "         1.78180072e+00,  5.20874230e-01, -1.40826731e-01],\n",
              "       [ 1.79789729e+00, -2.03486577e-01,  8.43143002e-01,\n",
              "        -5.35516482e-01,  1.35145740e+00, -1.03982495e-01],\n",
              "       [-1.32350603e+00,  2.51741336e-01, -8.82750687e-01,\n",
              "        -5.19809681e-01, -4.45102339e-01,  6.35221361e-02],\n",
              "       [ 1.79786018e-01, -5.81843802e-01, -1.15390046e-01,\n",
              "        -9.48284447e-01,  1.88931516e-01, -1.45108777e-01],\n",
              "       [-1.15035121e+00,  7.98694547e-04, -3.71075266e-01,\n",
              "        -6.62871215e-01,  2.08627285e-01, -2.96212437e-01],\n",
              "       [-1.18322534e+00,  9.22513595e-01, -6.41664817e-02,\n",
              "         8.26477438e-01,  8.09962967e-01, -2.92248191e-01],\n",
              "       [ 5.42097050e-01,  4.79614435e-01,  2.59365128e-01,\n",
              "        -5.35068224e-01,  1.14841336e+00,  2.19684766e-01],\n",
              "       [-2.12557698e-01,  2.55784326e-01,  3.26815801e+00,\n",
              "        -8.18148286e-01,  1.82458943e+00,  5.43848347e-01],\n",
              "       [ 5.88697722e-02, -2.59850884e-01,  5.04024289e-01,\n",
              "        -3.08149966e-01,  5.41269730e-01,  1.56080302e-01],\n",
              "       [-5.10310722e-01, -1.01897555e+00, -5.00494618e-01,\n",
              "         2.50764277e+00, -1.78458167e+00, -3.99037882e-01],\n",
              "       [ 1.79027796e-01, -4.98960378e-01,  8.37770161e-01,\n",
              "        -1.46182997e+00,  5.24171352e-01,  3.36988256e-01],\n",
              "       [ 1.52753056e+00,  5.65332864e-01,  1.02862812e+00,\n",
              "        -1.54090427e+00,  1.48645856e-01,  6.11500515e+00],\n",
              "       [-2.00117891e+00,  5.70621545e-01,  5.04792865e-01,\n",
              "         1.00724917e-01, -1.47235859e+00,  4.81783116e-01],\n",
              "       [ 6.99734834e-01, -3.36240899e-01,  2.51090111e+00,\n",
              "        -1.27670596e-01, -4.00629516e-01,  4.59404969e-01],\n",
              "       [-2.99370794e-01, -1.30677303e+00, -5.25262471e-01,\n",
              "         3.19541111e-01, -2.28129617e-01, -5.50742234e-01],\n",
              "       [-2.80513789e-01,  8.16449060e-02,  9.50604660e-02,\n",
              "        -1.07919867e+00, -1.09210879e+00,  4.42162004e-01],\n",
              "       [-9.00803111e-01, -2.18278767e-01,  7.29286449e-01,\n",
              "         2.10608834e-01, -1.55523868e-02,  1.32016353e-01],\n",
              "       [-7.31846976e-02, -3.31405077e-01, -1.24402459e+00,\n",
              "         5.58192672e-01, -1.40031955e+00, -4.54020527e-01],\n",
              "       [ 4.24086554e-01,  2.58744482e-02,  2.71733837e-01,\n",
              "        -1.02418687e+00, -2.90993652e-02, -9.41746412e-02],\n",
              "       [ 2.00482655e-01, -2.56896570e-01,  1.47806540e+00,\n",
              "         4.95687377e-01,  6.07197667e-01,  1.04455113e-01],\n",
              "       [-6.12673818e-01, -4.00302632e-01,  1.06457294e-01,\n",
              "         1.02053027e-01, -1.10314403e+00,  5.53251706e+00],\n",
              "       [ 1.26980993e+00, -3.09751228e-01,  7.01829551e-01,\n",
              "        -1.49028600e+00,  1.97398510e+00, -2.03751468e-01],\n",
              "       [-7.40007428e-01,  2.76856288e-02, -3.33413441e-01,\n",
              "         6.13642695e-01,  3.06979679e-01, -1.11697979e-01],\n",
              "       [ 2.04845210e+00, -2.41669491e-01,  4.74722365e-01,\n",
              "        -1.92231853e+00,  2.29214841e+00, -4.10873532e-01],\n",
              "       [-1.88949121e+00,  6.75976697e-01, -1.60722943e-02,\n",
              "         1.36586154e+00, -1.21446121e+00, -1.65475046e-01],\n",
              "       [-1.22956925e+00, -1.26014817e+00, -5.55638044e-01,\n",
              "         5.24207946e-01, -1.89738857e-01, -8.04690713e-01],\n",
              "       [ 1.30955062e+00, -1.50087423e+00, -5.36124511e-01,\n",
              "        -2.32126263e-01,  4.25906567e-01, -5.03183106e-01],\n",
              "       [-9.63474668e-01, -2.60978499e-01, -1.21453039e+00,\n",
              "        -5.76993264e-01, -1.56721935e+00, -2.91017989e-01],\n",
              "       [ 1.12359617e+00, -7.38477916e-02, -1.28962605e-01,\n",
              "        -6.70127513e-01,  3.54707593e-01, -8.07615062e-02],\n",
              "       [ 8.27163756e-01, -4.28448713e-01, -1.50499371e+00,\n",
              "         2.53608815e-01,  1.36675405e-01, -5.05421179e-01],\n",
              "       [-2.75773583e-01, -5.50092002e-01,  1.12709853e-01,\n",
              "        -1.66801914e-01, -1.70693115e+00, -6.09119422e-02],\n",
              "       [-1.17447267e+00, -7.62324439e-01, -1.23579247e-02,\n",
              "         1.36862835e+00, -1.53810974e-01, -5.09409624e-01],\n",
              "       [ 8.75311938e-01, -5.83641140e-01,  2.97934048e-01,\n",
              "         2.73599206e-01, -9.57457020e-01,  1.02440317e-01],\n",
              "       [-6.66133449e-01, -5.07743363e-01, -2.74243285e-01,\n",
              "        -5.24332432e-01,  7.05354827e-01, -8.05642929e-01],\n",
              "       [ 5.70667281e-01, -5.00258624e-01, -5.08167456e-02,\n",
              "        -3.04868000e-01,  9.98304795e-01, -4.10112570e-01],\n",
              "       [-1.83813217e+00,  1.09450807e+00,  6.86253705e-01,\n",
              "         6.70295770e-01,  1.05865877e-01, -2.09485257e-01],\n",
              "       [ 1.61713926e+00,  6.38500651e-01, -4.28440664e-01,\n",
              "        -1.53627525e+00,  2.15305144e+00, -1.36048049e-02],\n",
              "       [ 5.98012822e-01, -1.23038076e+00, -1.34898147e+00,\n",
              "         2.04871730e-01,  6.29845240e-01, -3.92499755e-01],\n",
              "       [-1.51644270e+00, -3.10519824e-01,  7.91569581e-01,\n",
              "        -7.43218948e-01,  9.43523842e-01, -6.62754318e-01],\n",
              "       [ 4.24544297e-02,  3.32961652e-01, -1.41901944e+00,\n",
              "         8.80694195e-02, -4.44142883e-01, -4.13972366e-01],\n",
              "       [ 1.10028795e+00, -2.58534887e-01,  2.83102089e-01,\n",
              "        -1.32491071e+00, -1.08706896e+00,  3.46812779e-01],\n",
              "       [ 9.63206609e-01, -4.32795486e-01, -3.33827510e-01,\n",
              "        -7.92481690e-01, -2.97142001e-01, -2.05937059e-01],\n",
              "       [-8.67079132e-01, -1.40661762e-01,  5.94213374e-01,\n",
              "         3.41613744e-01,  3.18820826e-01, -3.18185309e-01],\n",
              "       [ 9.80891749e-01, -2.20963771e+00, -1.07150516e+00,\n",
              "        -1.62936936e-01, -1.01773238e+00, -6.06818926e-01],\n",
              "       [ 6.16000843e-01, -2.56873968e+00, -1.06295787e+00,\n",
              "        -9.33991030e-01, -6.81110307e-01, -8.81955764e-01],\n",
              "       [-1.14737045e+00, -5.86611770e-01, -3.36785696e-01,\n",
              "         3.30274149e-01, -3.87399215e-01,  1.77531925e-01],\n",
              "       [-7.48248986e-02, -5.61082384e-01, -1.77191794e-01,\n",
              "         2.65466352e-01, -1.70567047e+00,  4.90974353e-01],\n",
              "       [-1.21104484e+00, -1.72615743e-01,  1.70740975e-01,\n",
              "         9.12779736e-01, -2.33895562e-01,  2.61017850e-01],\n",
              "       [ 1.15618763e+00, -8.58190722e-02,  8.73065096e-01,\n",
              "         1.01203575e+00, -4.71103142e-01,  2.35136853e-01],\n",
              "       [ 2.22219683e-01,  1.30002777e-01, -1.03225357e+00,\n",
              "        -4.79974833e-01,  4.33906865e-01,  8.55653707e-02],\n",
              "       [ 4.20681376e-01,  1.44081053e-02, -5.00932868e-01,\n",
              "         2.44869224e-01, -4.92315171e-01, -5.02451242e-02],\n",
              "       [-6.83669547e-01, -6.05980182e-01,  1.29175354e+00,\n",
              "         1.49883601e+00, -1.62163030e-01, -3.38531265e-01],\n",
              "       [ 7.69213550e-01, -1.04519674e+00, -7.69955017e-02,\n",
              "         5.30603318e-01, -1.85015493e+00, -2.63998853e-01],\n",
              "       [-1.21526103e+00, -1.22825371e-01,  3.04535115e-01,\n",
              "        -3.56810216e-01, -1.13985207e+00, -1.66703282e-01],\n",
              "       [ 1.14319735e+00, -4.13452613e-01, -5.17481123e-01,\n",
              "        -2.06581216e-01, -1.17940594e+00, -3.11880418e-01],\n",
              "       [ 3.67323270e+00,  2.38594526e+00,  2.68351121e-02,\n",
              "        -1.94025141e+00,  4.15778809e-01,  1.41073952e-01],\n",
              "       [-1.71052640e+00,  3.09197036e+00, -1.04641217e-01,\n",
              "         1.05526405e+00, -8.31004711e-01,  2.11328970e-01],\n",
              "       [ 4.30641911e-01,  2.34597739e+00,  3.21148060e-01,\n",
              "        -2.05358334e+00,  1.47110651e+00,  3.95279832e-01],\n",
              "       [ 1.14785751e-01,  2.31775961e+00,  5.43008844e-01,\n",
              "         8.02895204e-01,  2.11493132e+00, -2.19047310e-01],\n",
              "       [-3.97851946e-01, -9.73584768e-01,  9.70649741e-01,\n",
              "        -1.35959988e+00,  7.16751358e-01, -2.29081225e-01],\n",
              "       [ 3.41322778e-01, -1.97664890e+00, -1.87533260e+00,\n",
              "         1.31217286e+00, -1.26158552e+00, -4.28619175e-01],\n",
              "       [ 1.14130940e+00, -1.51465176e-02,  1.30767574e+00,\n",
              "        -3.89034912e-01,  1.84907565e+00, -2.81421364e-01],\n",
              "       [-1.57695391e-01,  1.86893833e-01,  2.07733865e-01,\n",
              "        -8.83280626e-01, -5.27205138e-01,  2.05583314e-02],\n",
              "       [-1.23803685e+00, -8.92125006e-02, -3.12093356e-01,\n",
              "        -5.75922822e-01,  3.47343667e-01, -3.12242868e-01],\n",
              "       [ 1.28571482e+00, -9.08489705e-01, -1.86217783e+00,\n",
              "         2.87810112e-01, -9.36444204e-01, -7.89883804e-01],\n",
              "       [-1.35081039e-01,  2.45269937e+00,  3.05739666e-02,\n",
              "         1.98133326e+00,  9.03120723e-01, -2.69238102e-01],\n",
              "       [ 3.49000591e-01,  2.99107825e+00, -2.57347598e-01,\n",
              "        -4.28259695e-01,  1.64439061e+00,  2.13324275e-01],\n",
              "       [-6.50866467e-01, -5.44469033e-01, -4.75651926e-01,\n",
              "         6.60094756e-01,  1.18670230e-01, -8.24753755e-01],\n",
              "       [ 7.19201257e-01, -7.73565947e-01, -6.75277320e-03,\n",
              "         1.21079692e-01,  6.78499420e-01, -5.47399402e-01],\n",
              "       [ 5.85693628e-01, -2.04994180e-01,  2.34339120e-01,\n",
              "         1.68451069e-01,  5.85671420e-01,  8.36389933e-02],\n",
              "       [-5.62134713e-01, -1.60682685e-01,  3.95100696e-01,\n",
              "         5.34156391e-01, -8.68133990e-01,  1.07901599e-01],\n",
              "       [-8.10874594e-01,  1.13081887e-01, -8.03044685e-01,\n",
              "        -4.76748258e-01, -9.17824801e-01, -2.54271436e-01],\n",
              "       [ 4.74512292e-01,  4.65731197e-02, -6.84235416e-01,\n",
              "        -1.41969139e+00, -6.85125897e-01, -2.03610001e-01],\n",
              "       [-8.89490860e-01,  3.29941023e+00,  1.62366180e+00,\n",
              "         1.78729917e+00, -9.31567411e-02,  3.62031049e-01],\n",
              "       [ 1.85961077e+00,  2.32286448e+00,  2.17624428e-01,\n",
              "         5.12074501e-01,  1.90350546e+00, -3.66345264e-01],\n",
              "       [-1.02225659e+00,  2.30198111e-02, -2.51900074e-01,\n",
              "        -1.29998054e+00,  1.21443347e+00, -6.07283332e-02],\n",
              "       [ 1.09695804e+00, -5.12454547e-01, -5.08750967e-01,\n",
              "         8.85349299e-01, -4.35185010e-01, -2.48331879e-01],\n",
              "       [ 7.29083405e-01,  2.89670537e+00,  1.38828106e+00,\n",
              "         1.41249387e+00,  2.55451707e+00, -1.27113494e-01],\n",
              "       [-4.45450988e-01,  3.53409945e+00, -9.41880321e-02,\n",
              "        -3.51554740e-01,  6.96820091e-01,  7.53785874e-01],\n",
              "       [ 2.92654227e-02,  1.40901892e-01,  5.56085642e-02,\n",
              "        -3.09593514e-01, -9.36653704e-01,  1.05035162e-02],\n",
              "       [ 1.11245179e+00,  4.73726881e-01, -4.34206276e-01,\n",
              "        -1.34117181e+00,  5.99916849e-01, -2.17091279e-01],\n",
              "       [-1.29419259e+00, -4.98765757e-01,  1.33650233e+00,\n",
              "         3.25603196e-02, -1.39333319e+00, -6.31638840e-02],\n",
              "       [ 9.02902654e-01, -7.31236247e-01,  1.04431032e-02,\n",
              "        -3.34351060e-01,  9.72631129e-01, -4.01385811e-01]])"
            ]
          },
          "metadata": {
            "tags": []
          },
          "execution_count": 314
        }
      ]
    },
    {
      "cell_type": "markdown",
      "metadata": {
        "id": "ZUutANBxf4-t"
      },
      "source": [
        "Run Factor Analyzer อีกรอบ ด้วย paremeters จำนวน factor เท่ากับ 6"
      ]
    },
    {
      "cell_type": "code",
      "metadata": {
        "id": "SccUz1_9f6sr"
      },
      "source": [
        "from factor_analyzer import FactorAnalyzer\n",
        "ex_fa2 = FactorAnalyzer(n_factors=6)\n",
        "data_ex_fa2 = ex_fa2.fit_transform(exam_drop)"
      ],
      "execution_count": 317,
      "outputs": []
    },
    {
      "cell_type": "code",
      "metadata": {
        "colab": {
          "base_uri": "https://localhost:8080/"
        },
        "id": "0oM1jFNCf_Q-",
        "outputId": "fdcb661c-af65-4ce3-d37a-aa4f9e8d187b"
      },
      "source": [
        "ex_fa2.loadings_.shape\n",
        "\n",
        "# เช็คขนาดของ ex_fa2 "
      ],
      "execution_count": 316,
      "outputs": [
        {
          "output_type": "execute_result",
          "data": {
            "text/plain": [
              "(17, 6)"
            ]
          },
          "metadata": {
            "tags": []
          },
          "execution_count": 316
        }
      ]
    },
    {
      "cell_type": "markdown",
      "metadata": {
        "id": "rDTJqMoSgBqY"
      },
      "source": [
        "จากนั้นทำการ Plot factor loadings"
      ]
    },
    {
      "cell_type": "code",
      "metadata": {
        "id": "6IQ2FF2ogCzG"
      },
      "source": [
        "from matplotlib import pyplot as plt\n",
        "import numpy as np\n",
        "import matplotlib"
      ],
      "execution_count": 318,
      "outputs": []
    },
    {
      "cell_type": "markdown",
      "metadata": {
        "id": "Y8WGLBgRgELp"
      },
      "source": [
        "Matrix plot\n",
        "\n",
        "(Confirmatory Factors Analysis หรือ วิเคราะห์องค์ประกอบเชิงยืนยัน)"
      ]
    },
    {
      "cell_type": "code",
      "metadata": {
        "colab": {
          "base_uri": "https://localhost:8080/",
          "height": 880
        },
        "id": "8rAJNFOLgFvM",
        "outputId": "a2922c6f-d640-4def-9be6-609e811de336"
      },
      "source": [
        "## Matrix plot\n",
        "matplotlib.rcParams['figure.figsize']=[15,15]\n",
        "plt.imshow(np.absolute(ex_fa2.loadings_))"
      ],
      "execution_count": 319,
      "outputs": [
        {
          "output_type": "execute_result",
          "data": {
            "text/plain": [
              "<matplotlib.image.AxesImage at 0x7f5f4d52ebd0>"
            ]
          },
          "metadata": {
            "tags": []
          },
          "execution_count": 319
        },
        {
          "output_type": "display_data",
          "data": {
            "image/png": "[encoded data removed]",
            "text/plain": [
              "<Figure size 1080x1080 with 1 Axes>"
            ]
          },
          "metadata": {
            "tags": [],
            "needs_background": "light"
          }
        }
      ]
    },
    {
      "cell_type": "markdown",
      "metadata": {
        "id": "9IR9D5ztgJtW"
      },
      "source": [
        "จากนั้นทำกราฟแท่ง\n",
        "\n",
        "(Exploratory Factors Analysis หรือ การวิเคราะห์องค์ประกอบเชิงสำรวจ)"
      ]
    },
    {
      "cell_type": "code",
      "metadata": {
        "colab": {
          "base_uri": "https://localhost:8080/"
        },
        "id": "J4990MO1gLQi",
        "outputId": "f395da5b-943f-4f5c-9e77-2a9fe0782315"
      },
      "source": [
        "exam_drop.columns\n",
        "## ตรวจสอบชื่อทั้งหมด 17 Factors"
      ],
      "execution_count": 320,
      "outputs": [
        {
          "output_type": "execute_result",
          "data": {
            "text/plain": [
              "Index(['Goal Scored', 'Ball Possession %', 'Attempts', 'On-Target',\n",
              "       'Off-Target', 'Blocked', 'Corners', 'Offsides', 'Free Kicks', 'Saves',\n",
              "       'Pass Accuracy %', 'Passes', 'Distance Covered (Kms)',\n",
              "       'Fouls Committed', 'Yellow Card', 'Yellow & Red', 'Red'],\n",
              "      dtype='object')"
            ]
          },
          "metadata": {
            "tags": []
          },
          "execution_count": 320
        }
      ]
    },
    {
      "cell_type": "code",
      "metadata": {
        "colab": {
          "base_uri": "https://localhost:8080/",
          "height": 880
        },
        "id": "fk-ky7wPgQY8",
        "outputId": "131d4df8-dba0-4efd-d575-daae7547374a"
      },
      "source": [
        "plt.bar(range(17),np.absolute(ex_fa2.loadings_[:,0]),tick_label=exam_drop.columns)"
      ],
      "execution_count": 321,
      "outputs": [
        {
          "output_type": "execute_result",
          "data": {
            "text/plain": [
              "<BarContainer object of 17 artists>"
            ]
          },
          "metadata": {
            "tags": []
          },
          "execution_count": 321
        },
        {
          "output_type": "display_data",
          "data": {
            "image/png": "[encoded data removed]",
            "text/plain": [
              "<Figure size 1080x1080 with 1 Axes>"
            ]
          },
          "metadata": {
            "tags": [],
            "needs_background": "light"
          }
        }
      ]
    },
    {
      "cell_type": "markdown",
      "metadata": {
        "id": "zBTaC95_hv_7"
      },
      "source": [
        "ในข้อมูล Fifa 2018 Statistics \n",
        "\n",
        "มีตัวแปร Factors จำนวน 6 ตัว ที่สามารถอธิบายข้อมูลทั้งหมดได้และสามารวิเคราะห์องค์ประกอบเชิงสำรวจ (Exporatory Factors Analysis) และ วิเคราะห์องค์ประกอบเชิงยืนยัน (Confirmatory Factors Analysis) ได้"
      ]
    }
  ]
}