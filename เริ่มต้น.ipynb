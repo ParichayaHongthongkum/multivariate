{
  "nbformat": 4,
  "nbformat_minor": 0,
  "metadata": {
    "colab": {
      "name": "เริ่มต้น.ipynb",
      "provenance": [],
      "authorship_tag": "ABX9TyOC8cGRyiyP70PNpGRmWgrV",
      "include_colab_link": true
    },
    "kernelspec": {
      "name": "python3",
      "display_name": "Python 3"
    }
  },
  "cells": [
    {
      "cell_type": "markdown",
      "metadata": {
        "id": "view-in-github",
        "colab_type": "text"
      },
      "source": [
        "<a href=\"https://colab.research.google.com/github/ParichayaHongthongkum/multivariate/blob/main/%E0%B9%80%E0%B8%A3%E0%B8%B4%E0%B9%88%E0%B8%A1%E0%B8%95%E0%B9%89%E0%B8%99.ipynb\" target=\"_parent\"><img src=\"https://colab.research.google.com/assets/colab-badge.svg\" alt=\"Open In Colab\"/></a>"
      ]
    },
    {
      "cell_type": "markdown",
      "metadata": {
        "id": "FAtg6Pb2y0pF"
      },
      "source": [
        "นายปริชญา หงส์ทองคำ รหัสนักศึกษา 623020528-4 เลขที่ 17"
      ]
    },
    {
      "cell_type": "code",
      "metadata": {
        "colab": {
          "base_uri": "https://localhost:8080/"
        },
        "id": "Tny1hwaLyeFA",
        "outputId": "2cf35007-de50-4948-9d18-86310f7b04bd"
      },
      "source": [
        "print('ปริชญา') #single quote(') ใช้ล้อมรอบข้อความ"
      ],
      "execution_count": 1,
      "outputs": [
        {
          "output_type": "stream",
          "text": [
            "ปริชญา\n"
          ],
          "name": "stdout"
        }
      ]
    },
    {
      "cell_type": "markdown",
      "metadata": {
        "id": "J5n_ClR4zudw"
      },
      "source": [
        "# ปริชญา\r\n",
        "## ปริชญา"
      ]
    }
  ]
}